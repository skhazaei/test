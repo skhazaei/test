{
  "nbformat": 4,
  "nbformat_minor": 0,
  "metadata": {
    "colab": {
      "name": "new_diabetes.ipynb",
      "provenance": [],
      "authorship_tag": "ABX9TyPZFsSu3jTS+aRJyNypdhln",
      "include_colab_link": true
    },
    "kernelspec": {
      "name": "python3",
      "display_name": "Python 3"
    },
    "language_info": {
      "name": "python"
    }
  },
  "cells": [
    {
      "cell_type": "markdown",
      "metadata": {
        "id": "view-in-github",
        "colab_type": "text"
      },
      "source": [
        "<a href=\"https://colab.research.google.com/github/skhazaei/test/blob/master/preprocessing_3.ipynb\" target=\"_parent\"><img src=\"https://colab.research.google.com/assets/colab-badge.svg\" alt=\"Open In Colab\"/></a>"
      ]
    },
    {
      "cell_type": "code",
      "execution_count": 1,
      "metadata": {
        "id": "G4P_7MFycZGg"
      },
      "outputs": [],
      "source": [
        "import pandas as pd\n",
        "import numpy as np\n",
        "from prettytable import PrettyTable\n",
        "from collections import Counter\n",
        "import matplotlib.pyplot as plt\n",
        "import seaborn as sns\n",
        "import scipy\n",
        "import warnings\n",
        "warnings.filterwarnings(\"ignore\")\n",
        "from sklearn.neighbors import LocalOutlierFactor, KNeighborsClassifier\n",
        "from sklearn.model_selection import train_test_split\n",
        "from sklearn.metrics import classification_report, confusion_matrix, accuracy_score, roc_auc_score, precision_recall_fscore_support, roc_curve, f1_score\n",
        "from sklearn.preprocessing import StandardScaler\n",
        "from sklearn.tree import  DecisionTreeClassifier\n",
        "from sklearn.neural_network import MLPClassifier\n",
        "from sklearn.model_selection import cross_val_score, cross_validate\n",
        "from sklearn.ensemble import RandomForestClassifier, GradientBoostingClassifier\n",
        "from sklearn.linear_model import LogisticRegression\n",
        "from imblearn.under_sampling import RandomUnderSampler\n",
        "from imblearn.over_sampling import RandomOverSampler\n",
        "from imblearn.over_sampling import SMOTE\n",
        "from sklearn.model_selection import GridSearchCV"
      ]
    },
    {
      "cell_type": "code",
      "source": [
        "from pydrive.auth import GoogleAuth\n",
        "from pydrive.drive import GoogleDrive\n",
        "from google.colab import auth\n",
        "from oauth2client.client import GoogleCredentials"
      ],
      "metadata": {
        "id": "RVomM0UWes6f"
      },
      "execution_count": 2,
      "outputs": []
    },
    {
      "cell_type": "code",
      "source": [
        "auth.authenticate_user()\n",
        "gauth = GoogleAuth()\n",
        "gauth.credentials = GoogleCredentials.get_application_default()\n",
        "drive = GoogleDrive(gauth)"
      ],
      "metadata": {
        "id": "_EHkF84-e0N2"
      },
      "execution_count": 3,
      "outputs": []
    },
    {
      "cell_type": "code",
      "source": [
        "id = '1ExjM-usGlSbW2HUexdEFkhfwebr4243-'\n",
        "downloaded = drive.CreateFile({'id':id}) \n",
        "downloaded.GetContentFile('diabetic_data.csv')"
      ],
      "metadata": {
        "id": "6pg08Oiee3pl"
      },
      "execution_count": 4,
      "outputs": []
    },
    {
      "cell_type": "code",
      "source": [
        "data = pd.read_csv('diabetic_data.csv')"
      ],
      "metadata": {
        "id": "5RkidbAFe8Ds"
      },
      "execution_count": 5,
      "outputs": []
    },
    {
      "cell_type": "code",
      "source": [
        "data.shape"
      ],
      "metadata": {
        "colab": {
          "base_uri": "https://localhost:8080/"
        },
        "id": "BzjhJZ_8fEEI",
        "outputId": "62b67544-2647-4ddb-d5f5-a1a0f8e5fc36"
      },
      "execution_count": 6,
      "outputs": [
        {
          "output_type": "execute_result",
          "data": {
            "text/plain": [
              "(101766, 50)"
            ]
          },
          "metadata": {},
          "execution_count": 6
        }
      ]
    },
    {
      "cell_type": "markdown",
      "source": [
        "2. Dealing with Duplicate Records : We found out that, for some patient there are number of entries in the dataset these duplicate entries are not helpful in solving the task hence we removed these entries."
      ],
      "metadata": {
        "id": "-uNpPXo9fQuX"
      }
    },
    {
      "cell_type": "code",
      "source": [
        "print('Total data = ', len(data))\n",
        "print('Unique entries = ', len(np.unique(data['patient_nbr'])))\n",
        "unique_patients = data.drop_duplicates(['patient_nbr'], keep = 'first')\n",
        "unique_patients.shape"
      ],
      "metadata": {
        "colab": {
          "base_uri": "https://localhost:8080/"
        },
        "id": "t-4R5ftUfKAc",
        "outputId": "352a87b6-b47c-4ffa-b72e-50afec4e003c"
      },
      "execution_count": 7,
      "outputs": [
        {
          "output_type": "stream",
          "name": "stdout",
          "text": [
            "Total data =  101766\n",
            "Unique entries =  71518\n"
          ]
        },
        {
          "output_type": "execute_result",
          "data": {
            "text/plain": [
              "(71518, 50)"
            ]
          },
          "metadata": {},
          "execution_count": 7
        }
      ]
    },
    {
      "cell_type": "code",
      "source": [
        "#data.dropna(inplace = True)\n",
        "#print('Total data = ', len(data))\n",
        "#print('Unique entries = ', len(np.unique(data['patient_nbr'])))\n",
        "data.drop_duplicates(['patient_nbr'], keep = 'first', inplace = True)\n",
        "#print('Length after removing Duplicates:', len(data))"
      ],
      "metadata": {
        "id": "OI9JHxsefTjy"
      },
      "execution_count": 8,
      "outputs": []
    },
    {
      "cell_type": "code",
      "source": [
        "data.shape"
      ],
      "metadata": {
        "colab": {
          "base_uri": "https://localhost:8080/"
        },
        "id": "mBzmgZ08fWiM",
        "outputId": "9ac8b75a-59b5-45a0-eea5-a713d30e6b76"
      },
      "execution_count": 9,
      "outputs": [
        {
          "output_type": "execute_result",
          "data": {
            "text/plain": [
              "(71518, 50)"
            ]
          },
          "metadata": {},
          "execution_count": 9
        }
      ]
    },
    {
      "cell_type": "markdown",
      "source": [
        "4. Dealing with Missing Values : Missing values in this dataset are represented by ‘?’. Only very few of the columns have missing values. These are, ‘race', 'weight', 'payer_code', 'medical_specialty', 'diag_1', 'diag_2', 'diag_3'"
      ],
      "metadata": {
        "id": "YMUtkZcwfdtX"
      }
    },
    {
      "cell_type": "code",
      "source": [
        "t = PrettyTable(['Column Name', 'Missing Values', 'Missing Percentage'])\n",
        "for col in data.columns :\n",
        "    lenn = len(data[data[col] == '?'])\n",
        "    t.add_row([col,lenn,lenn / len(data)])\n",
        "print(t)"
      ],
      "metadata": {
        "colab": {
          "base_uri": "https://localhost:8080/"
        },
        "id": "UBYtR5JXfZcw",
        "outputId": "20ea8320-3bb0-425e-8ac8-0a3447de2892"
      },
      "execution_count": 10,
      "outputs": [
        {
          "output_type": "stream",
          "name": "stdout",
          "text": [
            "+--------------------------+----------------+-----------------------+\n",
            "|       Column Name        | Missing Values |   Missing Percentage  |\n",
            "+--------------------------+----------------+-----------------------+\n",
            "|       encounter_id       |       0        |          0.0          |\n",
            "|       patient_nbr        |       0        |          0.0          |\n",
            "|           race           |      1948      |  0.027237898151514305 |\n",
            "|          gender          |       0        |          0.0          |\n",
            "|           age            |       0        |          0.0          |\n",
            "|          weight          |     68665      |   0.960107944853044   |\n",
            "|    admission_type_id     |       0        |          0.0          |\n",
            "| discharge_disposition_id |       0        |          0.0          |\n",
            "|   admission_source_id    |       0        |          0.0          |\n",
            "|     time_in_hospital     |       0        |          0.0          |\n",
            "|        payer_code        |     31043      |   0.434058558684527   |\n",
            "|    medical_specialty     |     34477      |   0.4820744427976174  |\n",
            "|    num_lab_procedures    |       0        |          0.0          |\n",
            "|      num_procedures      |       0        |          0.0          |\n",
            "|     num_medications      |       0        |          0.0          |\n",
            "|    number_outpatient     |       0        |          0.0          |\n",
            "|     number_emergency     |       0        |          0.0          |\n",
            "|     number_inpatient     |       0        |          0.0          |\n",
            "|          diag_1          |       11       | 0.0001538074330937666 |\n",
            "|          diag_2          |      294       | 0.0041108532117788525 |\n",
            "|          diag_3          |      1225      |  0.017128555049078554 |\n",
            "|     number_diagnoses     |       0        |          0.0          |\n",
            "|      max_glu_serum       |       0        |          0.0          |\n",
            "|        A1Cresult         |       0        |          0.0          |\n",
            "|        metformin         |       0        |          0.0          |\n",
            "|       repaglinide        |       0        |          0.0          |\n",
            "|       nateglinide        |       0        |          0.0          |\n",
            "|      chlorpropamide      |       0        |          0.0          |\n",
            "|       glimepiride        |       0        |          0.0          |\n",
            "|      acetohexamide       |       0        |          0.0          |\n",
            "|        glipizide         |       0        |          0.0          |\n",
            "|        glyburide         |       0        |          0.0          |\n",
            "|       tolbutamide        |       0        |          0.0          |\n",
            "|       pioglitazone       |       0        |          0.0          |\n",
            "|      rosiglitazone       |       0        |          0.0          |\n",
            "|         acarbose         |       0        |          0.0          |\n",
            "|         miglitol         |       0        |          0.0          |\n",
            "|       troglitazone       |       0        |          0.0          |\n",
            "|        tolazamide        |       0        |          0.0          |\n",
            "|         examide          |       0        |          0.0          |\n",
            "|       citoglipton        |       0        |          0.0          |\n",
            "|         insulin          |       0        |          0.0          |\n",
            "|   glyburide-metformin    |       0        |          0.0          |\n",
            "|   glipizide-metformin    |       0        |          0.0          |\n",
            "| glimepiride-pioglitazone |       0        |          0.0          |\n",
            "| metformin-rosiglitazone  |       0        |          0.0          |\n",
            "|  metformin-pioglitazone  |       0        |          0.0          |\n",
            "|          change          |       0        |          0.0          |\n",
            "|       diabetesMed        |       0        |          0.0          |\n",
            "|        readmitted        |       0        |          0.0          |\n",
            "+--------------------------+----------------+-----------------------+\n"
          ]
        }
      ]
    },
    {
      "cell_type": "code",
      "source": [
        "columns_with_missed_values = data[['race', 'weight', 'payer_code', 'medical_specialty', 'diag_1', 'diag_2', 'diag_3']]"
      ],
      "metadata": {
        "id": "4mJTcc8xfgGp"
      },
      "execution_count": 11,
      "outputs": []
    },
    {
      "cell_type": "code",
      "source": [
        "t = PrettyTable(['Column Name', 'Missing Values', 'Missing Percentage'])\n",
        "for col in columns_with_missed_values.columns :\n",
        "    lenn = len(data[data[col] == '?'])\n",
        "    t.add_row([col,lenn,lenn / len(data)])\n",
        "print(t)"
      ],
      "metadata": {
        "colab": {
          "base_uri": "https://localhost:8080/"
        },
        "id": "uITPBbpofk1a",
        "outputId": "89fd8c34-700c-45e5-f7f2-ac5899455cc0"
      },
      "execution_count": 12,
      "outputs": [
        {
          "output_type": "stream",
          "name": "stdout",
          "text": [
            "+-------------------+----------------+-----------------------+\n",
            "|    Column Name    | Missing Values |   Missing Percentage  |\n",
            "+-------------------+----------------+-----------------------+\n",
            "|        race       |      1948      |  0.027237898151514305 |\n",
            "|       weight      |     68665      |   0.960107944853044   |\n",
            "|     payer_code    |     31043      |   0.434058558684527   |\n",
            "| medical_specialty |     34477      |   0.4820744427976174  |\n",
            "|       diag_1      |       11       | 0.0001538074330937666 |\n",
            "|       diag_2      |      294       | 0.0041108532117788525 |\n",
            "|       diag_3      |      1225      |  0.017128555049078554 |\n",
            "+-------------------+----------------+-----------------------+\n"
          ]
        }
      ]
    },
    {
      "cell_type": "markdown",
      "source": [
        "Drop columns that are missing too much data"
      ],
      "metadata": {
        "id": "tYWm2ec4fz6C"
      }
    },
    {
      "cell_type": "code",
      "source": [
        "data = data.drop(['weight', 'payer_code'], axis=1)"
      ],
      "metadata": {
        "id": "A9HFgpqYfvdF"
      },
      "execution_count": 13,
      "outputs": []
    },
    {
      "cell_type": "markdown",
      "source": [
        "Remove null values Drop the rows where at least one element is missing."
      ],
      "metadata": {
        "id": "oANr-UB-f93H"
      }
    },
    {
      "cell_type": "code",
      "source": [
        "data.dropna(inplace = True)\n",
        "print('Total data = ', len(data))\n"
      ],
      "metadata": {
        "colab": {
          "base_uri": "https://localhost:8080/"
        },
        "id": "tdIdNs60f2iM",
        "outputId": "d9c75f81-b4a1-4fd0-f2fb-9282fa277a6f"
      },
      "execution_count": 14,
      "outputs": [
        {
          "output_type": "stream",
          "name": "stdout",
          "text": [
            "Total data =  71518\n"
          ]
        }
      ]
    },
    {
      "cell_type": "code",
      "source": [
        "data.shape"
      ],
      "metadata": {
        "colab": {
          "base_uri": "https://localhost:8080/"
        },
        "id": "9tLgu76xgAkn",
        "outputId": "4107eade-973d-42ca-947f-bd87e75d91d1"
      },
      "execution_count": 15,
      "outputs": [
        {
          "output_type": "execute_result",
          "data": {
            "text/plain": [
              "(71518, 48)"
            ]
          },
          "metadata": {},
          "execution_count": 15
        }
      ]
    },
    {
      "cell_type": "code",
      "source": [
        "columns_with_missed_values = data[['race', 'medical_specialty', 'diag_1', 'diag_2', 'diag_3']]"
      ],
      "metadata": {
        "id": "Fjj6FhlQgOIi"
      },
      "execution_count": 16,
      "outputs": []
    },
    {
      "cell_type": "code",
      "source": [
        "t = PrettyTable(['Column Name', 'Missing Values', 'Missing Percentage'])\n",
        "for col in columns_with_missed_values.columns :\n",
        "    lenn = len(data[data[col] == '?'])\n",
        "    t.add_row([col,lenn,lenn / len(data)])\n",
        "print(t)"
      ],
      "metadata": {
        "colab": {
          "base_uri": "https://localhost:8080/"
        },
        "id": "VVsq666zgB9U",
        "outputId": "09ef2eb0-fa13-4bca-e369-bb465cf3183a"
      },
      "execution_count": 17,
      "outputs": [
        {
          "output_type": "stream",
          "name": "stdout",
          "text": [
            "+-------------------+----------------+-----------------------+\n",
            "|    Column Name    | Missing Values |   Missing Percentage  |\n",
            "+-------------------+----------------+-----------------------+\n",
            "|        race       |      1948      |  0.027237898151514305 |\n",
            "| medical_specialty |     34477      |   0.4820744427976174  |\n",
            "|       diag_1      |       11       | 0.0001538074330937666 |\n",
            "|       diag_2      |      294       | 0.0041108532117788525 |\n",
            "|       diag_3      |      1225      |  0.017128555049078554 |\n",
            "+-------------------+----------------+-----------------------+\n"
          ]
        }
      ]
    },
    {
      "cell_type": "code",
      "source": [
        "print(data.shape)\n",
        "print('% data retained out of unique patients: ' + str(round(len(data.index)/71518 * 100,2)) + '%')\n",
        "print('% data retained out of all encounters: ' + str(round(len(data.index)/101766 * 100,2)) + '%')\n",
        "print(data.columns)"
      ],
      "metadata": {
        "colab": {
          "base_uri": "https://localhost:8080/"
        },
        "id": "y34WlpQ8gMOf",
        "outputId": "c0130357-6573-450f-a7e6-99e8535760d3"
      },
      "execution_count": 18,
      "outputs": [
        {
          "output_type": "stream",
          "name": "stdout",
          "text": [
            "(71518, 48)\n",
            "% data retained out of unique patients: 100.0%\n",
            "% data retained out of all encounters: 70.28%\n",
            "Index(['encounter_id', 'patient_nbr', 'race', 'gender', 'age',\n",
            "       'admission_type_id', 'discharge_disposition_id', 'admission_source_id',\n",
            "       'time_in_hospital', 'medical_specialty', 'num_lab_procedures',\n",
            "       'num_procedures', 'num_medications', 'number_outpatient',\n",
            "       'number_emergency', 'number_inpatient', 'diag_1', 'diag_2', 'diag_3',\n",
            "       'number_diagnoses', 'max_glu_serum', 'A1Cresult', 'metformin',\n",
            "       'repaglinide', 'nateglinide', 'chlorpropamide', 'glimepiride',\n",
            "       'acetohexamide', 'glipizide', 'glyburide', 'tolbutamide',\n",
            "       'pioglitazone', 'rosiglitazone', 'acarbose', 'miglitol', 'troglitazone',\n",
            "       'tolazamide', 'examide', 'citoglipton', 'insulin',\n",
            "       'glyburide-metformin', 'glipizide-metformin',\n",
            "       'glimepiride-pioglitazone', 'metformin-rosiglitazone',\n",
            "       'metformin-pioglitazone', 'change', 'diabetesMed', 'readmitted'],\n",
            "      dtype='object')\n"
          ]
        }
      ]
    },
    {
      "cell_type": "markdown",
      "source": [
        "Drop other columns without relevant information"
      ],
      "metadata": {
        "id": "4-nIpG48gehQ"
      }
    },
    {
      "cell_type": "code",
      "source": [
        "data = data.drop(['encounter_id', 'patient_nbr'], axis=1)\n",
        "data.columns"
      ],
      "metadata": {
        "colab": {
          "base_uri": "https://localhost:8080/"
        },
        "id": "nPhFqO7EgYDC",
        "outputId": "2b6d4ae6-d12f-4c9c-db80-e9ea0c775997"
      },
      "execution_count": 19,
      "outputs": [
        {
          "output_type": "execute_result",
          "data": {
            "text/plain": [
              "Index(['race', 'gender', 'age', 'admission_type_id',\n",
              "       'discharge_disposition_id', 'admission_source_id', 'time_in_hospital',\n",
              "       'medical_specialty', 'num_lab_procedures', 'num_procedures',\n",
              "       'num_medications', 'number_outpatient', 'number_emergency',\n",
              "       'number_inpatient', 'diag_1', 'diag_2', 'diag_3', 'number_diagnoses',\n",
              "       'max_glu_serum', 'A1Cresult', 'metformin', 'repaglinide', 'nateglinide',\n",
              "       'chlorpropamide', 'glimepiride', 'acetohexamide', 'glipizide',\n",
              "       'glyburide', 'tolbutamide', 'pioglitazone', 'rosiglitazone', 'acarbose',\n",
              "       'miglitol', 'troglitazone', 'tolazamide', 'examide', 'citoglipton',\n",
              "       'insulin', 'glyburide-metformin', 'glipizide-metformin',\n",
              "       'glimepiride-pioglitazone', 'metformin-rosiglitazone',\n",
              "       'metformin-pioglitazone', 'change', 'diabetesMed', 'readmitted'],\n",
              "      dtype='object')"
            ]
          },
          "metadata": {},
          "execution_count": 19
        }
      ]
    },
    {
      "cell_type": "code",
      "source": [
        "data.shape"
      ],
      "metadata": {
        "colab": {
          "base_uri": "https://localhost:8080/"
        },
        "id": "_2XIPHnGghf-",
        "outputId": "00683389-b4df-4cad-ec25-133399f65691"
      },
      "execution_count": 20,
      "outputs": [
        {
          "output_type": "execute_result",
          "data": {
            "text/plain": [
              "(71518, 46)"
            ]
          },
          "metadata": {},
          "execution_count": 20
        }
      ]
    },
    {
      "cell_type": "markdown",
      "source": [
        "1. Age Feature : The values of age are given like [0–10),[10–20),[20–30) The age feature is not categorical but ordinal and hence we should convert it to numbers and treat it as numeric feature. We are converting age feature to numeric feature like below, [0–10) → 5, [10–20) → 15, [20–30) — -> 25"
      ],
      "metadata": {
        "id": "sW3l_i5fgoU0"
      }
    },
    {
      "cell_type": "code",
      "source": [
        "replaceDict = {'[0-10)' : 5,\n",
        "'[10-20)' : 15,\n",
        "'[20-30)' : 25, \n",
        "'[30-40)' : 35, \n",
        "'[40-50)' : 45, \n",
        "'[50-60)' : 55,\n",
        "'[60-70)' : 65, \n",
        "'[70-80)' : 75,\n",
        "'[80-90)' : 85,\n",
        "'[90-100)' : 95}\n",
        "\n",
        "data['age'] = data['age'].apply(lambda x : replaceDict[x])\n",
        "print(data['age'].head())"
      ],
      "metadata": {
        "colab": {
          "base_uri": "https://localhost:8080/"
        },
        "id": "IakwaGEhgj8k",
        "outputId": "60eb0033-0409-437f-f543-e113a5c6c3ab"
      },
      "execution_count": 21,
      "outputs": [
        {
          "output_type": "stream",
          "name": "stdout",
          "text": [
            "0     5\n",
            "1    15\n",
            "2    25\n",
            "3    35\n",
            "4    45\n",
            "Name: age, dtype: int64\n"
          ]
        }
      ]
    },
    {
      "cell_type": "markdown",
      "source": [
        "6.2) Using domain knowledge on diag_1, diag_2, diag_3 : The diag_1 , diag_2 , diag_3 are categorical features but these features have lots unique values if we apply one hot encoding directly it will results in lots of features that will eventually invoke “curse of dimensionality” problem We will use the domain knowledge provided in the description file to create fewer categories.\n",
        "\n",
        "Circulatory → 390–459, 785 → Diseases of the circulatory system\n",
        "Respiratory → 460–519, 786 → Diseases of the respiratory system\n",
        "Digestive → 520–579, 787 → Diseases of the digestive system\n",
        "Diabetes → 250.xx → Diabetes mellitus\n",
        "Injury → 800–999 → Injury and poisoning\n",
        "Musculoskeletal → 710–739 → Diseases of the musculoskeletal system and connective tissue\n",
        "Genitourinary → 580–629, 788 → Diseases of the genitourinary system\n",
        "Neoplasms → 140–239 → Neoplasms\n",
        "Pregnecy → 630–679 → Complications of pregnancy, childbirth, and the puerperium\n",
        "Other\n",
        "We added Pregnancy as one category original description file kept it in ‘Other’ category but from research we found that Pregnancy creates unique type of diabetes and hence it make sense to keep it as separate category."
      ],
      "metadata": {
        "id": "j87rfQBhgvHO"
      }
    },
    {
      "cell_type": "code",
      "source": [
        "print(\"number of entries for diag_1= \", len((data['diag_1'])))  \n",
        "print(\"number of unique entries for diag_1= \", len(np.unique(data['diag_1'])))  \n",
        "print(\"number of entries for diag_2= \", len((data['diag_2'])))  \n",
        "print(\"number of unique entries for diag_2= \", len(np.unique(data['diag_2'])))  \n",
        "print(\"number of entries for diag_3= \", len((data['diag_3'])))  \n",
        "print(\"number of entries for diag_3= \", len(np.unique(data['diag_3'])))"
      ],
      "metadata": {
        "colab": {
          "base_uri": "https://localhost:8080/"
        },
        "id": "nsq_FNZ6grV0",
        "outputId": "ee04bb34-f512-4c4a-8e14-169625b6bb34"
      },
      "execution_count": 22,
      "outputs": [
        {
          "output_type": "stream",
          "name": "stdout",
          "text": [
            "number of entries for diag_1=  71518\n",
            "number of unique entries for diag_1=  697\n",
            "number of entries for diag_2=  71518\n",
            "number of unique entries for diag_2=  726\n",
            "number of entries for diag_3=  71518\n",
            "number of entries for diag_3=  759\n"
          ]
        }
      ]
    },
    {
      "cell_type": "code",
      "source": [
        "columns_with_missed_values = data[['diag_1', 'diag_2', 'diag_3']]\n",
        "t = PrettyTable(['Column Name', 'Missing Values', 'Missing Percentage'])\n",
        "for col in columns_with_missed_values.columns :\n",
        "    lenn = len(data[data[col] == '?'])\n",
        "    t.add_row([col,lenn,lenn / len(data)])\n",
        "print(t)"
      ],
      "metadata": {
        "colab": {
          "base_uri": "https://localhost:8080/"
        },
        "id": "meYEDyP0gyDB",
        "outputId": "fc74c5a6-4778-42aa-ca72-79ef6fc4d909"
      },
      "execution_count": 23,
      "outputs": [
        {
          "output_type": "stream",
          "name": "stdout",
          "text": [
            "+-------------+----------------+-----------------------+\n",
            "| Column Name | Missing Values |   Missing Percentage  |\n",
            "+-------------+----------------+-----------------------+\n",
            "|    diag_1   |       11       | 0.0001538074330937666 |\n",
            "|    diag_2   |      294       | 0.0041108532117788525 |\n",
            "|    diag_3   |      1225      |  0.017128555049078554 |\n",
            "+-------------+----------------+-----------------------+\n"
          ]
        }
      ]
    },
    {
      "cell_type": "code",
      "source": [
        "diag_1 = Counter(list(data['diag_1'])).most_common(1)[0][0]\n",
        "diag_2 = Counter(list(data['diag_2'])).most_common(1)[0][0]\n",
        "diag_3 = Counter(list(data['diag_3'])).most_common(1)[0][0]\n",
        "data['diag_1'] = data['diag_1'].apply(lambda x : diag_1 if x == '?' else x)\n",
        "data['diag_2'] = data['diag_2'].apply(lambda x : diag_2 if x == '?' else x)\n",
        "data['diag_3'] = data['diag_3'].apply(lambda x : diag_3 if x == '?' else x)"
      ],
      "metadata": {
        "id": "gDK0q-LnhedW"
      },
      "execution_count": 24,
      "outputs": []
    },
    {
      "cell_type": "code",
      "source": [
        "columns_with_missed_values = data[['diag_1', 'diag_2', 'diag_3']]\n",
        "t = PrettyTable(['Column Name', 'Missing Values', 'Missing Percentage'])\n",
        "for col in columns_with_missed_values.columns :\n",
        "    lenn = len(data[data[col] == '?'])\n",
        "    t.add_row([col,lenn,lenn / len(data)])\n",
        "print(t)"
      ],
      "metadata": {
        "colab": {
          "base_uri": "https://localhost:8080/"
        },
        "id": "IUyCqt17hqec",
        "outputId": "b322a6b5-b67c-41ac-a1ea-644504c49c0f"
      },
      "execution_count": 25,
      "outputs": [
        {
          "output_type": "stream",
          "name": "stdout",
          "text": [
            "+-------------+----------------+--------------------+\n",
            "| Column Name | Missing Values | Missing Percentage |\n",
            "+-------------+----------------+--------------------+\n",
            "|    diag_1   |       0        |        0.0         |\n",
            "|    diag_2   |       0        |        0.0         |\n",
            "|    diag_3   |       0        |        0.0         |\n",
            "+-------------+----------------+--------------------+\n"
          ]
        }
      ]
    },
    {
      "cell_type": "markdown",
      "source": [
        "The diag_1 , diag_2 , diag_3 are categorical features but they have lots unique values if we apply one hot encoding directely it will results in lots of feature values that will eventually invoke \"curse of dimensionality\" problem We will use the domain knowledge provided in the description of data to create fewer values."
      ],
      "metadata": {
        "id": "pWaXQv_nh26s"
      }
    },
    {
      "cell_type": "code",
      "source": [
        "# Replace diagnoses with category names\n",
        "#Circulatory: 390-459, 785\n",
        "#Respiratory: 460-519, 786\n",
        "#Digestive: 520-579, 787\n",
        "#Diabetes: 250.xx\n",
        "#Injury: 800-999\n",
        "#Musculoskeletal: 710-739\n",
        "#Genitourinary: 580-629, 788\n",
        "#Neoplasms: 140-239, \n",
        "#Other: \n",
        "#780, 781, 784, 790-799, 240-279 except 250, 680-709, 782, 001-139, 290-319\n",
        "#E-V (beginning with a letter), 280-289, 320-359, 630-679, 360-389, 740-759\n",
        "\n",
        "def categorize_diagnosis(diag):\n",
        "    if diag.isnumeric():\n",
        "        diag = int(diag)\n",
        "        if diag in range(390,460) or diag==785:\n",
        "            return 'Circulatory'\n",
        "        elif diag in range(460,520) or diag==786:\n",
        "            return 'Respiratory'\n",
        "        elif diag in range(520,580) or diag==787:\n",
        "            return 'Digestive'\n",
        "        elif diag in np.arange(250,260,0.01):\n",
        "            return 'Diabetes'\n",
        "        elif diag in range(800,1000):\n",
        "            return 'Injury'\n",
        "        elif diag in range(710,740):\n",
        "            return  'Musculoskeletal'\n",
        "        elif diag in range(580,630) or diag==788:\n",
        "            return  'Genitourinary'\n",
        "        elif diag in range(140,240):\n",
        "            return  'Neoplasms'\n",
        "        else:\n",
        "            return 'Other'\n",
        "    else:\n",
        "        if \"250\" in diag:\n",
        "            return 'Diabetes'\n",
        "        else:\n",
        "            return  'Other'"
      ],
      "metadata": {
        "id": "6iM8qf9Qhs0G"
      },
      "execution_count": 26,
      "outputs": []
    },
    {
      "cell_type": "code",
      "source": [
        "data['diag_1_desc'] = data.apply(lambda row: categorize_diagnosis(row['diag_1']), axis=1)\n",
        "data['diag_2_desc'] = data.apply(lambda row: categorize_diagnosis(row['diag_2']), axis=1)\n",
        "data['diag_3_desc'] = data.apply(lambda row: categorize_diagnosis(row['diag_3']), axis=1)\n",
        "\n",
        "# Remove original diagnosis features\n",
        "data.drop(columns=['diag_1', 'diag_2', 'diag_3'], inplace=True)\n",
        "data.columns"
      ],
      "metadata": {
        "colab": {
          "base_uri": "https://localhost:8080/"
        },
        "id": "s4Trmzuah53O",
        "outputId": "9a13f73d-bef7-4736-f064-a53abdf91b3b"
      },
      "execution_count": 27,
      "outputs": [
        {
          "output_type": "execute_result",
          "data": {
            "text/plain": [
              "Index(['race', 'gender', 'age', 'admission_type_id',\n",
              "       'discharge_disposition_id', 'admission_source_id', 'time_in_hospital',\n",
              "       'medical_specialty', 'num_lab_procedures', 'num_procedures',\n",
              "       'num_medications', 'number_outpatient', 'number_emergency',\n",
              "       'number_inpatient', 'number_diagnoses', 'max_glu_serum', 'A1Cresult',\n",
              "       'metformin', 'repaglinide', 'nateglinide', 'chlorpropamide',\n",
              "       'glimepiride', 'acetohexamide', 'glipizide', 'glyburide', 'tolbutamide',\n",
              "       'pioglitazone', 'rosiglitazone', 'acarbose', 'miglitol', 'troglitazone',\n",
              "       'tolazamide', 'examide', 'citoglipton', 'insulin',\n",
              "       'glyburide-metformin', 'glipizide-metformin',\n",
              "       'glimepiride-pioglitazone', 'metformin-rosiglitazone',\n",
              "       'metformin-pioglitazone', 'change', 'diabetesMed', 'readmitted',\n",
              "       'diag_1_desc', 'diag_2_desc', 'diag_3_desc'],\n",
              "      dtype='object')"
            ]
          },
          "metadata": {},
          "execution_count": 27
        }
      ]
    },
    {
      "cell_type": "code",
      "source": [
        "data.shape"
      ],
      "metadata": {
        "colab": {
          "base_uri": "https://localhost:8080/"
        },
        "id": "xDDkH58gh9CU",
        "outputId": "d29c3001-20d7-400f-93c4-a640f231ab76"
      },
      "execution_count": 28,
      "outputs": [
        {
          "output_type": "execute_result",
          "data": {
            "text/plain": [
              "(71518, 46)"
            ]
          },
          "metadata": {},
          "execution_count": 28
        }
      ]
    },
    {
      "cell_type": "code",
      "source": [
        "print(\"number of entries for diag_1= \", len((data['diag_1_desc'])))  \n",
        "print(\"number of unique entries for diag_1= \", len(np.unique(data['diag_1_desc'])))  \n",
        "print(data['diag_1_desc'].value_counts())     "
      ],
      "metadata": {
        "colab": {
          "base_uri": "https://localhost:8080/"
        },
        "id": "_vrWmfIfufAK",
        "outputId": "a98c7b1a-cf36-4a6c-f60d-4481343bb8cd"
      },
      "execution_count": 29,
      "outputs": [
        {
          "output_type": "stream",
          "name": "stdout",
          "text": [
            "number of entries for diag_1=  71518\n",
            "number of unique entries for diag_1=  9\n",
            "Circulatory        21905\n",
            "Other              12347\n",
            "Respiratory         9776\n",
            "Digestive           6570\n",
            "Diabetes            5805\n",
            "Injury              4779\n",
            "Musculoskeletal     4080\n",
            "Genitourinary       3514\n",
            "Neoplasms           2742\n",
            "Name: diag_1_desc, dtype: int64\n"
          ]
        }
      ]
    },
    {
      "cell_type": "code",
      "source": [
        "print(\"number of entries for diag_2= \", len((data['diag_2_desc'])))  \n",
        "print(\"number of unique entries for diag_2= \", len(np.unique(data['diag_2_desc'])))  \n",
        "print(data['diag_2_desc'].value_counts())     "
      ],
      "metadata": {
        "colab": {
          "base_uri": "https://localhost:8080/"
        },
        "id": "xqofWDCyuoNG",
        "outputId": "d119f863-3fb2-4798-ce94-24c5bd222cc3"
      },
      "execution_count": 30,
      "outputs": [
        {
          "output_type": "stream",
          "name": "stdout",
          "text": [
            "number of entries for diag_2=  71518\n",
            "number of unique entries for diag_2=  9\n",
            "Circulatory        22534\n",
            "Other              18409\n",
            "Diabetes           10053\n",
            "Respiratory         7242\n",
            "Genitourinary       5468\n",
            "Digestive           2907\n",
            "Injury              1858\n",
            "Neoplasms           1750\n",
            "Musculoskeletal     1297\n",
            "Name: diag_2_desc, dtype: int64\n"
          ]
        }
      ]
    },
    {
      "cell_type": "code",
      "source": [
        "print(\"number of entries for diag_3= \", len((data['diag_3_desc'])))  \n",
        "print(\"number of unique entries for diag_3= \", len(np.unique(data['diag_3_desc'])))  \n",
        "print(data['diag_3_desc'].value_counts())     "
      ],
      "metadata": {
        "colab": {
          "base_uri": "https://localhost:8080/"
        },
        "id": "ddk8njZIuycn",
        "outputId": "9c3ce9e2-f32d-4c83-fbd5-87568f96e126"
      },
      "execution_count": 31,
      "outputs": [
        {
          "output_type": "stream",
          "name": "stdout",
          "text": [
            "number of entries for diag_3=  71518\n",
            "number of unique entries for diag_3=  9\n",
            "Circulatory        21313\n",
            "Other              20419\n",
            "Diabetes           13885\n",
            "Respiratory         4873\n",
            "Genitourinary       4199\n",
            "Digestive           2746\n",
            "Injury              1443\n",
            "Musculoskeletal     1378\n",
            "Neoplasms           1262\n",
            "Name: diag_3_desc, dtype: int64\n"
          ]
        }
      ]
    },
    {
      "cell_type": "markdown",
      "source": [
        "3- Drop encounters that resulted in discharge due to hospice or patient death Discharge Disposition ID corresponding to [11 or 13 or 14 or 19 or 20 or 21] indicates patient has expired so there is no chance that it will readmit again so we will remove these records.\n",
        "\n",
        "Discharge Disposition ID has lots of distinct values using domain knowledge we will convert them into small number of categories.\n",
        "\n",
        "ddi_cat1 = [6, 8, 9, 13] ddi_cat2 = [3, 4, 5, 14, 22, 23, 24] ddi_cat10 = [12, 15, 16, 17] ddi_cat11 = [19, 20, 21] ddi_cat18 = [25, 26]"
      ],
      "metadata": {
        "id": "2-cPdAxcij7L"
      }
    },
    {
      "cell_type": "code",
      "source": [
        "print(\"number of entries for discharge_disposition_id= \", len((data['discharge_disposition_id'])))  \n",
        "print(\"number of unique entries for discharge_disposition_id= \", len(np.unique(data['discharge_disposition_id'])))\n",
        "print(data['discharge_disposition_id'].value_counts())     "
      ],
      "metadata": {
        "colab": {
          "base_uri": "https://localhost:8080/"
        },
        "id": "1Ru-zV3siLRk",
        "outputId": "d41a122a-695d-4723-c2fd-8462b31c13bb"
      },
      "execution_count": 32,
      "outputs": [
        {
          "output_type": "stream",
          "name": "stdout",
          "text": [
            "number of entries for discharge_disposition_id=  71518\n",
            "number of unique entries for discharge_disposition_id=  26\n",
            "1     44317\n",
            "3      8784\n",
            "6      8289\n",
            "18     2474\n",
            "2      1539\n",
            "22     1410\n",
            "11     1077\n",
            "5       913\n",
            "25      778\n",
            "4       541\n",
            "7       409\n",
            "23      260\n",
            "13      243\n",
            "14      218\n",
            "28       90\n",
            "8        73\n",
            "15       40\n",
            "24       25\n",
            "9         9\n",
            "17        8\n",
            "10        6\n",
            "19        6\n",
            "27        3\n",
            "16        3\n",
            "12        2\n",
            "20        1\n",
            "Name: discharge_disposition_id, dtype: int64\n"
          ]
        }
      ]
    },
    {
      "cell_type": "code",
      "source": [
        "data['discharge_disposition_id'] = data['discharge_disposition_id'].apply(lambda x : 1 if int(x) in [6, 8, 9, 13] \n",
        "                                                                           else ( 2 if int(x) in [3, 4, 5, 14, 22, 23, 24]\n",
        "                                                                           else ( 10 if int(x) in [12, 15, 16, 17]\n",
        "                                                                           else ( 11 if int(x) in [19, 20, 21]\n",
        "                                                                           else ( 18 if int(x) in [25, 26] \n",
        "                                                                           else int(x) )))))\n",
        "\n",
        "data = data[~data.discharge_disposition_id.isin([11,13,14,19,20,21])]"
      ],
      "metadata": {
        "id": "eGDk0H1gi1js"
      },
      "execution_count": 33,
      "outputs": []
    },
    {
      "cell_type": "code",
      "source": [
        "print(\"number of entries for discharge_disposition_id= \", len((data['discharge_disposition_id'])))  \n",
        "print(\"number of unique entries for discharge_disposition_id= \", len(np.unique(data['discharge_disposition_id'])))  \n",
        "print(data['discharge_disposition_id'].value_counts())     "
      ],
      "metadata": {
        "colab": {
          "base_uri": "https://localhost:8080/"
        },
        "id": "s5oirFkBi4aY",
        "outputId": "5f1ee38e-65f1-4d0b-d38d-299fe621c49d"
      },
      "execution_count": 34,
      "outputs": [
        {
          "output_type": "stream",
          "name": "stdout",
          "text": [
            "number of entries for discharge_disposition_id=  70434\n",
            "number of unique entries for discharge_disposition_id=  7\n",
            "1     52931\n",
            "2     13690\n",
            "18     3252\n",
            "7       409\n",
            "28       90\n",
            "10       59\n",
            "27        3\n",
            "Name: discharge_disposition_id, dtype: int64\n"
          ]
        }
      ]
    },
    {
      "cell_type": "markdown",
      "source": [
        "Admission Type ID :\n",
        "\n",
        "Similarly Admission Type ID can be converted into small number of categories ati_cat1 = [2, 7] ati_cat5 = [6, 8]"
      ],
      "metadata": {
        "id": "8XoQ-PGJi-OS"
      }
    },
    {
      "cell_type": "code",
      "source": [
        "print(\"number of entries for admission_type_id= \", len((data['admission_type_id'])))  \n",
        "print(\"number of unique entries for admission_type_id= \", len(np.unique(data['admission_type_id'])))\n",
        "print(data['admission_type_id'].value_counts())     "
      ],
      "metadata": {
        "colab": {
          "base_uri": "https://localhost:8080/"
        },
        "id": "cr-F67YRjBxw",
        "outputId": "7526af3d-894d-4853-9148-0239b3abe616"
      },
      "execution_count": 35,
      "outputs": [
        {
          "output_type": "stream",
          "name": "stdout",
          "text": [
            "number of entries for admission_type_id=  70434\n",
            "number of unique entries for admission_type_id=  8\n",
            "1    35768\n",
            "3    13835\n",
            "2    12861\n",
            "6     4530\n",
            "5     3122\n",
            "8      291\n",
            "7       18\n",
            "4        9\n",
            "Name: admission_type_id, dtype: int64\n"
          ]
        }
      ]
    },
    {
      "cell_type": "code",
      "source": [
        "data['admission_type_id'] = data['admission_type_id'].apply(lambda x : 1 if int(x) in [2, 7]\n",
        "                                                            else ( 5 if int(x) in [6, 8]\n",
        "                                                            else int(x) ))"
      ],
      "metadata": {
        "id": "P6B2Ga75i6DJ"
      },
      "execution_count": 36,
      "outputs": []
    },
    {
      "cell_type": "code",
      "source": [
        "print(\"number of entries for admission_type_id= \", len((data['admission_type_id'])))  \n",
        "print(\"number of unique entries for admission_type_id= \", len(np.unique(data['admission_type_id'])))  \n",
        "print(data['admission_type_id'].value_counts())   "
      ],
      "metadata": {
        "colab": {
          "base_uri": "https://localhost:8080/"
        },
        "id": "bBpsidnXjKCK",
        "outputId": "50bad7a9-52b1-4afe-8cbc-84547e1c4e8a"
      },
      "execution_count": 37,
      "outputs": [
        {
          "output_type": "stream",
          "name": "stdout",
          "text": [
            "number of entries for admission_type_id=  70434\n",
            "number of unique entries for admission_type_id=  4\n",
            "1    48647\n",
            "3    13835\n",
            "5     7943\n",
            "4        9\n",
            "Name: admission_type_id, dtype: int64\n"
          ]
        }
      ]
    },
    {
      "cell_type": "markdown",
      "source": [
        "Admission Source ID :\n",
        "\n",
        "Similarly Admission Source ID can be converted into small number of categories asi_cat1 = [2, 3] ati_cat4 = [5, 6, 10, 22, 25] ati_cat9 = [15, 17, 20, 21] ati_cat11 = [13, 17]"
      ],
      "metadata": {
        "id": "8np53ynojOSM"
      }
    },
    {
      "cell_type": "code",
      "source": [
        "print(\"number of entries for admission_source_id= \", len((data['admission_source_id'])))  \n",
        "print(\"number of unique entries for admission_source_id= \", len(np.unique(data['admission_source_id']))) \n",
        "print(data['admission_source_id'].value_counts())   "
      ],
      "metadata": {
        "colab": {
          "base_uri": "https://localhost:8080/"
        },
        "id": "6OOuMFEujLZn",
        "outputId": "21da06cf-eb38-4cd3-f628-06dbcefcf211"
      },
      "execution_count": 38,
      "outputs": [
        {
          "output_type": "stream",
          "name": "stdout",
          "text": [
            "number of entries for admission_source_id=  70434\n",
            "number of unique entries for admission_source_id=  17\n",
            "7     37563\n",
            "1     21849\n",
            "17     4858\n",
            "4      2541\n",
            "6      1788\n",
            "2       909\n",
            "5       514\n",
            "20      153\n",
            "3       136\n",
            "9        95\n",
            "8        11\n",
            "10        7\n",
            "22        4\n",
            "14        2\n",
            "25        2\n",
            "11        1\n",
            "13        1\n",
            "Name: admission_source_id, dtype: int64\n"
          ]
        }
      ]
    },
    {
      "cell_type": "code",
      "source": [
        "data['admission_source_id'] = data['admission_source_id'].apply(lambda x : 1 if int(x) in [2, 3]\n",
        "                                                            else ( 4 if int(x) in [5, 6, 10, 22, 25]\n",
        "                                                            else ( 9 if int(x) in [15, 17, 20, 21]\n",
        "                                                            else ( 11 if int(x) in [13, 14]\n",
        "                                                            else int(x) ))))"
      ],
      "metadata": {
        "id": "g0fDO9uyjVAP"
      },
      "execution_count": 39,
      "outputs": []
    },
    {
      "cell_type": "code",
      "source": [
        "print(\"number of entries for admission_source_id= \", len((data['admission_source_id'])))  \n",
        "print(\"number of unique entries for admission_source_id= \", len(np.unique(data['admission_source_id'])))  \n",
        "print(data['admission_source_id'].value_counts())   "
      ],
      "metadata": {
        "colab": {
          "base_uri": "https://localhost:8080/"
        },
        "id": "EdDUVWBhjeu4",
        "outputId": "07d06496-53b0-4b16-c5bf-e3f39e3aa4b1"
      },
      "execution_count": 40,
      "outputs": [
        {
          "output_type": "stream",
          "name": "stdout",
          "text": [
            "number of entries for admission_source_id=  70434\n",
            "number of unique entries for admission_source_id=  6\n",
            "7     37563\n",
            "1     22894\n",
            "9      5106\n",
            "4      4856\n",
            "8        11\n",
            "11        4\n",
            "Name: admission_source_id, dtype: int64\n"
          ]
        }
      ]
    },
    {
      "cell_type": "code",
      "source": [
        "id2 = '1P9utjV8bW_-2jlJjLXpF-h_HqiyOhPUz'\n",
        "downloaded = drive.CreateFile({'id':id2}) \n",
        "downloaded.GetContentFile('discharge.csv')"
      ],
      "metadata": {
        "id": "sL-JguXtjiXG"
      },
      "execution_count": 41,
      "outputs": []
    },
    {
      "cell_type": "code",
      "source": [
        "discharge = pd.read_csv(\"discharge.csv\")"
      ],
      "metadata": {
        "id": "qqgE_z06jl84"
      },
      "execution_count": 42,
      "outputs": []
    },
    {
      "cell_type": "code",
      "source": [
        "id3 = '1CWdb1VPP3PNQIoPKbK0yHxXTygCpvj1l'\n",
        "downloaded = drive.CreateFile({'id':id3}) \n",
        "downloaded.GetContentFile('admission_type.csv')"
      ],
      "metadata": {
        "id": "1Qy9z51Zjo0v"
      },
      "execution_count": 43,
      "outputs": []
    },
    {
      "cell_type": "code",
      "source": [
        "admission_type = pd.read_csv(\"admission_type.csv\")\n"
      ],
      "metadata": {
        "id": "PCiJLtX9jvDX"
      },
      "execution_count": 44,
      "outputs": []
    },
    {
      "cell_type": "code",
      "source": [
        "admission_type"
      ],
      "metadata": {
        "colab": {
          "base_uri": "https://localhost:8080/",
          "height": 328
        },
        "id": "6xYZwTt5jwrj",
        "outputId": "1be9a846-a94e-44b3-edaa-6ff45b0cbc5a"
      },
      "execution_count": 45,
      "outputs": [
        {
          "output_type": "execute_result",
          "data": {
            "text/plain": [
              "   admission_type_id    description\n",
              "0                  0         ignore\n",
              "1                  1      Emergency\n",
              "2                  2         Urgent\n",
              "3                  3       Elective\n",
              "4                  4        Newborn\n",
              "5                  5  Not Available\n",
              "6                  6            NaN\n",
              "7                  7  Trauma Center\n",
              "8                  8     Not Mapped"
            ],
            "text/html": [
              "\n",
              "  <div id=\"df-200afd2e-56c6-4daf-a4fa-666e3a9e8394\">\n",
              "    <div class=\"colab-df-container\">\n",
              "      <div>\n",
              "<style scoped>\n",
              "    .dataframe tbody tr th:only-of-type {\n",
              "        vertical-align: middle;\n",
              "    }\n",
              "\n",
              "    .dataframe tbody tr th {\n",
              "        vertical-align: top;\n",
              "    }\n",
              "\n",
              "    .dataframe thead th {\n",
              "        text-align: right;\n",
              "    }\n",
              "</style>\n",
              "<table border=\"1\" class=\"dataframe\">\n",
              "  <thead>\n",
              "    <tr style=\"text-align: right;\">\n",
              "      <th></th>\n",
              "      <th>admission_type_id</th>\n",
              "      <th>description</th>\n",
              "    </tr>\n",
              "  </thead>\n",
              "  <tbody>\n",
              "    <tr>\n",
              "      <th>0</th>\n",
              "      <td>0</td>\n",
              "      <td>ignore</td>\n",
              "    </tr>\n",
              "    <tr>\n",
              "      <th>1</th>\n",
              "      <td>1</td>\n",
              "      <td>Emergency</td>\n",
              "    </tr>\n",
              "    <tr>\n",
              "      <th>2</th>\n",
              "      <td>2</td>\n",
              "      <td>Urgent</td>\n",
              "    </tr>\n",
              "    <tr>\n",
              "      <th>3</th>\n",
              "      <td>3</td>\n",
              "      <td>Elective</td>\n",
              "    </tr>\n",
              "    <tr>\n",
              "      <th>4</th>\n",
              "      <td>4</td>\n",
              "      <td>Newborn</td>\n",
              "    </tr>\n",
              "    <tr>\n",
              "      <th>5</th>\n",
              "      <td>5</td>\n",
              "      <td>Not Available</td>\n",
              "    </tr>\n",
              "    <tr>\n",
              "      <th>6</th>\n",
              "      <td>6</td>\n",
              "      <td>NaN</td>\n",
              "    </tr>\n",
              "    <tr>\n",
              "      <th>7</th>\n",
              "      <td>7</td>\n",
              "      <td>Trauma Center</td>\n",
              "    </tr>\n",
              "    <tr>\n",
              "      <th>8</th>\n",
              "      <td>8</td>\n",
              "      <td>Not Mapped</td>\n",
              "    </tr>\n",
              "  </tbody>\n",
              "</table>\n",
              "</div>\n",
              "      <button class=\"colab-df-convert\" onclick=\"convertToInteractive('df-200afd2e-56c6-4daf-a4fa-666e3a9e8394')\"\n",
              "              title=\"Convert this dataframe to an interactive table.\"\n",
              "              style=\"display:none;\">\n",
              "        \n",
              "  <svg xmlns=\"http://www.w3.org/2000/svg\" height=\"24px\"viewBox=\"0 0 24 24\"\n",
              "       width=\"24px\">\n",
              "    <path d=\"M0 0h24v24H0V0z\" fill=\"none\"/>\n",
              "    <path d=\"M18.56 5.44l.94 2.06.94-2.06 2.06-.94-2.06-.94-.94-2.06-.94 2.06-2.06.94zm-11 1L8.5 8.5l.94-2.06 2.06-.94-2.06-.94L8.5 2.5l-.94 2.06-2.06.94zm10 10l.94 2.06.94-2.06 2.06-.94-2.06-.94-.94-2.06-.94 2.06-2.06.94z\"/><path d=\"M17.41 7.96l-1.37-1.37c-.4-.4-.92-.59-1.43-.59-.52 0-1.04.2-1.43.59L10.3 9.45l-7.72 7.72c-.78.78-.78 2.05 0 2.83L4 21.41c.39.39.9.59 1.41.59.51 0 1.02-.2 1.41-.59l7.78-7.78 2.81-2.81c.8-.78.8-2.07 0-2.86zM5.41 20L4 18.59l7.72-7.72 1.47 1.35L5.41 20z\"/>\n",
              "  </svg>\n",
              "      </button>\n",
              "      \n",
              "  <style>\n",
              "    .colab-df-container {\n",
              "      display:flex;\n",
              "      flex-wrap:wrap;\n",
              "      gap: 12px;\n",
              "    }\n",
              "\n",
              "    .colab-df-convert {\n",
              "      background-color: #E8F0FE;\n",
              "      border: none;\n",
              "      border-radius: 50%;\n",
              "      cursor: pointer;\n",
              "      display: none;\n",
              "      fill: #1967D2;\n",
              "      height: 32px;\n",
              "      padding: 0 0 0 0;\n",
              "      width: 32px;\n",
              "    }\n",
              "\n",
              "    .colab-df-convert:hover {\n",
              "      background-color: #E2EBFA;\n",
              "      box-shadow: 0px 1px 2px rgba(60, 64, 67, 0.3), 0px 1px 3px 1px rgba(60, 64, 67, 0.15);\n",
              "      fill: #174EA6;\n",
              "    }\n",
              "\n",
              "    [theme=dark] .colab-df-convert {\n",
              "      background-color: #3B4455;\n",
              "      fill: #D2E3FC;\n",
              "    }\n",
              "\n",
              "    [theme=dark] .colab-df-convert:hover {\n",
              "      background-color: #434B5C;\n",
              "      box-shadow: 0px 1px 3px 1px rgba(0, 0, 0, 0.15);\n",
              "      filter: drop-shadow(0px 1px 2px rgba(0, 0, 0, 0.3));\n",
              "      fill: #FFFFFF;\n",
              "    }\n",
              "  </style>\n",
              "\n",
              "      <script>\n",
              "        const buttonEl =\n",
              "          document.querySelector('#df-200afd2e-56c6-4daf-a4fa-666e3a9e8394 button.colab-df-convert');\n",
              "        buttonEl.style.display =\n",
              "          google.colab.kernel.accessAllowed ? 'block' : 'none';\n",
              "\n",
              "        async function convertToInteractive(key) {\n",
              "          const element = document.querySelector('#df-200afd2e-56c6-4daf-a4fa-666e3a9e8394');\n",
              "          const dataTable =\n",
              "            await google.colab.kernel.invokeFunction('convertToInteractive',\n",
              "                                                     [key], {});\n",
              "          if (!dataTable) return;\n",
              "\n",
              "          const docLinkHtml = 'Like what you see? Visit the ' +\n",
              "            '<a target=\"_blank\" href=https://colab.research.google.com/notebooks/data_table.ipynb>data table notebook</a>'\n",
              "            + ' to learn more about interactive tables.';\n",
              "          element.innerHTML = '';\n",
              "          dataTable['output_type'] = 'display_data';\n",
              "          await google.colab.output.renderOutput(dataTable, element);\n",
              "          const docLink = document.createElement('div');\n",
              "          docLink.innerHTML = docLinkHtml;\n",
              "          element.appendChild(docLink);\n",
              "        }\n",
              "      </script>\n",
              "    </div>\n",
              "  </div>\n",
              "  "
            ]
          },
          "metadata": {},
          "execution_count": 45
        }
      ]
    },
    {
      "cell_type": "code",
      "source": [
        "id4 = '1yA37H6wjJwmlKiJfRTWHGBlXXRJ3VpY_'\n",
        "download = drive.CreateFile({'id': id4})\n",
        "download.GetContentFile(\"admission_source.csv\")"
      ],
      "metadata": {
        "id": "kmbfY8X5jzAI"
      },
      "execution_count": 46,
      "outputs": []
    },
    {
      "cell_type": "code",
      "source": [
        "admission_source = pd.read_csv(\"admission_source.csv\")"
      ],
      "metadata": {
        "id": "ey51q4bWj1HO"
      },
      "execution_count": 47,
      "outputs": []
    },
    {
      "cell_type": "markdown",
      "source": [
        "Add Three Columns of for IDs Mapping"
      ],
      "metadata": {
        "id": "JUNtpRiHj8hA"
      }
    },
    {
      "cell_type": "code",
      "source": [
        "data['admission_type'] = data['admission_type_id'].map(admission_type['description'])"
      ],
      "metadata": {
        "id": "ZBsgWVqGj3XE"
      },
      "execution_count": 48,
      "outputs": []
    },
    {
      "cell_type": "code",
      "source": [
        "data[['admission_type', 'admission_type_id']]\n"
      ],
      "metadata": {
        "colab": {
          "base_uri": "https://localhost:8080/",
          "height": 419
        },
        "id": "KdImjJY-j_Fa",
        "outputId": "1c6a28cb-76dd-44ff-9a26-1d7d395d58ff"
      },
      "execution_count": 49,
      "outputs": [
        {
          "output_type": "execute_result",
          "data": {
            "text/plain": [
              "       admission_type  admission_type_id\n",
              "0       Not Available                  5\n",
              "1           Emergency                  1\n",
              "2           Emergency                  1\n",
              "3           Emergency                  1\n",
              "4           Emergency                  1\n",
              "...               ...                ...\n",
              "101754      Emergency                  1\n",
              "101755      Emergency                  1\n",
              "101756      Emergency                  1\n",
              "101758      Emergency                  1\n",
              "101765      Emergency                  1\n",
              "\n",
              "[70434 rows x 2 columns]"
            ],
            "text/html": [
              "\n",
              "  <div id=\"df-f8395edb-29c1-463c-a858-5b3d016012b5\">\n",
              "    <div class=\"colab-df-container\">\n",
              "      <div>\n",
              "<style scoped>\n",
              "    .dataframe tbody tr th:only-of-type {\n",
              "        vertical-align: middle;\n",
              "    }\n",
              "\n",
              "    .dataframe tbody tr th {\n",
              "        vertical-align: top;\n",
              "    }\n",
              "\n",
              "    .dataframe thead th {\n",
              "        text-align: right;\n",
              "    }\n",
              "</style>\n",
              "<table border=\"1\" class=\"dataframe\">\n",
              "  <thead>\n",
              "    <tr style=\"text-align: right;\">\n",
              "      <th></th>\n",
              "      <th>admission_type</th>\n",
              "      <th>admission_type_id</th>\n",
              "    </tr>\n",
              "  </thead>\n",
              "  <tbody>\n",
              "    <tr>\n",
              "      <th>0</th>\n",
              "      <td>Not Available</td>\n",
              "      <td>5</td>\n",
              "    </tr>\n",
              "    <tr>\n",
              "      <th>1</th>\n",
              "      <td>Emergency</td>\n",
              "      <td>1</td>\n",
              "    </tr>\n",
              "    <tr>\n",
              "      <th>2</th>\n",
              "      <td>Emergency</td>\n",
              "      <td>1</td>\n",
              "    </tr>\n",
              "    <tr>\n",
              "      <th>3</th>\n",
              "      <td>Emergency</td>\n",
              "      <td>1</td>\n",
              "    </tr>\n",
              "    <tr>\n",
              "      <th>4</th>\n",
              "      <td>Emergency</td>\n",
              "      <td>1</td>\n",
              "    </tr>\n",
              "    <tr>\n",
              "      <th>...</th>\n",
              "      <td>...</td>\n",
              "      <td>...</td>\n",
              "    </tr>\n",
              "    <tr>\n",
              "      <th>101754</th>\n",
              "      <td>Emergency</td>\n",
              "      <td>1</td>\n",
              "    </tr>\n",
              "    <tr>\n",
              "      <th>101755</th>\n",
              "      <td>Emergency</td>\n",
              "      <td>1</td>\n",
              "    </tr>\n",
              "    <tr>\n",
              "      <th>101756</th>\n",
              "      <td>Emergency</td>\n",
              "      <td>1</td>\n",
              "    </tr>\n",
              "    <tr>\n",
              "      <th>101758</th>\n",
              "      <td>Emergency</td>\n",
              "      <td>1</td>\n",
              "    </tr>\n",
              "    <tr>\n",
              "      <th>101765</th>\n",
              "      <td>Emergency</td>\n",
              "      <td>1</td>\n",
              "    </tr>\n",
              "  </tbody>\n",
              "</table>\n",
              "<p>70434 rows × 2 columns</p>\n",
              "</div>\n",
              "      <button class=\"colab-df-convert\" onclick=\"convertToInteractive('df-f8395edb-29c1-463c-a858-5b3d016012b5')\"\n",
              "              title=\"Convert this dataframe to an interactive table.\"\n",
              "              style=\"display:none;\">\n",
              "        \n",
              "  <svg xmlns=\"http://www.w3.org/2000/svg\" height=\"24px\"viewBox=\"0 0 24 24\"\n",
              "       width=\"24px\">\n",
              "    <path d=\"M0 0h24v24H0V0z\" fill=\"none\"/>\n",
              "    <path d=\"M18.56 5.44l.94 2.06.94-2.06 2.06-.94-2.06-.94-.94-2.06-.94 2.06-2.06.94zm-11 1L8.5 8.5l.94-2.06 2.06-.94-2.06-.94L8.5 2.5l-.94 2.06-2.06.94zm10 10l.94 2.06.94-2.06 2.06-.94-2.06-.94-.94-2.06-.94 2.06-2.06.94z\"/><path d=\"M17.41 7.96l-1.37-1.37c-.4-.4-.92-.59-1.43-.59-.52 0-1.04.2-1.43.59L10.3 9.45l-7.72 7.72c-.78.78-.78 2.05 0 2.83L4 21.41c.39.39.9.59 1.41.59.51 0 1.02-.2 1.41-.59l7.78-7.78 2.81-2.81c.8-.78.8-2.07 0-2.86zM5.41 20L4 18.59l7.72-7.72 1.47 1.35L5.41 20z\"/>\n",
              "  </svg>\n",
              "      </button>\n",
              "      \n",
              "  <style>\n",
              "    .colab-df-container {\n",
              "      display:flex;\n",
              "      flex-wrap:wrap;\n",
              "      gap: 12px;\n",
              "    }\n",
              "\n",
              "    .colab-df-convert {\n",
              "      background-color: #E8F0FE;\n",
              "      border: none;\n",
              "      border-radius: 50%;\n",
              "      cursor: pointer;\n",
              "      display: none;\n",
              "      fill: #1967D2;\n",
              "      height: 32px;\n",
              "      padding: 0 0 0 0;\n",
              "      width: 32px;\n",
              "    }\n",
              "\n",
              "    .colab-df-convert:hover {\n",
              "      background-color: #E2EBFA;\n",
              "      box-shadow: 0px 1px 2px rgba(60, 64, 67, 0.3), 0px 1px 3px 1px rgba(60, 64, 67, 0.15);\n",
              "      fill: #174EA6;\n",
              "    }\n",
              "\n",
              "    [theme=dark] .colab-df-convert {\n",
              "      background-color: #3B4455;\n",
              "      fill: #D2E3FC;\n",
              "    }\n",
              "\n",
              "    [theme=dark] .colab-df-convert:hover {\n",
              "      background-color: #434B5C;\n",
              "      box-shadow: 0px 1px 3px 1px rgba(0, 0, 0, 0.15);\n",
              "      filter: drop-shadow(0px 1px 2px rgba(0, 0, 0, 0.3));\n",
              "      fill: #FFFFFF;\n",
              "    }\n",
              "  </style>\n",
              "\n",
              "      <script>\n",
              "        const buttonEl =\n",
              "          document.querySelector('#df-f8395edb-29c1-463c-a858-5b3d016012b5 button.colab-df-convert');\n",
              "        buttonEl.style.display =\n",
              "          google.colab.kernel.accessAllowed ? 'block' : 'none';\n",
              "\n",
              "        async function convertToInteractive(key) {\n",
              "          const element = document.querySelector('#df-f8395edb-29c1-463c-a858-5b3d016012b5');\n",
              "          const dataTable =\n",
              "            await google.colab.kernel.invokeFunction('convertToInteractive',\n",
              "                                                     [key], {});\n",
              "          if (!dataTable) return;\n",
              "\n",
              "          const docLinkHtml = 'Like what you see? Visit the ' +\n",
              "            '<a target=\"_blank\" href=https://colab.research.google.com/notebooks/data_table.ipynb>data table notebook</a>'\n",
              "            + ' to learn more about interactive tables.';\n",
              "          element.innerHTML = '';\n",
              "          dataTable['output_type'] = 'display_data';\n",
              "          await google.colab.output.renderOutput(dataTable, element);\n",
              "          const docLink = document.createElement('div');\n",
              "          docLink.innerHTML = docLinkHtml;\n",
              "          element.appendChild(docLink);\n",
              "        }\n",
              "      </script>\n",
              "    </div>\n",
              "  </div>\n",
              "  "
            ]
          },
          "metadata": {},
          "execution_count": 49
        }
      ]
    },
    {
      "cell_type": "code",
      "source": [
        "data['admission_source'] = data['admission_source_id'].map(admission_source['description'])\n"
      ],
      "metadata": {
        "id": "IBeUGNKTkBHO"
      },
      "execution_count": 50,
      "outputs": []
    },
    {
      "cell_type": "code",
      "source": [
        "data[['admission_source', 'admission_source_id']]"
      ],
      "metadata": {
        "colab": {
          "base_uri": "https://localhost:8080/",
          "height": 419
        },
        "id": "rdTBagSakES2",
        "outputId": "0bf6ba31-dbb7-493a-9734-6967e5743216"
      },
      "execution_count": 51,
      "outputs": [
        {
          "output_type": "execute_result",
          "data": {
            "text/plain": [
              "           admission_source  admission_source_id\n",
              "0        Physician Referral                    1\n",
              "1            Emergency Room                    7\n",
              "2            Emergency Room                    7\n",
              "3            Emergency Room                    7\n",
              "4            Emergency Room                    7\n",
              "...                     ...                  ...\n",
              "101754       Emergency Room                    7\n",
              "101755       Emergency Room                    7\n",
              "101756       Emergency Room                    7\n",
              "101758       Emergency Room                    7\n",
              "101765       Emergency Room                    7\n",
              "\n",
              "[70434 rows x 2 columns]"
            ],
            "text/html": [
              "\n",
              "  <div id=\"df-f4e86b49-f1bc-41d1-87ff-b3787a2bd5d5\">\n",
              "    <div class=\"colab-df-container\">\n",
              "      <div>\n",
              "<style scoped>\n",
              "    .dataframe tbody tr th:only-of-type {\n",
              "        vertical-align: middle;\n",
              "    }\n",
              "\n",
              "    .dataframe tbody tr th {\n",
              "        vertical-align: top;\n",
              "    }\n",
              "\n",
              "    .dataframe thead th {\n",
              "        text-align: right;\n",
              "    }\n",
              "</style>\n",
              "<table border=\"1\" class=\"dataframe\">\n",
              "  <thead>\n",
              "    <tr style=\"text-align: right;\">\n",
              "      <th></th>\n",
              "      <th>admission_source</th>\n",
              "      <th>admission_source_id</th>\n",
              "    </tr>\n",
              "  </thead>\n",
              "  <tbody>\n",
              "    <tr>\n",
              "      <th>0</th>\n",
              "      <td>Physician Referral</td>\n",
              "      <td>1</td>\n",
              "    </tr>\n",
              "    <tr>\n",
              "      <th>1</th>\n",
              "      <td>Emergency Room</td>\n",
              "      <td>7</td>\n",
              "    </tr>\n",
              "    <tr>\n",
              "      <th>2</th>\n",
              "      <td>Emergency Room</td>\n",
              "      <td>7</td>\n",
              "    </tr>\n",
              "    <tr>\n",
              "      <th>3</th>\n",
              "      <td>Emergency Room</td>\n",
              "      <td>7</td>\n",
              "    </tr>\n",
              "    <tr>\n",
              "      <th>4</th>\n",
              "      <td>Emergency Room</td>\n",
              "      <td>7</td>\n",
              "    </tr>\n",
              "    <tr>\n",
              "      <th>...</th>\n",
              "      <td>...</td>\n",
              "      <td>...</td>\n",
              "    </tr>\n",
              "    <tr>\n",
              "      <th>101754</th>\n",
              "      <td>Emergency Room</td>\n",
              "      <td>7</td>\n",
              "    </tr>\n",
              "    <tr>\n",
              "      <th>101755</th>\n",
              "      <td>Emergency Room</td>\n",
              "      <td>7</td>\n",
              "    </tr>\n",
              "    <tr>\n",
              "      <th>101756</th>\n",
              "      <td>Emergency Room</td>\n",
              "      <td>7</td>\n",
              "    </tr>\n",
              "    <tr>\n",
              "      <th>101758</th>\n",
              "      <td>Emergency Room</td>\n",
              "      <td>7</td>\n",
              "    </tr>\n",
              "    <tr>\n",
              "      <th>101765</th>\n",
              "      <td>Emergency Room</td>\n",
              "      <td>7</td>\n",
              "    </tr>\n",
              "  </tbody>\n",
              "</table>\n",
              "<p>70434 rows × 2 columns</p>\n",
              "</div>\n",
              "      <button class=\"colab-df-convert\" onclick=\"convertToInteractive('df-f4e86b49-f1bc-41d1-87ff-b3787a2bd5d5')\"\n",
              "              title=\"Convert this dataframe to an interactive table.\"\n",
              "              style=\"display:none;\">\n",
              "        \n",
              "  <svg xmlns=\"http://www.w3.org/2000/svg\" height=\"24px\"viewBox=\"0 0 24 24\"\n",
              "       width=\"24px\">\n",
              "    <path d=\"M0 0h24v24H0V0z\" fill=\"none\"/>\n",
              "    <path d=\"M18.56 5.44l.94 2.06.94-2.06 2.06-.94-2.06-.94-.94-2.06-.94 2.06-2.06.94zm-11 1L8.5 8.5l.94-2.06 2.06-.94-2.06-.94L8.5 2.5l-.94 2.06-2.06.94zm10 10l.94 2.06.94-2.06 2.06-.94-2.06-.94-.94-2.06-.94 2.06-2.06.94z\"/><path d=\"M17.41 7.96l-1.37-1.37c-.4-.4-.92-.59-1.43-.59-.52 0-1.04.2-1.43.59L10.3 9.45l-7.72 7.72c-.78.78-.78 2.05 0 2.83L4 21.41c.39.39.9.59 1.41.59.51 0 1.02-.2 1.41-.59l7.78-7.78 2.81-2.81c.8-.78.8-2.07 0-2.86zM5.41 20L4 18.59l7.72-7.72 1.47 1.35L5.41 20z\"/>\n",
              "  </svg>\n",
              "      </button>\n",
              "      \n",
              "  <style>\n",
              "    .colab-df-container {\n",
              "      display:flex;\n",
              "      flex-wrap:wrap;\n",
              "      gap: 12px;\n",
              "    }\n",
              "\n",
              "    .colab-df-convert {\n",
              "      background-color: #E8F0FE;\n",
              "      border: none;\n",
              "      border-radius: 50%;\n",
              "      cursor: pointer;\n",
              "      display: none;\n",
              "      fill: #1967D2;\n",
              "      height: 32px;\n",
              "      padding: 0 0 0 0;\n",
              "      width: 32px;\n",
              "    }\n",
              "\n",
              "    .colab-df-convert:hover {\n",
              "      background-color: #E2EBFA;\n",
              "      box-shadow: 0px 1px 2px rgba(60, 64, 67, 0.3), 0px 1px 3px 1px rgba(60, 64, 67, 0.15);\n",
              "      fill: #174EA6;\n",
              "    }\n",
              "\n",
              "    [theme=dark] .colab-df-convert {\n",
              "      background-color: #3B4455;\n",
              "      fill: #D2E3FC;\n",
              "    }\n",
              "\n",
              "    [theme=dark] .colab-df-convert:hover {\n",
              "      background-color: #434B5C;\n",
              "      box-shadow: 0px 1px 3px 1px rgba(0, 0, 0, 0.15);\n",
              "      filter: drop-shadow(0px 1px 2px rgba(0, 0, 0, 0.3));\n",
              "      fill: #FFFFFF;\n",
              "    }\n",
              "  </style>\n",
              "\n",
              "      <script>\n",
              "        const buttonEl =\n",
              "          document.querySelector('#df-f4e86b49-f1bc-41d1-87ff-b3787a2bd5d5 button.colab-df-convert');\n",
              "        buttonEl.style.display =\n",
              "          google.colab.kernel.accessAllowed ? 'block' : 'none';\n",
              "\n",
              "        async function convertToInteractive(key) {\n",
              "          const element = document.querySelector('#df-f4e86b49-f1bc-41d1-87ff-b3787a2bd5d5');\n",
              "          const dataTable =\n",
              "            await google.colab.kernel.invokeFunction('convertToInteractive',\n",
              "                                                     [key], {});\n",
              "          if (!dataTable) return;\n",
              "\n",
              "          const docLinkHtml = 'Like what you see? Visit the ' +\n",
              "            '<a target=\"_blank\" href=https://colab.research.google.com/notebooks/data_table.ipynb>data table notebook</a>'\n",
              "            + ' to learn more about interactive tables.';\n",
              "          element.innerHTML = '';\n",
              "          dataTable['output_type'] = 'display_data';\n",
              "          await google.colab.output.renderOutput(dataTable, element);\n",
              "          const docLink = document.createElement('div');\n",
              "          docLink.innerHTML = docLinkHtml;\n",
              "          element.appendChild(docLink);\n",
              "        }\n",
              "      </script>\n",
              "    </div>\n",
              "  </div>\n",
              "  "
            ]
          },
          "metadata": {},
          "execution_count": 51
        }
      ]
    },
    {
      "cell_type": "code",
      "source": [
        "data['discharge_disposition'] = data['discharge_disposition_id'].map(discharge['description'])"
      ],
      "metadata": {
        "id": "Ok37G8IhkGLl"
      },
      "execution_count": 52,
      "outputs": []
    },
    {
      "cell_type": "code",
      "source": [
        "data['discharge_disposition']"
      ],
      "metadata": {
        "colab": {
          "base_uri": "https://localhost:8080/"
        },
        "id": "zrBGHHWH4lh2",
        "outputId": "cebe26d8-9c4d-4906-fa1d-4e57f401bb56"
      },
      "execution_count": 53,
      "outputs": [
        {
          "output_type": "execute_result",
          "data": {
            "text/plain": [
              "0                        NaN\n",
              "1         Discharged to home\n",
              "2         Discharged to home\n",
              "3         Discharged to home\n",
              "4         Discharged to home\n",
              "                 ...        \n",
              "101754    Discharged to home\n",
              "101755    Discharged to home\n",
              "101756    Discharged to home\n",
              "101758    Discharged to home\n",
              "101765    Discharged to home\n",
              "Name: discharge_disposition, Length: 70434, dtype: object"
            ]
          },
          "metadata": {},
          "execution_count": 53
        }
      ]
    },
    {
      "cell_type": "code",
      "source": [
        "data['discharge_disposition'].value_counts()"
      ],
      "metadata": {
        "colab": {
          "base_uri": "https://localhost:8080/"
        },
        "id": "mRs2PZ-l4va_",
        "outputId": "e6d48e68-bedc-4ed0-b1e2-e1c5abf89d2a"
      },
      "execution_count": 54,
      "outputs": [
        {
          "output_type": "execute_result",
          "data": {
            "text/plain": [
              "Discharged to home                                                                         52931\n",
              "Discharged/transferred to another short term hospital                                      13690\n",
              "Left AMA                                                                                     409\n",
              "Discharged/transferred to a federal health care facility.                                     90\n",
              "Neonate discharged to another hospital for neonatal aftercare                                 59\n",
              "Discharged/transferred to another Type of Health Care Institution not Defined Elsewhere        3\n",
              "Name: discharge_disposition, dtype: int64"
            ]
          },
          "metadata": {},
          "execution_count": 54
        }
      ]
    },
    {
      "cell_type": "code",
      "source": [
        "data.shape"
      ],
      "metadata": {
        "colab": {
          "base_uri": "https://localhost:8080/"
        },
        "id": "T7KeehK7kIzj",
        "outputId": "86b28715-f9f1-4c95-dc68-c6f4170be8ea"
      },
      "execution_count": 55,
      "outputs": [
        {
          "output_type": "execute_result",
          "data": {
            "text/plain": [
              "(70434, 49)"
            ]
          },
          "metadata": {},
          "execution_count": 55
        }
      ]
    },
    {
      "cell_type": "markdown",
      "source": [
        "lets analyse each and every feature one by one : lets remove them"
      ],
      "metadata": {
        "id": "kFltpP6nkUAf"
      }
    },
    {
      "cell_type": "code",
      "source": [
        "print(\"number of entries for gender= \", len((data['gender'])))  \n",
        "print(\"number of unique entries for gender= \", len(np.unique(data['gender'])))\n",
        "print(data['gender'].value_counts())"
      ],
      "metadata": {
        "colab": {
          "base_uri": "https://localhost:8080/"
        },
        "id": "9s-JOHgNrQfQ",
        "outputId": "7f8da2d8-6fd1-45d8-e7b0-99a59f7bce75"
      },
      "execution_count": 56,
      "outputs": [
        {
          "output_type": "stream",
          "name": "stdout",
          "text": [
            "number of entries for gender=  70434\n",
            "number of unique entries for gender=  3\n",
            "Female             37468\n",
            "Male               32963\n",
            "Unknown/Invalid        3\n",
            "Name: gender, dtype: int64\n"
          ]
        }
      ]
    },
    {
      "cell_type": "code",
      "source": [
        "data.drop(data[data.gender == 'Unknown/Invalid'].index, inplace = True)"
      ],
      "metadata": {
        "id": "I54gOq_4kNHY"
      },
      "execution_count": 57,
      "outputs": []
    },
    {
      "cell_type": "code",
      "source": [
        "print(\"number of entries for gender= \", len((data['gender'])))  \n",
        "print(\"number of unique entries for gender= \", len(np.unique(data['gender'])))\n",
        "print(data['gender'].value_counts())"
      ],
      "metadata": {
        "colab": {
          "base_uri": "https://localhost:8080/"
        },
        "id": "HE3gOS7lrpJC",
        "outputId": "b3fe9c4f-10da-409b-ffcc-6e8b12515bae"
      },
      "execution_count": 58,
      "outputs": [
        {
          "output_type": "stream",
          "name": "stdout",
          "text": [
            "number of entries for gender=  70431\n",
            "number of unique entries for gender=  2\n",
            "Female    37468\n",
            "Male      32963\n",
            "Name: gender, dtype: int64\n"
          ]
        }
      ]
    },
    {
      "cell_type": "code",
      "source": [
        "data.shape"
      ],
      "metadata": {
        "colab": {
          "base_uri": "https://localhost:8080/"
        },
        "id": "6QBEAastkRLC",
        "outputId": "4a75c984-1e09-4ec2-e4f2-b151d2e0eae0"
      },
      "execution_count": 59,
      "outputs": [
        {
          "output_type": "execute_result",
          "data": {
            "text/plain": [
              "(70431, 49)"
            ]
          },
          "metadata": {},
          "execution_count": 59
        }
      ]
    },
    {
      "cell_type": "markdown",
      "source": [
        "Glucose Serum test : A blood glucose test is used to find out if your blood sugar levels are in the healthy range. It is often used to help diagnose and monitor diabetes.\n",
        "\n",
        "'>200' : 200 = indicates diabetes '>300' : 300 = Indicates diabetes 'Norm' : 100 = Normal 'None' : 0 = test was not taken"
      ],
      "metadata": {
        "id": "NFi1uGfAkdTf"
      }
    },
    {
      "cell_type": "code",
      "source": [
        "print(\"number of entries for max_glu_serum= \", len((data['max_glu_serum'])))  \n",
        "print(\"number of unique entries for max_glu_serum= \", len(np.unique(data['max_glu_serum'])))\n",
        "print(data['max_glu_serum'].value_counts())  "
      ],
      "metadata": {
        "colab": {
          "base_uri": "https://localhost:8080/"
        },
        "id": "ZqwLI-j_kh0A",
        "outputId": "06dee1c2-8e56-4d9c-8d5b-4afa62af1208"
      },
      "execution_count": 60,
      "outputs": [
        {
          "output_type": "stream",
          "name": "stdout",
          "text": [
            "number of entries for max_glu_serum=  70431\n",
            "number of unique entries for max_glu_serum=  4\n",
            "None    67046\n",
            "Norm     1717\n",
            ">200      946\n",
            ">300      722\n",
            "Name: max_glu_serum, dtype: int64\n"
          ]
        }
      ]
    },
    {
      "cell_type": "code",
      "source": [
        "data['max_glu_serum'] = data['max_glu_serum'].apply(lambda x : 200 if x == '>200' \n",
        "                                                            else ( 300 if x == '>300'                                                          \n",
        "                                                            else ( 100 if x == 'Norm'\n",
        "                                                            else  0)))"
      ],
      "metadata": {
        "id": "oL52FIyFkXak"
      },
      "execution_count": 61,
      "outputs": []
    },
    {
      "cell_type": "code",
      "source": [
        "print(\"number of entries for max_glu_serum= \", len((data['max_glu_serum'])))  \n",
        "print(\"number of unique entries for max_glu_serum= \", len(np.unique(data['max_glu_serum'])))  \n",
        "print(data['max_glu_serum'].value_counts())  "
      ],
      "metadata": {
        "colab": {
          "base_uri": "https://localhost:8080/"
        },
        "id": "P6ywWzFdkgPP",
        "outputId": "dcfc1576-9ceb-46f4-c680-53634887915e"
      },
      "execution_count": 62,
      "outputs": [
        {
          "output_type": "stream",
          "name": "stdout",
          "text": [
            "number of entries for max_glu_serum=  70431\n",
            "number of unique entries for max_glu_serum=  4\n",
            "0      67046\n",
            "100     1717\n",
            "200      946\n",
            "300      722\n",
            "Name: max_glu_serum, dtype: int64\n"
          ]
        }
      ]
    },
    {
      "cell_type": "markdown",
      "source": [
        "A1C test : An A1C test is a blood test that reflects your average blood glucose levels over the past 3 months\n",
        "\n",
        "'>7' : 7 '>8' : 8 Norm : 5 = Normal None : 0 = Test was not taken"
      ],
      "metadata": {
        "id": "sz4chHbTk_0a"
      }
    },
    {
      "cell_type": "code",
      "source": [
        "print(\"number of entries for A1Cresult= \", len((data['A1Cresult'])))  \n",
        "print(\"number of unique entries for A1Cresult= \", len(np.unique(data['A1Cresult'])))\n",
        "print(data['A1Cresult'].value_counts())  "
      ],
      "metadata": {
        "colab": {
          "base_uri": "https://localhost:8080/"
        },
        "id": "Lsns1XqikxMW",
        "outputId": "99b266a1-da0d-420d-ca72-88e291add2a4"
      },
      "execution_count": 63,
      "outputs": [
        {
          "output_type": "stream",
          "name": "stdout",
          "text": [
            "number of entries for A1Cresult=  70431\n",
            "number of unique entries for A1Cresult=  4\n",
            "None    57553\n",
            ">8       6249\n",
            "Norm     3757\n",
            ">7       2872\n",
            "Name: A1Cresult, dtype: int64\n"
          ]
        }
      ]
    },
    {
      "cell_type": "code",
      "source": [
        "data['A1Cresult'] = data['A1Cresult'].apply(lambda x : 7 if x == '>7' \n",
        "                                                         else (8 if  x == '>8'                                                        \n",
        "                                                         else ( 5 if x == 'Norm'\n",
        "                                                         else  0)))"
      ],
      "metadata": {
        "id": "O1f_n7J5lGsR"
      },
      "execution_count": 64,
      "outputs": []
    },
    {
      "cell_type": "code",
      "source": [
        "print(\"number of entries for A1Cresult= \", len((data['A1Cresult'])))  \n",
        "print(\"number of unique entries for A1Cresult= \", len(np.unique(data['A1Cresult'])))  \n",
        "print(data['A1Cresult'].value_counts())"
      ],
      "metadata": {
        "colab": {
          "base_uri": "https://localhost:8080/"
        },
        "id": "dAM5lmYNlJjo",
        "outputId": "70c96344-92f7-4022-a39b-40373ff6e196"
      },
      "execution_count": 65,
      "outputs": [
        {
          "output_type": "stream",
          "name": "stdout",
          "text": [
            "number of entries for A1Cresult=  70431\n",
            "number of unique entries for A1Cresult=  4\n",
            "0    57553\n",
            "8     6249\n",
            "5     3757\n",
            "7     2872\n",
            "Name: A1Cresult, dtype: int64\n"
          ]
        }
      ]
    },
    {
      "cell_type": "code",
      "source": [
        "print(\"number of entries for change= \", len((data['change'])))  \n",
        "print(\"number of unique entries for change= \", len(np.unique(data['change'])))  \n",
        "print(data['change'].value_counts())"
      ],
      "metadata": {
        "colab": {
          "base_uri": "https://localhost:8080/"
        },
        "id": "NuZVwNkxlLjl",
        "outputId": "1ae04113-f42b-423b-b7bc-660d7f0aabed"
      },
      "execution_count": 66,
      "outputs": [
        {
          "output_type": "stream",
          "name": "stdout",
          "text": [
            "number of entries for change=  70431\n",
            "number of unique entries for change=  2\n",
            "No    38769\n",
            "Ch    31662\n",
            "Name: change, dtype: int64\n"
          ]
        }
      ]
    },
    {
      "cell_type": "code",
      "source": [
        "data['change'] = data['change'].apply(lambda x : 1 if x == 'Ch'\n",
        "                                                 else -1)"
      ],
      "metadata": {
        "id": "ml8ulu4ilXuu"
      },
      "execution_count": 67,
      "outputs": []
    },
    {
      "cell_type": "code",
      "source": [
        "print(\"number of entries for change= \", len((data['change'])))  \n",
        "print(\"number of unique entries for change= \", len(np.unique(data['change'])))  \n",
        "print(data['change'].value_counts())"
      ],
      "metadata": {
        "colab": {
          "base_uri": "https://localhost:8080/"
        },
        "id": "l9NzX9JXlaFy",
        "outputId": "508c1805-46b6-4e80-c339-a1d3967b9b85"
      },
      "execution_count": 68,
      "outputs": [
        {
          "output_type": "stream",
          "name": "stdout",
          "text": [
            "number of entries for change=  70431\n",
            "number of unique entries for change=  2\n",
            "-1    38769\n",
            " 1    31662\n",
            "Name: change, dtype: int64\n"
          ]
        }
      ]
    },
    {
      "cell_type": "code",
      "source": [
        "print(\"number of entries for diabetesMed= \", len((data['diabetesMed'])))  \n",
        "print(\"number of unique entries for diabetesMed= \", len(np.unique(data['diabetesMed'])))  \n",
        "print(data['diabetesMed'].value_counts())"
      ],
      "metadata": {
        "colab": {
          "base_uri": "https://localhost:8080/"
        },
        "id": "Ze0JKcIqlyzS",
        "outputId": "e35650c3-711d-4938-dae9-828426055a36"
      },
      "execution_count": 69,
      "outputs": [
        {
          "output_type": "stream",
          "name": "stdout",
          "text": [
            "number of entries for diabetesMed=  70431\n",
            "number of unique entries for diabetesMed=  2\n",
            "Yes    53606\n",
            "No     16825\n",
            "Name: diabetesMed, dtype: int64\n"
          ]
        }
      ]
    },
    {
      "cell_type": "code",
      "source": [
        "data['diabetesMed'] = data['diabetesMed'].apply(lambda x : -1 if x == 'No'\n",
        "                                                else 1)"
      ],
      "metadata": {
        "id": "YjdPnouglqHa"
      },
      "execution_count": 70,
      "outputs": []
    },
    {
      "cell_type": "code",
      "source": [
        "print(\"number of entries for diabetesMed= \", len((data['diabetesMed'])))  \n",
        "print(\"number of unique entries for diabetesMed= \", len(np.unique(data['diabetesMed'])))  \n",
        "print(data['diabetesMed'].value_counts())"
      ],
      "metadata": {
        "colab": {
          "base_uri": "https://localhost:8080/"
        },
        "id": "LRbquC-8l44J",
        "outputId": "b9793c8e-cf98-4de4-bb4d-35302d4c80a7"
      },
      "execution_count": 71,
      "outputs": [
        {
          "output_type": "stream",
          "name": "stdout",
          "text": [
            "number of entries for diabetesMed=  70431\n",
            "number of unique entries for diabetesMed=  2\n",
            " 1    53606\n",
            "-1    16825\n",
            "Name: diabetesMed, dtype: int64\n"
          ]
        }
      ]
    },
    {
      "cell_type": "code",
      "source": [
        "print(\"number of entries for race= \", len((data['race'])))  \n",
        "print(\"number of unique entries for race= \", len(np.unique(data['race'])))  \n",
        "print(data['race'].value_counts())"
      ],
      "metadata": {
        "colab": {
          "base_uri": "https://localhost:8080/"
        },
        "id": "-jat-zB7mO6l",
        "outputId": "fc06f41c-0685-4957-9f6f-283604a39905"
      },
      "execution_count": 72,
      "outputs": [
        {
          "output_type": "stream",
          "name": "stdout",
          "text": [
            "number of entries for race=  70431\n",
            "number of unique entries for race=  6\n",
            "Caucasian          52663\n",
            "AfricanAmerican    12692\n",
            "?                   1919\n",
            "Hispanic            1506\n",
            "Other               1160\n",
            "Asian                491\n",
            "Name: race, dtype: int64\n"
          ]
        }
      ]
    },
    {
      "cell_type": "code",
      "source": [
        "data['race'] = data['race'].apply(lambda x : np.nan if x == '?' else x)\n",
        "data[\"race\"].fillna(data[\"race\"].mode()[0], inplace = True)"
      ],
      "metadata": {
        "id": "RYxzEg-El7eL"
      },
      "execution_count": 73,
      "outputs": []
    },
    {
      "cell_type": "code",
      "source": [
        "print(\"number of entries for race= \", len((data['race'])))  \n",
        "print(\"number of unique entries for race= \", len(np.unique(data['race'])))  \n",
        "print(data['race'].value_counts())"
      ],
      "metadata": {
        "colab": {
          "base_uri": "https://localhost:8080/"
        },
        "id": "BmPqI2PrmKXQ",
        "outputId": "12c83eda-5207-4497-fec1-3e1d236e5648"
      },
      "execution_count": 74,
      "outputs": [
        {
          "output_type": "stream",
          "name": "stdout",
          "text": [
            "number of entries for race=  70431\n",
            "number of unique entries for race=  5\n",
            "Caucasian          54582\n",
            "AfricanAmerican    12692\n",
            "Hispanic            1506\n",
            "Other               1160\n",
            "Asian                491\n",
            "Name: race, dtype: int64\n"
          ]
        }
      ]
    },
    {
      "cell_type": "code",
      "source": [
        "columns_with_missed_values = data[['race']]\n",
        "t = PrettyTable(['Column Name', 'Missing Values', 'Missing Percentage'])\n",
        "for col in columns_with_missed_values.columns :\n",
        "    lenn = len(data[data[col] == '?'])\n",
        "    t.add_row([col,lenn,lenn / len(data)])\n",
        "print(t)"
      ],
      "metadata": {
        "colab": {
          "base_uri": "https://localhost:8080/"
        },
        "id": "ax5_MBARmYop",
        "outputId": "0bb5af39-bd46-400f-c2e8-2e8e09d0a88d"
      },
      "execution_count": 75,
      "outputs": [
        {
          "output_type": "stream",
          "name": "stdout",
          "text": [
            "+-------------+----------------+--------------------+\n",
            "| Column Name | Missing Values | Missing Percentage |\n",
            "+-------------+----------------+--------------------+\n",
            "|     race    |       0        |        0.0         |\n",
            "+-------------+----------------+--------------------+\n"
          ]
        }
      ]
    },
    {
      "cell_type": "code",
      "source": [
        "data.shape"
      ],
      "metadata": {
        "colab": {
          "base_uri": "https://localhost:8080/"
        },
        "id": "MpbOmDsEmqIY",
        "outputId": "3f024fce-4ee3-451f-f051-4d9fb31ba276"
      },
      "execution_count": 76,
      "outputs": [
        {
          "output_type": "execute_result",
          "data": {
            "text/plain": [
              "(70431, 49)"
            ]
          },
          "metadata": {},
          "execution_count": 76
        }
      ]
    },
    {
      "cell_type": "code",
      "source": [
        "data.drop(columns=['admission_type_id', 'admission_source_id', 'discharge_disposition_id'], inplace=True)"
      ],
      "metadata": {
        "id": "RIetoRS1mu8q"
      },
      "execution_count": 77,
      "outputs": []
    },
    {
      "cell_type": "code",
      "source": [
        "data.shape"
      ],
      "metadata": {
        "colab": {
          "base_uri": "https://localhost:8080/"
        },
        "id": "JX3BHZipmv-B",
        "outputId": "694e07eb-c435-483b-9475-03180a490540"
      },
      "execution_count": 78,
      "outputs": [
        {
          "output_type": "execute_result",
          "data": {
            "text/plain": [
              "(70431, 46)"
            ]
          },
          "metadata": {},
          "execution_count": 78
        }
      ]
    },
    {
      "cell_type": "markdown",
      "source": [
        "6.1) Using Domain knowledge on Medical Speciality Feature :\n",
        "\n",
        "After research we found that medical_specialty is important feature however it has too many distinct values so when we apply one hot encoding it will unnecessarily create lots of features. To group them into smaller number of categories we used frequency based approach and domain knowledge like all kind of surgeons should be placed under ‘surgeon’ category. We failed to group below medical specialty so we grouped them into ‘ungrouped’ category.\n",
        "\n",
        "Endocrinology →glands\n",
        "Gastroenterology →stomach\n",
        "Gynecology →women reproduction system\n",
        "Hematology →Blood\n",
        "Hematology/Oncology →Blood\n",
        "Hospitalist →one who takes care of admitted patients\n",
        "Oncology →cancer\n",
        "Ophthalmology →eye\n",
        "otolaryngology →ears\n",
        "nose, and throat\n",
        "Pulmonology →respiratory\n",
        "Radiology — diagnosing and treating injuries and diseases using medical imaging (radiology) procedures (exams/tests) such as X-rays"
      ],
      "metadata": {
        "id": "fU1JVWGym0hE"
      }
    },
    {
      "cell_type": "code",
      "source": [
        "print(\"number of entries for medical_specialty= \", len((data['medical_specialty'])))  \n",
        "print(\"number of unique entries for medical_specialty= \", len(np.unique(data['medical_specialty'])))  \n",
        "print(data['medical_specialty'].value_counts())"
      ],
      "metadata": {
        "colab": {
          "base_uri": "https://localhost:8080/"
        },
        "id": "tEVp3SCKm0K6",
        "outputId": "4f518588-725b-4541-9ddf-a6678f3c0688"
      },
      "execution_count": 79,
      "outputs": [
        {
          "output_type": "stream",
          "name": "stdout",
          "text": [
            "number of entries for medical_specialty=  70431\n",
            "number of unique entries for medical_specialty=  71\n",
            "?                                   33935\n",
            "InternalMedicine                    10707\n",
            "Family/GeneralPractice               5012\n",
            "Emergency/Trauma                     4406\n",
            "Cardiology                           4219\n",
            "                                    ...  \n",
            "SportsMedicine                          1\n",
            "Dermatology                             1\n",
            "Proctology                              1\n",
            "Surgery-PlasticwithinHeadandNeck        1\n",
            "Resident                                1\n",
            "Name: medical_specialty, Length: 71, dtype: int64\n"
          ]
        }
      ]
    },
    {
      "cell_type": "code",
      "source": [
        "columns_with_missed_values = data[['medical_specialty']]\n",
        "t = PrettyTable(['Column Name', 'Missing Values', 'Missing Percentage'])\n",
        "for col in columns_with_missed_values.columns :\n",
        "    lenn = len(data[data[col] == '?'])\n",
        "    t.add_row([col,lenn,lenn / len(data)])\n",
        "print(t)"
      ],
      "metadata": {
        "colab": {
          "base_uri": "https://localhost:8080/"
        },
        "id": "HO3qOJ4Nmw_5",
        "outputId": "fd592dc9-437c-44b2-fc55-a2f37870df89"
      },
      "execution_count": 80,
      "outputs": [
        {
          "output_type": "stream",
          "name": "stdout",
          "text": [
            "+-------------------+----------------+--------------------+\n",
            "|    Column Name    | Missing Values | Missing Percentage |\n",
            "+-------------------+----------------+--------------------+\n",
            "| medical_specialty |     33935      | 0.4818190853459414 |\n",
            "+-------------------+----------------+--------------------+\n"
          ]
        }
      ]
    },
    {
      "cell_type": "code",
      "source": [
        "high_frequency = ['InternalMedicine', 'Family/GeneralPractice', 'Cardiology', 'Surgery-General', 'Orthopedics', 'Orthopedics-Reconstructive', \n",
        "                 'Emergency/Trauma', 'Urology','ObstetricsandGynecology','Psychiatry','Pulmonology ','Nephrology','Radiologist']\n",
        "\n",
        "low_frequency = ['Surgery-PlasticwithinHeadandNeck','Psychiatry-Addictive','Proctology','Dermatology','SportsMedicine','Speech','Perinatology',\\\n",
        "                'Neurophysiology','Resident','Pediatrics-Hematology-Oncology','Pediatrics-EmergencyMedicine','Dentistry','DCPTEAM','Psychiatry-Child/Adolescent',\\\n",
        "                'Pediatrics-Pulmonology','Surgery-Pediatric','AllergyandImmunology','Pediatrics-Neurology','Anesthesiology','Pathology','Cardiology-Pediatric',\\\n",
        "                'Endocrinology-Metabolism','PhysicianNotFound','Surgery-Colon&Rectal','OutreachServices',\\\n",
        "                'Surgery-Maxillofacial','Rheumatology','Anesthesiology-Pediatric','Obstetrics','Obsterics&Gynecology-GynecologicOnco']\n",
        "\n",
        "pediatrics = ['Pediatrics','Pediatrics-CriticalCare','Pediatrics-EmergencyMedicine','Pediatrics-Endocrinology','Pediatrics-Hematology-Oncology',\\\n",
        "               'Pediatrics-Neurology','Pediatrics-Pulmonology', 'Anesthesiology-Pediatric', 'Cardiology-Pediatric', 'Surgery-Pediatric']\n",
        "\n",
        "psychic = ['Psychiatry-Addictive', 'Psychology', 'Psychiatry',  'Psychiatry-Child/Adolescent', 'PhysicalMedicineandRehabilitation', 'Osteopath']\n",
        "\n",
        "\n",
        "neurology = ['Neurology', 'Surgery-Neuro',  'Pediatrics-Neurology', 'Neurophysiology']\n",
        "\n",
        "\n",
        "surgery = ['Surgeon', 'Surgery-Cardiovascular', \\\n",
        "          'Surgery-Cardiovascular/Thoracic', 'Surgery-Colon&Rectal', 'Surgery-General', 'Surgery-Maxillofacial', \\\n",
        "             'Surgery-Plastic', 'Surgery-PlasticwithinHeadandNeck',  'Surgery-Thoracic',\\\n",
        "             'Surgery-Vascular', 'SurgicalSpecialty', 'Podiatry']\n",
        "             \n",
        "ungrouped = ['Endocrinology','Gastroenterology','Gynecology','Hematology','Hematology/Oncology','Hospitalist','InfectiousDiseases',\\\n",
        "           'Oncology','Ophthalmology','Otolaryngology','Pulmonology','Radiology']"
      ],
      "metadata": {
        "id": "lSZ4ZScGnaE1"
      },
      "execution_count": 81,
      "outputs": []
    },
    {
      "cell_type": "code",
      "source": [
        "missing = ['?']\n",
        "\n",
        "colMedical = []\n",
        "\n",
        "for val in data['medical_specialty'] :\n",
        "    if val in pediatrics :\n",
        "        colMedical.append('pediatrics')\n",
        "    elif val in psychic :\n",
        "        colMedical.append('psychic')\n",
        "    elif val in neurology :\n",
        "        colMedical.append('neurology')\n",
        "    elif val in surgery :\n",
        "        colMedical.append('surgery')\n",
        "    elif val in high_frequency :\n",
        "        colMedical.append('high_freq')\n",
        "    elif val in low_frequency :\n",
        "        colMedical.append('low_freq')\n",
        "    elif val in ungrouped :\n",
        "        colMedical.append('ungrouped')\n",
        "    elif val in missing :\n",
        "        colMedical.append('missing')"
      ],
      "metadata": {
        "id": "r7g-Lkt1nIQq"
      },
      "execution_count": 82,
      "outputs": []
    },
    {
      "cell_type": "code",
      "source": [
        "data['medical_specialty'] = colMedical"
      ],
      "metadata": {
        "id": "JyQlH7WVnmQ6"
      },
      "execution_count": 83,
      "outputs": []
    },
    {
      "cell_type": "code",
      "source": [
        "print(\"number of entries for medical_specialty= \", len((data['medical_specialty'])))  \n",
        "print(\"number of unique entries for medical_specialty= \", len(np.unique(data['medical_specialty'])))  \n",
        "print(data['medical_specialty'].value_counts())"
      ],
      "metadata": {
        "colab": {
          "base_uri": "https://localhost:8080/"
        },
        "id": "x7_x-bN9nTIu",
        "outputId": "0195642d-f69f-4c99-ca44-b91fe3f4d1d2"
      },
      "execution_count": 84,
      "outputs": [
        {
          "output_type": "stream",
          "name": "stdout",
          "text": [
            "number of entries for medical_specialty=  70431\n",
            "number of unique entries for medical_specialty=  8\n",
            "missing       33935\n",
            "high_freq     29264\n",
            "surgery        3408\n",
            "ungrouped      1786\n",
            "psychic         904\n",
            "neurology       573\n",
            "pediatrics      460\n",
            "low_freq        101\n",
            "Name: medical_specialty, dtype: int64\n"
          ]
        }
      ]
    },
    {
      "cell_type": "code",
      "source": [
        "columns_with_missed_values = data[['medical_specialty']]\n",
        "t = PrettyTable(['Column Name', 'Missing Values', 'Missing Percentage'])\n",
        "for col in columns_with_missed_values.columns :\n",
        "    lenn = len(data[data[col] == '?'])\n",
        "    t.add_row([col,lenn,lenn / len(data)])\n",
        "print(t)"
      ],
      "metadata": {
        "colab": {
          "base_uri": "https://localhost:8080/"
        },
        "id": "ds4Qe5I3niqU",
        "outputId": "f628458b-7450-43c6-a1d8-c8f3158f3e00"
      },
      "execution_count": 85,
      "outputs": [
        {
          "output_type": "stream",
          "name": "stdout",
          "text": [
            "+-------------------+----------------+--------------------+\n",
            "|    Column Name    | Missing Values | Missing Percentage |\n",
            "+-------------------+----------------+--------------------+\n",
            "| medical_specialty |       0        |        0.0         |\n",
            "+-------------------+----------------+--------------------+\n"
          ]
        }
      ]
    },
    {
      "cell_type": "code",
      "source": [
        "# List categorical and numeric features\n",
        "categorical_feat = []\n",
        "numerical_feat = []\n",
        "\n",
        "for col in data.columns:\n",
        "    if data[col].dtype == 'object':\n",
        "        categorical_feat.append(col)\n",
        "    elif 'id' in col:\n",
        "        categorical_feat.append(col)\n",
        "    elif data[col].dtype == 'int64':\n",
        "        numerical_feat.append(col)"
      ],
      "metadata": {
        "id": "qaYKi7_XnwMc"
      },
      "execution_count": 86,
      "outputs": []
    },
    {
      "cell_type": "code",
      "source": [
        "categorical_feat"
      ],
      "metadata": {
        "colab": {
          "base_uri": "https://localhost:8080/"
        },
        "id": "DQGvnZEFn0y4",
        "outputId": "269e8ea1-8a57-4e22-ac46-50ad18eefa8e"
      },
      "execution_count": 87,
      "outputs": [
        {
          "output_type": "execute_result",
          "data": {
            "text/plain": [
              "['race',\n",
              " 'gender',\n",
              " 'medical_specialty',\n",
              " 'metformin',\n",
              " 'repaglinide',\n",
              " 'nateglinide',\n",
              " 'chlorpropamide',\n",
              " 'glimepiride',\n",
              " 'acetohexamide',\n",
              " 'glipizide',\n",
              " 'glyburide',\n",
              " 'tolbutamide',\n",
              " 'pioglitazone',\n",
              " 'rosiglitazone',\n",
              " 'acarbose',\n",
              " 'miglitol',\n",
              " 'troglitazone',\n",
              " 'tolazamide',\n",
              " 'examide',\n",
              " 'citoglipton',\n",
              " 'insulin',\n",
              " 'glyburide-metformin',\n",
              " 'glipizide-metformin',\n",
              " 'glimepiride-pioglitazone',\n",
              " 'metformin-rosiglitazone',\n",
              " 'metformin-pioglitazone',\n",
              " 'readmitted',\n",
              " 'diag_1_desc',\n",
              " 'diag_2_desc',\n",
              " 'diag_3_desc',\n",
              " 'admission_type',\n",
              " 'admission_source',\n",
              " 'discharge_disposition']"
            ]
          },
          "metadata": {},
          "execution_count": 87
        }
      ]
    },
    {
      "cell_type": "code",
      "source": [
        "len(categorical_feat)"
      ],
      "metadata": {
        "colab": {
          "base_uri": "https://localhost:8080/"
        },
        "id": "s7RO2JO5oFUJ",
        "outputId": "66a6bacd-d01b-4b0e-b74f-bb126c969cab"
      },
      "execution_count": 88,
      "outputs": [
        {
          "output_type": "execute_result",
          "data": {
            "text/plain": [
              "33"
            ]
          },
          "metadata": {},
          "execution_count": 88
        }
      ]
    },
    {
      "cell_type": "code",
      "source": [
        "# Bar - categorical\n",
        "for i in categorical_feat:\n",
        "    plt.rcParams.update({'figure.max_open_warning': 0})\n",
        "    plt.figure(i)\n",
        "    plt.title(i)\n",
        "    data[i].value_counts().plot(kind='bar')\n",
        "\n",
        "# A1C: 83% not tested\n",
        "# Glucose serum: 95% not testes\n",
        "# big % not tested but almost 50% changed meds; what diagnoses?\n",
        "# big % not tested but 77% are prescribed diabetes medications"
      ],
      "metadata": {
        "colab": {
          "base_uri": "https://localhost:8080/",
          "height": 1000
        },
        "id": "S6_CvQGr8gy2",
        "outputId": "a0efd181-1ec0-4aea-84ff-620891efd750"
      },
      "execution_count": 89,
      "outputs": [
        {
          "output_type": "display_data",
          "data": {
            "text/plain": [
              "<Figure size 432x288 with 1 Axes>"
            ],
            "image/png": "[encoded data removed]"
          },
          "metadata": {
            "needs_background": "light"
          }
        },
        {
          "output_type": "display_data",
          "data": {
            "text/plain": [
              "<Figure size 432x288 with 1 Axes>"
            ],
            "image/png": "[encoded data removed]"
          },
          "metadata": {
            "needs_background": "light"
          }
        },
        {
          "output_type": "display_data",
          "data": {
            "text/plain": [
              "<Figure size 432x288 with 1 Axes>"
            ],
            "image/png": "[encoded data removed]"
          },
          "metadata": {
            "needs_background": "light"
          }
        },
        {
          "output_type": "display_data",
          "data": {
            "text/plain": [
              "<Figure size 432x288 with 1 Axes>"
            ],
            "image/png": "[encoded data removed]"
          },
          "metadata": {
            "needs_background": "light"
          }
        },
        {
          "output_type": "display_data",
          "data": {
            "text/plain": [
              "<Figure size 432x288 with 1 Axes>"
            ],
            "image/png": "[encoded data removed]"
          },
          "metadata": {
            "needs_background": "light"
          }
        },
        {
          "output_type": "display_data",
          "data": {
            "text/plain": [
              "<Figure size 432x288 with 1 Axes>"
            ],
            "image/png": "[encoded data removed]"
          },
          "metadata": {
            "needs_background": "light"
          }
        },
        {
          "output_type": "display_data",
          "data": {
            "text/plain": [
              "<Figure size 432x288 with 1 Axes>"
            ],
            "image/png": "[encoded data removed]"
          },
          "metadata": {
            "needs_background": "light"
          }
        },
        {
          "output_type": "display_data",
          "data": {
            "text/plain": [
              "<Figure size 432x288 with 1 Axes>"
            ],
            "image/png": "[encoded data removed]"
          },
          "metadata": {
            "needs_background": "light"
          }
        },
        {
          "output_type": "display_data",
          "data": {
            "text/plain": [
              "<Figure size 432x288 with 1 Axes>"
            ],
            "image/png": "[encoded data removed]"
          },
          "metadata": {
            "needs_background": "light"
          }
        },
        {
          "output_type": "display_data",
          "data": {
            "text/plain": [
              "<Figure size 432x288 with 1 Axes>"
            ],
            "image/png": "[encoded data removed]"
          },
          "metadata": {
            "needs_background": "light"
          }
        },
        {
          "output_type": "display_data",
          "data": {
            "text/plain": [
              "<Figure size 432x288 with 1 Axes>"
            ],
            "image/png": "[encoded data removed]"
          },
          "metadata": {
            "needs_background": "light"
          }
        },
        {
          "output_type": "display_data",
          "data": {
            "text/plain": [
              "<Figure size 432x288 with 1 Axes>"
            ],
            "image/png": "[encoded data removed]"
          },
          "metadata": {
            "needs_background": "light"
          }
        },
        {
          "output_type": "display_data",
          "data": {
            "text/plain": [
              "<Figure size 432x288 with 1 Axes>"
            ],
            "image/png": "[encoded data removed]"
          },
          "metadata": {
            "needs_background": "light"
          }
        },
        {
          "output_type": "display_data",
          "data": {
            "text/plain": [
              "<Figure size 432x288 with 1 Axes>"
            ],
            "image/png": "[encoded data removed]"
          },
          "metadata": {
            "needs_background": "light"
          }
        },
        {
          "output_type": "display_data",
          "data": {
            "text/plain": [
              "<Figure size 432x288 with 1 Axes>"
            ],
            "image/png": "[encoded data removed]"
          },
          "metadata": {
            "needs_background": "light"
          }
        },
        {
          "output_type": "display_data",
          "data": {
            "text/plain": [
              "<Figure size 432x288 with 1 Axes>"
            ],
            "image/png": "[encoded data removed]"
          },
          "metadata": {
            "needs_background": "light"
          }
        },
        {
          "output_type": "display_data",
          "data": {
            "text/plain": [
              "<Figure size 432x288 with 1 Axes>"
            ],
            "image/png": "[encoded data removed]"
          },
          "metadata": {
            "needs_background": "light"
          }
        },
        {
          "output_type": "display_data",
          "data": {
            "text/plain": [
              "<Figure size 432x288 with 1 Axes>"
            ],
            "image/png": "[encoded data removed]"
          },
          "metadata": {
            "needs_background": "light"
          }
        },
        {
          "output_type": "display_data",
          "data": {
            "text/plain": [
              "<Figure size 432x288 with 1 Axes>"
            ],
            "image/png": "[encoded data removed]"
          },
          "metadata": {
            "needs_background": "light"
          }
        },
        {
          "output_type": "display_data",
          "data": {
            "text/plain": [
              "<Figure size 432x288 with 1 Axes>"
            ],
            "image/png": "[encoded data removed]"
          },
          "metadata": {
            "needs_background": "light"
          }
        },
        {
          "output_type": "display_data",
          "data": {
            "text/plain": [
              "<Figure size 432x288 with 1 Axes>"
            ],
            "image/png": "[encoded data removed]"
          },
          "metadata": {
            "needs_background": "light"
          }
        },
        {
          "output_type": "display_data",
          "data": {
            "text/plain": [
              "<Figure size 432x288 with 1 Axes>"
            ],
            "image/png": "[encoded data removed]"
          },
          "metadata": {
            "needs_background": "light"
          }
        },
        {
          "output_type": "display_data",
          "data": {
            "text/plain": [
              "<Figure size 432x288 with 1 Axes>"
            ],
            "image/png": "[encoded data removed]"
          },
          "metadata": {
            "needs_background": "light"
          }
        },
        {
          "output_type": "display_data",
          "data": {
            "text/plain": [
              "<Figure size 432x288 with 1 Axes>"
            ],
            "image/png": "[encoded data removed]"
          },
          "metadata": {
            "needs_background": "light"
          }
        },
        {
          "output_type": "display_data",
          "data": {
            "text/plain": [
              "<Figure size 432x288 with 1 Axes>"
            ],
            "image/png": "[encoded data removed]"
          },
          "metadata": {
            "needs_background": "light"
          }
        },
        {
          "output_type": "display_data",
          "data": {
            "text/plain": [
              "<Figure size 432x288 with 1 Axes>"
            ],
            "image/png": "[encoded data removed]"
          },
          "metadata": {
            "needs_background": "light"
          }
        },
        {
          "output_type": "display_data",
          "data": {
            "text/plain": [
              "<Figure size 432x288 with 1 Axes>"
            ],
            "image/png": "[encoded data removed]"
          },
          "metadata": {
            "needs_background": "light"
          }
        },
        {
          "output_type": "display_data",
          "data": {
            "text/plain": [
              "<Figure size 432x288 with 1 Axes>"
            ],
            "image/png": "[encoded data removed]"
          },
          "metadata": {
            "needs_background": "light"
          }
        },
        {
          "output_type": "display_data",
          "data": {
            "text/plain": [
              "<Figure size 432x288 with 1 Axes>"
            ],
            "image/png": "[encoded data removed]"
          },
          "metadata": {
            "needs_background": "light"
          }
        },
        {
          "output_type": "display_data",
          "data": {
            "text/plain": [
              "<Figure size 432x288 with 1 Axes>"
            ],
            "image/png": "[encoded data removed]"
          },
          "metadata": {
            "needs_background": "light"
          }
        },
        {
          "output_type": "display_data",
          "data": {
            "text/plain": [
              "<Figure size 432x288 with 1 Axes>"
            ],
            "image/png": "[encoded data removed]"
          },
          "metadata": {
            "needs_background": "light"
          }
        },
        {
          "output_type": "display_data",
          "data": {
            "text/plain": [
              "<Figure size 432x288 with 1 Axes>"
            ],
            "image/png": "[encoded data removed]"
          },
          "metadata": {
            "needs_background": "light"
          }
        },
        {
          "output_type": "display_data",
          "data": {
            "text/plain": [
              "<Figure size 432x288 with 1 Axes>"
            ],
            "image/png": "[encoded data removed]"
          },
          "metadata": {
            "needs_background": "light"
          }
        }
      ]
    },
    {
      "cell_type": "code",
      "source": [
        "numerical_feat"
      ],
      "metadata": {
        "colab": {
          "base_uri": "https://localhost:8080/"
        },
        "id": "_ZMP5X0e8qeM",
        "outputId": "8086b1d6-169c-4755-8dca-48cd6ba454a4"
      },
      "execution_count": 90,
      "outputs": [
        {
          "output_type": "execute_result",
          "data": {
            "text/plain": [
              "['age',\n",
              " 'time_in_hospital',\n",
              " 'num_lab_procedures',\n",
              " 'num_procedures',\n",
              " 'num_medications',\n",
              " 'number_outpatient',\n",
              " 'number_emergency',\n",
              " 'number_inpatient',\n",
              " 'number_diagnoses',\n",
              " 'max_glu_serum',\n",
              " 'A1Cresult',\n",
              " 'change',\n",
              " 'diabetesMed']"
            ]
          },
          "metadata": {},
          "execution_count": 90
        }
      ]
    },
    {
      "cell_type": "code",
      "source": [
        "len(numerical_feat)"
      ],
      "metadata": {
        "colab": {
          "base_uri": "https://localhost:8080/"
        },
        "id": "bi4j01D_8zAr",
        "outputId": "8ce2b260-7349-401f-a3ee-836038d17496"
      },
      "execution_count": 91,
      "outputs": [
        {
          "output_type": "execute_result",
          "data": {
            "text/plain": [
              "13"
            ]
          },
          "metadata": {},
          "execution_count": 91
        }
      ]
    },
    {
      "cell_type": "code",
      "source": [
        "# Bar - categorical\n",
        "for i in numerical_feat:\n",
        "    plt.rcParams.update({'figure.max_open_warning': 0})\n",
        "    plt.figure(i)\n",
        "    plt.title(i)\n",
        "    data[i].value_counts().plot(kind='bar')\n",
        "\n",
        "# A1C: 83% not tested\n",
        "# Glucose serum: 95% not testes\n",
        "# big % not tested but almost 50% changed meds; what diagnoses?\n",
        "# big % not tested but 77% are prescribed diabetes medications"
      ],
      "metadata": {
        "colab": {
          "base_uri": "https://localhost:8080/",
          "height": 1000
        },
        "id": "uoYJYYzR88Rn",
        "outputId": "affb0087-f28b-4c4d-c6c0-29fe5830a427"
      },
      "execution_count": 92,
      "outputs": [
        {
          "output_type": "display_data",
          "data": {
            "text/plain": [
              "<Figure size 432x288 with 1 Axes>"
            ],
            "image/png": "[encoded data removed]"
          },
          "metadata": {
            "needs_background": "light"
          }
        },
        {
          "output_type": "display_data",
          "data": {
            "text/plain": [
              "<Figure size 432x288 with 1 Axes>"
            ],
            "image/png": "[encoded data removed]"
          },
          "metadata": {
            "needs_background": "light"
          }
        },
        {
          "output_type": "display_data",
          "data": {
            "text/plain": [
              "<Figure size 432x288 with 1 Axes>"
            ],
            "image/png": "[encoded data removed]"
          },
          "metadata": {
            "needs_background": "light"
          }
        },
        {
          "output_type": "display_data",
          "data": {
            "text/plain": [
              "<Figure size 432x288 with 1 Axes>"
            ],
            "image/png": "[encoded data removed]"
          },
          "metadata": {
            "needs_background": "light"
          }
        },
        {
          "output_type": "display_data",
          "data": {
            "text/plain": [
              "<Figure size 432x288 with 1 Axes>"
            ],
            "image/png": "[encoded data removed]"
          },
          "metadata": {
            "needs_background": "light"
          }
        },
        {
          "output_type": "display_data",
          "data": {
            "text/plain": [
              "<Figure size 432x288 with 1 Axes>"
            ],
            "image/png": "[encoded data removed]"
          },
          "metadata": {
            "needs_background": "light"
          }
        },
        {
          "output_type": "display_data",
          "data": {
            "text/plain": [
              "<Figure size 432x288 with 1 Axes>"
            ],
            "image/png": "[encoded data removed]"
          },
          "metadata": {
            "needs_background": "light"
          }
        },
        {
          "output_type": "display_data",
          "data": {
            "text/plain": [
              "<Figure size 432x288 with 1 Axes>"
            ],
            "image/png": "[encoded data removed]"
          },
          "metadata": {
            "needs_background": "light"
          }
        },
        {
          "output_type": "display_data",
          "data": {
            "text/plain": [
              "<Figure size 432x288 with 1 Axes>"
            ],
            "image/png": "[encoded data removed]"
          },
          "metadata": {
            "needs_background": "light"
          }
        },
        {
          "output_type": "display_data",
          "data": {
            "text/plain": [
              "<Figure size 432x288 with 1 Axes>"
            ],
            "image/png": "[encoded data removed]"
          },
          "metadata": {
            "needs_background": "light"
          }
        },
        {
          "output_type": "display_data",
          "data": {
            "text/plain": [
              "<Figure size 432x288 with 1 Axes>"
            ],
            "image/png": "[encoded data removed]"
          },
          "metadata": {
            "needs_background": "light"
          }
        },
        {
          "output_type": "display_data",
          "data": {
            "text/plain": [
              "<Figure size 432x288 with 1 Axes>"
            ],
            "image/png": "[encoded data removed]"
          },
          "metadata": {
            "needs_background": "light"
          }
        },
        {
          "output_type": "display_data",
          "data": {
            "text/plain": [
              "<Figure size 432x288 with 1 Axes>"
            ],
            "image/png": "[encoded data removed]"
          },
          "metadata": {
            "needs_background": "light"
          }
        }
      ]
    },
    {
      "cell_type": "code",
      "source": [
        "rejected_features = []\n",
        "for col in categorical_feat:\n",
        "    rho , pval = scipy.stats.spearmanr(data['readmitted'], data[col])\n",
        "    print(col, rho, pval)\n",
        "    \n",
        "\n",
        "print('\\n\\n')\n",
        "for col in categorical_feat:\n",
        "    rho , pval = scipy.stats.spearmanr(data['readmitted'], data[col])\n",
        "    if pval < 0.4 : \n",
        "        print(col, 'is significant')\n",
        "    else : \n",
        "        print(col, 'is not significant')\n",
        "        rejected_features.append(col)\n",
        "\n",
        "rejected_features.remove('discharge_disposition')\n",
        "print(rejected_features)\n",
        "## lets remove rejected_features\n",
        "data.drop(rejected_features, axis = 1, inplace=True)"
      ],
      "metadata": {
        "colab": {
          "base_uri": "https://localhost:8080/"
        },
        "id": "BZcC_d23o2cz",
        "outputId": "ef9b5cf8-8c5c-4a01-8ec6-bf0b90ab83ba"
      },
      "execution_count": 93,
      "outputs": [
        {
          "output_type": "stream",
          "name": "stdout",
          "text": [
            "race -0.0056930216776534285 0.13082735764567194\n",
            "gender 0.015207461749188637 5.435965568314954e-05\n",
            "medical_specialty 0.0003131693531934016 0.9337640436064796\n",
            "metformin 0.022281542689072738 3.3411697625448246e-09\n",
            "repaglinide -0.021595125497127762 9.945112266553787e-09\n",
            "nateglinide -0.003605434400493811 0.3386547964799904\n",
            "chlorpropamide -0.0013294131214496322 0.7242348537760817\n",
            "glimepiride -0.0007267309783378537 0.8470665993443142\n",
            "acetohexamide -0.003791400641516911 0.31432923753633707\n",
            "glipizide -0.020623639175723112 4.405869901071218e-08\n",
            "glyburide -0.0051329602568039425 0.17313071278812506\n",
            "tolbutamide 0.0018519647679088576 0.6230858239143404\n",
            "pioglitazone -0.0111034557191278 0.003211152525857049\n",
            "rosiglitazone -0.01968313661479235 1.7501424961250147e-07\n",
            "acarbose -0.00929070562182101 0.013676302823463946\n",
            "miglitol -0.005250246444981802 0.16351719721882754\n",
            "troglitazone -0.00262378419144524 0.4862342646322352\n",
            "tolazamide 0.0036183467842155095 0.33692772504819735\n",
            "examide nan nan\n",
            "citoglipton nan nan\n",
            "insulin -0.006118787206959166 0.10440964196933537\n",
            "glyburide-metformin -0.001337594474119754 0.7226076395321017\n",
            "glipizide-metformin -0.002287004617991554 0.5438943776689569\n",
            "glimepiride-pioglitazone nan nan\n",
            "metformin-rosiglitazone 0.004296889709232522 0.25414897438881245\n",
            "metformin-pioglitazone 0.0030383382812639247 0.42005417135820766\n",
            "readmitted 1.0 0.0\n",
            "diag_1_desc 0.020170268866841944 8.631444229294361e-08\n",
            "diag_2_desc 0.013355196870072942 0.00039349370485375617\n",
            "diag_3_desc 0.005366026516898814 0.15442732709555762\n",
            "admission_type -0.06016925202422057 1.6944206738146752e-57\n",
            "admission_source 0.06676217881053574 2.1575007023807965e-70\n",
            "discharge_disposition nan nan\n",
            "\n",
            "\n",
            "\n",
            "race is significant\n",
            "gender is significant\n",
            "medical_specialty is not significant\n",
            "metformin is significant\n",
            "repaglinide is significant\n",
            "nateglinide is significant\n",
            "chlorpropamide is not significant\n",
            "glimepiride is not significant\n",
            "acetohexamide is significant\n",
            "glipizide is significant\n",
            "glyburide is significant\n",
            "tolbutamide is not significant\n",
            "pioglitazone is significant\n",
            "rosiglitazone is significant\n",
            "acarbose is significant\n",
            "miglitol is significant\n",
            "troglitazone is not significant\n",
            "tolazamide is significant\n",
            "examide is not significant\n",
            "citoglipton is not significant\n",
            "insulin is significant\n",
            "glyburide-metformin is not significant\n",
            "glipizide-metformin is not significant\n",
            "glimepiride-pioglitazone is not significant\n",
            "metformin-rosiglitazone is significant\n",
            "metformin-pioglitazone is not significant\n",
            "readmitted is significant\n",
            "diag_1_desc is significant\n",
            "diag_2_desc is significant\n",
            "diag_3_desc is significant\n",
            "admission_type is significant\n",
            "admission_source is significant\n",
            "discharge_disposition is not significant\n",
            "['medical_specialty', 'chlorpropamide', 'glimepiride', 'tolbutamide', 'troglitazone', 'examide', 'citoglipton', 'glyburide-metformin', 'glipizide-metformin', 'glimepiride-pioglitazone', 'metformin-pioglitazone']\n"
          ]
        }
      ]
    },
    {
      "cell_type": "code",
      "source": [
        "numerical_feat"
      ],
      "metadata": {
        "colab": {
          "base_uri": "https://localhost:8080/"
        },
        "id": "T9f3IdMWn97T",
        "outputId": "640d8ac8-1251-47b6-8b33-b060882ed623"
      },
      "execution_count": 94,
      "outputs": [
        {
          "output_type": "execute_result",
          "data": {
            "text/plain": [
              "['age',\n",
              " 'time_in_hospital',\n",
              " 'num_lab_procedures',\n",
              " 'num_procedures',\n",
              " 'num_medications',\n",
              " 'number_outpatient',\n",
              " 'number_emergency',\n",
              " 'number_inpatient',\n",
              " 'number_diagnoses',\n",
              " 'max_glu_serum',\n",
              " 'A1Cresult',\n",
              " 'change',\n",
              " 'diabetesMed']"
            ]
          },
          "metadata": {},
          "execution_count": 94
        }
      ]
    },
    {
      "cell_type": "code",
      "source": [
        "len(numerical_feat)"
      ],
      "metadata": {
        "colab": {
          "base_uri": "https://localhost:8080/"
        },
        "id": "E79-XZoPoBLD",
        "outputId": "af5bed2b-0570-4c87-e1f4-35d7c1abbfee"
      },
      "execution_count": 95,
      "outputs": [
        {
          "output_type": "execute_result",
          "data": {
            "text/plain": [
              "13"
            ]
          },
          "metadata": {},
          "execution_count": 95
        }
      ]
    },
    {
      "cell_type": "code",
      "source": [
        "rejected_features = []\n",
        "for col in numerical_feat:\n",
        "    rho , pval = scipy.stats.spearmanr(data['readmitted'], data[col])\n",
        "    print(col, rho, pval)\n",
        "    \n",
        "\n",
        "print('\\n\\n')\n",
        "for col in numerical_feat:\n",
        "    rho , pval = scipy.stats.spearmanr(data['readmitted'], data[col])\n",
        "    if pval < 0.4 : \n",
        "        print(col, 'is significant')\n",
        "    else : \n",
        "        print(col, 'is not significant')\n",
        "        rejected_features.append(col)\n",
        "\n",
        "#rejected_features.remove('max_glu_serum')\n",
        "#rejected_features.remove('A1Cresult')\n",
        "print(rejected_features)\n",
        "## lets remove rejected_features\n",
        "data.drop(rejected_features, axis = 1, inplace=True)"
      ],
      "metadata": {
        "colab": {
          "base_uri": "https://localhost:8080/"
        },
        "id": "cF6bCPOGoQ4e",
        "outputId": "308e3f2d-6790-47d8-f710-9a386418f161"
      },
      "execution_count": 96,
      "outputs": [
        {
          "output_type": "stream",
          "name": "stdout",
          "text": [
            "age -0.07429678582673846 8.954111224319551e-87\n",
            "time_in_hospital -0.07379883754980403 1.2272882383771764e-85\n",
            "num_lab_procedures -0.05609698877436465 3.347612421210297e-50\n",
            "num_procedures 0.02478765771921836 4.7282484355105157e-11\n",
            "num_medications -0.06365929179245991 3.714800263687477e-64\n",
            "number_outpatient -0.07997419682499037 2.7859885033461646e-100\n",
            "number_emergency -0.08702137158913922 1.9221892391523947e-118\n",
            "number_inpatient -0.14978698985912295 0.0\n",
            "number_diagnoses -0.10244492657140511 1.3016114001998071e-163\n",
            "max_glu_serum -0.01839692130200671 1.0466641223705332e-06\n",
            "A1Cresult 0.019212578630065952 3.411361276730968e-07\n",
            "change -0.03625615041915929 6.273436384129365e-22\n",
            "diabetesMed -0.061321611132351524 1.1798102813483178e-59\n",
            "\n",
            "\n",
            "\n",
            "age is significant\n",
            "time_in_hospital is significant\n",
            "num_lab_procedures is significant\n",
            "num_procedures is significant\n",
            "num_medications is significant\n",
            "number_outpatient is significant\n",
            "number_emergency is significant\n",
            "number_inpatient is significant\n",
            "number_diagnoses is significant\n",
            "max_glu_serum is significant\n",
            "A1Cresult is significant\n",
            "change is significant\n",
            "diabetesMed is significant\n",
            "[]\n"
          ]
        }
      ]
    },
    {
      "cell_type": "code",
      "source": [
        "# for numeric variables with 0 values\n",
        "num_col_z = ['num_procedures','number_outpatient','number_emergency','number_inpatient']\n",
        "\n",
        "for i in num_col_z:\n",
        "    print(i + ': ' + str(data[data[i]==0].shape))\n",
        "    n = data[i].replace(0, np.NaN)\n",
        "    print(n.describe())\n",
        "    print('\\n')"
      ],
      "metadata": {
        "colab": {
          "base_uri": "https://localhost:8080/"
        },
        "id": "QBPo2hPcz6EL",
        "outputId": "6397c797-1550-4630-be38-4b620537b483"
      },
      "execution_count": 97,
      "outputs": [
        {
          "output_type": "stream",
          "name": "stdout",
          "text": [
            "num_procedures: (31075, 35)\n",
            "count    39356.000000\n",
            "mean         2.544898\n",
            "std          1.629044\n",
            "min          1.000000\n",
            "25%          1.000000\n",
            "50%          2.000000\n",
            "75%          3.000000\n",
            "max          6.000000\n",
            "Name: num_procedures, dtype: float64\n",
            "\n",
            "\n",
            "number_outpatient: (61243, 35)\n",
            "count    9188.000000\n",
            "mean        2.147148\n",
            "std         2.163680\n",
            "min         1.000000\n",
            "25%         1.000000\n",
            "50%         1.000000\n",
            "75%         3.000000\n",
            "max        42.000000\n",
            "Name: number_outpatient, dtype: float64\n",
            "\n",
            "\n",
            "number_emergency: (65299, 35)\n",
            "count    5132.000000\n",
            "mean        1.425370\n",
            "std         1.304865\n",
            "min         1.000000\n",
            "25%         1.000000\n",
            "50%         1.000000\n",
            "75%         1.000000\n",
            "max        42.000000\n",
            "Name: number_emergency, dtype: float64\n",
            "\n",
            "\n",
            "number_inpatient: (62166, 35)\n",
            "count    8265.000000\n",
            "mean        1.507199\n",
            "std         1.047043\n",
            "min         1.000000\n",
            "25%         1.000000\n",
            "50%         1.000000\n",
            "75%         2.000000\n",
            "max        12.000000\n",
            "Name: number_inpatient, dtype: float64\n",
            "\n",
            "\n"
          ]
        }
      ]
    },
    {
      "cell_type": "code",
      "source": [
        "# List categorical and numeric features\n",
        "categorical_feat = []\n",
        "numerical_feat = []\n",
        "\n",
        "for col in data.columns:\n",
        "    if data[col].dtype == 'object':\n",
        "        categorical_feat.append(col)\n",
        "    elif 'id' in col:\n",
        "        categorical_feat.append(col)\n",
        "    elif data[col].dtype == 'int64':\n",
        "        numerical_feat.append(col)"
      ],
      "metadata": {
        "id": "GlR7k7tn1b5d"
      },
      "execution_count": 98,
      "outputs": []
    },
    {
      "cell_type": "code",
      "source": [
        "categorical_feat"
      ],
      "metadata": {
        "colab": {
          "base_uri": "https://localhost:8080/"
        },
        "id": "bca8h0F4ABZt",
        "outputId": "495e5208-7049-4c43-80a7-10d4ab1ae389"
      },
      "execution_count": 99,
      "outputs": [
        {
          "output_type": "execute_result",
          "data": {
            "text/plain": [
              "['race',\n",
              " 'gender',\n",
              " 'metformin',\n",
              " 'repaglinide',\n",
              " 'nateglinide',\n",
              " 'acetohexamide',\n",
              " 'glipizide',\n",
              " 'glyburide',\n",
              " 'pioglitazone',\n",
              " 'rosiglitazone',\n",
              " 'acarbose',\n",
              " 'miglitol',\n",
              " 'tolazamide',\n",
              " 'insulin',\n",
              " 'metformin-rosiglitazone',\n",
              " 'readmitted',\n",
              " 'diag_1_desc',\n",
              " 'diag_2_desc',\n",
              " 'diag_3_desc',\n",
              " 'admission_type',\n",
              " 'admission_source',\n",
              " 'discharge_disposition']"
            ]
          },
          "metadata": {},
          "execution_count": 99
        }
      ]
    },
    {
      "cell_type": "code",
      "source": [
        "len(categorical_feat)"
      ],
      "metadata": {
        "colab": {
          "base_uri": "https://localhost:8080/"
        },
        "id": "e4AF9fQZAEdx",
        "outputId": "0b030700-3d9c-4540-86ae-e9827d4d1df7"
      },
      "execution_count": 101,
      "outputs": [
        {
          "output_type": "execute_result",
          "data": {
            "text/plain": [
              "22"
            ]
          },
          "metadata": {},
          "execution_count": 101
        }
      ]
    },
    {
      "cell_type": "code",
      "source": [
        "numerical_feat"
      ],
      "metadata": {
        "colab": {
          "base_uri": "https://localhost:8080/"
        },
        "id": "qFdri-8HAHzl",
        "outputId": "14aee7a2-b843-4f28-dbce-2072843b4900"
      },
      "execution_count": 102,
      "outputs": [
        {
          "output_type": "execute_result",
          "data": {
            "text/plain": [
              "['age',\n",
              " 'time_in_hospital',\n",
              " 'num_lab_procedures',\n",
              " 'num_procedures',\n",
              " 'num_medications',\n",
              " 'number_outpatient',\n",
              " 'number_emergency',\n",
              " 'number_inpatient',\n",
              " 'number_diagnoses',\n",
              " 'max_glu_serum',\n",
              " 'A1Cresult',\n",
              " 'change',\n",
              " 'diabetesMed']"
            ]
          },
          "metadata": {},
          "execution_count": 102
        }
      ]
    },
    {
      "cell_type": "code",
      "source": [
        "len(numerical_feat)"
      ],
      "metadata": {
        "colab": {
          "base_uri": "https://localhost:8080/"
        },
        "id": "I6QcB3arANi3",
        "outputId": "2b492efe-72a5-4448-9705-8ff11cf3583b"
      },
      "execution_count": 103,
      "outputs": [
        {
          "output_type": "execute_result",
          "data": {
            "text/plain": [
              "13"
            ]
          },
          "metadata": {},
          "execution_count": 103
        }
      ]
    },
    {
      "cell_type": "code",
      "source": [
        "plt.figure()\n",
        "plt.title('Patients readmission')\n",
        "data['readmitted'].value_counts().plot(kind='bar',color=['#6EAE9B','#D08B47','#D9B608'])"
      ],
      "metadata": {
        "colab": {
          "base_uri": "https://localhost:8080/",
          "height": 309
        },
        "id": "PiJjstn-AQx3",
        "outputId": "8953f386-6e1a-487d-9fb1-3b60e224025c"
      },
      "execution_count": 104,
      "outputs": [
        {
          "output_type": "execute_result",
          "data": {
            "text/plain": [
              "<matplotlib.axes._subplots.AxesSubplot at 0x7f25830e4e90>"
            ]
          },
          "metadata": {},
          "execution_count": 104
        },
        {
          "output_type": "display_data",
          "data": {
            "text/plain": [
              "<Figure size 432x288 with 1 Axes>"
            ],
            "image/png": "[encoded data removed]"
          },
          "metadata": {
            "needs_background": "light"
          }
        }
      ]
    },
    {
      "cell_type": "code",
      "source": [
        "# % of categ features\n",
        "for i in categorical_feat:\n",
        "    a = data.groupby([i]).size().reset_index(name='counts')\n",
        "    a['pcts'] = round((a['counts']/a['counts'].sum() * 100),2)\n",
        "    print(a)"
      ],
      "metadata": {
        "colab": {
          "base_uri": "https://localhost:8080/"
        },
        "id": "NhdWf6Y4AUA8",
        "outputId": "f03db577-4821-4b51-f0c5-c2dc60968766"
      },
      "execution_count": 105,
      "outputs": [
        {
          "output_type": "stream",
          "name": "stdout",
          "text": [
            "              race  counts   pcts\n",
            "0  AfricanAmerican   12692  18.02\n",
            "1            Asian     491   0.70\n",
            "2        Caucasian   54582  77.50\n",
            "3         Hispanic    1506   2.14\n",
            "4            Other    1160   1.65\n",
            "   gender  counts  pcts\n",
            "0  Female   37468  53.2\n",
            "1    Male   32963  46.8\n",
            "  metformin  counts   pcts\n",
            "0      Down     435   0.62\n",
            "1        No   55497  78.80\n",
            "2    Steady   13661  19.40\n",
            "3        Up     838   1.19\n",
            "  repaglinide  counts   pcts\n",
            "0        Down      29   0.04\n",
            "1          No   69509  98.69\n",
            "2      Steady     820   1.16\n",
            "3          Up      73   0.10\n",
            "  nateglinide  counts   pcts\n",
            "0        Down       8   0.01\n",
            "1          No   69938  99.30\n",
            "2      Steady     469   0.67\n",
            "3          Up      16   0.02\n",
            "  acetohexamide  counts   pcts\n",
            "0            No   70430  100.0\n",
            "1        Steady       1    0.0\n",
            "  glipizide  counts   pcts\n",
            "0      Down     375   0.53\n",
            "1        No   61382  87.15\n",
            "2    Steady    8099  11.50\n",
            "3        Up     575   0.82\n",
            "  glyburide  counts   pcts\n",
            "0      Down     419   0.59\n",
            "1        No   62622  88.91\n",
            "2    Steady    6773   9.62\n",
            "3        Up     617   0.88\n",
            "  pioglitazone  counts   pcts\n",
            "0         Down      81   0.12\n",
            "1           No   65151  92.50\n",
            "2       Steady    5021   7.13\n",
            "3           Up     178   0.25\n",
            "  rosiglitazone  counts   pcts\n",
            "0          Down      75   0.11\n",
            "1            No   65756  93.36\n",
            "2        Steady    4467   6.34\n",
            "3            Up     133   0.19\n",
            "  acarbose  counts   pcts\n",
            "0       No   70230  99.71\n",
            "1   Steady     191   0.27\n",
            "2       Up      10   0.01\n",
            "  miglitol  counts   pcts\n",
            "0     Down       1   0.00\n",
            "1       No   70411  99.97\n",
            "2   Steady      18   0.03\n",
            "3       Up       1   0.00\n",
            "  tolazamide  counts   pcts\n",
            "0         No   70401  99.96\n",
            "1     Steady      30   0.04\n",
            "  insulin  counts   pcts\n",
            "0    Down    7371  10.47\n",
            "1      No   34456  48.92\n",
            "2  Steady   21779  30.92\n",
            "3      Up    6825   9.69\n",
            "  metformin-rosiglitazone  counts   pcts\n",
            "0                      No   70429  100.0\n",
            "1                  Steady       2    0.0\n",
            "  readmitted  counts   pcts\n",
            "0        <30    6293   8.93\n",
            "1        >30   22240  31.58\n",
            "2         NO   41898  59.49\n",
            "       diag_1_desc  counts   pcts\n",
            "0      Circulatory   21508  30.54\n",
            "1         Diabetes    5766   8.19\n",
            "2        Digestive    6512   9.25\n",
            "3    Genitourinary    3477   4.94\n",
            "4           Injury    4702   6.68\n",
            "5  Musculoskeletal    4071   5.78\n",
            "6        Neoplasms    2658   3.77\n",
            "7            Other   12172  17.28\n",
            "8      Respiratory    9565  13.58\n",
            "       diag_2_desc  counts   pcts\n",
            "0      Circulatory   22193  31.51\n",
            "1         Diabetes   10004  14.20\n",
            "2        Digestive    2872   4.08\n",
            "3    Genitourinary    5380   7.64\n",
            "4           Injury    1826   2.59\n",
            "5  Musculoskeletal    1296   1.84\n",
            "6        Neoplasms    1684   2.39\n",
            "7            Other   18185  25.82\n",
            "8      Respiratory    6991   9.93\n",
            "       diag_3_desc  counts   pcts\n",
            "0      Circulatory   20968  29.77\n",
            "1         Diabetes   13802  19.60\n",
            "2        Digestive    2717   3.86\n",
            "3    Genitourinary    4095   5.81\n",
            "4           Injury    1413   2.01\n",
            "5  Musculoskeletal    1372   1.95\n",
            "6        Neoplasms    1217   1.73\n",
            "7            Other   20143  28.60\n",
            "8      Respiratory    4704   6.68\n",
            "  admission_type  counts   pcts\n",
            "0       Elective   13834  19.64\n",
            "1      Emergency   48645  69.07\n",
            "2        Newborn       9   0.01\n",
            "3  Not Available    7943  11.28\n",
            "           admission_source  counts   pcts\n",
            "0     Court/Law Enforcement      11   0.02\n",
            "1            Emergency Room   37561  53.33\n",
            "2             Not Available    5106   7.25\n",
            "3        Physician Referral   22893  32.50\n",
            "4           Normal Delivery       4   0.01\n",
            "5  Transfer from a hospital    4856   6.89\n",
            "                               discharge_disposition  counts   pcts\n",
            "0                                 Discharged to home   52929  78.79\n",
            "1  Discharged/transferred to a federal health car...      90   0.13\n",
            "2  Discharged/transferred to another Type of Heal...       3   0.00\n",
            "3  Discharged/transferred to another short term h...   13689  20.38\n",
            "4                                           Left AMA     409   0.61\n",
            "5  Neonate discharged to another hospital for neo...      59   0.09\n"
          ]
        }
      ]
    },
    {
      "cell_type": "code",
      "source": [
        "# Get counts for each readmitted, diagnosis 1 desc\n",
        "data_diag_cnt = data.groupby(['readmitted', 'diag_1_desc']).size().reset_index(name='counts')\n",
        "data_diag_cnt = data_diag_cnt[data_diag_cnt['readmitted']=='<30']\n",
        "data_diag_cnt1 = data_diag_cnt['counts'].tolist()\n",
        "\n",
        "data_diag_cnt = data.groupby(['readmitted', 'diag_1_desc']).size().reset_index(name='counts')\n",
        "data_diag_cnt = data_diag_cnt[data_diag_cnt['readmitted']=='>30']\n",
        "data_diag_cnt2 = data_diag_cnt['counts'].tolist()\n",
        "\n",
        "data_diag_cnt = data.groupby(['readmitted', 'diag_1_desc']).size().reset_index(name='counts')\n",
        "data_diag_cnt = data_diag_cnt[data_diag_cnt['readmitted']=='NO']\n",
        "data_diag_cnt3 = data_diag_cnt['counts'].tolist()\n",
        "#df_diag_cnt"
      ],
      "metadata": {
        "id": "EFJ-QzRBAZAQ"
      },
      "execution_count": 106,
      "outputs": []
    },
    {
      "cell_type": "code",
      "source": [
        "# Plot Readmission vs Primary Diagnosis\n",
        "data1 = data[['diag_1_desc','readmitted']]\n",
        "data1\n",
        "\n",
        "fig,ax = plt.subplots()\n",
        "fig.set_size_inches(15, 8)\n",
        "\n",
        "# set width of bar\n",
        "barWidth = 0.25\n",
        " \n",
        "# set height of bar\n",
        "bars1 = data_diag_cnt1\n",
        "bars2 = data_diag_cnt2\n",
        "bars3 = data_diag_cnt3\n",
        " \n",
        "# Set position of bar on X axis\n",
        "r1 = np.arange(len(bars1))\n",
        "r2 = [x + barWidth for x in r1]\n",
        "r3 = [x + barWidth for x in r2]\n",
        "\n",
        "# Make the plot\n",
        "plt.bar(r1, bars1, color='#7f6d5f', width=barWidth, edgecolor='white', label='<30')\n",
        "plt.bar(r2, bars2, color='#557f2d', width=barWidth, edgecolor='white', label='>30')\n",
        "plt.bar(r3, bars3, color='#2d7f5e', width=barWidth, edgecolor='white', label='NO')\n",
        " \n",
        "# Add xticks on the middle of the group bars\n",
        "plt.xlabel('Primary Diagnosis', fontweight='bold')\n",
        "plt.xticks([r + barWidth for r in range(len(bars1))], ['Circulatory', 'Diabetes', 'Digestive', 'Genitourinary', 'Injury',\n",
        "                                                      'Musculoskeletal','Neoplasms','Other','Respiratory'])\n",
        " \n",
        "# Create legend & Show graphic\n",
        "plt.legend()\n",
        "plt.show()"
      ],
      "metadata": {
        "colab": {
          "base_uri": "https://localhost:8080/",
          "height": 497
        },
        "id": "4Fs4HG8XAem1",
        "outputId": "832b2928-bb13-41b2-a7d4-d9aaaab1df7f"
      },
      "execution_count": 107,
      "outputs": [
        {
          "output_type": "display_data",
          "data": {
            "text/plain": [
              "<Figure size 1080x576 with 1 Axes>"
            ],
            "image/png": "[encoded data removed]"
          },
          "metadata": {
            "needs_background": "light"
          }
        }
      ]
    },
    {
      "cell_type": "code",
      "source": [
        "# Number of patients per readmitted ind and primary diagnosis\n",
        "data_diag_cnt = data.groupby(['readmitted', 'diag_1_desc']).size().reset_index(name='counts')\n",
        "data_diag_cnt"
      ],
      "metadata": {
        "colab": {
          "base_uri": "https://localhost:8080/",
          "height": 886
        },
        "id": "ZzME8InkAhnv",
        "outputId": "676fac43-c777-4466-c486-64c25a434c5f"
      },
      "execution_count": 108,
      "outputs": [
        {
          "output_type": "execute_result",
          "data": {
            "text/plain": [
              "   readmitted      diag_1_desc  counts\n",
              "0         <30      Circulatory    2079\n",
              "1         <30         Diabetes     525\n",
              "2         <30        Digestive     522\n",
              "3         <30    Genitourinary     311\n",
              "4         <30           Injury     506\n",
              "5         <30  Musculoskeletal     341\n",
              "6         <30        Neoplasms     231\n",
              "7         <30            Other    1087\n",
              "8         <30      Respiratory     691\n",
              "9         >30      Circulatory    7039\n",
              "10        >30         Diabetes    1940\n",
              "11        >30        Digestive    2049\n",
              "12        >30    Genitourinary    1028\n",
              "13        >30           Injury    1337\n",
              "14        >30  Musculoskeletal    1106\n",
              "15        >30        Neoplasms     600\n",
              "16        >30            Other    3772\n",
              "17        >30      Respiratory    3369\n",
              "18         NO      Circulatory   12390\n",
              "19         NO         Diabetes    3301\n",
              "20         NO        Digestive    3941\n",
              "21         NO    Genitourinary    2138\n",
              "22         NO           Injury    2859\n",
              "23         NO  Musculoskeletal    2624\n",
              "24         NO        Neoplasms    1827\n",
              "25         NO            Other    7313\n",
              "26         NO      Respiratory    5505"
            ],
            "text/html": [
              "\n",
              "  <div id=\"df-dd63546b-8705-4428-b010-bbd776ac30cb\">\n",
              "    <div class=\"colab-df-container\">\n",
              "      <div>\n",
              "<style scoped>\n",
              "    .dataframe tbody tr th:only-of-type {\n",
              "        vertical-align: middle;\n",
              "    }\n",
              "\n",
              "    .dataframe tbody tr th {\n",
              "        vertical-align: top;\n",
              "    }\n",
              "\n",
              "    .dataframe thead th {\n",
              "        text-align: right;\n",
              "    }\n",
              "</style>\n",
              "<table border=\"1\" class=\"dataframe\">\n",
              "  <thead>\n",
              "    <tr style=\"text-align: right;\">\n",
              "      <th></th>\n",
              "      <th>readmitted</th>\n",
              "      <th>diag_1_desc</th>\n",
              "      <th>counts</th>\n",
              "    </tr>\n",
              "  </thead>\n",
              "  <tbody>\n",
              "    <tr>\n",
              "      <th>0</th>\n",
              "      <td>&lt;30</td>\n",
              "      <td>Circulatory</td>\n",
              "      <td>2079</td>\n",
              "    </tr>\n",
              "    <tr>\n",
              "      <th>1</th>\n",
              "      <td>&lt;30</td>\n",
              "      <td>Diabetes</td>\n",
              "      <td>525</td>\n",
              "    </tr>\n",
              "    <tr>\n",
              "      <th>2</th>\n",
              "      <td>&lt;30</td>\n",
              "      <td>Digestive</td>\n",
              "      <td>522</td>\n",
              "    </tr>\n",
              "    <tr>\n",
              "      <th>3</th>\n",
              "      <td>&lt;30</td>\n",
              "      <td>Genitourinary</td>\n",
              "      <td>311</td>\n",
              "    </tr>\n",
              "    <tr>\n",
              "      <th>4</th>\n",
              "      <td>&lt;30</td>\n",
              "      <td>Injury</td>\n",
              "      <td>506</td>\n",
              "    </tr>\n",
              "    <tr>\n",
              "      <th>5</th>\n",
              "      <td>&lt;30</td>\n",
              "      <td>Musculoskeletal</td>\n",
              "      <td>341</td>\n",
              "    </tr>\n",
              "    <tr>\n",
              "      <th>6</th>\n",
              "      <td>&lt;30</td>\n",
              "      <td>Neoplasms</td>\n",
              "      <td>231</td>\n",
              "    </tr>\n",
              "    <tr>\n",
              "      <th>7</th>\n",
              "      <td>&lt;30</td>\n",
              "      <td>Other</td>\n",
              "      <td>1087</td>\n",
              "    </tr>\n",
              "    <tr>\n",
              "      <th>8</th>\n",
              "      <td>&lt;30</td>\n",
              "      <td>Respiratory</td>\n",
              "      <td>691</td>\n",
              "    </tr>\n",
              "    <tr>\n",
              "      <th>9</th>\n",
              "      <td>&gt;30</td>\n",
              "      <td>Circulatory</td>\n",
              "      <td>7039</td>\n",
              "    </tr>\n",
              "    <tr>\n",
              "      <th>10</th>\n",
              "      <td>&gt;30</td>\n",
              "      <td>Diabetes</td>\n",
              "      <td>1940</td>\n",
              "    </tr>\n",
              "    <tr>\n",
              "      <th>11</th>\n",
              "      <td>&gt;30</td>\n",
              "      <td>Digestive</td>\n",
              "      <td>2049</td>\n",
              "    </tr>\n",
              "    <tr>\n",
              "      <th>12</th>\n",
              "      <td>&gt;30</td>\n",
              "      <td>Genitourinary</td>\n",
              "      <td>1028</td>\n",
              "    </tr>\n",
              "    <tr>\n",
              "      <th>13</th>\n",
              "      <td>&gt;30</td>\n",
              "      <td>Injury</td>\n",
              "      <td>1337</td>\n",
              "    </tr>\n",
              "    <tr>\n",
              "      <th>14</th>\n",
              "      <td>&gt;30</td>\n",
              "      <td>Musculoskeletal</td>\n",
              "      <td>1106</td>\n",
              "    </tr>\n",
              "    <tr>\n",
              "      <th>15</th>\n",
              "      <td>&gt;30</td>\n",
              "      <td>Neoplasms</td>\n",
              "      <td>600</td>\n",
              "    </tr>\n",
              "    <tr>\n",
              "      <th>16</th>\n",
              "      <td>&gt;30</td>\n",
              "      <td>Other</td>\n",
              "      <td>3772</td>\n",
              "    </tr>\n",
              "    <tr>\n",
              "      <th>17</th>\n",
              "      <td>&gt;30</td>\n",
              "      <td>Respiratory</td>\n",
              "      <td>3369</td>\n",
              "    </tr>\n",
              "    <tr>\n",
              "      <th>18</th>\n",
              "      <td>NO</td>\n",
              "      <td>Circulatory</td>\n",
              "      <td>12390</td>\n",
              "    </tr>\n",
              "    <tr>\n",
              "      <th>19</th>\n",
              "      <td>NO</td>\n",
              "      <td>Diabetes</td>\n",
              "      <td>3301</td>\n",
              "    </tr>\n",
              "    <tr>\n",
              "      <th>20</th>\n",
              "      <td>NO</td>\n",
              "      <td>Digestive</td>\n",
              "      <td>3941</td>\n",
              "    </tr>\n",
              "    <tr>\n",
              "      <th>21</th>\n",
              "      <td>NO</td>\n",
              "      <td>Genitourinary</td>\n",
              "      <td>2138</td>\n",
              "    </tr>\n",
              "    <tr>\n",
              "      <th>22</th>\n",
              "      <td>NO</td>\n",
              "      <td>Injury</td>\n",
              "      <td>2859</td>\n",
              "    </tr>\n",
              "    <tr>\n",
              "      <th>23</th>\n",
              "      <td>NO</td>\n",
              "      <td>Musculoskeletal</td>\n",
              "      <td>2624</td>\n",
              "    </tr>\n",
              "    <tr>\n",
              "      <th>24</th>\n",
              "      <td>NO</td>\n",
              "      <td>Neoplasms</td>\n",
              "      <td>1827</td>\n",
              "    </tr>\n",
              "    <tr>\n",
              "      <th>25</th>\n",
              "      <td>NO</td>\n",
              "      <td>Other</td>\n",
              "      <td>7313</td>\n",
              "    </tr>\n",
              "    <tr>\n",
              "      <th>26</th>\n",
              "      <td>NO</td>\n",
              "      <td>Respiratory</td>\n",
              "      <td>5505</td>\n",
              "    </tr>\n",
              "  </tbody>\n",
              "</table>\n",
              "</div>\n",
              "      <button class=\"colab-df-convert\" onclick=\"convertToInteractive('df-dd63546b-8705-4428-b010-bbd776ac30cb')\"\n",
              "              title=\"Convert this dataframe to an interactive table.\"\n",
              "              style=\"display:none;\">\n",
              "        \n",
              "  <svg xmlns=\"http://www.w3.org/2000/svg\" height=\"24px\"viewBox=\"0 0 24 24\"\n",
              "       width=\"24px\">\n",
              "    <path d=\"M0 0h24v24H0V0z\" fill=\"none\"/>\n",
              "    <path d=\"M18.56 5.44l.94 2.06.94-2.06 2.06-.94-2.06-.94-.94-2.06-.94 2.06-2.06.94zm-11 1L8.5 8.5l.94-2.06 2.06-.94-2.06-.94L8.5 2.5l-.94 2.06-2.06.94zm10 10l.94 2.06.94-2.06 2.06-.94-2.06-.94-.94-2.06-.94 2.06-2.06.94z\"/><path d=\"M17.41 7.96l-1.37-1.37c-.4-.4-.92-.59-1.43-.59-.52 0-1.04.2-1.43.59L10.3 9.45l-7.72 7.72c-.78.78-.78 2.05 0 2.83L4 21.41c.39.39.9.59 1.41.59.51 0 1.02-.2 1.41-.59l7.78-7.78 2.81-2.81c.8-.78.8-2.07 0-2.86zM5.41 20L4 18.59l7.72-7.72 1.47 1.35L5.41 20z\"/>\n",
              "  </svg>\n",
              "      </button>\n",
              "      \n",
              "  <style>\n",
              "    .colab-df-container {\n",
              "      display:flex;\n",
              "      flex-wrap:wrap;\n",
              "      gap: 12px;\n",
              "    }\n",
              "\n",
              "    .colab-df-convert {\n",
              "      background-color: #E8F0FE;\n",
              "      border: none;\n",
              "      border-radius: 50%;\n",
              "      cursor: pointer;\n",
              "      display: none;\n",
              "      fill: #1967D2;\n",
              "      height: 32px;\n",
              "      padding: 0 0 0 0;\n",
              "      width: 32px;\n",
              "    }\n",
              "\n",
              "    .colab-df-convert:hover {\n",
              "      background-color: #E2EBFA;\n",
              "      box-shadow: 0px 1px 2px rgba(60, 64, 67, 0.3), 0px 1px 3px 1px rgba(60, 64, 67, 0.15);\n",
              "      fill: #174EA6;\n",
              "    }\n",
              "\n",
              "    [theme=dark] .colab-df-convert {\n",
              "      background-color: #3B4455;\n",
              "      fill: #D2E3FC;\n",
              "    }\n",
              "\n",
              "    [theme=dark] .colab-df-convert:hover {\n",
              "      background-color: #434B5C;\n",
              "      box-shadow: 0px 1px 3px 1px rgba(0, 0, 0, 0.15);\n",
              "      filter: drop-shadow(0px 1px 2px rgba(0, 0, 0, 0.3));\n",
              "      fill: #FFFFFF;\n",
              "    }\n",
              "  </style>\n",
              "\n",
              "      <script>\n",
              "        const buttonEl =\n",
              "          document.querySelector('#df-dd63546b-8705-4428-b010-bbd776ac30cb button.colab-df-convert');\n",
              "        buttonEl.style.display =\n",
              "          google.colab.kernel.accessAllowed ? 'block' : 'none';\n",
              "\n",
              "        async function convertToInteractive(key) {\n",
              "          const element = document.querySelector('#df-dd63546b-8705-4428-b010-bbd776ac30cb');\n",
              "          const dataTable =\n",
              "            await google.colab.kernel.invokeFunction('convertToInteractive',\n",
              "                                                     [key], {});\n",
              "          if (!dataTable) return;\n",
              "\n",
              "          const docLinkHtml = 'Like what you see? Visit the ' +\n",
              "            '<a target=\"_blank\" href=https://colab.research.google.com/notebooks/data_table.ipynb>data table notebook</a>'\n",
              "            + ' to learn more about interactive tables.';\n",
              "          element.innerHTML = '';\n",
              "          dataTable['output_type'] = 'display_data';\n",
              "          await google.colab.output.renderOutput(dataTable, element);\n",
              "          const docLink = document.createElement('div');\n",
              "          docLink.innerHTML = docLinkHtml;\n",
              "          element.appendChild(docLink);\n",
              "        }\n",
              "      </script>\n",
              "    </div>\n",
              "  </div>\n",
              "  "
            ]
          },
          "metadata": {},
          "execution_count": 108
        }
      ]
    },
    {
      "cell_type": "code",
      "source": [
        "# A1C Results vs Readmitted\n",
        "data.groupby(['A1Cresult','readmitted']).size().reset_index(name='counts')"
      ],
      "metadata": {
        "colab": {
          "base_uri": "https://localhost:8080/",
          "height": 421
        },
        "id": "dQkmv5XiApjC",
        "outputId": "b0a71636-ca02-433b-ba16-0768ec982bac"
      },
      "execution_count": 109,
      "outputs": [
        {
          "output_type": "execute_result",
          "data": {
            "text/plain": [
              "    A1Cresult readmitted  counts\n",
              "0           0        <30    5213\n",
              "1           0        >30   18377\n",
              "2           0         NO   33963\n",
              "3           5        <30     324\n",
              "4           5        >30    1041\n",
              "5           5         NO    2392\n",
              "6           7        <30     246\n",
              "7           7        >30     862\n",
              "8           7         NO    1764\n",
              "9           8        <30     510\n",
              "10          8        >30    1960\n",
              "11          8         NO    3779"
            ],
            "text/html": [
              "\n",
              "  <div id=\"df-0b38038d-27a2-4a4e-acb7-1076628eed83\">\n",
              "    <div class=\"colab-df-container\">\n",
              "      <div>\n",
              "<style scoped>\n",
              "    .dataframe tbody tr th:only-of-type {\n",
              "        vertical-align: middle;\n",
              "    }\n",
              "\n",
              "    .dataframe tbody tr th {\n",
              "        vertical-align: top;\n",
              "    }\n",
              "\n",
              "    .dataframe thead th {\n",
              "        text-align: right;\n",
              "    }\n",
              "</style>\n",
              "<table border=\"1\" class=\"dataframe\">\n",
              "  <thead>\n",
              "    <tr style=\"text-align: right;\">\n",
              "      <th></th>\n",
              "      <th>A1Cresult</th>\n",
              "      <th>readmitted</th>\n",
              "      <th>counts</th>\n",
              "    </tr>\n",
              "  </thead>\n",
              "  <tbody>\n",
              "    <tr>\n",
              "      <th>0</th>\n",
              "      <td>0</td>\n",
              "      <td>&lt;30</td>\n",
              "      <td>5213</td>\n",
              "    </tr>\n",
              "    <tr>\n",
              "      <th>1</th>\n",
              "      <td>0</td>\n",
              "      <td>&gt;30</td>\n",
              "      <td>18377</td>\n",
              "    </tr>\n",
              "    <tr>\n",
              "      <th>2</th>\n",
              "      <td>0</td>\n",
              "      <td>NO</td>\n",
              "      <td>33963</td>\n",
              "    </tr>\n",
              "    <tr>\n",
              "      <th>3</th>\n",
              "      <td>5</td>\n",
              "      <td>&lt;30</td>\n",
              "      <td>324</td>\n",
              "    </tr>\n",
              "    <tr>\n",
              "      <th>4</th>\n",
              "      <td>5</td>\n",
              "      <td>&gt;30</td>\n",
              "      <td>1041</td>\n",
              "    </tr>\n",
              "    <tr>\n",
              "      <th>5</th>\n",
              "      <td>5</td>\n",
              "      <td>NO</td>\n",
              "      <td>2392</td>\n",
              "    </tr>\n",
              "    <tr>\n",
              "      <th>6</th>\n",
              "      <td>7</td>\n",
              "      <td>&lt;30</td>\n",
              "      <td>246</td>\n",
              "    </tr>\n",
              "    <tr>\n",
              "      <th>7</th>\n",
              "      <td>7</td>\n",
              "      <td>&gt;30</td>\n",
              "      <td>862</td>\n",
              "    </tr>\n",
              "    <tr>\n",
              "      <th>8</th>\n",
              "      <td>7</td>\n",
              "      <td>NO</td>\n",
              "      <td>1764</td>\n",
              "    </tr>\n",
              "    <tr>\n",
              "      <th>9</th>\n",
              "      <td>8</td>\n",
              "      <td>&lt;30</td>\n",
              "      <td>510</td>\n",
              "    </tr>\n",
              "    <tr>\n",
              "      <th>10</th>\n",
              "      <td>8</td>\n",
              "      <td>&gt;30</td>\n",
              "      <td>1960</td>\n",
              "    </tr>\n",
              "    <tr>\n",
              "      <th>11</th>\n",
              "      <td>8</td>\n",
              "      <td>NO</td>\n",
              "      <td>3779</td>\n",
              "    </tr>\n",
              "  </tbody>\n",
              "</table>\n",
              "</div>\n",
              "      <button class=\"colab-df-convert\" onclick=\"convertToInteractive('df-0b38038d-27a2-4a4e-acb7-1076628eed83')\"\n",
              "              title=\"Convert this dataframe to an interactive table.\"\n",
              "              style=\"display:none;\">\n",
              "        \n",
              "  <svg xmlns=\"http://www.w3.org/2000/svg\" height=\"24px\"viewBox=\"0 0 24 24\"\n",
              "       width=\"24px\">\n",
              "    <path d=\"M0 0h24v24H0V0z\" fill=\"none\"/>\n",
              "    <path d=\"M18.56 5.44l.94 2.06.94-2.06 2.06-.94-2.06-.94-.94-2.06-.94 2.06-2.06.94zm-11 1L8.5 8.5l.94-2.06 2.06-.94-2.06-.94L8.5 2.5l-.94 2.06-2.06.94zm10 10l.94 2.06.94-2.06 2.06-.94-2.06-.94-.94-2.06-.94 2.06-2.06.94z\"/><path d=\"M17.41 7.96l-1.37-1.37c-.4-.4-.92-.59-1.43-.59-.52 0-1.04.2-1.43.59L10.3 9.45l-7.72 7.72c-.78.78-.78 2.05 0 2.83L4 21.41c.39.39.9.59 1.41.59.51 0 1.02-.2 1.41-.59l7.78-7.78 2.81-2.81c.8-.78.8-2.07 0-2.86zM5.41 20L4 18.59l7.72-7.72 1.47 1.35L5.41 20z\"/>\n",
              "  </svg>\n",
              "      </button>\n",
              "      \n",
              "  <style>\n",
              "    .colab-df-container {\n",
              "      display:flex;\n",
              "      flex-wrap:wrap;\n",
              "      gap: 12px;\n",
              "    }\n",
              "\n",
              "    .colab-df-convert {\n",
              "      background-color: #E8F0FE;\n",
              "      border: none;\n",
              "      border-radius: 50%;\n",
              "      cursor: pointer;\n",
              "      display: none;\n",
              "      fill: #1967D2;\n",
              "      height: 32px;\n",
              "      padding: 0 0 0 0;\n",
              "      width: 32px;\n",
              "    }\n",
              "\n",
              "    .colab-df-convert:hover {\n",
              "      background-color: #E2EBFA;\n",
              "      box-shadow: 0px 1px 2px rgba(60, 64, 67, 0.3), 0px 1px 3px 1px rgba(60, 64, 67, 0.15);\n",
              "      fill: #174EA6;\n",
              "    }\n",
              "\n",
              "    [theme=dark] .colab-df-convert {\n",
              "      background-color: #3B4455;\n",
              "      fill: #D2E3FC;\n",
              "    }\n",
              "\n",
              "    [theme=dark] .colab-df-convert:hover {\n",
              "      background-color: #434B5C;\n",
              "      box-shadow: 0px 1px 3px 1px rgba(0, 0, 0, 0.15);\n",
              "      filter: drop-shadow(0px 1px 2px rgba(0, 0, 0, 0.3));\n",
              "      fill: #FFFFFF;\n",
              "    }\n",
              "  </style>\n",
              "\n",
              "      <script>\n",
              "        const buttonEl =\n",
              "          document.querySelector('#df-0b38038d-27a2-4a4e-acb7-1076628eed83 button.colab-df-convert');\n",
              "        buttonEl.style.display =\n",
              "          google.colab.kernel.accessAllowed ? 'block' : 'none';\n",
              "\n",
              "        async function convertToInteractive(key) {\n",
              "          const element = document.querySelector('#df-0b38038d-27a2-4a4e-acb7-1076628eed83');\n",
              "          const dataTable =\n",
              "            await google.colab.kernel.invokeFunction('convertToInteractive',\n",
              "                                                     [key], {});\n",
              "          if (!dataTable) return;\n",
              "\n",
              "          const docLinkHtml = 'Like what you see? Visit the ' +\n",
              "            '<a target=\"_blank\" href=https://colab.research.google.com/notebooks/data_table.ipynb>data table notebook</a>'\n",
              "            + ' to learn more about interactive tables.';\n",
              "          element.innerHTML = '';\n",
              "          dataTable['output_type'] = 'display_data';\n",
              "          await google.colab.output.renderOutput(dataTable, element);\n",
              "          const docLink = document.createElement('div');\n",
              "          docLink.innerHTML = docLinkHtml;\n",
              "          element.appendChild(docLink);\n",
              "        }\n",
              "      </script>\n",
              "    </div>\n",
              "  </div>\n",
              "  "
            ]
          },
          "metadata": {},
          "execution_count": 109
        }
      ]
    },
    {
      "cell_type": "code",
      "source": [
        "total_a1c_res = data.groupby(['A1Cresult']).size().reset_index(name='counts')\n",
        "a1c_res_readm_cnt = data.groupby(['readmitted', 'A1Cresult']).size().reset_index(name='counts')\n",
        "\n",
        "read_a1c = a1c_res_readm_cnt.groupby(['readmitted', 'A1Cresult']).agg({'counts': 'sum'})\n",
        "read = a1c_res_readm_cnt.groupby(['A1Cresult']).agg({'counts': 'sum'})\n",
        "a1c_pcts = read_a1c.div(read) * 100\n",
        "a1c_pcts.rename(columns = {'counts':'pcts'})\n"
      ],
      "metadata": {
        "colab": {
          "base_uri": "https://localhost:8080/",
          "height": 452
        },
        "id": "mgxG6udBAsKh",
        "outputId": "fc58d716-5a8e-46ef-90ff-a09c98c3722d"
      },
      "execution_count": 110,
      "outputs": [
        {
          "output_type": "execute_result",
          "data": {
            "text/plain": [
              "                           pcts\n",
              "readmitted A1Cresult           \n",
              "<30        0           9.057738\n",
              "           5           8.623902\n",
              "           7           8.565460\n",
              "           8           8.161306\n",
              ">30        0          31.930568\n",
              "           5          27.708278\n",
              "           7          30.013928\n",
              "           8          31.365018\n",
              "NO         0          59.011694\n",
              "           5          63.667820\n",
              "           7          61.420613\n",
              "           8          60.473676"
            ],
            "text/html": [
              "\n",
              "  <div id=\"df-c2d40217-45dc-4df9-8e0e-e515e2ed15fe\">\n",
              "    <div class=\"colab-df-container\">\n",
              "      <div>\n",
              "<style scoped>\n",
              "    .dataframe tbody tr th:only-of-type {\n",
              "        vertical-align: middle;\n",
              "    }\n",
              "\n",
              "    .dataframe tbody tr th {\n",
              "        vertical-align: top;\n",
              "    }\n",
              "\n",
              "    .dataframe thead th {\n",
              "        text-align: right;\n",
              "    }\n",
              "</style>\n",
              "<table border=\"1\" class=\"dataframe\">\n",
              "  <thead>\n",
              "    <tr style=\"text-align: right;\">\n",
              "      <th></th>\n",
              "      <th></th>\n",
              "      <th>pcts</th>\n",
              "    </tr>\n",
              "    <tr>\n",
              "      <th>readmitted</th>\n",
              "      <th>A1Cresult</th>\n",
              "      <th></th>\n",
              "    </tr>\n",
              "  </thead>\n",
              "  <tbody>\n",
              "    <tr>\n",
              "      <th rowspan=\"4\" valign=\"top\">&lt;30</th>\n",
              "      <th>0</th>\n",
              "      <td>9.057738</td>\n",
              "    </tr>\n",
              "    <tr>\n",
              "      <th>5</th>\n",
              "      <td>8.623902</td>\n",
              "    </tr>\n",
              "    <tr>\n",
              "      <th>7</th>\n",
              "      <td>8.565460</td>\n",
              "    </tr>\n",
              "    <tr>\n",
              "      <th>8</th>\n",
              "      <td>8.161306</td>\n",
              "    </tr>\n",
              "    <tr>\n",
              "      <th rowspan=\"4\" valign=\"top\">&gt;30</th>\n",
              "      <th>0</th>\n",
              "      <td>31.930568</td>\n",
              "    </tr>\n",
              "    <tr>\n",
              "      <th>5</th>\n",
              "      <td>27.708278</td>\n",
              "    </tr>\n",
              "    <tr>\n",
              "      <th>7</th>\n",
              "      <td>30.013928</td>\n",
              "    </tr>\n",
              "    <tr>\n",
              "      <th>8</th>\n",
              "      <td>31.365018</td>\n",
              "    </tr>\n",
              "    <tr>\n",
              "      <th rowspan=\"4\" valign=\"top\">NO</th>\n",
              "      <th>0</th>\n",
              "      <td>59.011694</td>\n",
              "    </tr>\n",
              "    <tr>\n",
              "      <th>5</th>\n",
              "      <td>63.667820</td>\n",
              "    </tr>\n",
              "    <tr>\n",
              "      <th>7</th>\n",
              "      <td>61.420613</td>\n",
              "    </tr>\n",
              "    <tr>\n",
              "      <th>8</th>\n",
              "      <td>60.473676</td>\n",
              "    </tr>\n",
              "  </tbody>\n",
              "</table>\n",
              "</div>\n",
              "      <button class=\"colab-df-convert\" onclick=\"convertToInteractive('df-c2d40217-45dc-4df9-8e0e-e515e2ed15fe')\"\n",
              "              title=\"Convert this dataframe to an interactive table.\"\n",
              "              style=\"display:none;\">\n",
              "        \n",
              "  <svg xmlns=\"http://www.w3.org/2000/svg\" height=\"24px\"viewBox=\"0 0 24 24\"\n",
              "       width=\"24px\">\n",
              "    <path d=\"M0 0h24v24H0V0z\" fill=\"none\"/>\n",
              "    <path d=\"M18.56 5.44l.94 2.06.94-2.06 2.06-.94-2.06-.94-.94-2.06-.94 2.06-2.06.94zm-11 1L8.5 8.5l.94-2.06 2.06-.94-2.06-.94L8.5 2.5l-.94 2.06-2.06.94zm10 10l.94 2.06.94-2.06 2.06-.94-2.06-.94-.94-2.06-.94 2.06-2.06.94z\"/><path d=\"M17.41 7.96l-1.37-1.37c-.4-.4-.92-.59-1.43-.59-.52 0-1.04.2-1.43.59L10.3 9.45l-7.72 7.72c-.78.78-.78 2.05 0 2.83L4 21.41c.39.39.9.59 1.41.59.51 0 1.02-.2 1.41-.59l7.78-7.78 2.81-2.81c.8-.78.8-2.07 0-2.86zM5.41 20L4 18.59l7.72-7.72 1.47 1.35L5.41 20z\"/>\n",
              "  </svg>\n",
              "      </button>\n",
              "      \n",
              "  <style>\n",
              "    .colab-df-container {\n",
              "      display:flex;\n",
              "      flex-wrap:wrap;\n",
              "      gap: 12px;\n",
              "    }\n",
              "\n",
              "    .colab-df-convert {\n",
              "      background-color: #E8F0FE;\n",
              "      border: none;\n",
              "      border-radius: 50%;\n",
              "      cursor: pointer;\n",
              "      display: none;\n",
              "      fill: #1967D2;\n",
              "      height: 32px;\n",
              "      padding: 0 0 0 0;\n",
              "      width: 32px;\n",
              "    }\n",
              "\n",
              "    .colab-df-convert:hover {\n",
              "      background-color: #E2EBFA;\n",
              "      box-shadow: 0px 1px 2px rgba(60, 64, 67, 0.3), 0px 1px 3px 1px rgba(60, 64, 67, 0.15);\n",
              "      fill: #174EA6;\n",
              "    }\n",
              "\n",
              "    [theme=dark] .colab-df-convert {\n",
              "      background-color: #3B4455;\n",
              "      fill: #D2E3FC;\n",
              "    }\n",
              "\n",
              "    [theme=dark] .colab-df-convert:hover {\n",
              "      background-color: #434B5C;\n",
              "      box-shadow: 0px 1px 3px 1px rgba(0, 0, 0, 0.15);\n",
              "      filter: drop-shadow(0px 1px 2px rgba(0, 0, 0, 0.3));\n",
              "      fill: #FFFFFF;\n",
              "    }\n",
              "  </style>\n",
              "\n",
              "      <script>\n",
              "        const buttonEl =\n",
              "          document.querySelector('#df-c2d40217-45dc-4df9-8e0e-e515e2ed15fe button.colab-df-convert');\n",
              "        buttonEl.style.display =\n",
              "          google.colab.kernel.accessAllowed ? 'block' : 'none';\n",
              "\n",
              "        async function convertToInteractive(key) {\n",
              "          const element = document.querySelector('#df-c2d40217-45dc-4df9-8e0e-e515e2ed15fe');\n",
              "          const dataTable =\n",
              "            await google.colab.kernel.invokeFunction('convertToInteractive',\n",
              "                                                     [key], {});\n",
              "          if (!dataTable) return;\n",
              "\n",
              "          const docLinkHtml = 'Like what you see? Visit the ' +\n",
              "            '<a target=\"_blank\" href=https://colab.research.google.com/notebooks/data_table.ipynb>data table notebook</a>'\n",
              "            + ' to learn more about interactive tables.';\n",
              "          element.innerHTML = '';\n",
              "          dataTable['output_type'] = 'display_data';\n",
              "          await google.colab.output.renderOutput(dataTable, element);\n",
              "          const docLink = document.createElement('div');\n",
              "          docLink.innerHTML = docLinkHtml;\n",
              "          element.appendChild(docLink);\n",
              "        }\n",
              "      </script>\n",
              "    </div>\n",
              "  </div>\n",
              "  "
            ]
          },
          "metadata": {},
          "execution_count": 110
        }
      ]
    },
    {
      "cell_type": "code",
      "source": [
        "# means\n",
        "data.groupby(['readmitted']).mean()"
      ],
      "metadata": {
        "colab": {
          "base_uri": "https://localhost:8080/",
          "height": 225
        },
        "id": "rcz6nPRpAuh-",
        "outputId": "70f87b12-1e42-4724-d705-e2857216c8c3"
      },
      "execution_count": 111,
      "outputs": [
        {
          "output_type": "execute_result",
          "data": {
            "text/plain": [
              "                  age  time_in_hospital  num_lab_procedures  num_procedures  \\\n",
              "readmitted                                                                    \n",
              "<30         67.849198          4.797394           44.930240        1.422692   \n",
              ">30         66.639838          4.419604           43.992986        1.355126   \n",
              "NO          64.570147          4.134374           42.043487        1.457492   \n",
              "\n",
              "            num_medications  number_outpatient  number_emergency  \\\n",
              "readmitted                                                         \n",
              "<30               16.620213           0.309868          0.149849   \n",
              ">30               15.892941           0.379406          0.151799   \n",
              "NO                15.403432           0.222922          0.071507   \n",
              "\n",
              "            number_inpatient  number_diagnoses  max_glu_serum  A1Cresult  \\\n",
              "readmitted                                                                 \n",
              "<30                 0.370729          7.513745       9.391387   1.179406   \n",
              ">30                 0.257734          7.485791       9.244604   1.210387   \n",
              "NO                  0.104826          7.053702       7.465750   1.301733   \n",
              "\n",
              "              change  diabetesMed  \n",
              "readmitted                         \n",
              "<30        -0.053234     0.598602  \n",
              ">30        -0.057374     0.582374  \n",
              "NO         -0.131176     0.478830  "
            ],
            "text/html": [
              "\n",
              "  <div id=\"df-e91a1c7b-cb77-4363-ac92-bdac36e7e307\">\n",
              "    <div class=\"colab-df-container\">\n",
              "      <div>\n",
              "<style scoped>\n",
              "    .dataframe tbody tr th:only-of-type {\n",
              "        vertical-align: middle;\n",
              "    }\n",
              "\n",
              "    .dataframe tbody tr th {\n",
              "        vertical-align: top;\n",
              "    }\n",
              "\n",
              "    .dataframe thead th {\n",
              "        text-align: right;\n",
              "    }\n",
              "</style>\n",
              "<table border=\"1\" class=\"dataframe\">\n",
              "  <thead>\n",
              "    <tr style=\"text-align: right;\">\n",
              "      <th></th>\n",
              "      <th>age</th>\n",
              "      <th>time_in_hospital</th>\n",
              "      <th>num_lab_procedures</th>\n",
              "      <th>num_procedures</th>\n",
              "      <th>num_medications</th>\n",
              "      <th>number_outpatient</th>\n",
              "      <th>number_emergency</th>\n",
              "      <th>number_inpatient</th>\n",
              "      <th>number_diagnoses</th>\n",
              "      <th>max_glu_serum</th>\n",
              "      <th>A1Cresult</th>\n",
              "      <th>change</th>\n",
              "      <th>diabetesMed</th>\n",
              "    </tr>\n",
              "    <tr>\n",
              "      <th>readmitted</th>\n",
              "      <th></th>\n",
              "      <th></th>\n",
              "      <th></th>\n",
              "      <th></th>\n",
              "      <th></th>\n",
              "      <th></th>\n",
              "      <th></th>\n",
              "      <th></th>\n",
              "      <th></th>\n",
              "      <th></th>\n",
              "      <th></th>\n",
              "      <th></th>\n",
              "      <th></th>\n",
              "    </tr>\n",
              "  </thead>\n",
              "  <tbody>\n",
              "    <tr>\n",
              "      <th>&lt;30</th>\n",
              "      <td>67.849198</td>\n",
              "      <td>4.797394</td>\n",
              "      <td>44.930240</td>\n",
              "      <td>1.422692</td>\n",
              "      <td>16.620213</td>\n",
              "      <td>0.309868</td>\n",
              "      <td>0.149849</td>\n",
              "      <td>0.370729</td>\n",
              "      <td>7.513745</td>\n",
              "      <td>9.391387</td>\n",
              "      <td>1.179406</td>\n",
              "      <td>-0.053234</td>\n",
              "      <td>0.598602</td>\n",
              "    </tr>\n",
              "    <tr>\n",
              "      <th>&gt;30</th>\n",
              "      <td>66.639838</td>\n",
              "      <td>4.419604</td>\n",
              "      <td>43.992986</td>\n",
              "      <td>1.355126</td>\n",
              "      <td>15.892941</td>\n",
              "      <td>0.379406</td>\n",
              "      <td>0.151799</td>\n",
              "      <td>0.257734</td>\n",
              "      <td>7.485791</td>\n",
              "      <td>9.244604</td>\n",
              "      <td>1.210387</td>\n",
              "      <td>-0.057374</td>\n",
              "      <td>0.582374</td>\n",
              "    </tr>\n",
              "    <tr>\n",
              "      <th>NO</th>\n",
              "      <td>64.570147</td>\n",
              "      <td>4.134374</td>\n",
              "      <td>42.043487</td>\n",
              "      <td>1.457492</td>\n",
              "      <td>15.403432</td>\n",
              "      <td>0.222922</td>\n",
              "      <td>0.071507</td>\n",
              "      <td>0.104826</td>\n",
              "      <td>7.053702</td>\n",
              "      <td>7.465750</td>\n",
              "      <td>1.301733</td>\n",
              "      <td>-0.131176</td>\n",
              "      <td>0.478830</td>\n",
              "    </tr>\n",
              "  </tbody>\n",
              "</table>\n",
              "</div>\n",
              "      <button class=\"colab-df-convert\" onclick=\"convertToInteractive('df-e91a1c7b-cb77-4363-ac92-bdac36e7e307')\"\n",
              "              title=\"Convert this dataframe to an interactive table.\"\n",
              "              style=\"display:none;\">\n",
              "        \n",
              "  <svg xmlns=\"http://www.w3.org/2000/svg\" height=\"24px\"viewBox=\"0 0 24 24\"\n",
              "       width=\"24px\">\n",
              "    <path d=\"M0 0h24v24H0V0z\" fill=\"none\"/>\n",
              "    <path d=\"M18.56 5.44l.94 2.06.94-2.06 2.06-.94-2.06-.94-.94-2.06-.94 2.06-2.06.94zm-11 1L8.5 8.5l.94-2.06 2.06-.94-2.06-.94L8.5 2.5l-.94 2.06-2.06.94zm10 10l.94 2.06.94-2.06 2.06-.94-2.06-.94-.94-2.06-.94 2.06-2.06.94z\"/><path d=\"M17.41 7.96l-1.37-1.37c-.4-.4-.92-.59-1.43-.59-.52 0-1.04.2-1.43.59L10.3 9.45l-7.72 7.72c-.78.78-.78 2.05 0 2.83L4 21.41c.39.39.9.59 1.41.59.51 0 1.02-.2 1.41-.59l7.78-7.78 2.81-2.81c.8-.78.8-2.07 0-2.86zM5.41 20L4 18.59l7.72-7.72 1.47 1.35L5.41 20z\"/>\n",
              "  </svg>\n",
              "      </button>\n",
              "      \n",
              "  <style>\n",
              "    .colab-df-container {\n",
              "      display:flex;\n",
              "      flex-wrap:wrap;\n",
              "      gap: 12px;\n",
              "    }\n",
              "\n",
              "    .colab-df-convert {\n",
              "      background-color: #E8F0FE;\n",
              "      border: none;\n",
              "      border-radius: 50%;\n",
              "      cursor: pointer;\n",
              "      display: none;\n",
              "      fill: #1967D2;\n",
              "      height: 32px;\n",
              "      padding: 0 0 0 0;\n",
              "      width: 32px;\n",
              "    }\n",
              "\n",
              "    .colab-df-convert:hover {\n",
              "      background-color: #E2EBFA;\n",
              "      box-shadow: 0px 1px 2px rgba(60, 64, 67, 0.3), 0px 1px 3px 1px rgba(60, 64, 67, 0.15);\n",
              "      fill: #174EA6;\n",
              "    }\n",
              "\n",
              "    [theme=dark] .colab-df-convert {\n",
              "      background-color: #3B4455;\n",
              "      fill: #D2E3FC;\n",
              "    }\n",
              "\n",
              "    [theme=dark] .colab-df-convert:hover {\n",
              "      background-color: #434B5C;\n",
              "      box-shadow: 0px 1px 3px 1px rgba(0, 0, 0, 0.15);\n",
              "      filter: drop-shadow(0px 1px 2px rgba(0, 0, 0, 0.3));\n",
              "      fill: #FFFFFF;\n",
              "    }\n",
              "  </style>\n",
              "\n",
              "      <script>\n",
              "        const buttonEl =\n",
              "          document.querySelector('#df-e91a1c7b-cb77-4363-ac92-bdac36e7e307 button.colab-df-convert');\n",
              "        buttonEl.style.display =\n",
              "          google.colab.kernel.accessAllowed ? 'block' : 'none';\n",
              "\n",
              "        async function convertToInteractive(key) {\n",
              "          const element = document.querySelector('#df-e91a1c7b-cb77-4363-ac92-bdac36e7e307');\n",
              "          const dataTable =\n",
              "            await google.colab.kernel.invokeFunction('convertToInteractive',\n",
              "                                                     [key], {});\n",
              "          if (!dataTable) return;\n",
              "\n",
              "          const docLinkHtml = 'Like what you see? Visit the ' +\n",
              "            '<a target=\"_blank\" href=https://colab.research.google.com/notebooks/data_table.ipynb>data table notebook</a>'\n",
              "            + ' to learn more about interactive tables.';\n",
              "          element.innerHTML = '';\n",
              "          dataTable['output_type'] = 'display_data';\n",
              "          await google.colab.output.renderOutput(dataTable, element);\n",
              "          const docLink = document.createElement('div');\n",
              "          docLink.innerHTML = docLinkHtml;\n",
              "          element.appendChild(docLink);\n",
              "        }\n",
              "      </script>\n",
              "    </div>\n",
              "  </div>\n",
              "  "
            ]
          },
          "metadata": {},
          "execution_count": 111
        }
      ]
    },
    {
      "cell_type": "code",
      "source": [
        "categorical_feat_mod = ['race',\n",
        " 'gender',\n",
        " 'metformin',\n",
        " 'repaglinide',\n",
        " 'nateglinide',\n",
        " 'acetohexamide',\n",
        " 'glipizide',\n",
        " 'glyburide',\n",
        " 'pioglitazone',\n",
        " 'rosiglitazone',\n",
        " 'acarbose',\n",
        " 'miglitol',\n",
        " 'tolazamide',\n",
        " 'insulin',\n",
        " 'metformin-rosiglitazone',\n",
        " 'readmitted',\n",
        " 'diag_1_desc',\n",
        " 'diag_2_desc',\n",
        " 'diag_3_desc',\n",
        " 'admission_type']"
      ],
      "metadata": {
        "id": "y-NcVZlbBLvx"
      },
      "execution_count": 115,
      "outputs": []
    },
    {
      "cell_type": "code",
      "source": [
        "# Loop bar plots to show relationship of readmitted to other categorical variables\n",
        "for i in categorical_feat_mod:\n",
        "    if i != 'readmitted':\n",
        "        readm_cnt = ('readm_cnt_'+ i)\n",
        "        read = ('read_' + i)\n",
        "        pcts = ('pcts_' + i)\n",
        "        unique_val_cnt = len(data[i].unique())  \n",
        "        \n",
        "        # Get counts of each value in i grouped by readmitted; show 0 values\n",
        "        readm_cnt = data.groupby(['readmitted', i]).readmitted.count()\n",
        "        levels = [readm_cnt.index.levels[0].values, readm_cnt.index.levels[1].values]\n",
        "        new_index = pd.MultiIndex.from_product(levels, names=readm_cnt.index.names)\n",
        "        readm_cnt = readm_cnt.reindex(new_index, fill_value=0)\n",
        "        readm_cnt = readm_cnt.reset_index(name='counts')\n",
        "        \n",
        "        # Get percentages\n",
        "        read = readm_cnt.groupby(['readmitted', i]).agg({'counts': 'sum'})\n",
        "        read1 = readm_cnt.groupby([i]).agg({'counts': 'sum'})\n",
        "        pcts = read.div(read1) * 100\n",
        "        pcts = pcts.rename(columns = {'counts':'pcts'})\n",
        "        pcts = pcts.reset_index()\n",
        "\n",
        "        # Plot\n",
        "        fig,ax = plt.subplots()\n",
        "\n",
        "        # Values of each group\n",
        "        bars1 = pcts.loc[pcts.readmitted=='NO','pcts'].tolist()\n",
        "        bars2 = pcts.loc[pcts.readmitted=='>30','pcts'].tolist()\n",
        "        bars3 = pcts.loc[pcts.readmitted=='<30','pcts'].tolist()\n",
        "\n",
        "        bars = np.add(bars1, bars2).tolist()\n",
        "        r = list(range(len(data[i].unique())))\n",
        "\n",
        "        names = pcts[i]\n",
        "        barWidth = 0.7\n",
        "\n",
        "        plt.bar(r, bars1, color='#6EAE9B', edgecolor='white', width=barWidth)\n",
        "        plt.bar(r, bars2, bottom=bars1, color='#D08B47', edgecolor='white', width=barWidth)\n",
        "        plt.bar(r, bars3, bottom=bars, color='#D9B608', edgecolor='white', width=barWidth)\n",
        "\n",
        "        plt.xticks(r, names, rotation='vertical')\n",
        "        plt.xlabel(i)\n",
        "\n",
        "        plt.title('% of readmission by ' + i)\n",
        "        plt.legend(['No','>30','<30'])\n",
        "        plt.show()"
      ],
      "metadata": {
        "colab": {
          "base_uri": "https://localhost:8080/",
          "height": 1000
        },
        "id": "G2-Piui9AxeK",
        "outputId": "999be98f-0703-45a9-abf1-c8c1e0eb9581"
      },
      "execution_count": 116,
      "outputs": [
        {
          "output_type": "display_data",
          "data": {
            "text/plain": [
              "<Figure size 432x288 with 1 Axes>"
            ],
            "image/png": "[encoded data removed]"
          },
          "metadata": {
            "needs_background": "light"
          }
        },
        {
          "output_type": "display_data",
          "data": {
            "text/plain": [
              "<Figure size 432x288 with 1 Axes>"
            ],
            "image/png": "[encoded data removed]"
          },
          "metadata": {
            "needs_background": "light"
          }
        },
        {
          "output_type": "display_data",
          "data": {
            "text/plain": [
              "<Figure size 432x288 with 1 Axes>"
            ],
            "image/png": "[encoded data removed]"
          },
          "metadata": {
            "needs_background": "light"
          }
        },
        {
          "output_type": "display_data",
          "data": {
            "text/plain": [
              "<Figure size 432x288 with 1 Axes>"
            ],
            "image/png": "[encoded data removed]"
          },
          "metadata": {
            "needs_background": "light"
          }
        },
        {
          "output_type": "display_data",
          "data": {
            "text/plain": [
              "<Figure size 432x288 with 1 Axes>"
            ],
            "image/png": "[encoded data removed]"
          },
          "metadata": {
            "needs_background": "light"
          }
        },
        {
          "output_type": "display_data",
          "data": {
            "text/plain": [
              "<Figure size 432x288 with 1 Axes>"
            ],
            "image/png": "[encoded data removed]"
          },
          "metadata": {
            "needs_background": "light"
          }
        },
        {
          "output_type": "display_data",
          "data": {
            "text/plain": [
              "<Figure size 432x288 with 1 Axes>"
            ],
            "image/png": "[encoded data removed]"
          },
          "metadata": {
            "needs_background": "light"
          }
        },
        {
          "output_type": "display_data",
          "data": {
            "text/plain": [
              "<Figure size 432x288 with 1 Axes>"
            ],
            "image/png": "[encoded data removed]"
          },
          "metadata": {
            "needs_background": "light"
          }
        },
        {
          "output_type": "display_data",
          "data": {
            "text/plain": [
              "<Figure size 432x288 with 1 Axes>"
            ],
            "image/png": "[encoded data removed]"
          },
          "metadata": {
            "needs_background": "light"
          }
        },
        {
          "output_type": "display_data",
          "data": {
            "text/plain": [
              "<Figure size 432x288 with 1 Axes>"
            ],
            "image/png": "[encoded data removed]"
          },
          "metadata": {
            "needs_background": "light"
          }
        },
        {
          "output_type": "display_data",
          "data": {
            "text/plain": [
              "<Figure size 432x288 with 1 Axes>"
            ],
            "image/png": "[encoded data removed]"
          },
          "metadata": {
            "needs_background": "light"
          }
        },
        {
          "output_type": "display_data",
          "data": {
            "text/plain": [
              "<Figure size 432x288 with 1 Axes>"
            ],
            "image/png": "[encoded data removed]"
          },
          "metadata": {
            "needs_background": "light"
          }
        },
        {
          "output_type": "display_data",
          "data": {
            "text/plain": [
              "<Figure size 432x288 with 1 Axes>"
            ],
            "image/png": "[encoded data removed]"
          },
          "metadata": {
            "needs_background": "light"
          }
        },
        {
          "output_type": "display_data",
          "data": {
            "text/plain": [
              "<Figure size 432x288 with 1 Axes>"
            ],
            "image/png": "[encoded data removed]"
          },
          "metadata": {
            "needs_background": "light"
          }
        },
        {
          "output_type": "display_data",
          "data": {
            "text/plain": [
              "<Figure size 432x288 with 1 Axes>"
            ],
            "image/png": "[encoded data removed]"
          },
          "metadata": {
            "needs_background": "light"
          }
        },
        {
          "output_type": "display_data",
          "data": {
            "text/plain": [
              "<Figure size 432x288 with 1 Axes>"
            ],
            "image/png": "[encoded data removed]"
          },
          "metadata": {
            "needs_background": "light"
          }
        },
        {
          "output_type": "display_data",
          "data": {
            "text/plain": [
              "<Figure size 432x288 with 1 Axes>"
            ],
            "image/png": "[encoded data removed]"
          },
          "metadata": {
            "needs_background": "light"
          }
        },
        {
          "output_type": "display_data",
          "data": {
            "text/plain": [
              "<Figure size 432x288 with 1 Axes>"
            ],
            "image/png": "[encoded data removed]"
          },
          "metadata": {
            "needs_background": "light"
          }
        },
        {
          "output_type": "display_data",
          "data": {
            "text/plain": [
              "<Figure size 432x288 with 1 Axes>"
            ],
            "image/png": "[encoded data removed]"
          },
          "metadata": {
            "needs_background": "light"
          }
        }
      ]
    },
    {
      "cell_type": "code",
      "source": [
        "# Show percentages for each categorical features grouped by readmitted\n",
        "for i in categorical_feat:\n",
        "    if i != 'readmitted':\n",
        "        readm_cnt = ('readm_cnt_'+ i)\n",
        "        read = ('read_' + i)\n",
        "        pcts = ('pcts_' + i)\n",
        "        unique_val_cnt = len(data[i].unique())\n",
        "        readm_cnt = data.groupby(['readmitted', i]).size().reset_index(name='counts')\n",
        "        read = readm_cnt.groupby(['readmitted', i]).agg({'counts': 'sum'})\n",
        "        read1 = readm_cnt.groupby([i]).agg({'counts': 'sum'})\n",
        "        pcts = read.div(read1) * 100\n",
        "        pcts = pcts.rename(columns = {'counts':'pcts'})\n",
        "        print(pcts)"
      ],
      "metadata": {
        "colab": {
          "base_uri": "https://localhost:8080/"
        },
        "id": "Yk_qh84GA109",
        "outputId": "9d4487a9-401d-4f0f-ebe3-d39e99d45693"
      },
      "execution_count": 119,
      "outputs": [
        {
          "output_type": "stream",
          "name": "stdout",
          "text": [
            "                                 pcts\n",
            "readmitted race                      \n",
            "<30        AfricanAmerican   8.611724\n",
            "           Asian             8.350305\n",
            "           Caucasian         9.081749\n",
            "           Hispanic          8.100930\n",
            "           Other             6.896552\n",
            ">30        AfricanAmerican  30.491648\n",
            "           Asian            21.792261\n",
            "           Caucasian        32.133304\n",
            "           Hispanic         27.423639\n",
            "           Other            26.810345\n",
            "NO         AfricanAmerican  60.896628\n",
            "           Asian            69.857434\n",
            "           Caucasian        58.784947\n",
            "           Hispanic         64.475432\n",
            "           Other            66.293103\n",
            "                        pcts\n",
            "readmitted gender           \n",
            "<30        Female   8.994342\n",
            "           Male     8.867518\n",
            ">30        Female  32.278211\n",
            "           Male    30.779965\n",
            "NO         Female  58.727447\n",
            "           Male    60.352516\n",
            "                           pcts\n",
            "readmitted metformin           \n",
            "<30        Down       10.114943\n",
            "           No          9.110402\n",
            "           Steady      8.308323\n",
            "           Up          6.921241\n",
            ">30        Down       29.195402\n",
            "           No         31.969296\n",
            "           Steady     30.166166\n",
            "           Up         29.832936\n",
            "NO         Down       60.689655\n",
            "           No         58.920302\n",
            "           Steady     61.525511\n",
            "           Up         63.245823\n",
            "                             pcts\n",
            "readmitted repaglinide           \n",
            "<30        Down          3.448276\n",
            "           No            8.889496\n",
            "           Steady       11.951220\n",
            "           Up           20.547945\n",
            ">30        Down         37.931034\n",
            "           No           31.506711\n",
            "           Steady       38.170732\n",
            "           Up           21.917808\n",
            "NO         Down         58.620690\n",
            "           No           59.603792\n",
            "           Steady       49.878049\n",
            "           Up           57.534247\n",
            "                             pcts\n",
            "readmitted nateglinide           \n",
            "<30        No            8.943636\n",
            "           Steady        8.102345\n",
            ">30        Down         37.500000\n",
            "           No           31.549372\n",
            "           Steady       35.607676\n",
            "           Up           31.250000\n",
            "NO         Down         62.500000\n",
            "           No           59.506992\n",
            "           Steady       56.289979\n",
            "           Up           68.750000\n",
            "                                pcts\n",
            "readmitted acetohexamide            \n",
            "<30        No               8.935113\n",
            ">30        No              31.576033\n",
            "           Steady         100.000000\n",
            "NO         No              59.488854\n",
            "                           pcts\n",
            "readmitted glipizide           \n",
            "<30        Down       12.800000\n",
            "           No          8.821804\n",
            "           Steady      9.470305\n",
            "           Up         10.956522\n",
            ">30        Down       36.800000\n",
            "           No         31.178521\n",
            "           Steady     34.201753\n",
            "           Up         33.739130\n",
            "NO         Down       50.400000\n",
            "           No         59.999674\n",
            "           Steady     56.327942\n",
            "           Up         55.304348\n",
            "                           pcts\n",
            "readmitted glyburide           \n",
            "<30        Down        9.546539\n",
            "           No          8.881863\n",
            "           Steady      9.331168\n",
            "           Up          9.562399\n",
            ">30        Down       36.276850\n",
            "           No         31.482546\n",
            "           Steady     32.098036\n",
            "           Up         32.252836\n",
            "NO         Down       54.176611\n",
            "           No         59.635591\n",
            "           Steady     58.570796\n",
            "           Up         58.184765\n",
            "                              pcts\n",
            "readmitted pioglitazone           \n",
            "<30        Down          11.111111\n",
            "           No             8.953048\n",
            "           Steady         8.564031\n",
            "           Up            11.797753\n",
            ">30        Down          43.209877\n",
            "           No            31.342573\n",
            "           Steady        34.196375\n",
            "           Up            38.202247\n",
            "NO         Down          45.679012\n",
            "           No            59.704379\n",
            "           Steady        57.239594\n",
            "           Up            50.000000\n",
            "                               pcts\n",
            "readmitted rosiglitazone           \n",
            "<30        Down            5.333333\n",
            "           No              8.946712\n",
            "           Steady          8.797851\n",
            "           Up              9.774436\n",
            ">30        Down           24.000000\n",
            "           No             31.297524\n",
            "           Steady         35.930154\n",
            "           Up             27.819549\n",
            "NO         Down           70.666667\n",
            "           No             59.755764\n",
            "           Steady         55.271995\n",
            "           Up             62.406015\n",
            "                          pcts\n",
            "readmitted acarbose           \n",
            "<30        No         8.939200\n",
            "           Steady     6.806283\n",
            "           Up        20.000000\n",
            ">30        No        31.543500\n",
            "           Steady    43.455497\n",
            "           Up        40.000000\n",
            "NO         No        59.517300\n",
            "           Steady    49.738220\n",
            "           Up        40.000000\n",
            "                           pcts\n",
            "readmitted miglitol            \n",
            "<30        No          8.936104\n",
            "           Steady      5.555556\n",
            ">30        Down      100.000000\n",
            "           No         31.568931\n",
            "           Steady     55.555556\n",
            "           Up        100.000000\n",
            "NO         No         59.494965\n",
            "           Steady     38.888889\n",
            "                            pcts\n",
            "readmitted tolazamide           \n",
            "<30        No           8.937373\n",
            "           Steady       3.333333\n",
            ">30        No          31.577676\n",
            "           Steady      30.000000\n",
            "NO         No          59.484950\n",
            "           Steady      66.666667\n",
            "                         pcts\n",
            "readmitted insulin           \n",
            "<30        Down     10.514177\n",
            "           No        8.248201\n",
            "           Steady    9.206116\n",
            "           Up        9.831502\n",
            ">30        Down     34.581468\n",
            "           No       30.540399\n",
            "           Steady   31.351302\n",
            "           Up       34.285714\n",
            "NO         Down     54.904355\n",
            "           No       61.211400\n",
            "           Steady   59.442582\n",
            "           Up       55.882784\n",
            "                                          pcts\n",
            "readmitted metformin-rosiglitazone            \n",
            "<30        No                         8.935240\n",
            ">30        No                        31.577901\n",
            "NO         No                        59.486859\n",
            "           Steady                   100.000000\n",
            "                                 pcts\n",
            "readmitted diag_1_desc               \n",
            "<30        Circulatory       9.666171\n",
            "           Diabetes          9.105099\n",
            "           Digestive         8.015971\n",
            "           Genitourinary     8.944492\n",
            "           Injury           10.761378\n",
            "           Musculoskeletal   8.376320\n",
            "           Neoplasms         8.690745\n",
            "           Other             8.930332\n",
            "           Respiratory       7.224255\n",
            ">30        Circulatory      32.727357\n",
            "           Diabetes         33.645508\n",
            "           Digestive        31.464988\n",
            "           Genitourinary    29.565718\n",
            "           Injury           28.434709\n",
            "           Musculoskeletal  27.167772\n",
            "           Neoplasms        22.573363\n",
            "           Other            30.989155\n",
            "           Respiratory      35.222164\n",
            "NO         Circulatory      57.606472\n",
            "           Diabetes         57.249393\n",
            "           Digestive        60.519042\n",
            "           Genitourinary    61.489790\n",
            "           Injury           60.803913\n",
            "           Musculoskeletal  64.455908\n",
            "           Neoplasms        68.735892\n",
            "           Other            60.080513\n",
            "           Respiratory      57.553581\n",
            "                                 pcts\n",
            "readmitted diag_2_desc               \n",
            "<30        Circulatory       9.246159\n",
            "           Diabetes          8.406637\n",
            "           Digestive         8.321727\n",
            "           Genitourinary     8.903346\n",
            "           Injury            9.912377\n",
            "           Musculoskeletal   7.870370\n",
            "           Neoplasms        12.292162\n",
            "           Other             8.858950\n",
            "           Respiratory       8.310685\n",
            ">30        Circulatory      33.560132\n",
            "           Diabetes         29.068373\n",
            "           Digestive        29.387187\n",
            "           Genitourinary    31.914498\n",
            "           Injury           25.355969\n",
            "           Musculoskeletal  29.706790\n",
            "           Neoplasms        27.969121\n",
            "           Other            31.009073\n",
            "           Respiratory      33.829209\n",
            "NO         Circulatory      57.193710\n",
            "           Diabetes         62.524990\n",
            "           Digestive        62.291086\n",
            "           Genitourinary    59.182156\n",
            "           Injury           64.731654\n",
            "           Musculoskeletal  62.422840\n",
            "           Neoplasms        59.738717\n",
            "           Other            60.131977\n",
            "           Respiratory      57.860106\n",
            "                                 pcts\n",
            "readmitted diag_3_desc               \n",
            "<30        Circulatory       8.956505\n",
            "           Diabetes          8.259673\n",
            "           Digestive         9.495767\n",
            "           Genitourinary     9.841270\n",
            "           Injury           10.191083\n",
            "           Musculoskeletal   8.309038\n",
            "           Neoplasms        11.503698\n",
            "           Other             8.643201\n",
            "           Respiratory      10.097789\n",
            ">30        Circulatory      33.393743\n",
            "           Diabetes         29.234893\n",
            "           Digestive        32.094222\n",
            "           Genitourinary    33.577534\n",
            "           Injury           26.256192\n",
            "           Musculoskeletal  30.539359\n",
            "           Neoplasms        26.787182\n",
            "           Other            30.968575\n",
            "           Respiratory      34.056122\n",
            "NO         Circulatory      57.649752\n",
            "           Diabetes         62.505434\n",
            "           Digestive        58.410011\n",
            "           Genitourinary    56.581197\n",
            "           Injury           63.552725\n",
            "           Musculoskeletal  61.151603\n",
            "           Neoplasms        61.709121\n",
            "           Other            60.388224\n",
            "           Respiratory      55.846088\n",
            "                                pcts\n",
            "readmitted admission_type           \n",
            "<30        Elective         8.262252\n",
            "           Emergency        9.067736\n",
            "           Newborn         11.111111\n",
            "           Not Available    9.291200\n",
            ">30        Elective        26.977013\n",
            "           Emergency       31.910782\n",
            "           Newborn         22.222222\n",
            "           Not Available   37.555080\n",
            "NO         Elective        64.760734\n",
            "           Emergency       59.021482\n",
            "           Newborn         66.666667\n",
            "           Not Available   53.153720\n",
            "                                           pcts\n",
            "readmitted admission_source                    \n",
            "<30         Court/Law Enforcement      9.090909\n",
            "            Emergency Room             9.203695\n",
            "            Not Available              8.852331\n",
            "            Physician Referral         8.627091\n",
            "           Transfer from a hospital    8.401977\n",
            ">30         Court/Law Enforcement      9.090909\n",
            "            Emergency Room            33.939458\n",
            "            Not Available             35.526831\n",
            "            Physician Referral        29.327742\n",
            "           Transfer from a hospital   19.831137\n",
            "NO          Court/Law Enforcement     81.818182\n",
            "            Emergency Room            56.856846\n",
            "            Not Available             55.620838\n",
            "            Physician Referral        62.045167\n",
            "           Normal Delivery           100.000000\n",
            "           Transfer from a hospital   71.766886\n",
            "                                                                     pcts\n",
            "readmitted discharge_disposition                                         \n",
            "<30        Discharged to home                                    7.332464\n",
            "           Discharged/transferred to a federal health care...   35.555556\n",
            "           Discharged/transferred to another short term ho...   14.778289\n",
            "           Left AMA                                              9.535452\n",
            "           Neonate discharged to another hospital for neon...   32.203390\n",
            ">30        Discharged to home                                   32.536039\n",
            "           Discharged/transferred to a federal health care...   20.000000\n",
            "           Discharged/transferred to another short term ho...   29.439696\n",
            "           Left AMA                                             27.628362\n",
            "           Neonate discharged to another hospital for neon...   35.593220\n",
            "NO         Discharged to home                                   60.131497\n",
            "           Discharged/transferred to a federal health care...   44.444444\n",
            "           Discharged/transferred to another Type of Healt...  100.000000\n",
            "           Discharged/transferred to another short term ho...   55.782015\n",
            "           Left AMA                                             62.836186\n",
            "           Neonate discharged to another hospital for neon...   32.203390\n"
          ]
        }
      ]
    },
    {
      "cell_type": "code",
      "source": [
        "plt.figure()\n",
        "sns.set_theme(style=\"whitegrid\")\n",
        "ax = sns.countplot(x = 'readmitted', data = data, hue = 'readmitted')\n",
        "handles, labels = ax.get_legend_handles_labels()\n",
        "ax.legend(handles, labels = ['Not Admitted', '>30', '<30'])\n",
        "plt.figure()\n",
        "data.readmitted.value_counts().plot.pie(autopct=\"%1.1f%%\", startangle=120,\n",
        "                                        textprops={'fontsize': 12, 'color':'#0a0a00'})"
      ],
      "metadata": {
        "colab": {
          "base_uri": "https://localhost:8080/",
          "height": 533
        },
        "id": "jEXBPdAcB01V",
        "outputId": "271009ea-da28-4708-bdf8-598c6bf080ce"
      },
      "execution_count": 120,
      "outputs": [
        {
          "output_type": "execute_result",
          "data": {
            "text/plain": [
              "<matplotlib.axes._subplots.AxesSubplot at 0x7f25834ce7d0>"
            ]
          },
          "metadata": {},
          "execution_count": 120
        },
        {
          "output_type": "display_data",
          "data": {
            "text/plain": [
              "<Figure size 432x288 with 1 Axes>"
            ],
            "image/png": "[encoded data removed]"
          },
          "metadata": {
            "needs_background": "light"
          }
        },
        {
          "output_type": "display_data",
          "data": {
            "text/plain": [
              "<Figure size 432x288 with 1 Axes>"
            ],
            "image/png": "[encoded data removed]"
          },
          "metadata": {}
        }
      ]
    },
    {
      "cell_type": "code",
      "source": [
        ""
      ],
      "metadata": {
        "id": "QD3rd4jGCzWM"
      },
      "execution_count": null,
      "outputs": []
    }
  ]
}