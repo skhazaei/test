{
  "nbformat": 4,
  "nbformat_minor": 0,
  "metadata": {
    "colab": {
      "name": "new_diabetes.ipynb",
      "provenance": [],
      "authorship_tag": "ABX9TyP2/ghgKkmsctktnRaVoRj4",
      "include_colab_link": true
    },
    "kernelspec": {
      "name": "python3",
      "display_name": "Python 3"
    },
    "language_info": {
      "name": "python"
    }
  },
  "cells": [
    {
      "cell_type": "markdown",
      "metadata": {
        "id": "view-in-github",
        "colab_type": "text"
      },
      "source": [
        "<a href=\"https://colab.research.google.com/github/skhazaei/test/blob/master/preprocessing_diabetes.ipynb\" target=\"_parent\"><img src=\"https://colab.research.google.com/assets/colab-badge.svg\" alt=\"Open In Colab\"/></a>"
      ]
    },
    {
      "cell_type": "code",
      "execution_count": 6,
      "metadata": {
        "id": "G4P_7MFycZGg"
      },
      "outputs": [],
      "source": [
        "import pandas as pd\n",
        "import numpy as np\n",
        "from prettytable import PrettyTable\n",
        "from collections import Counter\n",
        "import matplotlib.pyplot as plt\n",
        "import seaborn as sns\n",
        "import scipy\n",
        "import warnings\n",
        "warnings.filterwarnings(\"ignore\")\n",
        "from sklearn.neighbors import LocalOutlierFactor, KNeighborsClassifier\n",
        "from sklearn.model_selection import train_test_split\n",
        "from sklearn.metrics import classification_report, confusion_matrix, accuracy_score, roc_auc_score, precision_recall_fscore_support, roc_curve, f1_score\n",
        "from sklearn.preprocessing import StandardScaler\n",
        "from sklearn.tree import  DecisionTreeClassifier\n",
        "from sklearn.neural_network import MLPClassifier\n",
        "from sklearn.model_selection import cross_val_score, cross_validate\n",
        "from sklearn.ensemble import RandomForestClassifier, GradientBoostingClassifier\n",
        "from sklearn.linear_model import LogisticRegression\n",
        "from imblearn.under_sampling import RandomUnderSampler\n",
        "from imblearn.over_sampling import RandomOverSampler\n",
        "from imblearn.over_sampling import SMOTE\n",
        "from sklearn.model_selection import GridSearchCV"
      ]
    },
    {
      "cell_type": "code",
      "source": [
        "from pydrive.auth import GoogleAuth\n",
        "from pydrive.drive import GoogleDrive\n",
        "from google.colab import auth\n",
        "from oauth2client.client import GoogleCredentials"
      ],
      "metadata": {
        "id": "RVomM0UWes6f"
      },
      "execution_count": 2,
      "outputs": []
    },
    {
      "cell_type": "code",
      "source": [
        "auth.authenticate_user()\n",
        "gauth = GoogleAuth()\n",
        "gauth.credentials = GoogleCredentials.get_application_default()\n",
        "drive = GoogleDrive(gauth)"
      ],
      "metadata": {
        "id": "_EHkF84-e0N2"
      },
      "execution_count": 3,
      "outputs": []
    },
    {
      "cell_type": "code",
      "source": [
        "id = '1ExjM-usGlSbW2HUexdEFkhfwebr4243-'\n",
        "downloaded = drive.CreateFile({'id':id}) \n",
        "downloaded.GetContentFile('diabetic_data.csv')"
      ],
      "metadata": {
        "id": "6pg08Oiee3pl"
      },
      "execution_count": 4,
      "outputs": []
    },
    {
      "cell_type": "code",
      "source": [
        "data = pd.read_csv('diabetic_data.csv')"
      ],
      "metadata": {
        "id": "5RkidbAFe8Ds"
      },
      "execution_count": 7,
      "outputs": []
    },
    {
      "cell_type": "code",
      "source": [
        "data.shape"
      ],
      "metadata": {
        "colab": {
          "base_uri": "https://localhost:8080/"
        },
        "id": "BzjhJZ_8fEEI",
        "outputId": "4c5746cb-49f2-481c-fb9f-b70f69b3132f"
      },
      "execution_count": 9,
      "outputs": [
        {
          "output_type": "execute_result",
          "data": {
            "text/plain": [
              "(101766, 50)"
            ]
          },
          "metadata": {},
          "execution_count": 9
        }
      ]
    },
    {
      "cell_type": "markdown",
      "source": [
        "2. Dealing with Duplicate Records : We found out that, for some patient there are number of entries in the dataset these duplicate entries are not helpful in solving the task hence we removed these entries."
      ],
      "metadata": {
        "id": "-uNpPXo9fQuX"
      }
    },
    {
      "cell_type": "code",
      "source": [
        "print('Total data = ', len(data))\n",
        "print('Unique entries = ', len(np.unique(data['patient_nbr'])))\n",
        "unique_patients = data.drop_duplicates(['patient_nbr'], keep = 'first')\n",
        "unique_patients.shape"
      ],
      "metadata": {
        "colab": {
          "base_uri": "https://localhost:8080/"
        },
        "id": "t-4R5ftUfKAc",
        "outputId": "e1966205-c851-4d99-e4e6-1cd8424819f0"
      },
      "execution_count": 10,
      "outputs": [
        {
          "output_type": "stream",
          "name": "stdout",
          "text": [
            "Total data =  101766\n",
            "Unique entries =  71518\n"
          ]
        },
        {
          "output_type": "execute_result",
          "data": {
            "text/plain": [
              "(71518, 50)"
            ]
          },
          "metadata": {},
          "execution_count": 10
        }
      ]
    },
    {
      "cell_type": "code",
      "source": [
        "#data.dropna(inplace = True)\n",
        "#print('Total data = ', len(data))\n",
        "#print('Unique entries = ', len(np.unique(data['patient_nbr'])))\n",
        "data.drop_duplicates(['patient_nbr'], keep = 'first', inplace = True)\n",
        "#print('Length after removing Duplicates:', len(data))"
      ],
      "metadata": {
        "id": "OI9JHxsefTjy"
      },
      "execution_count": 11,
      "outputs": []
    },
    {
      "cell_type": "code",
      "source": [
        "data.shape"
      ],
      "metadata": {
        "colab": {
          "base_uri": "https://localhost:8080/"
        },
        "id": "mBzmgZ08fWiM",
        "outputId": "e2f46733-8084-4760-e30c-a6b28b6fd6f3"
      },
      "execution_count": 12,
      "outputs": [
        {
          "output_type": "execute_result",
          "data": {
            "text/plain": [
              "(71518, 50)"
            ]
          },
          "metadata": {},
          "execution_count": 12
        }
      ]
    },
    {
      "cell_type": "markdown",
      "source": [
        "4. Dealing with Missing Values : Missing values in this dataset are represented by ‘?’. Only very few of the columns have missing values. These are, ‘race', 'weight', 'payer_code', 'medical_specialty', 'diag_1', 'diag_2', 'diag_3'"
      ],
      "metadata": {
        "id": "YMUtkZcwfdtX"
      }
    },
    {
      "cell_type": "code",
      "source": [
        "t = PrettyTable(['Column Name', 'Missing Values', 'Missing Percentage'])\n",
        "for col in data.columns :\n",
        "    lenn = len(data[data[col] == '?'])\n",
        "    t.add_row([col,lenn,lenn / len(data)])\n",
        "print(t)"
      ],
      "metadata": {
        "colab": {
          "base_uri": "https://localhost:8080/"
        },
        "id": "UBYtR5JXfZcw",
        "outputId": "d4837a2f-550b-4212-cb00-925e8aea7234"
      },
      "execution_count": 13,
      "outputs": [
        {
          "output_type": "stream",
          "name": "stdout",
          "text": [
            "+--------------------------+----------------+-----------------------+\n",
            "|       Column Name        | Missing Values |   Missing Percentage  |\n",
            "+--------------------------+----------------+-----------------------+\n",
            "|       encounter_id       |       0        |          0.0          |\n",
            "|       patient_nbr        |       0        |          0.0          |\n",
            "|           race           |      1948      |  0.027237898151514305 |\n",
            "|          gender          |       0        |          0.0          |\n",
            "|           age            |       0        |          0.0          |\n",
            "|          weight          |     68665      |   0.960107944853044   |\n",
            "|    admission_type_id     |       0        |          0.0          |\n",
            "| discharge_disposition_id |       0        |          0.0          |\n",
            "|   admission_source_id    |       0        |          0.0          |\n",
            "|     time_in_hospital     |       0        |          0.0          |\n",
            "|        payer_code        |     31043      |   0.434058558684527   |\n",
            "|    medical_specialty     |     34477      |   0.4820744427976174  |\n",
            "|    num_lab_procedures    |       0        |          0.0          |\n",
            "|      num_procedures      |       0        |          0.0          |\n",
            "|     num_medications      |       0        |          0.0          |\n",
            "|    number_outpatient     |       0        |          0.0          |\n",
            "|     number_emergency     |       0        |          0.0          |\n",
            "|     number_inpatient     |       0        |          0.0          |\n",
            "|          diag_1          |       11       | 0.0001538074330937666 |\n",
            "|          diag_2          |      294       | 0.0041108532117788525 |\n",
            "|          diag_3          |      1225      |  0.017128555049078554 |\n",
            "|     number_diagnoses     |       0        |          0.0          |\n",
            "|      max_glu_serum       |       0        |          0.0          |\n",
            "|        A1Cresult         |       0        |          0.0          |\n",
            "|        metformin         |       0        |          0.0          |\n",
            "|       repaglinide        |       0        |          0.0          |\n",
            "|       nateglinide        |       0        |          0.0          |\n",
            "|      chlorpropamide      |       0        |          0.0          |\n",
            "|       glimepiride        |       0        |          0.0          |\n",
            "|      acetohexamide       |       0        |          0.0          |\n",
            "|        glipizide         |       0        |          0.0          |\n",
            "|        glyburide         |       0        |          0.0          |\n",
            "|       tolbutamide        |       0        |          0.0          |\n",
            "|       pioglitazone       |       0        |          0.0          |\n",
            "|      rosiglitazone       |       0        |          0.0          |\n",
            "|         acarbose         |       0        |          0.0          |\n",
            "|         miglitol         |       0        |          0.0          |\n",
            "|       troglitazone       |       0        |          0.0          |\n",
            "|        tolazamide        |       0        |          0.0          |\n",
            "|         examide          |       0        |          0.0          |\n",
            "|       citoglipton        |       0        |          0.0          |\n",
            "|         insulin          |       0        |          0.0          |\n",
            "|   glyburide-metformin    |       0        |          0.0          |\n",
            "|   glipizide-metformin    |       0        |          0.0          |\n",
            "| glimepiride-pioglitazone |       0        |          0.0          |\n",
            "| metformin-rosiglitazone  |       0        |          0.0          |\n",
            "|  metformin-pioglitazone  |       0        |          0.0          |\n",
            "|          change          |       0        |          0.0          |\n",
            "|       diabetesMed        |       0        |          0.0          |\n",
            "|        readmitted        |       0        |          0.0          |\n",
            "+--------------------------+----------------+-----------------------+\n"
          ]
        }
      ]
    },
    {
      "cell_type": "code",
      "source": [
        "columns_with_missed_values = data[['race', 'weight', 'payer_code', 'medical_specialty', 'diag_1', 'diag_2', 'diag_3']]"
      ],
      "metadata": {
        "id": "4mJTcc8xfgGp"
      },
      "execution_count": 14,
      "outputs": []
    },
    {
      "cell_type": "code",
      "source": [
        "t = PrettyTable(['Column Name', 'Missing Values', 'Missing Percentage'])\n",
        "for col in columns_with_missed_values.columns :\n",
        "    lenn = len(data[data[col] == '?'])\n",
        "    t.add_row([col,lenn,lenn / len(data)])\n",
        "print(t)"
      ],
      "metadata": {
        "colab": {
          "base_uri": "https://localhost:8080/"
        },
        "id": "uITPBbpofk1a",
        "outputId": "ee00d047-0f5e-4307-e807-0a4b7cc63cc6"
      },
      "execution_count": 15,
      "outputs": [
        {
          "output_type": "stream",
          "name": "stdout",
          "text": [
            "+-------------------+----------------+-----------------------+\n",
            "|    Column Name    | Missing Values |   Missing Percentage  |\n",
            "+-------------------+----------------+-----------------------+\n",
            "|        race       |      1948      |  0.027237898151514305 |\n",
            "|       weight      |     68665      |   0.960107944853044   |\n",
            "|     payer_code    |     31043      |   0.434058558684527   |\n",
            "| medical_specialty |     34477      |   0.4820744427976174  |\n",
            "|       diag_1      |       11       | 0.0001538074330937666 |\n",
            "|       diag_2      |      294       | 0.0041108532117788525 |\n",
            "|       diag_3      |      1225      |  0.017128555049078554 |\n",
            "+-------------------+----------------+-----------------------+\n"
          ]
        }
      ]
    },
    {
      "cell_type": "markdown",
      "source": [
        "Drop columns that are missing too much data"
      ],
      "metadata": {
        "id": "tYWm2ec4fz6C"
      }
    },
    {
      "cell_type": "code",
      "source": [
        "data = data.drop(['weight', 'payer_code'], axis=1)"
      ],
      "metadata": {
        "id": "A9HFgpqYfvdF"
      },
      "execution_count": 16,
      "outputs": []
    },
    {
      "cell_type": "markdown",
      "source": [
        "Remove null values Drop the rows where at least one element is missing."
      ],
      "metadata": {
        "id": "oANr-UB-f93H"
      }
    },
    {
      "cell_type": "code",
      "source": [
        "data.dropna(inplace = True)\n",
        "print('Total data = ', len(data))\n"
      ],
      "metadata": {
        "colab": {
          "base_uri": "https://localhost:8080/"
        },
        "id": "tdIdNs60f2iM",
        "outputId": "659913e8-cee8-49cf-c384-845af9a06c68"
      },
      "execution_count": 17,
      "outputs": [
        {
          "output_type": "stream",
          "name": "stdout",
          "text": [
            "Total data =  71518\n"
          ]
        }
      ]
    },
    {
      "cell_type": "code",
      "source": [
        "data.shape"
      ],
      "metadata": {
        "colab": {
          "base_uri": "https://localhost:8080/"
        },
        "id": "9tLgu76xgAkn",
        "outputId": "825fa559-26d8-42a2-9d87-d290d1aab233"
      },
      "execution_count": 18,
      "outputs": [
        {
          "output_type": "execute_result",
          "data": {
            "text/plain": [
              "(71518, 48)"
            ]
          },
          "metadata": {},
          "execution_count": 18
        }
      ]
    },
    {
      "cell_type": "code",
      "source": [
        "columns_with_missed_values = data[['race', 'medical_specialty', 'diag_1', 'diag_2', 'diag_3']]"
      ],
      "metadata": {
        "id": "Fjj6FhlQgOIi"
      },
      "execution_count": 20,
      "outputs": []
    },
    {
      "cell_type": "code",
      "source": [
        "t = PrettyTable(['Column Name', 'Missing Values', 'Missing Percentage'])\n",
        "for col in columns_with_missed_values.columns :\n",
        "    lenn = len(data[data[col] == '?'])\n",
        "    t.add_row([col,lenn,lenn / len(data)])\n",
        "print(t)"
      ],
      "metadata": {
        "colab": {
          "base_uri": "https://localhost:8080/"
        },
        "id": "VVsq666zgB9U",
        "outputId": "9914b22b-0832-4d5e-b959-21c7db4383df"
      },
      "execution_count": 21,
      "outputs": [
        {
          "output_type": "stream",
          "name": "stdout",
          "text": [
            "+-------------------+----------------+-----------------------+\n",
            "|    Column Name    | Missing Values |   Missing Percentage  |\n",
            "+-------------------+----------------+-----------------------+\n",
            "|        race       |      1948      |  0.027237898151514305 |\n",
            "| medical_specialty |     34477      |   0.4820744427976174  |\n",
            "|       diag_1      |       11       | 0.0001538074330937666 |\n",
            "|       diag_2      |      294       | 0.0041108532117788525 |\n",
            "|       diag_3      |      1225      |  0.017128555049078554 |\n",
            "+-------------------+----------------+-----------------------+\n"
          ]
        }
      ]
    },
    {
      "cell_type": "code",
      "source": [
        "print(data.shape)\n",
        "print('% data retained out of unique patients: ' + str(round(len(data.index)/71518 * 100,2)) + '%')\n",
        "print('% data retained out of all encounters: ' + str(round(len(data.index)/101766 * 100,2)) + '%')\n",
        "print(data.columns)"
      ],
      "metadata": {
        "colab": {
          "base_uri": "https://localhost:8080/"
        },
        "id": "y34WlpQ8gMOf",
        "outputId": "7de5c858-9d8f-49c1-8e53-2eb472260cd7"
      },
      "execution_count": 22,
      "outputs": [
        {
          "output_type": "stream",
          "name": "stdout",
          "text": [
            "(71518, 48)\n",
            "% data retained out of unique patients: 100.0%\n",
            "% data retained out of all encounters: 70.28%\n",
            "Index(['encounter_id', 'patient_nbr', 'race', 'gender', 'age',\n",
            "       'admission_type_id', 'discharge_disposition_id', 'admission_source_id',\n",
            "       'time_in_hospital', 'medical_specialty', 'num_lab_procedures',\n",
            "       'num_procedures', 'num_medications', 'number_outpatient',\n",
            "       'number_emergency', 'number_inpatient', 'diag_1', 'diag_2', 'diag_3',\n",
            "       'number_diagnoses', 'max_glu_serum', 'A1Cresult', 'metformin',\n",
            "       'repaglinide', 'nateglinide', 'chlorpropamide', 'glimepiride',\n",
            "       'acetohexamide', 'glipizide', 'glyburide', 'tolbutamide',\n",
            "       'pioglitazone', 'rosiglitazone', 'acarbose', 'miglitol', 'troglitazone',\n",
            "       'tolazamide', 'examide', 'citoglipton', 'insulin',\n",
            "       'glyburide-metformin', 'glipizide-metformin',\n",
            "       'glimepiride-pioglitazone', 'metformin-rosiglitazone',\n",
            "       'metformin-pioglitazone', 'change', 'diabetesMed', 'readmitted'],\n",
            "      dtype='object')\n"
          ]
        }
      ]
    },
    {
      "cell_type": "markdown",
      "source": [
        "Drop other columns without relevant information"
      ],
      "metadata": {
        "id": "4-nIpG48gehQ"
      }
    },
    {
      "cell_type": "code",
      "source": [
        "data = data.drop(['encounter_id', 'patient_nbr'], axis=1)\n",
        "data.columns"
      ],
      "metadata": {
        "colab": {
          "base_uri": "https://localhost:8080/"
        },
        "id": "nPhFqO7EgYDC",
        "outputId": "8de287ba-afb0-409e-b0ce-6e835e4503f5"
      },
      "execution_count": 23,
      "outputs": [
        {
          "output_type": "execute_result",
          "data": {
            "text/plain": [
              "Index(['race', 'gender', 'age', 'admission_type_id',\n",
              "       'discharge_disposition_id', 'admission_source_id', 'time_in_hospital',\n",
              "       'medical_specialty', 'num_lab_procedures', 'num_procedures',\n",
              "       'num_medications', 'number_outpatient', 'number_emergency',\n",
              "       'number_inpatient', 'diag_1', 'diag_2', 'diag_3', 'number_diagnoses',\n",
              "       'max_glu_serum', 'A1Cresult', 'metformin', 'repaglinide', 'nateglinide',\n",
              "       'chlorpropamide', 'glimepiride', 'acetohexamide', 'glipizide',\n",
              "       'glyburide', 'tolbutamide', 'pioglitazone', 'rosiglitazone', 'acarbose',\n",
              "       'miglitol', 'troglitazone', 'tolazamide', 'examide', 'citoglipton',\n",
              "       'insulin', 'glyburide-metformin', 'glipizide-metformin',\n",
              "       'glimepiride-pioglitazone', 'metformin-rosiglitazone',\n",
              "       'metformin-pioglitazone', 'change', 'diabetesMed', 'readmitted'],\n",
              "      dtype='object')"
            ]
          },
          "metadata": {},
          "execution_count": 23
        }
      ]
    },
    {
      "cell_type": "code",
      "source": [
        "data.shape"
      ],
      "metadata": {
        "colab": {
          "base_uri": "https://localhost:8080/"
        },
        "id": "_2XIPHnGghf-",
        "outputId": "8eec19cf-4e67-4182-da79-816249fc2414"
      },
      "execution_count": 24,
      "outputs": [
        {
          "output_type": "execute_result",
          "data": {
            "text/plain": [
              "(71518, 46)"
            ]
          },
          "metadata": {},
          "execution_count": 24
        }
      ]
    },
    {
      "cell_type": "markdown",
      "source": [
        "1. Age Feature : The values of age are given like [0–10),[10–20),[20–30) The age feature is not categorical but ordinal and hence we should convert it to numbers and treat it as numeric feature. We are converting age feature to numeric feature like below, [0–10) → 5, [10–20) → 15, [20–30) — -> 25"
      ],
      "metadata": {
        "id": "sW3l_i5fgoU0"
      }
    },
    {
      "cell_type": "code",
      "source": [
        "replaceDict = {'[0-10)' : 5,\n",
        "'[10-20)' : 15,\n",
        "'[20-30)' : 25, \n",
        "'[30-40)' : 35, \n",
        "'[40-50)' : 45, \n",
        "'[50-60)' : 55,\n",
        "'[60-70)' : 65, \n",
        "'[70-80)' : 75,\n",
        "'[80-90)' : 85,\n",
        "'[90-100)' : 95}\n",
        "\n",
        "data['age'] = data['age'].apply(lambda x : replaceDict[x])\n",
        "print(data['age'].head())"
      ],
      "metadata": {
        "colab": {
          "base_uri": "https://localhost:8080/"
        },
        "id": "IakwaGEhgj8k",
        "outputId": "f83c9029-8e57-4585-cd10-84027d60ed96"
      },
      "execution_count": 25,
      "outputs": [
        {
          "output_type": "stream",
          "name": "stdout",
          "text": [
            "0     5\n",
            "1    15\n",
            "2    25\n",
            "3    35\n",
            "4    45\n",
            "Name: age, dtype: int64\n"
          ]
        }
      ]
    },
    {
      "cell_type": "markdown",
      "source": [
        "6.2) Using domain knowledge on diag_1, diag_2, diag_3 : The diag_1 , diag_2 , diag_3 are categorical features but these features have lots unique values if we apply one hot encoding directly it will results in lots of features that will eventually invoke “curse of dimensionality” problem We will use the domain knowledge provided in the description file to create fewer categories.\n",
        "\n",
        "Circulatory → 390–459, 785 → Diseases of the circulatory system\n",
        "Respiratory → 460–519, 786 → Diseases of the respiratory system\n",
        "Digestive → 520–579, 787 → Diseases of the digestive system\n",
        "Diabetes → 250.xx → Diabetes mellitus\n",
        "Injury → 800–999 → Injury and poisoning\n",
        "Musculoskeletal → 710–739 → Diseases of the musculoskeletal system and connective tissue\n",
        "Genitourinary → 580–629, 788 → Diseases of the genitourinary system\n",
        "Neoplasms → 140–239 → Neoplasms\n",
        "Pregnecy → 630–679 → Complications of pregnancy, childbirth, and the puerperium\n",
        "Other\n",
        "We added Pregnancy as one category original description file kept it in ‘Other’ category but from research we found that Pregnancy creates unique type of diabetes and hence it make sense to keep it as separate category."
      ],
      "metadata": {
        "id": "j87rfQBhgvHO"
      }
    },
    {
      "cell_type": "code",
      "source": [
        "print(\"number of entries for diag_1= \", len((data['diag_1'])))  \n",
        "print(\"number of unique entries for diag_1= \", len(np.unique(data['diag_1'])))  \n",
        "print(\"number of entries for diag_2= \", len((data['diag_2'])))  \n",
        "print(\"number of unique entries for diag_2= \", len(np.unique(data['diag_2'])))  \n",
        "print(\"number of entries for diag_3= \", len((data['diag_3'])))  \n",
        "print(\"number of entries for diag_3= \", len(np.unique(data['diag_3'])))"
      ],
      "metadata": {
        "colab": {
          "base_uri": "https://localhost:8080/"
        },
        "id": "nsq_FNZ6grV0",
        "outputId": "fb50718e-e5d7-4306-e650-2a9891702ea6"
      },
      "execution_count": 29,
      "outputs": [
        {
          "output_type": "stream",
          "name": "stdout",
          "text": [
            "number of entries for diag_1=  71518\n",
            "number of unique entries for diag_1=  697\n",
            "number of entries for diag_2=  71518\n",
            "number of unique entries for diag_2=  726\n",
            "number of entries for diag_3=  71518\n",
            "number of entries for diag_3=  759\n"
          ]
        }
      ]
    },
    {
      "cell_type": "code",
      "source": [
        "columns_with_missed_values = data[['diag_1', 'diag_2', 'diag_3']]\n",
        "t = PrettyTable(['Column Name', 'Missing Values', 'Missing Percentage'])\n",
        "for col in columns_with_missed_values.columns :\n",
        "    lenn = len(data[data[col] == '?'])\n",
        "    t.add_row([col,lenn,lenn / len(data)])\n",
        "print(t)"
      ],
      "metadata": {
        "colab": {
          "base_uri": "https://localhost:8080/"
        },
        "id": "meYEDyP0gyDB",
        "outputId": "6f7dd7e3-19cd-43a6-ce1b-f16eec1e6a42"
      },
      "execution_count": 31,
      "outputs": [
        {
          "output_type": "stream",
          "name": "stdout",
          "text": [
            "+-------------+----------------+-----------------------+\n",
            "| Column Name | Missing Values |   Missing Percentage  |\n",
            "+-------------+----------------+-----------------------+\n",
            "|    diag_1   |       11       | 0.0001538074330937666 |\n",
            "|    diag_2   |      294       | 0.0041108532117788525 |\n",
            "|    diag_3   |      1225      |  0.017128555049078554 |\n",
            "+-------------+----------------+-----------------------+\n"
          ]
        }
      ]
    },
    {
      "cell_type": "code",
      "source": [
        "diag_1 = Counter(list(data['diag_1'])).most_common(1)[0][0]\n",
        "diag_2 = Counter(list(data['diag_2'])).most_common(1)[0][0]\n",
        "diag_3 = Counter(list(data['diag_3'])).most_common(1)[0][0]\n",
        "data['diag_1'] = data['diag_1'].apply(lambda x : diag_1 if x == '?' else x)\n",
        "data['diag_2'] = data['diag_2'].apply(lambda x : diag_2 if x == '?' else x)\n",
        "data['diag_3'] = data['diag_3'].apply(lambda x : diag_3 if x == '?' else x)"
      ],
      "metadata": {
        "id": "gDK0q-LnhedW"
      },
      "execution_count": 32,
      "outputs": []
    },
    {
      "cell_type": "code",
      "source": [
        "columns_with_missed_values = data[['diag_1', 'diag_2', 'diag_3']]\n",
        "t = PrettyTable(['Column Name', 'Missing Values', 'Missing Percentage'])\n",
        "for col in columns_with_missed_values.columns :\n",
        "    lenn = len(data[data[col] == '?'])\n",
        "    t.add_row([col,lenn,lenn / len(data)])\n",
        "print(t)"
      ],
      "metadata": {
        "colab": {
          "base_uri": "https://localhost:8080/"
        },
        "id": "IUyCqt17hqec",
        "outputId": "9fae0ab5-1e51-4897-c194-c6e3c3d42626"
      },
      "execution_count": 33,
      "outputs": [
        {
          "output_type": "stream",
          "name": "stdout",
          "text": [
            "+-------------+----------------+--------------------+\n",
            "| Column Name | Missing Values | Missing Percentage |\n",
            "+-------------+----------------+--------------------+\n",
            "|    diag_1   |       0        |        0.0         |\n",
            "|    diag_2   |       0        |        0.0         |\n",
            "|    diag_3   |       0        |        0.0         |\n",
            "+-------------+----------------+--------------------+\n"
          ]
        }
      ]
    },
    {
      "cell_type": "markdown",
      "source": [
        "The diag_1 , diag_2 , diag_3 are categorical features but they have lots unique values if we apply one hot encoding directely it will results in lots of feature values that will eventually invoke \"curse of dimensionality\" problem We will use the domain knowledge provided in the description of data to create fewer values."
      ],
      "metadata": {
        "id": "pWaXQv_nh26s"
      }
    },
    {
      "cell_type": "code",
      "source": [
        "# Replace diagnoses with category names\n",
        "#Circulatory: 390-459, 785\n",
        "#Respiratory: 460-519, 786\n",
        "#Digestive: 520-579, 787\n",
        "#Diabetes: 250.xx\n",
        "#Injury: 800-999\n",
        "#Musculoskeletal: 710-739\n",
        "#Genitourinary: 580-629, 788\n",
        "#Neoplasms: 140-239, \n",
        "#Other: \n",
        "#780, 781, 784, 790-799, 240-279 except 250, 680-709, 782, 001-139, 290-319\n",
        "#E-V (beginning with a letter), 280-289, 320-359, 630-679, 360-389, 740-759\n",
        "\n",
        "def categorize_diagnosis(diag):\n",
        "    if diag.isnumeric():\n",
        "        diag = int(diag)\n",
        "        if diag in range(390,460) or diag==785:\n",
        "            return 'Circulatory'\n",
        "        elif diag in range(460,520) or diag==786:\n",
        "            return 'Respiratory'\n",
        "        elif diag in range(520,580) or diag==787:\n",
        "            return 'Digestive'\n",
        "        elif diag in np.arange(250,260,0.01):\n",
        "            return 'Diabetes'\n",
        "        elif diag in range(800,1000):\n",
        "            return 'Injury'\n",
        "        elif diag in range(710,740):\n",
        "            return  'Musculoskeletal'\n",
        "        elif diag in range(580,630) or diag==788:\n",
        "            return  'Genitourinary'\n",
        "        elif diag in range(140,240):\n",
        "            return  'Neoplasms'\n",
        "        else:\n",
        "            return 'Other'\n",
        "    else:\n",
        "        if \"250\" in diag:\n",
        "            return 'Diabetes'\n",
        "        else:\n",
        "            return  'Other'"
      ],
      "metadata": {
        "id": "6iM8qf9Qhs0G"
      },
      "execution_count": 34,
      "outputs": []
    },
    {
      "cell_type": "code",
      "source": [
        "data['diag_1_desc'] = data.apply(lambda row: categorize_diagnosis(row['diag_1']), axis=1)\n",
        "data['diag_2_desc'] = data.apply(lambda row: categorize_diagnosis(row['diag_2']), axis=1)\n",
        "data['diag_3_desc'] = data.apply(lambda row: categorize_diagnosis(row['diag_3']), axis=1)\n",
        "\n",
        "# Remove original diagnosis features\n",
        "data.drop(columns=['diag_1', 'diag_2', 'diag_3'], inplace=True)\n",
        "data.columns"
      ],
      "metadata": {
        "colab": {
          "base_uri": "https://localhost:8080/"
        },
        "id": "s4Trmzuah53O",
        "outputId": "ae5f45ca-b115-438f-f291-15cf6adf4295"
      },
      "execution_count": 35,
      "outputs": [
        {
          "output_type": "execute_result",
          "data": {
            "text/plain": [
              "Index(['race', 'gender', 'age', 'admission_type_id',\n",
              "       'discharge_disposition_id', 'admission_source_id', 'time_in_hospital',\n",
              "       'medical_specialty', 'num_lab_procedures', 'num_procedures',\n",
              "       'num_medications', 'number_outpatient', 'number_emergency',\n",
              "       'number_inpatient', 'number_diagnoses', 'max_glu_serum', 'A1Cresult',\n",
              "       'metformin', 'repaglinide', 'nateglinide', 'chlorpropamide',\n",
              "       'glimepiride', 'acetohexamide', 'glipizide', 'glyburide', 'tolbutamide',\n",
              "       'pioglitazone', 'rosiglitazone', 'acarbose', 'miglitol', 'troglitazone',\n",
              "       'tolazamide', 'examide', 'citoglipton', 'insulin',\n",
              "       'glyburide-metformin', 'glipizide-metformin',\n",
              "       'glimepiride-pioglitazone', 'metformin-rosiglitazone',\n",
              "       'metformin-pioglitazone', 'change', 'diabetesMed', 'readmitted',\n",
              "       'diag_1_desc', 'diag_2_desc', 'diag_3_desc'],\n",
              "      dtype='object')"
            ]
          },
          "metadata": {},
          "execution_count": 35
        }
      ]
    },
    {
      "cell_type": "code",
      "source": [
        "data.shape"
      ],
      "metadata": {
        "colab": {
          "base_uri": "https://localhost:8080/"
        },
        "id": "xDDkH58gh9CU",
        "outputId": "9bf9ae3c-286c-47ef-8a68-bff4f17f3484"
      },
      "execution_count": 36,
      "outputs": [
        {
          "output_type": "execute_result",
          "data": {
            "text/plain": [
              "(71518, 46)"
            ]
          },
          "metadata": {},
          "execution_count": 36
        }
      ]
    },
    {
      "cell_type": "code",
      "source": [
        "print(\"number of entries for diag_1= \", len((data['diag_1_desc'])))  \n",
        "print(\"number of unique entries for diag_1= \", len(np.unique(data['diag_1_desc'])))  \n",
        "print(\"number of entries for diag_2= \", len((data['diag_2_desc'])))  \n",
        "print(\"number of unique entries for diag_2= \", len(np.unique(data['diag_2_desc'])))  \n",
        "print(\"number of entries for diag_3= \", len((data['diag_3_desc'])))  \n",
        "print(\"number of entries for diag_3= \", len(np.unique(data['diag_3_desc'])))"
      ],
      "metadata": {
        "colab": {
          "base_uri": "https://localhost:8080/"
        },
        "id": "j_If1VBRiEAm",
        "outputId": "c4bf7e19-343b-4386-dff6-b5590c6ab7ab"
      },
      "execution_count": 38,
      "outputs": [
        {
          "output_type": "stream",
          "name": "stdout",
          "text": [
            "number of entries for diag_1=  71518\n",
            "number of unique entries for diag_1=  9\n",
            "number of entries for diag_2=  71518\n",
            "number of unique entries for diag_2=  9\n",
            "number of entries for diag_3=  71518\n",
            "number of entries for diag_3=  9\n"
          ]
        }
      ]
    },
    {
      "cell_type": "markdown",
      "source": [
        "3- Drop encounters that resulted in discharge due to hospice or patient death Discharge Disposition ID corresponding to [11 or 13 or 14 or 19 or 20 or 21] indicates patient has expired so there is no chance that it will readmit again so we will remove these records.\n",
        "\n",
        "Discharge Disposition ID has lots of distinct values using domain knowledge we will convert them into small number of categories.\n",
        "\n",
        "ddi_cat1 = [6, 8, 9, 13] ddi_cat2 = [3, 4, 5, 14, 22, 23, 24] ddi_cat10 = [12, 15, 16, 17] ddi_cat11 = [19, 20, 21] ddi_cat18 = [25, 26]"
      ],
      "metadata": {
        "id": "2-cPdAxcij7L"
      }
    },
    {
      "cell_type": "code",
      "source": [
        "print(\"number of entries for discharge_disposition_id= \", len((data['discharge_disposition_id'])))  \n",
        "print(\"number of unique entries for discharge_disposition_id= \", len(np.unique(data['discharge_disposition_id'])))  "
      ],
      "metadata": {
        "colab": {
          "base_uri": "https://localhost:8080/"
        },
        "id": "1Ru-zV3siLRk",
        "outputId": "e1149389-bed8-4ad8-a40f-df9eaf449232"
      },
      "execution_count": 39,
      "outputs": [
        {
          "output_type": "stream",
          "name": "stdout",
          "text": [
            "number of entries for discharge_disposition_id=  71518\n",
            "number of unique entries for discharge_disposition_id=  26\n"
          ]
        }
      ]
    },
    {
      "cell_type": "code",
      "source": [
        "data['discharge_disposition_id'] = data['discharge_disposition_id'].apply(lambda x : 1 if int(x) in [6, 8, 9, 13] \n",
        "                                                                           else ( 2 if int(x) in [3, 4, 5, 14, 22, 23, 24]\n",
        "                                                                           else ( 10 if int(x) in [12, 15, 16, 17]\n",
        "                                                                           else ( 11 if int(x) in [19, 20, 21]\n",
        "                                                                           else ( 18 if int(x) in [25, 26] \n",
        "                                                                           else int(x) )))))\n",
        "\n",
        "data = data[~data.discharge_disposition_id.isin([11,13,14,19,20,21])]"
      ],
      "metadata": {
        "id": "eGDk0H1gi1js"
      },
      "execution_count": 40,
      "outputs": []
    },
    {
      "cell_type": "code",
      "source": [
        "print(\"number of entries for discharge_disposition_id= \", len((data['discharge_disposition_id'])))  \n",
        "print(\"number of unique entries for discharge_disposition_id= \", len(np.unique(data['discharge_disposition_id'])))  "
      ],
      "metadata": {
        "colab": {
          "base_uri": "https://localhost:8080/"
        },
        "id": "s5oirFkBi4aY",
        "outputId": "921b275e-4b8d-40f9-e9ec-fb333b8581d3"
      },
      "execution_count": 41,
      "outputs": [
        {
          "output_type": "stream",
          "name": "stdout",
          "text": [
            "number of entries for discharge_disposition_id=  70434\n",
            "number of unique entries for discharge_disposition_id=  7\n"
          ]
        }
      ]
    },
    {
      "cell_type": "markdown",
      "source": [
        "Admission Type ID :\n",
        "\n",
        "Similarly Admission Type ID can be converted into small number of categories ati_cat1 = [2, 7] ati_cat5 = [6, 8]"
      ],
      "metadata": {
        "id": "8XoQ-PGJi-OS"
      }
    },
    {
      "cell_type": "code",
      "source": [
        "print(\"number of entries for admission_type_id= \", len((data['admission_type_id'])))  \n",
        "print(\"number of unique entries for admission_type_id= \", len(np.unique(data['admission_type_id'])))  "
      ],
      "metadata": {
        "colab": {
          "base_uri": "https://localhost:8080/"
        },
        "id": "cr-F67YRjBxw",
        "outputId": "af7d6bd7-6618-47cc-c120-a48dd6059950"
      },
      "execution_count": 42,
      "outputs": [
        {
          "output_type": "stream",
          "name": "stdout",
          "text": [
            "number of entries for admission_type_id=  70434\n",
            "number of unique entries for admission_type_id=  8\n"
          ]
        }
      ]
    },
    {
      "cell_type": "code",
      "source": [
        "data['admission_type_id'] = data['admission_type_id'].apply(lambda x : 1 if int(x) in [2, 7]\n",
        "                                                            else ( 5 if int(x) in [6, 8]\n",
        "                                                            else int(x) ))"
      ],
      "metadata": {
        "id": "P6B2Ga75i6DJ"
      },
      "execution_count": 43,
      "outputs": []
    },
    {
      "cell_type": "code",
      "source": [
        "print(\"number of entries for admission_type_id= \", len((data['admission_type_id'])))  \n",
        "print(\"number of unique entries for admission_type_id= \", len(np.unique(data['admission_type_id'])))  "
      ],
      "metadata": {
        "colab": {
          "base_uri": "https://localhost:8080/"
        },
        "id": "bBpsidnXjKCK",
        "outputId": "a62d9643-269a-495d-bf18-97d98df6419b"
      },
      "execution_count": 44,
      "outputs": [
        {
          "output_type": "stream",
          "name": "stdout",
          "text": [
            "number of entries for admission_type_id=  70434\n",
            "number of unique entries for admission_type_id=  4\n"
          ]
        }
      ]
    },
    {
      "cell_type": "markdown",
      "source": [
        "Admission Source ID :\n",
        "\n",
        "Similarly Admission Source ID can be converted into small number of categories asi_cat1 = [2, 3] ati_cat4 = [5, 6, 10, 22, 25] ati_cat9 = [15, 17, 20, 21] ati_cat11 = [13, 17]"
      ],
      "metadata": {
        "id": "8np53ynojOSM"
      }
    },
    {
      "cell_type": "code",
      "source": [
        "print(\"number of entries for admission_source_id= \", len((data['admission_source_id'])))  \n",
        "print(\"number of unique entries for admission_source_id= \", len(np.unique(data['admission_source_id'])))  "
      ],
      "metadata": {
        "colab": {
          "base_uri": "https://localhost:8080/"
        },
        "id": "6OOuMFEujLZn",
        "outputId": "79144cdd-a49f-477d-b07a-2c24582a231d"
      },
      "execution_count": 46,
      "outputs": [
        {
          "output_type": "stream",
          "name": "stdout",
          "text": [
            "number of entries for admission_source_id=  70434\n",
            "number of unique entries for admission_source_id=  17\n"
          ]
        }
      ]
    },
    {
      "cell_type": "code",
      "source": [
        "data['admission_source_id'] = data['admission_source_id'].apply(lambda x : 1 if int(x) in [2, 3]\n",
        "                                                            else ( 4 if int(x) in [5, 6, 10, 22, 25]\n",
        "                                                            else ( 9 if int(x) in [15, 17, 20, 21]\n",
        "                                                            else ( 11 if int(x) in [13, 14]\n",
        "                                                            else int(x) ))))"
      ],
      "metadata": {
        "id": "g0fDO9uyjVAP"
      },
      "execution_count": 48,
      "outputs": []
    },
    {
      "cell_type": "code",
      "source": [
        "print(\"number of entries for admission_source_id= \", len((data['admission_source_id'])))  \n",
        "print(\"number of unique entries for admission_source_id= \", len(np.unique(data['admission_source_id'])))  "
      ],
      "metadata": {
        "colab": {
          "base_uri": "https://localhost:8080/"
        },
        "id": "EdDUVWBhjeu4",
        "outputId": "0524ac46-9df9-4634-8f8c-69c781293275"
      },
      "execution_count": 49,
      "outputs": [
        {
          "output_type": "stream",
          "name": "stdout",
          "text": [
            "number of entries for admission_source_id=  70434\n",
            "number of unique entries for admission_source_id=  6\n"
          ]
        }
      ]
    },
    {
      "cell_type": "code",
      "source": [
        "id2 = '1P9utjV8bW_-2jlJjLXpF-h_HqiyOhPUz'\n",
        "downloaded = drive.CreateFile({'id':id2}) \n",
        "downloaded.GetContentFile('discharge.csv')"
      ],
      "metadata": {
        "id": "sL-JguXtjiXG"
      },
      "execution_count": 50,
      "outputs": []
    },
    {
      "cell_type": "code",
      "source": [
        "discharge = pd.read_csv(\"discharge.csv\")"
      ],
      "metadata": {
        "id": "qqgE_z06jl84"
      },
      "execution_count": 52,
      "outputs": []
    },
    {
      "cell_type": "code",
      "source": [
        "id3 = '1CWdb1VPP3PNQIoPKbK0yHxXTygCpvj1l'\n",
        "downloaded = drive.CreateFile({'id':id3}) \n",
        "downloaded.GetContentFile('admission_type.csv')"
      ],
      "metadata": {
        "id": "1Qy9z51Zjo0v"
      },
      "execution_count": 53,
      "outputs": []
    },
    {
      "cell_type": "code",
      "source": [
        "admission_type = pd.read_csv(\"admission_type.csv\")\n"
      ],
      "metadata": {
        "id": "PCiJLtX9jvDX"
      },
      "execution_count": 54,
      "outputs": []
    },
    {
      "cell_type": "code",
      "source": [
        "admission_type"
      ],
      "metadata": {
        "colab": {
          "base_uri": "https://localhost:8080/",
          "height": 328
        },
        "id": "6xYZwTt5jwrj",
        "outputId": "c9612bbb-e655-428a-ba8a-1625b7e18aa7"
      },
      "execution_count": 55,
      "outputs": [
        {
          "output_type": "execute_result",
          "data": {
            "text/plain": [
              "   admission_type_id    description\n",
              "0                  0         ignore\n",
              "1                  1      Emergency\n",
              "2                  2         Urgent\n",
              "3                  3       Elective\n",
              "4                  4        Newborn\n",
              "5                  5  Not Available\n",
              "6                  6            NaN\n",
              "7                  7  Trauma Center\n",
              "8                  8     Not Mapped"
            ],
            "text/html": [
              "\n",
              "  <div id=\"df-d2e6a602-669a-42ff-9a84-726355a62612\">\n",
              "    <div class=\"colab-df-container\">\n",
              "      <div>\n",
              "<style scoped>\n",
              "    .dataframe tbody tr th:only-of-type {\n",
              "        vertical-align: middle;\n",
              "    }\n",
              "\n",
              "    .dataframe tbody tr th {\n",
              "        vertical-align: top;\n",
              "    }\n",
              "\n",
              "    .dataframe thead th {\n",
              "        text-align: right;\n",
              "    }\n",
              "</style>\n",
              "<table border=\"1\" class=\"dataframe\">\n",
              "  <thead>\n",
              "    <tr style=\"text-align: right;\">\n",
              "      <th></th>\n",
              "      <th>admission_type_id</th>\n",
              "      <th>description</th>\n",
              "    </tr>\n",
              "  </thead>\n",
              "  <tbody>\n",
              "    <tr>\n",
              "      <th>0</th>\n",
              "      <td>0</td>\n",
              "      <td>ignore</td>\n",
              "    </tr>\n",
              "    <tr>\n",
              "      <th>1</th>\n",
              "      <td>1</td>\n",
              "      <td>Emergency</td>\n",
              "    </tr>\n",
              "    <tr>\n",
              "      <th>2</th>\n",
              "      <td>2</td>\n",
              "      <td>Urgent</td>\n",
              "    </tr>\n",
              "    <tr>\n",
              "      <th>3</th>\n",
              "      <td>3</td>\n",
              "      <td>Elective</td>\n",
              "    </tr>\n",
              "    <tr>\n",
              "      <th>4</th>\n",
              "      <td>4</td>\n",
              "      <td>Newborn</td>\n",
              "    </tr>\n",
              "    <tr>\n",
              "      <th>5</th>\n",
              "      <td>5</td>\n",
              "      <td>Not Available</td>\n",
              "    </tr>\n",
              "    <tr>\n",
              "      <th>6</th>\n",
              "      <td>6</td>\n",
              "      <td>NaN</td>\n",
              "    </tr>\n",
              "    <tr>\n",
              "      <th>7</th>\n",
              "      <td>7</td>\n",
              "      <td>Trauma Center</td>\n",
              "    </tr>\n",
              "    <tr>\n",
              "      <th>8</th>\n",
              "      <td>8</td>\n",
              "      <td>Not Mapped</td>\n",
              "    </tr>\n",
              "  </tbody>\n",
              "</table>\n",
              "</div>\n",
              "      <button class=\"colab-df-convert\" onclick=\"convertToInteractive('df-d2e6a602-669a-42ff-9a84-726355a62612')\"\n",
              "              title=\"Convert this dataframe to an interactive table.\"\n",
              "              style=\"display:none;\">\n",
              "        \n",
              "  <svg xmlns=\"http://www.w3.org/2000/svg\" height=\"24px\"viewBox=\"0 0 24 24\"\n",
              "       width=\"24px\">\n",
              "    <path d=\"M0 0h24v24H0V0z\" fill=\"none\"/>\n",
              "    <path d=\"M18.56 5.44l.94 2.06.94-2.06 2.06-.94-2.06-.94-.94-2.06-.94 2.06-2.06.94zm-11 1L8.5 8.5l.94-2.06 2.06-.94-2.06-.94L8.5 2.5l-.94 2.06-2.06.94zm10 10l.94 2.06.94-2.06 2.06-.94-2.06-.94-.94-2.06-.94 2.06-2.06.94z\"/><path d=\"M17.41 7.96l-1.37-1.37c-.4-.4-.92-.59-1.43-.59-.52 0-1.04.2-1.43.59L10.3 9.45l-7.72 7.72c-.78.78-.78 2.05 0 2.83L4 21.41c.39.39.9.59 1.41.59.51 0 1.02-.2 1.41-.59l7.78-7.78 2.81-2.81c.8-.78.8-2.07 0-2.86zM5.41 20L4 18.59l7.72-7.72 1.47 1.35L5.41 20z\"/>\n",
              "  </svg>\n",
              "      </button>\n",
              "      \n",
              "  <style>\n",
              "    .colab-df-container {\n",
              "      display:flex;\n",
              "      flex-wrap:wrap;\n",
              "      gap: 12px;\n",
              "    }\n",
              "\n",
              "    .colab-df-convert {\n",
              "      background-color: #E8F0FE;\n",
              "      border: none;\n",
              "      border-radius: 50%;\n",
              "      cursor: pointer;\n",
              "      display: none;\n",
              "      fill: #1967D2;\n",
              "      height: 32px;\n",
              "      padding: 0 0 0 0;\n",
              "      width: 32px;\n",
              "    }\n",
              "\n",
              "    .colab-df-convert:hover {\n",
              "      background-color: #E2EBFA;\n",
              "      box-shadow: 0px 1px 2px rgba(60, 64, 67, 0.3), 0px 1px 3px 1px rgba(60, 64, 67, 0.15);\n",
              "      fill: #174EA6;\n",
              "    }\n",
              "\n",
              "    [theme=dark] .colab-df-convert {\n",
              "      background-color: #3B4455;\n",
              "      fill: #D2E3FC;\n",
              "    }\n",
              "\n",
              "    [theme=dark] .colab-df-convert:hover {\n",
              "      background-color: #434B5C;\n",
              "      box-shadow: 0px 1px 3px 1px rgba(0, 0, 0, 0.15);\n",
              "      filter: drop-shadow(0px 1px 2px rgba(0, 0, 0, 0.3));\n",
              "      fill: #FFFFFF;\n",
              "    }\n",
              "  </style>\n",
              "\n",
              "      <script>\n",
              "        const buttonEl =\n",
              "          document.querySelector('#df-d2e6a602-669a-42ff-9a84-726355a62612 button.colab-df-convert');\n",
              "        buttonEl.style.display =\n",
              "          google.colab.kernel.accessAllowed ? 'block' : 'none';\n",
              "\n",
              "        async function convertToInteractive(key) {\n",
              "          const element = document.querySelector('#df-d2e6a602-669a-42ff-9a84-726355a62612');\n",
              "          const dataTable =\n",
              "            await google.colab.kernel.invokeFunction('convertToInteractive',\n",
              "                                                     [key], {});\n",
              "          if (!dataTable) return;\n",
              "\n",
              "          const docLinkHtml = 'Like what you see? Visit the ' +\n",
              "            '<a target=\"_blank\" href=https://colab.research.google.com/notebooks/data_table.ipynb>data table notebook</a>'\n",
              "            + ' to learn more about interactive tables.';\n",
              "          element.innerHTML = '';\n",
              "          dataTable['output_type'] = 'display_data';\n",
              "          await google.colab.output.renderOutput(dataTable, element);\n",
              "          const docLink = document.createElement('div');\n",
              "          docLink.innerHTML = docLinkHtml;\n",
              "          element.appendChild(docLink);\n",
              "        }\n",
              "      </script>\n",
              "    </div>\n",
              "  </div>\n",
              "  "
            ]
          },
          "metadata": {},
          "execution_count": 55
        }
      ]
    },
    {
      "cell_type": "code",
      "source": [
        "id4 = '1yA37H6wjJwmlKiJfRTWHGBlXXRJ3VpY_'\n",
        "download = drive.CreateFile({'id': id4})\n",
        "download.GetContentFile(\"admission_source.csv\")"
      ],
      "metadata": {
        "id": "kmbfY8X5jzAI"
      },
      "execution_count": 56,
      "outputs": []
    },
    {
      "cell_type": "code",
      "source": [
        "admission_source = pd.read_csv(\"admission_source.csv\")"
      ],
      "metadata": {
        "id": "ey51q4bWj1HO"
      },
      "execution_count": 58,
      "outputs": []
    },
    {
      "cell_type": "markdown",
      "source": [
        "Add Three Columns of for IDs Mapping"
      ],
      "metadata": {
        "id": "JUNtpRiHj8hA"
      }
    },
    {
      "cell_type": "code",
      "source": [
        "data['admission_type'] = data['admission_type_id'].map(admission_type['description'])"
      ],
      "metadata": {
        "id": "ZBsgWVqGj3XE"
      },
      "execution_count": 59,
      "outputs": []
    },
    {
      "cell_type": "code",
      "source": [
        "data[['admission_type', 'admission_type_id']]\n"
      ],
      "metadata": {
        "colab": {
          "base_uri": "https://localhost:8080/",
          "height": 419
        },
        "id": "KdImjJY-j_Fa",
        "outputId": "3303a7c4-e2fc-4427-9886-687bf843696a"
      },
      "execution_count": 60,
      "outputs": [
        {
          "output_type": "execute_result",
          "data": {
            "text/plain": [
              "       admission_type  admission_type_id\n",
              "0       Not Available                  5\n",
              "1           Emergency                  1\n",
              "2           Emergency                  1\n",
              "3           Emergency                  1\n",
              "4           Emergency                  1\n",
              "...               ...                ...\n",
              "101754      Emergency                  1\n",
              "101755      Emergency                  1\n",
              "101756      Emergency                  1\n",
              "101758      Emergency                  1\n",
              "101765      Emergency                  1\n",
              "\n",
              "[70434 rows x 2 columns]"
            ],
            "text/html": [
              "\n",
              "  <div id=\"df-d4bdf81a-c105-4947-b46b-f75f5bb793db\">\n",
              "    <div class=\"colab-df-container\">\n",
              "      <div>\n",
              "<style scoped>\n",
              "    .dataframe tbody tr th:only-of-type {\n",
              "        vertical-align: middle;\n",
              "    }\n",
              "\n",
              "    .dataframe tbody tr th {\n",
              "        vertical-align: top;\n",
              "    }\n",
              "\n",
              "    .dataframe thead th {\n",
              "        text-align: right;\n",
              "    }\n",
              "</style>\n",
              "<table border=\"1\" class=\"dataframe\">\n",
              "  <thead>\n",
              "    <tr style=\"text-align: right;\">\n",
              "      <th></th>\n",
              "      <th>admission_type</th>\n",
              "      <th>admission_type_id</th>\n",
              "    </tr>\n",
              "  </thead>\n",
              "  <tbody>\n",
              "    <tr>\n",
              "      <th>0</th>\n",
              "      <td>Not Available</td>\n",
              "      <td>5</td>\n",
              "    </tr>\n",
              "    <tr>\n",
              "      <th>1</th>\n",
              "      <td>Emergency</td>\n",
              "      <td>1</td>\n",
              "    </tr>\n",
              "    <tr>\n",
              "      <th>2</th>\n",
              "      <td>Emergency</td>\n",
              "      <td>1</td>\n",
              "    </tr>\n",
              "    <tr>\n",
              "      <th>3</th>\n",
              "      <td>Emergency</td>\n",
              "      <td>1</td>\n",
              "    </tr>\n",
              "    <tr>\n",
              "      <th>4</th>\n",
              "      <td>Emergency</td>\n",
              "      <td>1</td>\n",
              "    </tr>\n",
              "    <tr>\n",
              "      <th>...</th>\n",
              "      <td>...</td>\n",
              "      <td>...</td>\n",
              "    </tr>\n",
              "    <tr>\n",
              "      <th>101754</th>\n",
              "      <td>Emergency</td>\n",
              "      <td>1</td>\n",
              "    </tr>\n",
              "    <tr>\n",
              "      <th>101755</th>\n",
              "      <td>Emergency</td>\n",
              "      <td>1</td>\n",
              "    </tr>\n",
              "    <tr>\n",
              "      <th>101756</th>\n",
              "      <td>Emergency</td>\n",
              "      <td>1</td>\n",
              "    </tr>\n",
              "    <tr>\n",
              "      <th>101758</th>\n",
              "      <td>Emergency</td>\n",
              "      <td>1</td>\n",
              "    </tr>\n",
              "    <tr>\n",
              "      <th>101765</th>\n",
              "      <td>Emergency</td>\n",
              "      <td>1</td>\n",
              "    </tr>\n",
              "  </tbody>\n",
              "</table>\n",
              "<p>70434 rows × 2 columns</p>\n",
              "</div>\n",
              "      <button class=\"colab-df-convert\" onclick=\"convertToInteractive('df-d4bdf81a-c105-4947-b46b-f75f5bb793db')\"\n",
              "              title=\"Convert this dataframe to an interactive table.\"\n",
              "              style=\"display:none;\">\n",
              "        \n",
              "  <svg xmlns=\"http://www.w3.org/2000/svg\" height=\"24px\"viewBox=\"0 0 24 24\"\n",
              "       width=\"24px\">\n",
              "    <path d=\"M0 0h24v24H0V0z\" fill=\"none\"/>\n",
              "    <path d=\"M18.56 5.44l.94 2.06.94-2.06 2.06-.94-2.06-.94-.94-2.06-.94 2.06-2.06.94zm-11 1L8.5 8.5l.94-2.06 2.06-.94-2.06-.94L8.5 2.5l-.94 2.06-2.06.94zm10 10l.94 2.06.94-2.06 2.06-.94-2.06-.94-.94-2.06-.94 2.06-2.06.94z\"/><path d=\"M17.41 7.96l-1.37-1.37c-.4-.4-.92-.59-1.43-.59-.52 0-1.04.2-1.43.59L10.3 9.45l-7.72 7.72c-.78.78-.78 2.05 0 2.83L4 21.41c.39.39.9.59 1.41.59.51 0 1.02-.2 1.41-.59l7.78-7.78 2.81-2.81c.8-.78.8-2.07 0-2.86zM5.41 20L4 18.59l7.72-7.72 1.47 1.35L5.41 20z\"/>\n",
              "  </svg>\n",
              "      </button>\n",
              "      \n",
              "  <style>\n",
              "    .colab-df-container {\n",
              "      display:flex;\n",
              "      flex-wrap:wrap;\n",
              "      gap: 12px;\n",
              "    }\n",
              "\n",
              "    .colab-df-convert {\n",
              "      background-color: #E8F0FE;\n",
              "      border: none;\n",
              "      border-radius: 50%;\n",
              "      cursor: pointer;\n",
              "      display: none;\n",
              "      fill: #1967D2;\n",
              "      height: 32px;\n",
              "      padding: 0 0 0 0;\n",
              "      width: 32px;\n",
              "    }\n",
              "\n",
              "    .colab-df-convert:hover {\n",
              "      background-color: #E2EBFA;\n",
              "      box-shadow: 0px 1px 2px rgba(60, 64, 67, 0.3), 0px 1px 3px 1px rgba(60, 64, 67, 0.15);\n",
              "      fill: #174EA6;\n",
              "    }\n",
              "\n",
              "    [theme=dark] .colab-df-convert {\n",
              "      background-color: #3B4455;\n",
              "      fill: #D2E3FC;\n",
              "    }\n",
              "\n",
              "    [theme=dark] .colab-df-convert:hover {\n",
              "      background-color: #434B5C;\n",
              "      box-shadow: 0px 1px 3px 1px rgba(0, 0, 0, 0.15);\n",
              "      filter: drop-shadow(0px 1px 2px rgba(0, 0, 0, 0.3));\n",
              "      fill: #FFFFFF;\n",
              "    }\n",
              "  </style>\n",
              "\n",
              "      <script>\n",
              "        const buttonEl =\n",
              "          document.querySelector('#df-d4bdf81a-c105-4947-b46b-f75f5bb793db button.colab-df-convert');\n",
              "        buttonEl.style.display =\n",
              "          google.colab.kernel.accessAllowed ? 'block' : 'none';\n",
              "\n",
              "        async function convertToInteractive(key) {\n",
              "          const element = document.querySelector('#df-d4bdf81a-c105-4947-b46b-f75f5bb793db');\n",
              "          const dataTable =\n",
              "            await google.colab.kernel.invokeFunction('convertToInteractive',\n",
              "                                                     [key], {});\n",
              "          if (!dataTable) return;\n",
              "\n",
              "          const docLinkHtml = 'Like what you see? Visit the ' +\n",
              "            '<a target=\"_blank\" href=https://colab.research.google.com/notebooks/data_table.ipynb>data table notebook</a>'\n",
              "            + ' to learn more about interactive tables.';\n",
              "          element.innerHTML = '';\n",
              "          dataTable['output_type'] = 'display_data';\n",
              "          await google.colab.output.renderOutput(dataTable, element);\n",
              "          const docLink = document.createElement('div');\n",
              "          docLink.innerHTML = docLinkHtml;\n",
              "          element.appendChild(docLink);\n",
              "        }\n",
              "      </script>\n",
              "    </div>\n",
              "  </div>\n",
              "  "
            ]
          },
          "metadata": {},
          "execution_count": 60
        }
      ]
    },
    {
      "cell_type": "code",
      "source": [
        "data['admission_source'] = data['admission_source_id'].map(admission_source['description'])\n"
      ],
      "metadata": {
        "id": "IBeUGNKTkBHO"
      },
      "execution_count": 61,
      "outputs": []
    },
    {
      "cell_type": "code",
      "source": [
        "data[['admission_source', 'admission_source_id']]"
      ],
      "metadata": {
        "colab": {
          "base_uri": "https://localhost:8080/",
          "height": 419
        },
        "id": "rdTBagSakES2",
        "outputId": "b28d7293-4de1-4e8d-c886-e9426a48542e"
      },
      "execution_count": 62,
      "outputs": [
        {
          "output_type": "execute_result",
          "data": {
            "text/plain": [
              "           admission_source  admission_source_id\n",
              "0        Physician Referral                    1\n",
              "1            Emergency Room                    7\n",
              "2            Emergency Room                    7\n",
              "3            Emergency Room                    7\n",
              "4            Emergency Room                    7\n",
              "...                     ...                  ...\n",
              "101754       Emergency Room                    7\n",
              "101755       Emergency Room                    7\n",
              "101756       Emergency Room                    7\n",
              "101758       Emergency Room                    7\n",
              "101765       Emergency Room                    7\n",
              "\n",
              "[70434 rows x 2 columns]"
            ],
            "text/html": [
              "\n",
              "  <div id=\"df-70be153b-83a1-48e3-85b3-d2c3909bc636\">\n",
              "    <div class=\"colab-df-container\">\n",
              "      <div>\n",
              "<style scoped>\n",
              "    .dataframe tbody tr th:only-of-type {\n",
              "        vertical-align: middle;\n",
              "    }\n",
              "\n",
              "    .dataframe tbody tr th {\n",
              "        vertical-align: top;\n",
              "    }\n",
              "\n",
              "    .dataframe thead th {\n",
              "        text-align: right;\n",
              "    }\n",
              "</style>\n",
              "<table border=\"1\" class=\"dataframe\">\n",
              "  <thead>\n",
              "    <tr style=\"text-align: right;\">\n",
              "      <th></th>\n",
              "      <th>admission_source</th>\n",
              "      <th>admission_source_id</th>\n",
              "    </tr>\n",
              "  </thead>\n",
              "  <tbody>\n",
              "    <tr>\n",
              "      <th>0</th>\n",
              "      <td>Physician Referral</td>\n",
              "      <td>1</td>\n",
              "    </tr>\n",
              "    <tr>\n",
              "      <th>1</th>\n",
              "      <td>Emergency Room</td>\n",
              "      <td>7</td>\n",
              "    </tr>\n",
              "    <tr>\n",
              "      <th>2</th>\n",
              "      <td>Emergency Room</td>\n",
              "      <td>7</td>\n",
              "    </tr>\n",
              "    <tr>\n",
              "      <th>3</th>\n",
              "      <td>Emergency Room</td>\n",
              "      <td>7</td>\n",
              "    </tr>\n",
              "    <tr>\n",
              "      <th>4</th>\n",
              "      <td>Emergency Room</td>\n",
              "      <td>7</td>\n",
              "    </tr>\n",
              "    <tr>\n",
              "      <th>...</th>\n",
              "      <td>...</td>\n",
              "      <td>...</td>\n",
              "    </tr>\n",
              "    <tr>\n",
              "      <th>101754</th>\n",
              "      <td>Emergency Room</td>\n",
              "      <td>7</td>\n",
              "    </tr>\n",
              "    <tr>\n",
              "      <th>101755</th>\n",
              "      <td>Emergency Room</td>\n",
              "      <td>7</td>\n",
              "    </tr>\n",
              "    <tr>\n",
              "      <th>101756</th>\n",
              "      <td>Emergency Room</td>\n",
              "      <td>7</td>\n",
              "    </tr>\n",
              "    <tr>\n",
              "      <th>101758</th>\n",
              "      <td>Emergency Room</td>\n",
              "      <td>7</td>\n",
              "    </tr>\n",
              "    <tr>\n",
              "      <th>101765</th>\n",
              "      <td>Emergency Room</td>\n",
              "      <td>7</td>\n",
              "    </tr>\n",
              "  </tbody>\n",
              "</table>\n",
              "<p>70434 rows × 2 columns</p>\n",
              "</div>\n",
              "      <button class=\"colab-df-convert\" onclick=\"convertToInteractive('df-70be153b-83a1-48e3-85b3-d2c3909bc636')\"\n",
              "              title=\"Convert this dataframe to an interactive table.\"\n",
              "              style=\"display:none;\">\n",
              "        \n",
              "  <svg xmlns=\"http://www.w3.org/2000/svg\" height=\"24px\"viewBox=\"0 0 24 24\"\n",
              "       width=\"24px\">\n",
              "    <path d=\"M0 0h24v24H0V0z\" fill=\"none\"/>\n",
              "    <path d=\"M18.56 5.44l.94 2.06.94-2.06 2.06-.94-2.06-.94-.94-2.06-.94 2.06-2.06.94zm-11 1L8.5 8.5l.94-2.06 2.06-.94-2.06-.94L8.5 2.5l-.94 2.06-2.06.94zm10 10l.94 2.06.94-2.06 2.06-.94-2.06-.94-.94-2.06-.94 2.06-2.06.94z\"/><path d=\"M17.41 7.96l-1.37-1.37c-.4-.4-.92-.59-1.43-.59-.52 0-1.04.2-1.43.59L10.3 9.45l-7.72 7.72c-.78.78-.78 2.05 0 2.83L4 21.41c.39.39.9.59 1.41.59.51 0 1.02-.2 1.41-.59l7.78-7.78 2.81-2.81c.8-.78.8-2.07 0-2.86zM5.41 20L4 18.59l7.72-7.72 1.47 1.35L5.41 20z\"/>\n",
              "  </svg>\n",
              "      </button>\n",
              "      \n",
              "  <style>\n",
              "    .colab-df-container {\n",
              "      display:flex;\n",
              "      flex-wrap:wrap;\n",
              "      gap: 12px;\n",
              "    }\n",
              "\n",
              "    .colab-df-convert {\n",
              "      background-color: #E8F0FE;\n",
              "      border: none;\n",
              "      border-radius: 50%;\n",
              "      cursor: pointer;\n",
              "      display: none;\n",
              "      fill: #1967D2;\n",
              "      height: 32px;\n",
              "      padding: 0 0 0 0;\n",
              "      width: 32px;\n",
              "    }\n",
              "\n",
              "    .colab-df-convert:hover {\n",
              "      background-color: #E2EBFA;\n",
              "      box-shadow: 0px 1px 2px rgba(60, 64, 67, 0.3), 0px 1px 3px 1px rgba(60, 64, 67, 0.15);\n",
              "      fill: #174EA6;\n",
              "    }\n",
              "\n",
              "    [theme=dark] .colab-df-convert {\n",
              "      background-color: #3B4455;\n",
              "      fill: #D2E3FC;\n",
              "    }\n",
              "\n",
              "    [theme=dark] .colab-df-convert:hover {\n",
              "      background-color: #434B5C;\n",
              "      box-shadow: 0px 1px 3px 1px rgba(0, 0, 0, 0.15);\n",
              "      filter: drop-shadow(0px 1px 2px rgba(0, 0, 0, 0.3));\n",
              "      fill: #FFFFFF;\n",
              "    }\n",
              "  </style>\n",
              "\n",
              "      <script>\n",
              "        const buttonEl =\n",
              "          document.querySelector('#df-70be153b-83a1-48e3-85b3-d2c3909bc636 button.colab-df-convert');\n",
              "        buttonEl.style.display =\n",
              "          google.colab.kernel.accessAllowed ? 'block' : 'none';\n",
              "\n",
              "        async function convertToInteractive(key) {\n",
              "          const element = document.querySelector('#df-70be153b-83a1-48e3-85b3-d2c3909bc636');\n",
              "          const dataTable =\n",
              "            await google.colab.kernel.invokeFunction('convertToInteractive',\n",
              "                                                     [key], {});\n",
              "          if (!dataTable) return;\n",
              "\n",
              "          const docLinkHtml = 'Like what you see? Visit the ' +\n",
              "            '<a target=\"_blank\" href=https://colab.research.google.com/notebooks/data_table.ipynb>data table notebook</a>'\n",
              "            + ' to learn more about interactive tables.';\n",
              "          element.innerHTML = '';\n",
              "          dataTable['output_type'] = 'display_data';\n",
              "          await google.colab.output.renderOutput(dataTable, element);\n",
              "          const docLink = document.createElement('div');\n",
              "          docLink.innerHTML = docLinkHtml;\n",
              "          element.appendChild(docLink);\n",
              "        }\n",
              "      </script>\n",
              "    </div>\n",
              "  </div>\n",
              "  "
            ]
          },
          "metadata": {},
          "execution_count": 62
        }
      ]
    },
    {
      "cell_type": "code",
      "source": [
        "data['discharge_disposition'] = data['discharge_disposition_id'].map(discharge['description'])"
      ],
      "metadata": {
        "id": "Ok37G8IhkGLl"
      },
      "execution_count": 63,
      "outputs": []
    },
    {
      "cell_type": "code",
      "source": [
        "data.shape"
      ],
      "metadata": {
        "colab": {
          "base_uri": "https://localhost:8080/"
        },
        "id": "T7KeehK7kIzj",
        "outputId": "f0503ca3-7e1c-4039-c9ba-a949dd5239f6"
      },
      "execution_count": 64,
      "outputs": [
        {
          "output_type": "execute_result",
          "data": {
            "text/plain": [
              "(70434, 49)"
            ]
          },
          "metadata": {},
          "execution_count": 64
        }
      ]
    },
    {
      "cell_type": "markdown",
      "source": [
        "lets analyse each and every feature one by one : lets remove them"
      ],
      "metadata": {
        "id": "kFltpP6nkUAf"
      }
    },
    {
      "cell_type": "code",
      "source": [
        "data.drop(data[data.gender == 'Unknown/Invalid'].index, inplace = True)"
      ],
      "metadata": {
        "id": "I54gOq_4kNHY"
      },
      "execution_count": 65,
      "outputs": []
    },
    {
      "cell_type": "code",
      "source": [
        "data.shape"
      ],
      "metadata": {
        "colab": {
          "base_uri": "https://localhost:8080/"
        },
        "id": "6QBEAastkRLC",
        "outputId": "7a4c9339-cae6-4ea9-f627-64095fd94f45"
      },
      "execution_count": 66,
      "outputs": [
        {
          "output_type": "execute_result",
          "data": {
            "text/plain": [
              "(70431, 49)"
            ]
          },
          "metadata": {},
          "execution_count": 66
        }
      ]
    },
    {
      "cell_type": "markdown",
      "source": [
        "Glucose Serum test : A blood glucose test is used to find out if your blood sugar levels are in the healthy range. It is often used to help diagnose and monitor diabetes.\n",
        "\n",
        "'>200' : 200 = indicates diabetes '>300' : 300 = Indicates diabetes 'Norm' : 100 = Normal 'None' : 0 = test was not taken"
      ],
      "metadata": {
        "id": "NFi1uGfAkdTf"
      }
    },
    {
      "cell_type": "code",
      "source": [
        "print(\"number of entries for max_glu_serum= \", len((data['max_glu_serum'])))  \n",
        "print(\"number of unique entries for max_glu_serum= \", len(np.unique(data['max_glu_serum'])))  "
      ],
      "metadata": {
        "colab": {
          "base_uri": "https://localhost:8080/"
        },
        "id": "ZqwLI-j_kh0A",
        "outputId": "c91d5095-1ede-4f32-c164-b77fbc56b237"
      },
      "execution_count": 68,
      "outputs": [
        {
          "output_type": "stream",
          "name": "stdout",
          "text": [
            "number of entries for max_glu_serum=  70431\n",
            "number of unique entries for max_glu_serum=  4\n"
          ]
        }
      ]
    },
    {
      "cell_type": "code",
      "source": [
        "data['max_glu_serum'] = data['max_glu_serum'].apply(lambda x : 200 if x == '>200' \n",
        "                                                            else ( 300 if x == '>300'                                                          \n",
        "                                                            else ( 100 if x == 'Norm'\n",
        "                                                            else  0)))"
      ],
      "metadata": {
        "id": "oL52FIyFkXak"
      },
      "execution_count": 69,
      "outputs": []
    },
    {
      "cell_type": "code",
      "source": [
        "print(\"number of entries for max_glu_serum= \", len((data['max_glu_serum'])))  \n",
        "print(\"number of unique entries for max_glu_serum= \", len(np.unique(data['max_glu_serum'])))  "
      ],
      "metadata": {
        "colab": {
          "base_uri": "https://localhost:8080/"
        },
        "id": "P6ywWzFdkgPP",
        "outputId": "f076eb61-f5b3-4509-fa50-000af3cc0152"
      },
      "execution_count": 70,
      "outputs": [
        {
          "output_type": "stream",
          "name": "stdout",
          "text": [
            "number of entries for max_glu_serum=  70431\n",
            "number of unique entries for max_glu_serum=  1\n"
          ]
        }
      ]
    },
    {
      "cell_type": "markdown",
      "source": [
        "A1C test : An A1C test is a blood test that reflects your average blood glucose levels over the past 3 months\n",
        "\n",
        "'>7' : 7 '>8' : 8 Norm : 5 = Normal None : 0 = Test was not taken"
      ],
      "metadata": {
        "id": "sz4chHbTk_0a"
      }
    },
    {
      "cell_type": "code",
      "source": [
        "print(\"number of entries for A1Cresult= \", len((data['A1Cresult'])))  \n",
        "print(\"number of unique entries for A1Cresult= \", len(np.unique(data['A1Cresult'])))  "
      ],
      "metadata": {
        "colab": {
          "base_uri": "https://localhost:8080/"
        },
        "id": "Lsns1XqikxMW",
        "outputId": "3648a38e-f5ce-4f19-fde8-6fd38c5b6131"
      },
      "execution_count": 71,
      "outputs": [
        {
          "output_type": "stream",
          "name": "stdout",
          "text": [
            "number of entries for A1Cresult=  70431\n",
            "number of unique entries for A1Cresult=  4\n"
          ]
        }
      ]
    },
    {
      "cell_type": "code",
      "source": [
        "data['A1Cresult'] = data['A1Cresult'].apply(lambda x : 7 if x == '>7' \n",
        "                                                         else (8 if  x == '>8'                                                        \n",
        "                                                         else ( 5 if x == 'Norm'\n",
        "                                                         else  0)))"
      ],
      "metadata": {
        "id": "O1f_n7J5lGsR"
      },
      "execution_count": 72,
      "outputs": []
    },
    {
      "cell_type": "code",
      "source": [
        "print(\"number of entries for A1Cresult= \", len((data['A1Cresult'])))  \n",
        "print(\"number of unique entries for A1Cresult= \", len(np.unique(data['A1Cresult'])))  "
      ],
      "metadata": {
        "colab": {
          "base_uri": "https://localhost:8080/"
        },
        "id": "dAM5lmYNlJjo",
        "outputId": "65456d37-5659-4342-c085-11731df13397"
      },
      "execution_count": 73,
      "outputs": [
        {
          "output_type": "stream",
          "name": "stdout",
          "text": [
            "number of entries for A1Cresult=  70431\n",
            "number of unique entries for A1Cresult=  4\n"
          ]
        }
      ]
    },
    {
      "cell_type": "code",
      "source": [
        "print(\"number of entries for change= \", len((data['change'])))  \n",
        "print(\"number of unique entries for change= \", len(np.unique(data['change'])))  \n",
        "print(data['change'].value_counts())"
      ],
      "metadata": {
        "colab": {
          "base_uri": "https://localhost:8080/"
        },
        "id": "NuZVwNkxlLjl",
        "outputId": "97be407b-d44a-4927-9a59-020cc1917193"
      },
      "execution_count": 77,
      "outputs": [
        {
          "output_type": "stream",
          "name": "stdout",
          "text": [
            "number of entries for change=  70431\n",
            "number of unique entries for change=  2\n",
            "-1    38769\n",
            " 1    31662\n",
            "Name: change, dtype: int64\n"
          ]
        }
      ]
    },
    {
      "cell_type": "code",
      "source": [
        "data['change'] = data['change'].apply(lambda x : 1 if x == 'Ch'\n",
        "                                                 else -1)"
      ],
      "metadata": {
        "id": "ml8ulu4ilXuu"
      },
      "execution_count": 78,
      "outputs": []
    },
    {
      "cell_type": "code",
      "source": [
        "print(\"number of entries for change= \", len((data['change'])))  \n",
        "print(\"number of unique entries for change= \", len(np.unique(data['change'])))  \n",
        "print(data['change'].value_counts())"
      ],
      "metadata": {
        "colab": {
          "base_uri": "https://localhost:8080/"
        },
        "id": "l9NzX9JXlaFy",
        "outputId": "c1191767-69ec-4607-a42c-b284b7a47b10"
      },
      "execution_count": 79,
      "outputs": [
        {
          "output_type": "stream",
          "name": "stdout",
          "text": [
            "number of entries for change=  70431\n",
            "number of unique entries for change=  1\n",
            "-1    70431\n",
            "Name: change, dtype: int64\n"
          ]
        }
      ]
    },
    {
      "cell_type": "code",
      "source": [
        "print(\"number of entries for diabetesMed= \", len((data['diabetesMed'])))  \n",
        "print(\"number of unique entries for diabetesMed= \", len(np.unique(data['diabetesMed'])))  \n",
        "print(data['diabetesMed'].value_counts())"
      ],
      "metadata": {
        "colab": {
          "base_uri": "https://localhost:8080/"
        },
        "id": "Ze0JKcIqlyzS",
        "outputId": "e32ef50d-310d-42de-c61b-d2ce95511301"
      },
      "execution_count": 80,
      "outputs": [
        {
          "output_type": "stream",
          "name": "stdout",
          "text": [
            "number of entries for diabetesMed=  70431\n",
            "number of unique entries for diabetesMed=  2\n",
            "Yes    53606\n",
            "No     16825\n",
            "Name: diabetesMed, dtype: int64\n"
          ]
        }
      ]
    },
    {
      "cell_type": "code",
      "source": [
        "data['diabetesMed'] = data['diabetesMed'].apply(lambda x : -1 if x == 'No'\n",
        "                                                else 1)"
      ],
      "metadata": {
        "id": "YjdPnouglqHa"
      },
      "execution_count": 81,
      "outputs": []
    },
    {
      "cell_type": "code",
      "source": [
        "print(\"number of entries for diabetesMed= \", len((data['diabetesMed'])))  \n",
        "print(\"number of unique entries for diabetesMed= \", len(np.unique(data['diabetesMed'])))  \n",
        "print(data['diabetesMed'].value_counts())"
      ],
      "metadata": {
        "colab": {
          "base_uri": "https://localhost:8080/"
        },
        "id": "LRbquC-8l44J",
        "outputId": "abef9bc8-7223-4852-fe40-8e1fc388188c"
      },
      "execution_count": 82,
      "outputs": [
        {
          "output_type": "stream",
          "name": "stdout",
          "text": [
            "number of entries for diabetesMed=  70431\n",
            "number of unique entries for diabetesMed=  2\n",
            " 1    53606\n",
            "-1    16825\n",
            "Name: diabetesMed, dtype: int64\n"
          ]
        }
      ]
    },
    {
      "cell_type": "code",
      "source": [
        "print(\"number of entries for race= \", len((data['race'])))  \n",
        "print(\"number of unique entries for race= \", len(np.unique(data['race'])))  \n",
        "print(data['race'].value_counts())"
      ],
      "metadata": {
        "colab": {
          "base_uri": "https://localhost:8080/"
        },
        "id": "-jat-zB7mO6l",
        "outputId": "cb94cd55-f689-47ef-d9a6-d417589feb4e"
      },
      "execution_count": 84,
      "outputs": [
        {
          "output_type": "stream",
          "name": "stdout",
          "text": [
            "number of entries for race=  70431\n",
            "number of unique entries for race=  5\n",
            "Caucasian          54582\n",
            "AfricanAmerican    12692\n",
            "Hispanic            1506\n",
            "Other               1160\n",
            "Asian                491\n",
            "Name: race, dtype: int64\n"
          ]
        }
      ]
    },
    {
      "cell_type": "code",
      "source": [
        "data['race'] = data['race'].apply(lambda x : np.nan if x == '?' else x)\n",
        "data[\"race\"].fillna(data[\"race\"].mode()[0], inplace = True)"
      ],
      "metadata": {
        "id": "RYxzEg-El7eL"
      },
      "execution_count": 83,
      "outputs": []
    },
    {
      "cell_type": "code",
      "source": [
        "print(\"number of entries for race= \", len((data['race'])))  \n",
        "print(\"number of unique entries for race= \", len(np.unique(data['race'])))  \n",
        "print(data['race'].value_counts())"
      ],
      "metadata": {
        "colab": {
          "base_uri": "https://localhost:8080/"
        },
        "id": "BmPqI2PrmKXQ",
        "outputId": "1628ef7e-db92-4075-f2e4-6cda6b7a30b9"
      },
      "execution_count": 85,
      "outputs": [
        {
          "output_type": "stream",
          "name": "stdout",
          "text": [
            "number of entries for race=  70431\n",
            "number of unique entries for race=  5\n",
            "Caucasian          54582\n",
            "AfricanAmerican    12692\n",
            "Hispanic            1506\n",
            "Other               1160\n",
            "Asian                491\n",
            "Name: race, dtype: int64\n"
          ]
        }
      ]
    },
    {
      "cell_type": "code",
      "source": [
        "columns_with_missed_values = data[['race']]\n",
        "t = PrettyTable(['Column Name', 'Missing Values', 'Missing Percentage'])\n",
        "for col in columns_with_missed_values.columns :\n",
        "    lenn = len(data[data[col] == '?'])\n",
        "    t.add_row([col,lenn,lenn / len(data)])\n",
        "print(t)"
      ],
      "metadata": {
        "colab": {
          "base_uri": "https://localhost:8080/"
        },
        "id": "ax5_MBARmYop",
        "outputId": "80f82db5-9212-49f0-9d93-8ebf5e2aada8"
      },
      "execution_count": 86,
      "outputs": [
        {
          "output_type": "stream",
          "name": "stdout",
          "text": [
            "+-------------+----------------+--------------------+\n",
            "| Column Name | Missing Values | Missing Percentage |\n",
            "+-------------+----------------+--------------------+\n",
            "|     race    |       0        |        0.0         |\n",
            "+-------------+----------------+--------------------+\n"
          ]
        }
      ]
    },
    {
      "cell_type": "code",
      "source": [
        "data.shape"
      ],
      "metadata": {
        "colab": {
          "base_uri": "https://localhost:8080/"
        },
        "id": "MpbOmDsEmqIY",
        "outputId": "d54f9555-6380-41ea-ff8c-2ddc5e741442"
      },
      "execution_count": 87,
      "outputs": [
        {
          "output_type": "execute_result",
          "data": {
            "text/plain": [
              "(70431, 49)"
            ]
          },
          "metadata": {},
          "execution_count": 87
        }
      ]
    },
    {
      "cell_type": "code",
      "source": [
        "data.drop(columns=['admission_type_id', 'admission_source_id', 'discharge_disposition_id'], inplace=True)"
      ],
      "metadata": {
        "id": "RIetoRS1mu8q"
      },
      "execution_count": 88,
      "outputs": []
    },
    {
      "cell_type": "code",
      "source": [
        "data.shape"
      ],
      "metadata": {
        "colab": {
          "base_uri": "https://localhost:8080/"
        },
        "id": "JX3BHZipmv-B",
        "outputId": "94dc7bd4-9c74-49f5-da32-e04e3a53d478"
      },
      "execution_count": 89,
      "outputs": [
        {
          "output_type": "execute_result",
          "data": {
            "text/plain": [
              "(70431, 46)"
            ]
          },
          "metadata": {},
          "execution_count": 89
        }
      ]
    },
    {
      "cell_type": "markdown",
      "source": [
        "6.1) Using Domain knowledge on Medical Speciality Feature :\n",
        "\n",
        "After research we found that medical_specialty is important feature however it has too many distinct values so when we apply one hot encoding it will unnecessarily create lots of features. To group them into smaller number of categories we used frequency based approach and domain knowledge like all kind of surgeons should be placed under ‘surgeon’ category. We failed to group below medical specialty so we grouped them into ‘ungrouped’ category.\n",
        "\n",
        "Endocrinology →glands\n",
        "Gastroenterology →stomach\n",
        "Gynecology →women reproduction system\n",
        "Hematology →Blood\n",
        "Hematology/Oncology →Blood\n",
        "Hospitalist →one who takes care of admitted patients\n",
        "Oncology →cancer\n",
        "Ophthalmology →eye\n",
        "otolaryngology →ears\n",
        "nose, and throat\n",
        "Pulmonology →respiratory\n",
        "Radiology — diagnosing and treating injuries and diseases using medical imaging (radiology) procedures (exams/tests) such as X-rays"
      ],
      "metadata": {
        "id": "fU1JVWGym0hE"
      }
    },
    {
      "cell_type": "code",
      "source": [
        "print(\"number of entries for medical_specialty= \", len((data['medical_specialty'])))  \n",
        "print(\"number of unique entries for medical_specialty= \", len(np.unique(data['medical_specialty'])))  \n",
        "print(data['medical_specialty'].value_counts())"
      ],
      "metadata": {
        "colab": {
          "base_uri": "https://localhost:8080/"
        },
        "id": "tEVp3SCKm0K6",
        "outputId": "3af0caa3-0973-4239-cf76-391924c4c6d8"
      },
      "execution_count": 90,
      "outputs": [
        {
          "output_type": "stream",
          "name": "stdout",
          "text": [
            "number of entries for medical_specialty=  70431\n",
            "number of unique entries for medical_specialty=  71\n",
            "?                                   33935\n",
            "InternalMedicine                    10707\n",
            "Family/GeneralPractice               5012\n",
            "Emergency/Trauma                     4406\n",
            "Cardiology                           4219\n",
            "                                    ...  \n",
            "SportsMedicine                          1\n",
            "Dermatology                             1\n",
            "Proctology                              1\n",
            "Surgery-PlasticwithinHeadandNeck        1\n",
            "Resident                                1\n",
            "Name: medical_specialty, Length: 71, dtype: int64\n"
          ]
        }
      ]
    },
    {
      "cell_type": "code",
      "source": [
        "columns_with_missed_values = data[['medical_specialty']]\n",
        "t = PrettyTable(['Column Name', 'Missing Values', 'Missing Percentage'])\n",
        "for col in columns_with_missed_values.columns :\n",
        "    lenn = len(data[data[col] == '?'])\n",
        "    t.add_row([col,lenn,lenn / len(data)])\n",
        "print(t)"
      ],
      "metadata": {
        "colab": {
          "base_uri": "https://localhost:8080/"
        },
        "id": "HO3qOJ4Nmw_5",
        "outputId": "8a452a0d-4922-41b7-baae-b57532160a3c"
      },
      "execution_count": 91,
      "outputs": [
        {
          "output_type": "stream",
          "name": "stdout",
          "text": [
            "+-------------------+----------------+--------------------+\n",
            "|    Column Name    | Missing Values | Missing Percentage |\n",
            "+-------------------+----------------+--------------------+\n",
            "| medical_specialty |     33935      | 0.4818190853459414 |\n",
            "+-------------------+----------------+--------------------+\n"
          ]
        }
      ]
    },
    {
      "cell_type": "code",
      "source": [
        "high_frequency = ['InternalMedicine', 'Family/GeneralPractice', 'Cardiology', 'Surgery-General', 'Orthopedics', 'Orthopedics-Reconstructive', \n",
        "                 'Emergency/Trauma', 'Urology','ObstetricsandGynecology','Psychiatry','Pulmonology ','Nephrology','Radiologist']\n",
        "\n",
        "low_frequency = ['Surgery-PlasticwithinHeadandNeck','Psychiatry-Addictive','Proctology','Dermatology','SportsMedicine','Speech','Perinatology',\\\n",
        "                'Neurophysiology','Resident','Pediatrics-Hematology-Oncology','Pediatrics-EmergencyMedicine','Dentistry','DCPTEAM','Psychiatry-Child/Adolescent',\\\n",
        "                'Pediatrics-Pulmonology','Surgery-Pediatric','AllergyandImmunology','Pediatrics-Neurology','Anesthesiology','Pathology','Cardiology-Pediatric',\\\n",
        "                'Endocrinology-Metabolism','PhysicianNotFound','Surgery-Colon&Rectal','OutreachServices',\\\n",
        "                'Surgery-Maxillofacial','Rheumatology','Anesthesiology-Pediatric','Obstetrics','Obsterics&Gynecology-GynecologicOnco']\n",
        "\n",
        "pediatrics = ['Pediatrics','Pediatrics-CriticalCare','Pediatrics-EmergencyMedicine','Pediatrics-Endocrinology','Pediatrics-Hematology-Oncology',\\\n",
        "               'Pediatrics-Neurology','Pediatrics-Pulmonology', 'Anesthesiology-Pediatric', 'Cardiology-Pediatric', 'Surgery-Pediatric']\n",
        "\n",
        "psychic = ['Psychiatry-Addictive', 'Psychology', 'Psychiatry',  'Psychiatry-Child/Adolescent', 'PhysicalMedicineandRehabilitation', 'Osteopath']\n",
        "\n",
        "\n",
        "neurology = ['Neurology', 'Surgery-Neuro',  'Pediatrics-Neurology', 'Neurophysiology']\n",
        "\n",
        "\n",
        "surgery = ['Surgeon', 'Surgery-Cardiovascular', \\\n",
        "          'Surgery-Cardiovascular/Thoracic', 'Surgery-Colon&Rectal', 'Surgery-General', 'Surgery-Maxillofacial', \\\n",
        "             'Surgery-Plastic', 'Surgery-PlasticwithinHeadandNeck',  'Surgery-Thoracic',\\\n",
        "             'Surgery-Vascular', 'SurgicalSpecialty', 'Podiatry']\n",
        "             \n",
        "ungrouped = ['Endocrinology','Gastroenterology','Gynecology','Hematology','Hematology/Oncology','Hospitalist','InfectiousDiseases',\\\n",
        "           'Oncology','Ophthalmology','Otolaryngology','Pulmonology','Radiology']"
      ],
      "metadata": {
        "id": "lSZ4ZScGnaE1"
      },
      "execution_count": 93,
      "outputs": []
    },
    {
      "cell_type": "code",
      "source": [
        "missing = ['?']\n",
        "\n",
        "colMedical = []\n",
        "\n",
        "for val in data['medical_specialty'] :\n",
        "    if val in pediatrics :\n",
        "        colMedical.append('pediatrics')\n",
        "    elif val in psychic :\n",
        "        colMedical.append('psychic')\n",
        "    elif val in neurology :\n",
        "        colMedical.append('neurology')\n",
        "    elif val in surgery :\n",
        "        colMedical.append('surgery')\n",
        "    elif val in high_frequency :\n",
        "        colMedical.append('high_freq')\n",
        "    elif val in low_frequency :\n",
        "        colMedical.append('low_freq')\n",
        "    elif val in ungrouped :\n",
        "        colMedical.append('ungrouped')\n",
        "    elif val in missing :\n",
        "        colMedical.append('missing')"
      ],
      "metadata": {
        "id": "r7g-Lkt1nIQq"
      },
      "execution_count": 94,
      "outputs": []
    },
    {
      "cell_type": "code",
      "source": [
        "data['medical_specialty'] = colMedical"
      ],
      "metadata": {
        "id": "JyQlH7WVnmQ6"
      },
      "execution_count": 96,
      "outputs": []
    },
    {
      "cell_type": "code",
      "source": [
        "print(\"number of entries for medical_specialty= \", len((data['medical_specialty'])))  \n",
        "print(\"number of unique entries for medical_specialty= \", len(np.unique(data['medical_specialty'])))  \n",
        "print(data['medical_specialty'].value_counts())"
      ],
      "metadata": {
        "colab": {
          "base_uri": "https://localhost:8080/"
        },
        "id": "x7_x-bN9nTIu",
        "outputId": "642e9e87-067d-4076-8c1b-d933589f0bf3"
      },
      "execution_count": 97,
      "outputs": [
        {
          "output_type": "stream",
          "name": "stdout",
          "text": [
            "number of entries for medical_specialty=  70431\n",
            "number of unique entries for medical_specialty=  8\n",
            "missing       33935\n",
            "high_freq     29264\n",
            "surgery        3408\n",
            "ungrouped      1786\n",
            "psychic         904\n",
            "neurology       573\n",
            "pediatrics      460\n",
            "low_freq        101\n",
            "Name: medical_specialty, dtype: int64\n"
          ]
        }
      ]
    },
    {
      "cell_type": "code",
      "source": [
        "columns_with_missed_values = data[['medical_specialty']]\n",
        "t = PrettyTable(['Column Name', 'Missing Values', 'Missing Percentage'])\n",
        "for col in columns_with_missed_values.columns :\n",
        "    lenn = len(data[data[col] == '?'])\n",
        "    t.add_row([col,lenn,lenn / len(data)])\n",
        "print(t)"
      ],
      "metadata": {
        "colab": {
          "base_uri": "https://localhost:8080/"
        },
        "id": "ds4Qe5I3niqU",
        "outputId": "f4c8ab2a-13d9-4d2a-d852-e715a1c51848"
      },
      "execution_count": 98,
      "outputs": [
        {
          "output_type": "stream",
          "name": "stdout",
          "text": [
            "+-------------------+----------------+--------------------+\n",
            "|    Column Name    | Missing Values | Missing Percentage |\n",
            "+-------------------+----------------+--------------------+\n",
            "| medical_specialty |       0        |        0.0         |\n",
            "+-------------------+----------------+--------------------+\n"
          ]
        }
      ]
    },
    {
      "cell_type": "code",
      "source": [
        "# List categorical and numeric features\n",
        "categorical_feat = []\n",
        "numerical_feat = []\n",
        "\n",
        "for col in data.columns:\n",
        "    if data[col].dtype == 'object':\n",
        "        categorical_feat.append(col)\n",
        "    elif 'id' in col:\n",
        "        categorical_feat.append(col)\n",
        "    elif data[col].dtype == 'int64':\n",
        "        numerical_feat.append(col)"
      ],
      "metadata": {
        "id": "qaYKi7_XnwMc"
      },
      "execution_count": 99,
      "outputs": []
    },
    {
      "cell_type": "code",
      "source": [
        "categorical_feat"
      ],
      "metadata": {
        "colab": {
          "base_uri": "https://localhost:8080/"
        },
        "id": "DQGvnZEFn0y4",
        "outputId": "eb5fb509-b2a1-405b-a507-1c22123f61c0"
      },
      "execution_count": 100,
      "outputs": [
        {
          "output_type": "execute_result",
          "data": {
            "text/plain": [
              "['race',\n",
              " 'gender',\n",
              " 'medical_specialty',\n",
              " 'metformin',\n",
              " 'repaglinide',\n",
              " 'nateglinide',\n",
              " 'chlorpropamide',\n",
              " 'glimepiride',\n",
              " 'acetohexamide',\n",
              " 'glipizide',\n",
              " 'glyburide',\n",
              " 'tolbutamide',\n",
              " 'pioglitazone',\n",
              " 'rosiglitazone',\n",
              " 'acarbose',\n",
              " 'miglitol',\n",
              " 'troglitazone',\n",
              " 'tolazamide',\n",
              " 'examide',\n",
              " 'citoglipton',\n",
              " 'insulin',\n",
              " 'glyburide-metformin',\n",
              " 'glipizide-metformin',\n",
              " 'glimepiride-pioglitazone',\n",
              " 'metformin-rosiglitazone',\n",
              " 'metformin-pioglitazone',\n",
              " 'readmitted',\n",
              " 'diag_1_desc',\n",
              " 'diag_2_desc',\n",
              " 'diag_3_desc',\n",
              " 'admission_type',\n",
              " 'admission_source',\n",
              " 'discharge_disposition']"
            ]
          },
          "metadata": {},
          "execution_count": 100
        }
      ]
    },
    {
      "cell_type": "code",
      "source": [
        "len(categorical_feat)"
      ],
      "metadata": {
        "colab": {
          "base_uri": "https://localhost:8080/"
        },
        "id": "s7RO2JO5oFUJ",
        "outputId": "167ad017-1298-4a3f-b671-412ea29bc2a6"
      },
      "execution_count": 105,
      "outputs": [
        {
          "output_type": "execute_result",
          "data": {
            "text/plain": [
              "33"
            ]
          },
          "metadata": {},
          "execution_count": 105
        }
      ]
    },
    {
      "cell_type": "code",
      "source": [
        "rejected_features = []\n",
        "for col in categorical_feat:\n",
        "    rho , pval = scipy.stats.spearmanr(data['readmitted'], data[col])\n",
        "    print(col, rho, pval)\n",
        "    \n",
        "\n",
        "print('\\n\\n')\n",
        "for col in categorical_feat:\n",
        "    rho , pval = scipy.stats.spearmanr(data['readmitted'], data[col])\n",
        "    if pval < 0.4 : \n",
        "        print(col, 'is significant')\n",
        "    else : \n",
        "        print(col, 'is not significant')\n",
        "        rejected_features.append(col)\n",
        "\n",
        "#rejected_features.remove('max_glu_serum')\n",
        "#rejected_features.remove('A1Cresult')\n",
        "print(rejected_features)\n",
        "## lets remove rejected_features\n",
        "data.drop(rejected_features, axis = 1, inplace=True)"
      ],
      "metadata": {
        "colab": {
          "base_uri": "https://localhost:8080/"
        },
        "id": "BZcC_d23o2cz",
        "outputId": "823c429e-cd78-4b73-ffd7-a106e0faec46"
      },
      "execution_count": 108,
      "outputs": [
        {
          "output_type": "stream",
          "name": "stdout",
          "text": [
            "race -0.0056930216776534285 0.13082735764567194\n",
            "gender 0.015207461749188637 5.435965568314954e-05\n",
            "medical_specialty 0.0003131693531934016 0.9337640436064796\n",
            "metformin 0.022281542689072738 3.3411697625448246e-09\n",
            "repaglinide -0.021595125497127762 9.945112266553787e-09\n",
            "nateglinide -0.003605434400493811 0.3386547964799904\n",
            "chlorpropamide -0.0013294131214496322 0.7242348537760817\n",
            "glimepiride -0.0007267309783378537 0.8470665993443142\n",
            "acetohexamide -0.003791400641516911 0.31432923753633707\n",
            "glipizide -0.020623639175723112 4.405869901071218e-08\n",
            "glyburide -0.0051329602568039425 0.17313071278812506\n",
            "tolbutamide 0.0018519647679088576 0.6230858239143404\n",
            "pioglitazone -0.0111034557191278 0.003211152525857049\n",
            "rosiglitazone -0.01968313661479235 1.7501424961250147e-07\n",
            "acarbose -0.00929070562182101 0.013676302823463946\n",
            "miglitol -0.005250246444981802 0.16351719721882754\n",
            "troglitazone -0.00262378419144524 0.4862342646322352\n",
            "tolazamide 0.0036183467842155095 0.33692772504819735\n",
            "examide nan nan\n",
            "citoglipton nan nan\n",
            "insulin -0.006118787206959166 0.10440964196933537\n",
            "glyburide-metformin -0.001337594474119754 0.7226076395321017\n",
            "glipizide-metformin -0.002287004617991554 0.5438943776689569\n",
            "glimepiride-pioglitazone nan nan\n",
            "metformin-rosiglitazone 0.004296889709232522 0.25414897438881245\n",
            "metformin-pioglitazone 0.0030383382812639247 0.42005417135820766\n",
            "readmitted 1.0 0.0\n",
            "diag_1_desc 0.020170268866841944 8.631444229294361e-08\n",
            "diag_2_desc 0.013355196870072942 0.00039349370485375617\n",
            "diag_3_desc 0.005366026516898814 0.15442732709555762\n",
            "admission_type -0.06016925202422057 1.6944206738146752e-57\n",
            "admission_source 0.06676217881053574 2.1575007023807965e-70\n",
            "discharge_disposition nan nan\n",
            "\n",
            "\n",
            "\n",
            "race is significant\n",
            "gender is significant\n",
            "medical_specialty is not significant\n",
            "metformin is significant\n",
            "repaglinide is significant\n",
            "nateglinide is significant\n",
            "chlorpropamide is not significant\n",
            "glimepiride is not significant\n",
            "acetohexamide is significant\n",
            "glipizide is significant\n",
            "glyburide is significant\n",
            "tolbutamide is not significant\n",
            "pioglitazone is significant\n",
            "rosiglitazone is significant\n",
            "acarbose is significant\n",
            "miglitol is significant\n",
            "troglitazone is not significant\n",
            "tolazamide is significant\n",
            "examide is not significant\n",
            "citoglipton is not significant\n",
            "insulin is significant\n",
            "glyburide-metformin is not significant\n",
            "glipizide-metformin is not significant\n",
            "glimepiride-pioglitazone is not significant\n",
            "metformin-rosiglitazone is significant\n",
            "metformin-pioglitazone is not significant\n",
            "readmitted is significant\n",
            "diag_1_desc is significant\n",
            "diag_2_desc is significant\n",
            "diag_3_desc is significant\n",
            "admission_type is significant\n",
            "admission_source is significant\n",
            "discharge_disposition is not significant\n",
            "['medical_specialty', 'chlorpropamide', 'glimepiride', 'tolbutamide', 'troglitazone', 'examide', 'citoglipton', 'glyburide-metformin', 'glipizide-metformin', 'glimepiride-pioglitazone', 'metformin-pioglitazone', 'discharge_disposition']\n"
          ]
        }
      ]
    },
    {
      "cell_type": "code",
      "source": [
        "numerical_feat"
      ],
      "metadata": {
        "colab": {
          "base_uri": "https://localhost:8080/"
        },
        "id": "T9f3IdMWn97T",
        "outputId": "da4917ac-5578-4391-aad3-f56d695c7e83"
      },
      "execution_count": 101,
      "outputs": [
        {
          "output_type": "execute_result",
          "data": {
            "text/plain": [
              "['age',\n",
              " 'time_in_hospital',\n",
              " 'num_lab_procedures',\n",
              " 'num_procedures',\n",
              " 'num_medications',\n",
              " 'number_outpatient',\n",
              " 'number_emergency',\n",
              " 'number_inpatient',\n",
              " 'number_diagnoses',\n",
              " 'max_glu_serum',\n",
              " 'A1Cresult',\n",
              " 'change',\n",
              " 'diabetesMed']"
            ]
          },
          "metadata": {},
          "execution_count": 101
        }
      ]
    },
    {
      "cell_type": "code",
      "source": [
        "len(numerical_feat)"
      ],
      "metadata": {
        "colab": {
          "base_uri": "https://localhost:8080/"
        },
        "id": "E79-XZoPoBLD",
        "outputId": "d71240ce-82e6-44c4-a490-6e9b5537ce21"
      },
      "execution_count": 106,
      "outputs": [
        {
          "output_type": "execute_result",
          "data": {
            "text/plain": [
              "13"
            ]
          },
          "metadata": {},
          "execution_count": 106
        }
      ]
    },
    {
      "cell_type": "code",
      "source": [
        "rejected_features = []\n",
        "for col in numerical_feat:\n",
        "    rho , pval = scipy.stats.spearmanr(data['readmitted'], data[col])\n",
        "    print(col, rho, pval)\n",
        "    \n",
        "\n",
        "print('\\n\\n')\n",
        "for col in numerical_feat:\n",
        "    rho , pval = scipy.stats.spearmanr(data['readmitted'], data[col])\n",
        "    if pval < 0.4 : \n",
        "        print(col, 'is significant')\n",
        "    else : \n",
        "        print(col, 'is not significant')\n",
        "        rejected_features.append(col)\n",
        "\n",
        "#rejected_features.remove('max_glu_serum')\n",
        "#rejected_features.remove('A1Cresult')\n",
        "print(rejected_features)\n",
        "## lets remove rejected_features\n",
        "data.drop(rejected_features, axis = 1, inplace=True)"
      ],
      "metadata": {
        "colab": {
          "base_uri": "https://localhost:8080/"
        },
        "id": "cF6bCPOGoQ4e",
        "outputId": "1f0e01cb-2aa7-401f-c3cb-b7ad43405597"
      },
      "execution_count": 107,
      "outputs": [
        {
          "output_type": "stream",
          "name": "stdout",
          "text": [
            "age -0.07429678582673846 8.954111224319551e-87\n",
            "time_in_hospital -0.07379883754980403 1.2272882383771764e-85\n",
            "num_lab_procedures -0.05609698877436465 3.347612421210297e-50\n",
            "num_procedures 0.02478765771921836 4.7282484355105157e-11\n",
            "num_medications -0.06365929179245991 3.714800263687477e-64\n",
            "number_outpatient -0.07997419682499037 2.7859885033461646e-100\n",
            "number_emergency -0.08702137158913922 1.9221892391523947e-118\n",
            "number_inpatient -0.14978698985912295 0.0\n",
            "number_diagnoses -0.10244492657140511 1.3016114001998071e-163\n",
            "max_glu_serum nan nan\n",
            "A1Cresult 0.019212578630065952 3.411361276730968e-07\n",
            "change nan nan\n",
            "diabetesMed -0.061321611132351524 1.1798102813483178e-59\n",
            "\n",
            "\n",
            "\n",
            "age is significant\n",
            "time_in_hospital is significant\n",
            "num_lab_procedures is significant\n",
            "num_procedures is significant\n",
            "num_medications is significant\n",
            "number_outpatient is significant\n",
            "number_emergency is significant\n",
            "number_inpatient is significant\n",
            "number_diagnoses is significant\n",
            "max_glu_serum is not significant\n",
            "A1Cresult is significant\n",
            "change is not significant\n",
            "diabetesMed is significant\n",
            "['max_glu_serum', 'change']\n"
          ]
        }
      ]
    },
    {
      "cell_type": "code",
      "source": [
        ""
      ],
      "metadata": {
        "id": "1nVmaHk3omFN"
      },
      "execution_count": null,
      "outputs": []
    }
  ]
}