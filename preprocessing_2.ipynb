{
  "nbformat": 4,
  "nbformat_minor": 0,
  "metadata": {
    "colab": {
      "name": "new_diabetes.ipynb",
      "provenance": [],
      "authorship_tag": "ABX9TyNf/3Eheu3nBcehFkzhgPeD",
      "include_colab_link": true
    },
    "kernelspec": {
      "name": "python3",
      "display_name": "Python 3"
    },
    "language_info": {
      "name": "python"
    }
  },
  "cells": [
    {
      "cell_type": "markdown",
      "metadata": {
        "id": "view-in-github",
        "colab_type": "text"
      },
      "source": [
        "<a href=\"https://colab.research.google.com/github/skhazaei/test/blob/master/preprocessing_2.ipynb\" target=\"_parent\"><img src=\"https://colab.research.google.com/assets/colab-badge.svg\" alt=\"Open In Colab\"/></a>"
      ]
    },
    {
      "cell_type": "code",
      "execution_count": 1,
      "metadata": {
        "id": "G4P_7MFycZGg"
      },
      "outputs": [],
      "source": [
        "import pandas as pd\n",
        "import numpy as np\n",
        "from prettytable import PrettyTable\n",
        "from collections import Counter\n",
        "import matplotlib.pyplot as plt\n",
        "import seaborn as sns\n",
        "import scipy\n",
        "import warnings\n",
        "warnings.filterwarnings(\"ignore\")\n",
        "from sklearn.neighbors import LocalOutlierFactor, KNeighborsClassifier\n",
        "from sklearn.model_selection import train_test_split\n",
        "from sklearn.metrics import classification_report, confusion_matrix, accuracy_score, roc_auc_score, precision_recall_fscore_support, roc_curve, f1_score\n",
        "from sklearn.preprocessing import StandardScaler\n",
        "from sklearn.tree import  DecisionTreeClassifier\n",
        "from sklearn.neural_network import MLPClassifier\n",
        "from sklearn.model_selection import cross_val_score, cross_validate\n",
        "from sklearn.ensemble import RandomForestClassifier, GradientBoostingClassifier\n",
        "from sklearn.linear_model import LogisticRegression\n",
        "from imblearn.under_sampling import RandomUnderSampler\n",
        "from imblearn.over_sampling import RandomOverSampler\n",
        "from imblearn.over_sampling import SMOTE\n",
        "from sklearn.model_selection import GridSearchCV"
      ]
    },
    {
      "cell_type": "code",
      "source": [
        "from pydrive.auth import GoogleAuth\n",
        "from pydrive.drive import GoogleDrive\n",
        "from google.colab import auth\n",
        "from oauth2client.client import GoogleCredentials"
      ],
      "metadata": {
        "id": "RVomM0UWes6f"
      },
      "execution_count": 2,
      "outputs": []
    },
    {
      "cell_type": "code",
      "source": [
        "auth.authenticate_user()\n",
        "gauth = GoogleAuth()\n",
        "gauth.credentials = GoogleCredentials.get_application_default()\n",
        "drive = GoogleDrive(gauth)"
      ],
      "metadata": {
        "id": "_EHkF84-e0N2"
      },
      "execution_count": 3,
      "outputs": []
    },
    {
      "cell_type": "code",
      "source": [
        "id = '1ExjM-usGlSbW2HUexdEFkhfwebr4243-'\n",
        "downloaded = drive.CreateFile({'id':id}) \n",
        "downloaded.GetContentFile('diabetic_data.csv')"
      ],
      "metadata": {
        "id": "6pg08Oiee3pl"
      },
      "execution_count": 4,
      "outputs": []
    },
    {
      "cell_type": "code",
      "source": [
        "data = pd.read_csv('diabetic_data.csv')"
      ],
      "metadata": {
        "id": "5RkidbAFe8Ds"
      },
      "execution_count": 5,
      "outputs": []
    },
    {
      "cell_type": "code",
      "source": [
        "data.shape"
      ],
      "metadata": {
        "colab": {
          "base_uri": "https://localhost:8080/"
        },
        "id": "BzjhJZ_8fEEI",
        "outputId": "3b97ed18-bf14-4203-ad0d-fd8c656dbda0"
      },
      "execution_count": 6,
      "outputs": [
        {
          "output_type": "execute_result",
          "data": {
            "text/plain": [
              "(101766, 50)"
            ]
          },
          "metadata": {},
          "execution_count": 6
        }
      ]
    },
    {
      "cell_type": "markdown",
      "source": [
        "2. Dealing with Duplicate Records : We found out that, for some patient there are number of entries in the dataset these duplicate entries are not helpful in solving the task hence we removed these entries."
      ],
      "metadata": {
        "id": "-uNpPXo9fQuX"
      }
    },
    {
      "cell_type": "code",
      "source": [
        "print('Total data = ', len(data))\n",
        "print('Unique entries = ', len(np.unique(data['patient_nbr'])))\n",
        "unique_patients = data.drop_duplicates(['patient_nbr'], keep = 'first')\n",
        "unique_patients.shape"
      ],
      "metadata": {
        "colab": {
          "base_uri": "https://localhost:8080/"
        },
        "id": "t-4R5ftUfKAc",
        "outputId": "66e38b3d-cf78-4a52-f31d-5a3e9fcd34e6"
      },
      "execution_count": 7,
      "outputs": [
        {
          "output_type": "stream",
          "name": "stdout",
          "text": [
            "Total data =  101766\n",
            "Unique entries =  71518\n"
          ]
        },
        {
          "output_type": "execute_result",
          "data": {
            "text/plain": [
              "(71518, 50)"
            ]
          },
          "metadata": {},
          "execution_count": 7
        }
      ]
    },
    {
      "cell_type": "code",
      "source": [
        "#data.dropna(inplace = True)\n",
        "#print('Total data = ', len(data))\n",
        "#print('Unique entries = ', len(np.unique(data['patient_nbr'])))\n",
        "data.drop_duplicates(['patient_nbr'], keep = 'first', inplace = True)\n",
        "#print('Length after removing Duplicates:', len(data))"
      ],
      "metadata": {
        "id": "OI9JHxsefTjy"
      },
      "execution_count": 8,
      "outputs": []
    },
    {
      "cell_type": "code",
      "source": [
        "data.shape"
      ],
      "metadata": {
        "colab": {
          "base_uri": "https://localhost:8080/"
        },
        "id": "mBzmgZ08fWiM",
        "outputId": "8c03ef07-a728-4c57-a9f0-aaf578babca4"
      },
      "execution_count": 9,
      "outputs": [
        {
          "output_type": "execute_result",
          "data": {
            "text/plain": [
              "(71518, 50)"
            ]
          },
          "metadata": {},
          "execution_count": 9
        }
      ]
    },
    {
      "cell_type": "markdown",
      "source": [
        "4. Dealing with Missing Values : Missing values in this dataset are represented by ‘?’. Only very few of the columns have missing values. These are, ‘race', 'weight', 'payer_code', 'medical_specialty', 'diag_1', 'diag_2', 'diag_3'"
      ],
      "metadata": {
        "id": "YMUtkZcwfdtX"
      }
    },
    {
      "cell_type": "code",
      "source": [
        "t = PrettyTable(['Column Name', 'Missing Values', 'Missing Percentage'])\n",
        "for col in data.columns :\n",
        "    lenn = len(data[data[col] == '?'])\n",
        "    t.add_row([col,lenn,lenn / len(data)])\n",
        "print(t)"
      ],
      "metadata": {
        "colab": {
          "base_uri": "https://localhost:8080/"
        },
        "id": "UBYtR5JXfZcw",
        "outputId": "ab44f4be-d41a-450d-9d33-65c28fde512e"
      },
      "execution_count": 10,
      "outputs": [
        {
          "output_type": "stream",
          "name": "stdout",
          "text": [
            "+--------------------------+----------------+-----------------------+\n",
            "|       Column Name        | Missing Values |   Missing Percentage  |\n",
            "+--------------------------+----------------+-----------------------+\n",
            "|       encounter_id       |       0        |          0.0          |\n",
            "|       patient_nbr        |       0        |          0.0          |\n",
            "|           race           |      1948      |  0.027237898151514305 |\n",
            "|          gender          |       0        |          0.0          |\n",
            "|           age            |       0        |          0.0          |\n",
            "|          weight          |     68665      |   0.960107944853044   |\n",
            "|    admission_type_id     |       0        |          0.0          |\n",
            "| discharge_disposition_id |       0        |          0.0          |\n",
            "|   admission_source_id    |       0        |          0.0          |\n",
            "|     time_in_hospital     |       0        |          0.0          |\n",
            "|        payer_code        |     31043      |   0.434058558684527   |\n",
            "|    medical_specialty     |     34477      |   0.4820744427976174  |\n",
            "|    num_lab_procedures    |       0        |          0.0          |\n",
            "|      num_procedures      |       0        |          0.0          |\n",
            "|     num_medications      |       0        |          0.0          |\n",
            "|    number_outpatient     |       0        |          0.0          |\n",
            "|     number_emergency     |       0        |          0.0          |\n",
            "|     number_inpatient     |       0        |          0.0          |\n",
            "|          diag_1          |       11       | 0.0001538074330937666 |\n",
            "|          diag_2          |      294       | 0.0041108532117788525 |\n",
            "|          diag_3          |      1225      |  0.017128555049078554 |\n",
            "|     number_diagnoses     |       0        |          0.0          |\n",
            "|      max_glu_serum       |       0        |          0.0          |\n",
            "|        A1Cresult         |       0        |          0.0          |\n",
            "|        metformin         |       0        |          0.0          |\n",
            "|       repaglinide        |       0        |          0.0          |\n",
            "|       nateglinide        |       0        |          0.0          |\n",
            "|      chlorpropamide      |       0        |          0.0          |\n",
            "|       glimepiride        |       0        |          0.0          |\n",
            "|      acetohexamide       |       0        |          0.0          |\n",
            "|        glipizide         |       0        |          0.0          |\n",
            "|        glyburide         |       0        |          0.0          |\n",
            "|       tolbutamide        |       0        |          0.0          |\n",
            "|       pioglitazone       |       0        |          0.0          |\n",
            "|      rosiglitazone       |       0        |          0.0          |\n",
            "|         acarbose         |       0        |          0.0          |\n",
            "|         miglitol         |       0        |          0.0          |\n",
            "|       troglitazone       |       0        |          0.0          |\n",
            "|        tolazamide        |       0        |          0.0          |\n",
            "|         examide          |       0        |          0.0          |\n",
            "|       citoglipton        |       0        |          0.0          |\n",
            "|         insulin          |       0        |          0.0          |\n",
            "|   glyburide-metformin    |       0        |          0.0          |\n",
            "|   glipizide-metformin    |       0        |          0.0          |\n",
            "| glimepiride-pioglitazone |       0        |          0.0          |\n",
            "| metformin-rosiglitazone  |       0        |          0.0          |\n",
            "|  metformin-pioglitazone  |       0        |          0.0          |\n",
            "|          change          |       0        |          0.0          |\n",
            "|       diabetesMed        |       0        |          0.0          |\n",
            "|        readmitted        |       0        |          0.0          |\n",
            "+--------------------------+----------------+-----------------------+\n"
          ]
        }
      ]
    },
    {
      "cell_type": "code",
      "source": [
        "columns_with_missed_values = data[['race', 'weight', 'payer_code', 'medical_specialty', 'diag_1', 'diag_2', 'diag_3']]"
      ],
      "metadata": {
        "id": "4mJTcc8xfgGp"
      },
      "execution_count": 11,
      "outputs": []
    },
    {
      "cell_type": "code",
      "source": [
        "t = PrettyTable(['Column Name', 'Missing Values', 'Missing Percentage'])\n",
        "for col in columns_with_missed_values.columns :\n",
        "    lenn = len(data[data[col] == '?'])\n",
        "    t.add_row([col,lenn,lenn / len(data)])\n",
        "print(t)"
      ],
      "metadata": {
        "colab": {
          "base_uri": "https://localhost:8080/"
        },
        "id": "uITPBbpofk1a",
        "outputId": "e7fc2b19-4f5a-473e-cfd5-f91a28c4a221"
      },
      "execution_count": 12,
      "outputs": [
        {
          "output_type": "stream",
          "name": "stdout",
          "text": [
            "+-------------------+----------------+-----------------------+\n",
            "|    Column Name    | Missing Values |   Missing Percentage  |\n",
            "+-------------------+----------------+-----------------------+\n",
            "|        race       |      1948      |  0.027237898151514305 |\n",
            "|       weight      |     68665      |   0.960107944853044   |\n",
            "|     payer_code    |     31043      |   0.434058558684527   |\n",
            "| medical_specialty |     34477      |   0.4820744427976174  |\n",
            "|       diag_1      |       11       | 0.0001538074330937666 |\n",
            "|       diag_2      |      294       | 0.0041108532117788525 |\n",
            "|       diag_3      |      1225      |  0.017128555049078554 |\n",
            "+-------------------+----------------+-----------------------+\n"
          ]
        }
      ]
    },
    {
      "cell_type": "markdown",
      "source": [
        "Drop columns that are missing too much data"
      ],
      "metadata": {
        "id": "tYWm2ec4fz6C"
      }
    },
    {
      "cell_type": "code",
      "source": [
        "data = data.drop(['weight', 'payer_code'], axis=1)"
      ],
      "metadata": {
        "id": "A9HFgpqYfvdF"
      },
      "execution_count": 13,
      "outputs": []
    },
    {
      "cell_type": "markdown",
      "source": [
        "Remove null values Drop the rows where at least one element is missing."
      ],
      "metadata": {
        "id": "oANr-UB-f93H"
      }
    },
    {
      "cell_type": "code",
      "source": [
        "data.dropna(inplace = True)\n",
        "print('Total data = ', len(data))\n"
      ],
      "metadata": {
        "colab": {
          "base_uri": "https://localhost:8080/"
        },
        "id": "tdIdNs60f2iM",
        "outputId": "d83664b9-6786-412b-e652-487c758194da"
      },
      "execution_count": 14,
      "outputs": [
        {
          "output_type": "stream",
          "name": "stdout",
          "text": [
            "Total data =  71518\n"
          ]
        }
      ]
    },
    {
      "cell_type": "code",
      "source": [
        "data.shape"
      ],
      "metadata": {
        "colab": {
          "base_uri": "https://localhost:8080/"
        },
        "id": "9tLgu76xgAkn",
        "outputId": "34533356-9940-471b-c4f9-844bbe2a1bc0"
      },
      "execution_count": 15,
      "outputs": [
        {
          "output_type": "execute_result",
          "data": {
            "text/plain": [
              "(71518, 48)"
            ]
          },
          "metadata": {},
          "execution_count": 15
        }
      ]
    },
    {
      "cell_type": "code",
      "source": [
        "columns_with_missed_values = data[['race', 'medical_specialty', 'diag_1', 'diag_2', 'diag_3']]"
      ],
      "metadata": {
        "id": "Fjj6FhlQgOIi"
      },
      "execution_count": 16,
      "outputs": []
    },
    {
      "cell_type": "code",
      "source": [
        "t = PrettyTable(['Column Name', 'Missing Values', 'Missing Percentage'])\n",
        "for col in columns_with_missed_values.columns :\n",
        "    lenn = len(data[data[col] == '?'])\n",
        "    t.add_row([col,lenn,lenn / len(data)])\n",
        "print(t)"
      ],
      "metadata": {
        "colab": {
          "base_uri": "https://localhost:8080/"
        },
        "id": "VVsq666zgB9U",
        "outputId": "4201783e-b50b-4827-9c36-9e98c95dad18"
      },
      "execution_count": 17,
      "outputs": [
        {
          "output_type": "stream",
          "name": "stdout",
          "text": [
            "+-------------------+----------------+-----------------------+\n",
            "|    Column Name    | Missing Values |   Missing Percentage  |\n",
            "+-------------------+----------------+-----------------------+\n",
            "|        race       |      1948      |  0.027237898151514305 |\n",
            "| medical_specialty |     34477      |   0.4820744427976174  |\n",
            "|       diag_1      |       11       | 0.0001538074330937666 |\n",
            "|       diag_2      |      294       | 0.0041108532117788525 |\n",
            "|       diag_3      |      1225      |  0.017128555049078554 |\n",
            "+-------------------+----------------+-----------------------+\n"
          ]
        }
      ]
    },
    {
      "cell_type": "code",
      "source": [
        "print(data.shape)\n",
        "print('% data retained out of unique patients: ' + str(round(len(data.index)/71518 * 100,2)) + '%')\n",
        "print('% data retained out of all encounters: ' + str(round(len(data.index)/101766 * 100,2)) + '%')\n",
        "print(data.columns)"
      ],
      "metadata": {
        "colab": {
          "base_uri": "https://localhost:8080/"
        },
        "id": "y34WlpQ8gMOf",
        "outputId": "eb7d887f-8e88-4dff-8cbd-7affd8436298"
      },
      "execution_count": 18,
      "outputs": [
        {
          "output_type": "stream",
          "name": "stdout",
          "text": [
            "(71518, 48)\n",
            "% data retained out of unique patients: 100.0%\n",
            "% data retained out of all encounters: 70.28%\n",
            "Index(['encounter_id', 'patient_nbr', 'race', 'gender', 'age',\n",
            "       'admission_type_id', 'discharge_disposition_id', 'admission_source_id',\n",
            "       'time_in_hospital', 'medical_specialty', 'num_lab_procedures',\n",
            "       'num_procedures', 'num_medications', 'number_outpatient',\n",
            "       'number_emergency', 'number_inpatient', 'diag_1', 'diag_2', 'diag_3',\n",
            "       'number_diagnoses', 'max_glu_serum', 'A1Cresult', 'metformin',\n",
            "       'repaglinide', 'nateglinide', 'chlorpropamide', 'glimepiride',\n",
            "       'acetohexamide', 'glipizide', 'glyburide', 'tolbutamide',\n",
            "       'pioglitazone', 'rosiglitazone', 'acarbose', 'miglitol', 'troglitazone',\n",
            "       'tolazamide', 'examide', 'citoglipton', 'insulin',\n",
            "       'glyburide-metformin', 'glipizide-metformin',\n",
            "       'glimepiride-pioglitazone', 'metformin-rosiglitazone',\n",
            "       'metformin-pioglitazone', 'change', 'diabetesMed', 'readmitted'],\n",
            "      dtype='object')\n"
          ]
        }
      ]
    },
    {
      "cell_type": "markdown",
      "source": [
        "Drop other columns without relevant information"
      ],
      "metadata": {
        "id": "4-nIpG48gehQ"
      }
    },
    {
      "cell_type": "code",
      "source": [
        "data = data.drop(['encounter_id', 'patient_nbr'], axis=1)\n",
        "data.columns"
      ],
      "metadata": {
        "colab": {
          "base_uri": "https://localhost:8080/"
        },
        "id": "nPhFqO7EgYDC",
        "outputId": "a1823d0d-3072-4c9b-ff17-207c8d1aa1ef"
      },
      "execution_count": 19,
      "outputs": [
        {
          "output_type": "execute_result",
          "data": {
            "text/plain": [
              "Index(['race', 'gender', 'age', 'admission_type_id',\n",
              "       'discharge_disposition_id', 'admission_source_id', 'time_in_hospital',\n",
              "       'medical_specialty', 'num_lab_procedures', 'num_procedures',\n",
              "       'num_medications', 'number_outpatient', 'number_emergency',\n",
              "       'number_inpatient', 'diag_1', 'diag_2', 'diag_3', 'number_diagnoses',\n",
              "       'max_glu_serum', 'A1Cresult', 'metformin', 'repaglinide', 'nateglinide',\n",
              "       'chlorpropamide', 'glimepiride', 'acetohexamide', 'glipizide',\n",
              "       'glyburide', 'tolbutamide', 'pioglitazone', 'rosiglitazone', 'acarbose',\n",
              "       'miglitol', 'troglitazone', 'tolazamide', 'examide', 'citoglipton',\n",
              "       'insulin', 'glyburide-metformin', 'glipizide-metformin',\n",
              "       'glimepiride-pioglitazone', 'metformin-rosiglitazone',\n",
              "       'metformin-pioglitazone', 'change', 'diabetesMed', 'readmitted'],\n",
              "      dtype='object')"
            ]
          },
          "metadata": {},
          "execution_count": 19
        }
      ]
    },
    {
      "cell_type": "code",
      "source": [
        "data.shape"
      ],
      "metadata": {
        "colab": {
          "base_uri": "https://localhost:8080/"
        },
        "id": "_2XIPHnGghf-",
        "outputId": "0240ee9d-7966-49fb-b616-27104c8b7e7f"
      },
      "execution_count": 20,
      "outputs": [
        {
          "output_type": "execute_result",
          "data": {
            "text/plain": [
              "(71518, 46)"
            ]
          },
          "metadata": {},
          "execution_count": 20
        }
      ]
    },
    {
      "cell_type": "markdown",
      "source": [
        "1. Age Feature : The values of age are given like [0–10),[10–20),[20–30) The age feature is not categorical but ordinal and hence we should convert it to numbers and treat it as numeric feature. We are converting age feature to numeric feature like below, [0–10) → 5, [10–20) → 15, [20–30) — -> 25"
      ],
      "metadata": {
        "id": "sW3l_i5fgoU0"
      }
    },
    {
      "cell_type": "code",
      "source": [
        "replaceDict = {'[0-10)' : 5,\n",
        "'[10-20)' : 15,\n",
        "'[20-30)' : 25, \n",
        "'[30-40)' : 35, \n",
        "'[40-50)' : 45, \n",
        "'[50-60)' : 55,\n",
        "'[60-70)' : 65, \n",
        "'[70-80)' : 75,\n",
        "'[80-90)' : 85,\n",
        "'[90-100)' : 95}\n",
        "\n",
        "data['age'] = data['age'].apply(lambda x : replaceDict[x])\n",
        "print(data['age'].head())"
      ],
      "metadata": {
        "colab": {
          "base_uri": "https://localhost:8080/"
        },
        "id": "IakwaGEhgj8k",
        "outputId": "8499b094-34b3-496f-eb91-8991ffad5c07"
      },
      "execution_count": 21,
      "outputs": [
        {
          "output_type": "stream",
          "name": "stdout",
          "text": [
            "0     5\n",
            "1    15\n",
            "2    25\n",
            "3    35\n",
            "4    45\n",
            "Name: age, dtype: int64\n"
          ]
        }
      ]
    },
    {
      "cell_type": "markdown",
      "source": [
        "6.2) Using domain knowledge on diag_1, diag_2, diag_3 : The diag_1 , diag_2 , diag_3 are categorical features but these features have lots unique values if we apply one hot encoding directly it will results in lots of features that will eventually invoke “curse of dimensionality” problem We will use the domain knowledge provided in the description file to create fewer categories.\n",
        "\n",
        "Circulatory → 390–459, 785 → Diseases of the circulatory system\n",
        "Respiratory → 460–519, 786 → Diseases of the respiratory system\n",
        "Digestive → 520–579, 787 → Diseases of the digestive system\n",
        "Diabetes → 250.xx → Diabetes mellitus\n",
        "Injury → 800–999 → Injury and poisoning\n",
        "Musculoskeletal → 710–739 → Diseases of the musculoskeletal system and connective tissue\n",
        "Genitourinary → 580–629, 788 → Diseases of the genitourinary system\n",
        "Neoplasms → 140–239 → Neoplasms\n",
        "Pregnecy → 630–679 → Complications of pregnancy, childbirth, and the puerperium\n",
        "Other\n",
        "We added Pregnancy as one category original description file kept it in ‘Other’ category but from research we found that Pregnancy creates unique type of diabetes and hence it make sense to keep it as separate category."
      ],
      "metadata": {
        "id": "j87rfQBhgvHO"
      }
    },
    {
      "cell_type": "code",
      "source": [
        "print(\"number of entries for diag_1= \", len((data['diag_1'])))  \n",
        "print(\"number of unique entries for diag_1= \", len(np.unique(data['diag_1'])))  \n",
        "print(\"number of entries for diag_2= \", len((data['diag_2'])))  \n",
        "print(\"number of unique entries for diag_2= \", len(np.unique(data['diag_2'])))  \n",
        "print(\"number of entries for diag_3= \", len((data['diag_3'])))  \n",
        "print(\"number of entries for diag_3= \", len(np.unique(data['diag_3'])))"
      ],
      "metadata": {
        "colab": {
          "base_uri": "https://localhost:8080/"
        },
        "id": "nsq_FNZ6grV0",
        "outputId": "0d7bd4e4-99e4-4527-e804-036603a37ff7"
      },
      "execution_count": 22,
      "outputs": [
        {
          "output_type": "stream",
          "name": "stdout",
          "text": [
            "number of entries for diag_1=  71518\n",
            "number of unique entries for diag_1=  697\n",
            "number of entries for diag_2=  71518\n",
            "number of unique entries for diag_2=  726\n",
            "number of entries for diag_3=  71518\n",
            "number of entries for diag_3=  759\n"
          ]
        }
      ]
    },
    {
      "cell_type": "code",
      "source": [
        "columns_with_missed_values = data[['diag_1', 'diag_2', 'diag_3']]\n",
        "t = PrettyTable(['Column Name', 'Missing Values', 'Missing Percentage'])\n",
        "for col in columns_with_missed_values.columns :\n",
        "    lenn = len(data[data[col] == '?'])\n",
        "    t.add_row([col,lenn,lenn / len(data)])\n",
        "print(t)"
      ],
      "metadata": {
        "colab": {
          "base_uri": "https://localhost:8080/"
        },
        "id": "meYEDyP0gyDB",
        "outputId": "961e1f39-8847-4331-c4ae-7ee4902b2dc1"
      },
      "execution_count": 23,
      "outputs": [
        {
          "output_type": "stream",
          "name": "stdout",
          "text": [
            "+-------------+----------------+-----------------------+\n",
            "| Column Name | Missing Values |   Missing Percentage  |\n",
            "+-------------+----------------+-----------------------+\n",
            "|    diag_1   |       11       | 0.0001538074330937666 |\n",
            "|    diag_2   |      294       | 0.0041108532117788525 |\n",
            "|    diag_3   |      1225      |  0.017128555049078554 |\n",
            "+-------------+----------------+-----------------------+\n"
          ]
        }
      ]
    },
    {
      "cell_type": "code",
      "source": [
        "diag_1 = Counter(list(data['diag_1'])).most_common(1)[0][0]\n",
        "diag_2 = Counter(list(data['diag_2'])).most_common(1)[0][0]\n",
        "diag_3 = Counter(list(data['diag_3'])).most_common(1)[0][0]\n",
        "data['diag_1'] = data['diag_1'].apply(lambda x : diag_1 if x == '?' else x)\n",
        "data['diag_2'] = data['diag_2'].apply(lambda x : diag_2 if x == '?' else x)\n",
        "data['diag_3'] = data['diag_3'].apply(lambda x : diag_3 if x == '?' else x)"
      ],
      "metadata": {
        "id": "gDK0q-LnhedW"
      },
      "execution_count": 24,
      "outputs": []
    },
    {
      "cell_type": "code",
      "source": [
        "columns_with_missed_values = data[['diag_1', 'diag_2', 'diag_3']]\n",
        "t = PrettyTable(['Column Name', 'Missing Values', 'Missing Percentage'])\n",
        "for col in columns_with_missed_values.columns :\n",
        "    lenn = len(data[data[col] == '?'])\n",
        "    t.add_row([col,lenn,lenn / len(data)])\n",
        "print(t)"
      ],
      "metadata": {
        "colab": {
          "base_uri": "https://localhost:8080/"
        },
        "id": "IUyCqt17hqec",
        "outputId": "b1d464d9-d23b-4c0d-921e-4445777bddaf"
      },
      "execution_count": 25,
      "outputs": [
        {
          "output_type": "stream",
          "name": "stdout",
          "text": [
            "+-------------+----------------+--------------------+\n",
            "| Column Name | Missing Values | Missing Percentage |\n",
            "+-------------+----------------+--------------------+\n",
            "|    diag_1   |       0        |        0.0         |\n",
            "|    diag_2   |       0        |        0.0         |\n",
            "|    diag_3   |       0        |        0.0         |\n",
            "+-------------+----------------+--------------------+\n"
          ]
        }
      ]
    },
    {
      "cell_type": "markdown",
      "source": [
        "The diag_1 , diag_2 , diag_3 are categorical features but they have lots unique values if we apply one hot encoding directely it will results in lots of feature values that will eventually invoke \"curse of dimensionality\" problem We will use the domain knowledge provided in the description of data to create fewer values."
      ],
      "metadata": {
        "id": "pWaXQv_nh26s"
      }
    },
    {
      "cell_type": "code",
      "source": [
        "# Replace diagnoses with category names\n",
        "#Circulatory: 390-459, 785\n",
        "#Respiratory: 460-519, 786\n",
        "#Digestive: 520-579, 787\n",
        "#Diabetes: 250.xx\n",
        "#Injury: 800-999\n",
        "#Musculoskeletal: 710-739\n",
        "#Genitourinary: 580-629, 788\n",
        "#Neoplasms: 140-239, \n",
        "#Other: \n",
        "#780, 781, 784, 790-799, 240-279 except 250, 680-709, 782, 001-139, 290-319\n",
        "#E-V (beginning with a letter), 280-289, 320-359, 630-679, 360-389, 740-759\n",
        "\n",
        "def categorize_diagnosis(diag):\n",
        "    if diag.isnumeric():\n",
        "        diag = int(diag)\n",
        "        if diag in range(390,460) or diag==785:\n",
        "            return 'Circulatory'\n",
        "        elif diag in range(460,520) or diag==786:\n",
        "            return 'Respiratory'\n",
        "        elif diag in range(520,580) or diag==787:\n",
        "            return 'Digestive'\n",
        "        elif diag in np.arange(250,260,0.01):\n",
        "            return 'Diabetes'\n",
        "        elif diag in range(800,1000):\n",
        "            return 'Injury'\n",
        "        elif diag in range(710,740):\n",
        "            return  'Musculoskeletal'\n",
        "        elif diag in range(580,630) or diag==788:\n",
        "            return  'Genitourinary'\n",
        "        elif diag in range(140,240):\n",
        "            return  'Neoplasms'\n",
        "        else:\n",
        "            return 'Other'\n",
        "    else:\n",
        "        if \"250\" in diag:\n",
        "            return 'Diabetes'\n",
        "        else:\n",
        "            return  'Other'"
      ],
      "metadata": {
        "id": "6iM8qf9Qhs0G"
      },
      "execution_count": 26,
      "outputs": []
    },
    {
      "cell_type": "code",
      "source": [
        "data['diag_1_desc'] = data.apply(lambda row: categorize_diagnosis(row['diag_1']), axis=1)\n",
        "data['diag_2_desc'] = data.apply(lambda row: categorize_diagnosis(row['diag_2']), axis=1)\n",
        "data['diag_3_desc'] = data.apply(lambda row: categorize_diagnosis(row['diag_3']), axis=1)\n",
        "\n",
        "# Remove original diagnosis features\n",
        "data.drop(columns=['diag_1', 'diag_2', 'diag_3'], inplace=True)\n",
        "data.columns"
      ],
      "metadata": {
        "colab": {
          "base_uri": "https://localhost:8080/"
        },
        "id": "s4Trmzuah53O",
        "outputId": "64cdbbd1-b62d-4658-d79c-039b4cfbb024"
      },
      "execution_count": 27,
      "outputs": [
        {
          "output_type": "execute_result",
          "data": {
            "text/plain": [
              "Index(['race', 'gender', 'age', 'admission_type_id',\n",
              "       'discharge_disposition_id', 'admission_source_id', 'time_in_hospital',\n",
              "       'medical_specialty', 'num_lab_procedures', 'num_procedures',\n",
              "       'num_medications', 'number_outpatient', 'number_emergency',\n",
              "       'number_inpatient', 'number_diagnoses', 'max_glu_serum', 'A1Cresult',\n",
              "       'metformin', 'repaglinide', 'nateglinide', 'chlorpropamide',\n",
              "       'glimepiride', 'acetohexamide', 'glipizide', 'glyburide', 'tolbutamide',\n",
              "       'pioglitazone', 'rosiglitazone', 'acarbose', 'miglitol', 'troglitazone',\n",
              "       'tolazamide', 'examide', 'citoglipton', 'insulin',\n",
              "       'glyburide-metformin', 'glipizide-metformin',\n",
              "       'glimepiride-pioglitazone', 'metformin-rosiglitazone',\n",
              "       'metformin-pioglitazone', 'change', 'diabetesMed', 'readmitted',\n",
              "       'diag_1_desc', 'diag_2_desc', 'diag_3_desc'],\n",
              "      dtype='object')"
            ]
          },
          "metadata": {},
          "execution_count": 27
        }
      ]
    },
    {
      "cell_type": "code",
      "source": [
        "data.shape"
      ],
      "metadata": {
        "colab": {
          "base_uri": "https://localhost:8080/"
        },
        "id": "xDDkH58gh9CU",
        "outputId": "b2f99f20-5dec-40b1-b971-36674a0c3568"
      },
      "execution_count": 28,
      "outputs": [
        {
          "output_type": "execute_result",
          "data": {
            "text/plain": [
              "(71518, 46)"
            ]
          },
          "metadata": {},
          "execution_count": 28
        }
      ]
    },
    {
      "cell_type": "code",
      "source": [
        "print(\"number of entries for diag_1= \", len((data['diag_1_desc'])))  \n",
        "print(\"number of unique entries for diag_1= \", len(np.unique(data['diag_1_desc'])))  \n",
        "print(data['diag_1_desc'].value_counts())     "
      ],
      "metadata": {
        "colab": {
          "base_uri": "https://localhost:8080/"
        },
        "id": "_vrWmfIfufAK",
        "outputId": "d65b8da4-9b0c-4d19-f455-c62ab7f24e91"
      },
      "execution_count": 29,
      "outputs": [
        {
          "output_type": "stream",
          "name": "stdout",
          "text": [
            "number of entries for diag_1=  71518\n",
            "number of unique entries for diag_1=  9\n",
            "Circulatory        21905\n",
            "Other              12347\n",
            "Respiratory         9776\n",
            "Digestive           6570\n",
            "Diabetes            5805\n",
            "Injury              4779\n",
            "Musculoskeletal     4080\n",
            "Genitourinary       3514\n",
            "Neoplasms           2742\n",
            "Name: diag_1_desc, dtype: int64\n"
          ]
        }
      ]
    },
    {
      "cell_type": "code",
      "source": [
        "print(\"number of entries for diag_2= \", len((data['diag_2_desc'])))  \n",
        "print(\"number of unique entries for diag_2= \", len(np.unique(data['diag_2_desc'])))  \n",
        "print(data['diag_2_desc'].value_counts())     "
      ],
      "metadata": {
        "colab": {
          "base_uri": "https://localhost:8080/"
        },
        "id": "xqofWDCyuoNG",
        "outputId": "04f14e76-766e-4eaf-98e1-15575e03e14d"
      },
      "execution_count": 30,
      "outputs": [
        {
          "output_type": "stream",
          "name": "stdout",
          "text": [
            "number of entries for diag_2=  71518\n",
            "number of unique entries for diag_2=  9\n",
            "Circulatory        22534\n",
            "Other              18409\n",
            "Diabetes           10053\n",
            "Respiratory         7242\n",
            "Genitourinary       5468\n",
            "Digestive           2907\n",
            "Injury              1858\n",
            "Neoplasms           1750\n",
            "Musculoskeletal     1297\n",
            "Name: diag_2_desc, dtype: int64\n"
          ]
        }
      ]
    },
    {
      "cell_type": "code",
      "source": [
        "print(\"number of entries for diag_3= \", len((data['diag_3_desc'])))  \n",
        "print(\"number of unique entries for diag_3= \", len(np.unique(data['diag_3_desc'])))  \n",
        "print(data['diag_3_desc'].value_counts())     "
      ],
      "metadata": {
        "colab": {
          "base_uri": "https://localhost:8080/"
        },
        "id": "ddk8njZIuycn",
        "outputId": "e60a5823-26d3-4732-ade4-6f89cad7fa33"
      },
      "execution_count": 31,
      "outputs": [
        {
          "output_type": "stream",
          "name": "stdout",
          "text": [
            "number of entries for diag_3=  71518\n",
            "number of unique entries for diag_3=  9\n",
            "Circulatory        21313\n",
            "Other              20419\n",
            "Diabetes           13885\n",
            "Respiratory         4873\n",
            "Genitourinary       4199\n",
            "Digestive           2746\n",
            "Injury              1443\n",
            "Musculoskeletal     1378\n",
            "Neoplasms           1262\n",
            "Name: diag_3_desc, dtype: int64\n"
          ]
        }
      ]
    },
    {
      "cell_type": "markdown",
      "source": [
        "3- Drop encounters that resulted in discharge due to hospice or patient death Discharge Disposition ID corresponding to [11 or 13 or 14 or 19 or 20 or 21] indicates patient has expired so there is no chance that it will readmit again so we will remove these records.\n",
        "\n",
        "Discharge Disposition ID has lots of distinct values using domain knowledge we will convert them into small number of categories.\n",
        "\n",
        "ddi_cat1 = [6, 8, 9, 13] ddi_cat2 = [3, 4, 5, 14, 22, 23, 24] ddi_cat10 = [12, 15, 16, 17] ddi_cat11 = [19, 20, 21] ddi_cat18 = [25, 26]"
      ],
      "metadata": {
        "id": "2-cPdAxcij7L"
      }
    },
    {
      "cell_type": "code",
      "source": [
        "print(\"number of entries for discharge_disposition_id= \", len((data['discharge_disposition_id'])))  \n",
        "print(\"number of unique entries for discharge_disposition_id= \", len(np.unique(data['discharge_disposition_id'])))\n",
        "print(data['discharge_disposition_id'].value_counts())     "
      ],
      "metadata": {
        "colab": {
          "base_uri": "https://localhost:8080/"
        },
        "id": "1Ru-zV3siLRk",
        "outputId": "b6331a1c-51ba-4be8-b96b-43d1e593eaa9"
      },
      "execution_count": 32,
      "outputs": [
        {
          "output_type": "stream",
          "name": "stdout",
          "text": [
            "number of entries for discharge_disposition_id=  71518\n",
            "number of unique entries for discharge_disposition_id=  26\n",
            "1     44317\n",
            "3      8784\n",
            "6      8289\n",
            "18     2474\n",
            "2      1539\n",
            "22     1410\n",
            "11     1077\n",
            "5       913\n",
            "25      778\n",
            "4       541\n",
            "7       409\n",
            "23      260\n",
            "13      243\n",
            "14      218\n",
            "28       90\n",
            "8        73\n",
            "15       40\n",
            "24       25\n",
            "9         9\n",
            "17        8\n",
            "10        6\n",
            "19        6\n",
            "27        3\n",
            "16        3\n",
            "12        2\n",
            "20        1\n",
            "Name: discharge_disposition_id, dtype: int64\n"
          ]
        }
      ]
    },
    {
      "cell_type": "code",
      "source": [
        "data['discharge_disposition_id'] = data['discharge_disposition_id'].apply(lambda x : 1 if int(x) in [6, 8, 9, 13] \n",
        "                                                                           else ( 2 if int(x) in [3, 4, 5, 14, 22, 23, 24]\n",
        "                                                                           else ( 10 if int(x) in [12, 15, 16, 17]\n",
        "                                                                           else ( 11 if int(x) in [19, 20, 21]\n",
        "                                                                           else ( 18 if int(x) in [25, 26] \n",
        "                                                                           else int(x) )))))\n",
        "\n",
        "data = data[~data.discharge_disposition_id.isin([11,13,14,19,20,21])]"
      ],
      "metadata": {
        "id": "eGDk0H1gi1js"
      },
      "execution_count": 33,
      "outputs": []
    },
    {
      "cell_type": "code",
      "source": [
        "print(\"number of entries for discharge_disposition_id= \", len((data['discharge_disposition_id'])))  \n",
        "print(\"number of unique entries for discharge_disposition_id= \", len(np.unique(data['discharge_disposition_id'])))  \n",
        "print(data['discharge_disposition_id'].value_counts())     "
      ],
      "metadata": {
        "colab": {
          "base_uri": "https://localhost:8080/"
        },
        "id": "s5oirFkBi4aY",
        "outputId": "7044f9c2-6202-43b3-a5a9-75a8354ca4e7"
      },
      "execution_count": 34,
      "outputs": [
        {
          "output_type": "stream",
          "name": "stdout",
          "text": [
            "number of entries for discharge_disposition_id=  70434\n",
            "number of unique entries for discharge_disposition_id=  7\n",
            "1     52931\n",
            "2     13690\n",
            "18     3252\n",
            "7       409\n",
            "28       90\n",
            "10       59\n",
            "27        3\n",
            "Name: discharge_disposition_id, dtype: int64\n"
          ]
        }
      ]
    },
    {
      "cell_type": "markdown",
      "source": [
        "Admission Type ID :\n",
        "\n",
        "Similarly Admission Type ID can be converted into small number of categories ati_cat1 = [2, 7] ati_cat5 = [6, 8]"
      ],
      "metadata": {
        "id": "8XoQ-PGJi-OS"
      }
    },
    {
      "cell_type": "code",
      "source": [
        "print(\"number of entries for admission_type_id= \", len((data['admission_type_id'])))  \n",
        "print(\"number of unique entries for admission_type_id= \", len(np.unique(data['admission_type_id'])))\n",
        "print(data['admission_type_id'].value_counts())     "
      ],
      "metadata": {
        "colab": {
          "base_uri": "https://localhost:8080/"
        },
        "id": "cr-F67YRjBxw",
        "outputId": "f678fd0c-60d7-49d9-fe1e-ab5d819f1897"
      },
      "execution_count": 35,
      "outputs": [
        {
          "output_type": "stream",
          "name": "stdout",
          "text": [
            "number of entries for admission_type_id=  70434\n",
            "number of unique entries for admission_type_id=  8\n",
            "1    35768\n",
            "3    13835\n",
            "2    12861\n",
            "6     4530\n",
            "5     3122\n",
            "8      291\n",
            "7       18\n",
            "4        9\n",
            "Name: admission_type_id, dtype: int64\n"
          ]
        }
      ]
    },
    {
      "cell_type": "code",
      "source": [
        "data['admission_type_id'] = data['admission_type_id'].apply(lambda x : 1 if int(x) in [2, 7]\n",
        "                                                            else ( 5 if int(x) in [6, 8]\n",
        "                                                            else int(x) ))"
      ],
      "metadata": {
        "id": "P6B2Ga75i6DJ"
      },
      "execution_count": 36,
      "outputs": []
    },
    {
      "cell_type": "code",
      "source": [
        "print(\"number of entries for admission_type_id= \", len((data['admission_type_id'])))  \n",
        "print(\"number of unique entries for admission_type_id= \", len(np.unique(data['admission_type_id'])))  \n",
        "print(data['admission_type_id'].value_counts())   "
      ],
      "metadata": {
        "colab": {
          "base_uri": "https://localhost:8080/"
        },
        "id": "bBpsidnXjKCK",
        "outputId": "25c81c2d-12bf-40a1-c9cb-d36c600bf969"
      },
      "execution_count": 37,
      "outputs": [
        {
          "output_type": "stream",
          "name": "stdout",
          "text": [
            "number of entries for admission_type_id=  70434\n",
            "number of unique entries for admission_type_id=  4\n",
            "1    48647\n",
            "3    13835\n",
            "5     7943\n",
            "4        9\n",
            "Name: admission_type_id, dtype: int64\n"
          ]
        }
      ]
    },
    {
      "cell_type": "markdown",
      "source": [
        "Admission Source ID :\n",
        "\n",
        "Similarly Admission Source ID can be converted into small number of categories asi_cat1 = [2, 3] ati_cat4 = [5, 6, 10, 22, 25] ati_cat9 = [15, 17, 20, 21] ati_cat11 = [13, 17]"
      ],
      "metadata": {
        "id": "8np53ynojOSM"
      }
    },
    {
      "cell_type": "code",
      "source": [
        "print(\"number of entries for admission_source_id= \", len((data['admission_source_id'])))  \n",
        "print(\"number of unique entries for admission_source_id= \", len(np.unique(data['admission_source_id']))) \n",
        "print(data['admission_source_id'].value_counts())   "
      ],
      "metadata": {
        "colab": {
          "base_uri": "https://localhost:8080/"
        },
        "id": "6OOuMFEujLZn",
        "outputId": "3cc85ae1-8e67-4e9a-f57f-edcbf74e7b13"
      },
      "execution_count": 38,
      "outputs": [
        {
          "output_type": "stream",
          "name": "stdout",
          "text": [
            "number of entries for admission_source_id=  70434\n",
            "number of unique entries for admission_source_id=  17\n",
            "7     37563\n",
            "1     21849\n",
            "17     4858\n",
            "4      2541\n",
            "6      1788\n",
            "2       909\n",
            "5       514\n",
            "20      153\n",
            "3       136\n",
            "9        95\n",
            "8        11\n",
            "10        7\n",
            "22        4\n",
            "14        2\n",
            "25        2\n",
            "11        1\n",
            "13        1\n",
            "Name: admission_source_id, dtype: int64\n"
          ]
        }
      ]
    },
    {
      "cell_type": "code",
      "source": [
        "data['admission_source_id'] = data['admission_source_id'].apply(lambda x : 1 if int(x) in [2, 3]\n",
        "                                                            else ( 4 if int(x) in [5, 6, 10, 22, 25]\n",
        "                                                            else ( 9 if int(x) in [15, 17, 20, 21]\n",
        "                                                            else ( 11 if int(x) in [13, 14]\n",
        "                                                            else int(x) ))))"
      ],
      "metadata": {
        "id": "g0fDO9uyjVAP"
      },
      "execution_count": 39,
      "outputs": []
    },
    {
      "cell_type": "code",
      "source": [
        "print(\"number of entries for admission_source_id= \", len((data['admission_source_id'])))  \n",
        "print(\"number of unique entries for admission_source_id= \", len(np.unique(data['admission_source_id'])))  \n",
        "print(data['admission_source_id'].value_counts())   "
      ],
      "metadata": {
        "colab": {
          "base_uri": "https://localhost:8080/"
        },
        "id": "EdDUVWBhjeu4",
        "outputId": "0a15d293-5376-428f-ba9d-76e6285c846b"
      },
      "execution_count": 40,
      "outputs": [
        {
          "output_type": "stream",
          "name": "stdout",
          "text": [
            "number of entries for admission_source_id=  70434\n",
            "number of unique entries for admission_source_id=  6\n",
            "7     37563\n",
            "1     22894\n",
            "9      5106\n",
            "4      4856\n",
            "8        11\n",
            "11        4\n",
            "Name: admission_source_id, dtype: int64\n"
          ]
        }
      ]
    },
    {
      "cell_type": "code",
      "source": [
        "id2 = '1P9utjV8bW_-2jlJjLXpF-h_HqiyOhPUz'\n",
        "downloaded = drive.CreateFile({'id':id2}) \n",
        "downloaded.GetContentFile('discharge.csv')"
      ],
      "metadata": {
        "id": "sL-JguXtjiXG"
      },
      "execution_count": 41,
      "outputs": []
    },
    {
      "cell_type": "code",
      "source": [
        "discharge = pd.read_csv(\"discharge.csv\")"
      ],
      "metadata": {
        "id": "qqgE_z06jl84"
      },
      "execution_count": 42,
      "outputs": []
    },
    {
      "cell_type": "code",
      "source": [
        "id3 = '1CWdb1VPP3PNQIoPKbK0yHxXTygCpvj1l'\n",
        "downloaded = drive.CreateFile({'id':id3}) \n",
        "downloaded.GetContentFile('admission_type.csv')"
      ],
      "metadata": {
        "id": "1Qy9z51Zjo0v"
      },
      "execution_count": 43,
      "outputs": []
    },
    {
      "cell_type": "code",
      "source": [
        "admission_type = pd.read_csv(\"admission_type.csv\")\n"
      ],
      "metadata": {
        "id": "PCiJLtX9jvDX"
      },
      "execution_count": 44,
      "outputs": []
    },
    {
      "cell_type": "code",
      "source": [
        "admission_type"
      ],
      "metadata": {
        "colab": {
          "base_uri": "https://localhost:8080/",
          "height": 328
        },
        "id": "6xYZwTt5jwrj",
        "outputId": "de6167e3-39fb-4d4b-faa7-d31cc136e498"
      },
      "execution_count": 45,
      "outputs": [
        {
          "output_type": "execute_result",
          "data": {
            "text/plain": [
              "   admission_type_id    description\n",
              "0                  0         ignore\n",
              "1                  1      Emergency\n",
              "2                  2         Urgent\n",
              "3                  3       Elective\n",
              "4                  4        Newborn\n",
              "5                  5  Not Available\n",
              "6                  6            NaN\n",
              "7                  7  Trauma Center\n",
              "8                  8     Not Mapped"
            ],
            "text/html": [
              "\n",
              "  <div id=\"df-59649b85-3d0c-4c66-8ed8-a78e09fc90ca\">\n",
              "    <div class=\"colab-df-container\">\n",
              "      <div>\n",
              "<style scoped>\n",
              "    .dataframe tbody tr th:only-of-type {\n",
              "        vertical-align: middle;\n",
              "    }\n",
              "\n",
              "    .dataframe tbody tr th {\n",
              "        vertical-align: top;\n",
              "    }\n",
              "\n",
              "    .dataframe thead th {\n",
              "        text-align: right;\n",
              "    }\n",
              "</style>\n",
              "<table border=\"1\" class=\"dataframe\">\n",
              "  <thead>\n",
              "    <tr style=\"text-align: right;\">\n",
              "      <th></th>\n",
              "      <th>admission_type_id</th>\n",
              "      <th>description</th>\n",
              "    </tr>\n",
              "  </thead>\n",
              "  <tbody>\n",
              "    <tr>\n",
              "      <th>0</th>\n",
              "      <td>0</td>\n",
              "      <td>ignore</td>\n",
              "    </tr>\n",
              "    <tr>\n",
              "      <th>1</th>\n",
              "      <td>1</td>\n",
              "      <td>Emergency</td>\n",
              "    </tr>\n",
              "    <tr>\n",
              "      <th>2</th>\n",
              "      <td>2</td>\n",
              "      <td>Urgent</td>\n",
              "    </tr>\n",
              "    <tr>\n",
              "      <th>3</th>\n",
              "      <td>3</td>\n",
              "      <td>Elective</td>\n",
              "    </tr>\n",
              "    <tr>\n",
              "      <th>4</th>\n",
              "      <td>4</td>\n",
              "      <td>Newborn</td>\n",
              "    </tr>\n",
              "    <tr>\n",
              "      <th>5</th>\n",
              "      <td>5</td>\n",
              "      <td>Not Available</td>\n",
              "    </tr>\n",
              "    <tr>\n",
              "      <th>6</th>\n",
              "      <td>6</td>\n",
              "      <td>NaN</td>\n",
              "    </tr>\n",
              "    <tr>\n",
              "      <th>7</th>\n",
              "      <td>7</td>\n",
              "      <td>Trauma Center</td>\n",
              "    </tr>\n",
              "    <tr>\n",
              "      <th>8</th>\n",
              "      <td>8</td>\n",
              "      <td>Not Mapped</td>\n",
              "    </tr>\n",
              "  </tbody>\n",
              "</table>\n",
              "</div>\n",
              "      <button class=\"colab-df-convert\" onclick=\"convertToInteractive('df-59649b85-3d0c-4c66-8ed8-a78e09fc90ca')\"\n",
              "              title=\"Convert this dataframe to an interactive table.\"\n",
              "              style=\"display:none;\">\n",
              "        \n",
              "  <svg xmlns=\"http://www.w3.org/2000/svg\" height=\"24px\"viewBox=\"0 0 24 24\"\n",
              "       width=\"24px\">\n",
              "    <path d=\"M0 0h24v24H0V0z\" fill=\"none\"/>\n",
              "    <path d=\"M18.56 5.44l.94 2.06.94-2.06 2.06-.94-2.06-.94-.94-2.06-.94 2.06-2.06.94zm-11 1L8.5 8.5l.94-2.06 2.06-.94-2.06-.94L8.5 2.5l-.94 2.06-2.06.94zm10 10l.94 2.06.94-2.06 2.06-.94-2.06-.94-.94-2.06-.94 2.06-2.06.94z\"/><path d=\"M17.41 7.96l-1.37-1.37c-.4-.4-.92-.59-1.43-.59-.52 0-1.04.2-1.43.59L10.3 9.45l-7.72 7.72c-.78.78-.78 2.05 0 2.83L4 21.41c.39.39.9.59 1.41.59.51 0 1.02-.2 1.41-.59l7.78-7.78 2.81-2.81c.8-.78.8-2.07 0-2.86zM5.41 20L4 18.59l7.72-7.72 1.47 1.35L5.41 20z\"/>\n",
              "  </svg>\n",
              "      </button>\n",
              "      \n",
              "  <style>\n",
              "    .colab-df-container {\n",
              "      display:flex;\n",
              "      flex-wrap:wrap;\n",
              "      gap: 12px;\n",
              "    }\n",
              "\n",
              "    .colab-df-convert {\n",
              "      background-color: #E8F0FE;\n",
              "      border: none;\n",
              "      border-radius: 50%;\n",
              "      cursor: pointer;\n",
              "      display: none;\n",
              "      fill: #1967D2;\n",
              "      height: 32px;\n",
              "      padding: 0 0 0 0;\n",
              "      width: 32px;\n",
              "    }\n",
              "\n",
              "    .colab-df-convert:hover {\n",
              "      background-color: #E2EBFA;\n",
              "      box-shadow: 0px 1px 2px rgba(60, 64, 67, 0.3), 0px 1px 3px 1px rgba(60, 64, 67, 0.15);\n",
              "      fill: #174EA6;\n",
              "    }\n",
              "\n",
              "    [theme=dark] .colab-df-convert {\n",
              "      background-color: #3B4455;\n",
              "      fill: #D2E3FC;\n",
              "    }\n",
              "\n",
              "    [theme=dark] .colab-df-convert:hover {\n",
              "      background-color: #434B5C;\n",
              "      box-shadow: 0px 1px 3px 1px rgba(0, 0, 0, 0.15);\n",
              "      filter: drop-shadow(0px 1px 2px rgba(0, 0, 0, 0.3));\n",
              "      fill: #FFFFFF;\n",
              "    }\n",
              "  </style>\n",
              "\n",
              "      <script>\n",
              "        const buttonEl =\n",
              "          document.querySelector('#df-59649b85-3d0c-4c66-8ed8-a78e09fc90ca button.colab-df-convert');\n",
              "        buttonEl.style.display =\n",
              "          google.colab.kernel.accessAllowed ? 'block' : 'none';\n",
              "\n",
              "        async function convertToInteractive(key) {\n",
              "          const element = document.querySelector('#df-59649b85-3d0c-4c66-8ed8-a78e09fc90ca');\n",
              "          const dataTable =\n",
              "            await google.colab.kernel.invokeFunction('convertToInteractive',\n",
              "                                                     [key], {});\n",
              "          if (!dataTable) return;\n",
              "\n",
              "          const docLinkHtml = 'Like what you see? Visit the ' +\n",
              "            '<a target=\"_blank\" href=https://colab.research.google.com/notebooks/data_table.ipynb>data table notebook</a>'\n",
              "            + ' to learn more about interactive tables.';\n",
              "          element.innerHTML = '';\n",
              "          dataTable['output_type'] = 'display_data';\n",
              "          await google.colab.output.renderOutput(dataTable, element);\n",
              "          const docLink = document.createElement('div');\n",
              "          docLink.innerHTML = docLinkHtml;\n",
              "          element.appendChild(docLink);\n",
              "        }\n",
              "      </script>\n",
              "    </div>\n",
              "  </div>\n",
              "  "
            ]
          },
          "metadata": {},
          "execution_count": 45
        }
      ]
    },
    {
      "cell_type": "code",
      "source": [
        "id4 = '1yA37H6wjJwmlKiJfRTWHGBlXXRJ3VpY_'\n",
        "download = drive.CreateFile({'id': id4})\n",
        "download.GetContentFile(\"admission_source.csv\")"
      ],
      "metadata": {
        "id": "kmbfY8X5jzAI"
      },
      "execution_count": 46,
      "outputs": []
    },
    {
      "cell_type": "code",
      "source": [
        "admission_source = pd.read_csv(\"admission_source.csv\")"
      ],
      "metadata": {
        "id": "ey51q4bWj1HO"
      },
      "execution_count": 47,
      "outputs": []
    },
    {
      "cell_type": "markdown",
      "source": [
        "Add Three Columns of for IDs Mapping"
      ],
      "metadata": {
        "id": "JUNtpRiHj8hA"
      }
    },
    {
      "cell_type": "code",
      "source": [
        "data['admission_type'] = data['admission_type_id'].map(admission_type['description'])"
      ],
      "metadata": {
        "id": "ZBsgWVqGj3XE"
      },
      "execution_count": 48,
      "outputs": []
    },
    {
      "cell_type": "code",
      "source": [
        "data[['admission_type', 'admission_type_id']]\n"
      ],
      "metadata": {
        "colab": {
          "base_uri": "https://localhost:8080/",
          "height": 419
        },
        "id": "KdImjJY-j_Fa",
        "outputId": "a558ee2d-959c-4e2e-9af1-0b55e9704ab7"
      },
      "execution_count": 49,
      "outputs": [
        {
          "output_type": "execute_result",
          "data": {
            "text/plain": [
              "       admission_type  admission_type_id\n",
              "0       Not Available                  5\n",
              "1           Emergency                  1\n",
              "2           Emergency                  1\n",
              "3           Emergency                  1\n",
              "4           Emergency                  1\n",
              "...               ...                ...\n",
              "101754      Emergency                  1\n",
              "101755      Emergency                  1\n",
              "101756      Emergency                  1\n",
              "101758      Emergency                  1\n",
              "101765      Emergency                  1\n",
              "\n",
              "[70434 rows x 2 columns]"
            ],
            "text/html": [
              "\n",
              "  <div id=\"df-d093326a-e8de-4c03-9628-c6240b6216e2\">\n",
              "    <div class=\"colab-df-container\">\n",
              "      <div>\n",
              "<style scoped>\n",
              "    .dataframe tbody tr th:only-of-type {\n",
              "        vertical-align: middle;\n",
              "    }\n",
              "\n",
              "    .dataframe tbody tr th {\n",
              "        vertical-align: top;\n",
              "    }\n",
              "\n",
              "    .dataframe thead th {\n",
              "        text-align: right;\n",
              "    }\n",
              "</style>\n",
              "<table border=\"1\" class=\"dataframe\">\n",
              "  <thead>\n",
              "    <tr style=\"text-align: right;\">\n",
              "      <th></th>\n",
              "      <th>admission_type</th>\n",
              "      <th>admission_type_id</th>\n",
              "    </tr>\n",
              "  </thead>\n",
              "  <tbody>\n",
              "    <tr>\n",
              "      <th>0</th>\n",
              "      <td>Not Available</td>\n",
              "      <td>5</td>\n",
              "    </tr>\n",
              "    <tr>\n",
              "      <th>1</th>\n",
              "      <td>Emergency</td>\n",
              "      <td>1</td>\n",
              "    </tr>\n",
              "    <tr>\n",
              "      <th>2</th>\n",
              "      <td>Emergency</td>\n",
              "      <td>1</td>\n",
              "    </tr>\n",
              "    <tr>\n",
              "      <th>3</th>\n",
              "      <td>Emergency</td>\n",
              "      <td>1</td>\n",
              "    </tr>\n",
              "    <tr>\n",
              "      <th>4</th>\n",
              "      <td>Emergency</td>\n",
              "      <td>1</td>\n",
              "    </tr>\n",
              "    <tr>\n",
              "      <th>...</th>\n",
              "      <td>...</td>\n",
              "      <td>...</td>\n",
              "    </tr>\n",
              "    <tr>\n",
              "      <th>101754</th>\n",
              "      <td>Emergency</td>\n",
              "      <td>1</td>\n",
              "    </tr>\n",
              "    <tr>\n",
              "      <th>101755</th>\n",
              "      <td>Emergency</td>\n",
              "      <td>1</td>\n",
              "    </tr>\n",
              "    <tr>\n",
              "      <th>101756</th>\n",
              "      <td>Emergency</td>\n",
              "      <td>1</td>\n",
              "    </tr>\n",
              "    <tr>\n",
              "      <th>101758</th>\n",
              "      <td>Emergency</td>\n",
              "      <td>1</td>\n",
              "    </tr>\n",
              "    <tr>\n",
              "      <th>101765</th>\n",
              "      <td>Emergency</td>\n",
              "      <td>1</td>\n",
              "    </tr>\n",
              "  </tbody>\n",
              "</table>\n",
              "<p>70434 rows × 2 columns</p>\n",
              "</div>\n",
              "      <button class=\"colab-df-convert\" onclick=\"convertToInteractive('df-d093326a-e8de-4c03-9628-c6240b6216e2')\"\n",
              "              title=\"Convert this dataframe to an interactive table.\"\n",
              "              style=\"display:none;\">\n",
              "        \n",
              "  <svg xmlns=\"http://www.w3.org/2000/svg\" height=\"24px\"viewBox=\"0 0 24 24\"\n",
              "       width=\"24px\">\n",
              "    <path d=\"M0 0h24v24H0V0z\" fill=\"none\"/>\n",
              "    <path d=\"M18.56 5.44l.94 2.06.94-2.06 2.06-.94-2.06-.94-.94-2.06-.94 2.06-2.06.94zm-11 1L8.5 8.5l.94-2.06 2.06-.94-2.06-.94L8.5 2.5l-.94 2.06-2.06.94zm10 10l.94 2.06.94-2.06 2.06-.94-2.06-.94-.94-2.06-.94 2.06-2.06.94z\"/><path d=\"M17.41 7.96l-1.37-1.37c-.4-.4-.92-.59-1.43-.59-.52 0-1.04.2-1.43.59L10.3 9.45l-7.72 7.72c-.78.78-.78 2.05 0 2.83L4 21.41c.39.39.9.59 1.41.59.51 0 1.02-.2 1.41-.59l7.78-7.78 2.81-2.81c.8-.78.8-2.07 0-2.86zM5.41 20L4 18.59l7.72-7.72 1.47 1.35L5.41 20z\"/>\n",
              "  </svg>\n",
              "      </button>\n",
              "      \n",
              "  <style>\n",
              "    .colab-df-container {\n",
              "      display:flex;\n",
              "      flex-wrap:wrap;\n",
              "      gap: 12px;\n",
              "    }\n",
              "\n",
              "    .colab-df-convert {\n",
              "      background-color: #E8F0FE;\n",
              "      border: none;\n",
              "      border-radius: 50%;\n",
              "      cursor: pointer;\n",
              "      display: none;\n",
              "      fill: #1967D2;\n",
              "      height: 32px;\n",
              "      padding: 0 0 0 0;\n",
              "      width: 32px;\n",
              "    }\n",
              "\n",
              "    .colab-df-convert:hover {\n",
              "      background-color: #E2EBFA;\n",
              "      box-shadow: 0px 1px 2px rgba(60, 64, 67, 0.3), 0px 1px 3px 1px rgba(60, 64, 67, 0.15);\n",
              "      fill: #174EA6;\n",
              "    }\n",
              "\n",
              "    [theme=dark] .colab-df-convert {\n",
              "      background-color: #3B4455;\n",
              "      fill: #D2E3FC;\n",
              "    }\n",
              "\n",
              "    [theme=dark] .colab-df-convert:hover {\n",
              "      background-color: #434B5C;\n",
              "      box-shadow: 0px 1px 3px 1px rgba(0, 0, 0, 0.15);\n",
              "      filter: drop-shadow(0px 1px 2px rgba(0, 0, 0, 0.3));\n",
              "      fill: #FFFFFF;\n",
              "    }\n",
              "  </style>\n",
              "\n",
              "      <script>\n",
              "        const buttonEl =\n",
              "          document.querySelector('#df-d093326a-e8de-4c03-9628-c6240b6216e2 button.colab-df-convert');\n",
              "        buttonEl.style.display =\n",
              "          google.colab.kernel.accessAllowed ? 'block' : 'none';\n",
              "\n",
              "        async function convertToInteractive(key) {\n",
              "          const element = document.querySelector('#df-d093326a-e8de-4c03-9628-c6240b6216e2');\n",
              "          const dataTable =\n",
              "            await google.colab.kernel.invokeFunction('convertToInteractive',\n",
              "                                                     [key], {});\n",
              "          if (!dataTable) return;\n",
              "\n",
              "          const docLinkHtml = 'Like what you see? Visit the ' +\n",
              "            '<a target=\"_blank\" href=https://colab.research.google.com/notebooks/data_table.ipynb>data table notebook</a>'\n",
              "            + ' to learn more about interactive tables.';\n",
              "          element.innerHTML = '';\n",
              "          dataTable['output_type'] = 'display_data';\n",
              "          await google.colab.output.renderOutput(dataTable, element);\n",
              "          const docLink = document.createElement('div');\n",
              "          docLink.innerHTML = docLinkHtml;\n",
              "          element.appendChild(docLink);\n",
              "        }\n",
              "      </script>\n",
              "    </div>\n",
              "  </div>\n",
              "  "
            ]
          },
          "metadata": {},
          "execution_count": 49
        }
      ]
    },
    {
      "cell_type": "code",
      "source": [
        "data['admission_source'] = data['admission_source_id'].map(admission_source['description'])\n"
      ],
      "metadata": {
        "id": "IBeUGNKTkBHO"
      },
      "execution_count": 50,
      "outputs": []
    },
    {
      "cell_type": "code",
      "source": [
        "data[['admission_source', 'admission_source_id']]"
      ],
      "metadata": {
        "colab": {
          "base_uri": "https://localhost:8080/",
          "height": 419
        },
        "id": "rdTBagSakES2",
        "outputId": "3bf361dc-b9db-4089-91a0-e75bc51e8f04"
      },
      "execution_count": 51,
      "outputs": [
        {
          "output_type": "execute_result",
          "data": {
            "text/plain": [
              "           admission_source  admission_source_id\n",
              "0        Physician Referral                    1\n",
              "1            Emergency Room                    7\n",
              "2            Emergency Room                    7\n",
              "3            Emergency Room                    7\n",
              "4            Emergency Room                    7\n",
              "...                     ...                  ...\n",
              "101754       Emergency Room                    7\n",
              "101755       Emergency Room                    7\n",
              "101756       Emergency Room                    7\n",
              "101758       Emergency Room                    7\n",
              "101765       Emergency Room                    7\n",
              "\n",
              "[70434 rows x 2 columns]"
            ],
            "text/html": [
              "\n",
              "  <div id=\"df-2367845a-1de4-4b30-b5ce-9c693678cec1\">\n",
              "    <div class=\"colab-df-container\">\n",
              "      <div>\n",
              "<style scoped>\n",
              "    .dataframe tbody tr th:only-of-type {\n",
              "        vertical-align: middle;\n",
              "    }\n",
              "\n",
              "    .dataframe tbody tr th {\n",
              "        vertical-align: top;\n",
              "    }\n",
              "\n",
              "    .dataframe thead th {\n",
              "        text-align: right;\n",
              "    }\n",
              "</style>\n",
              "<table border=\"1\" class=\"dataframe\">\n",
              "  <thead>\n",
              "    <tr style=\"text-align: right;\">\n",
              "      <th></th>\n",
              "      <th>admission_source</th>\n",
              "      <th>admission_source_id</th>\n",
              "    </tr>\n",
              "  </thead>\n",
              "  <tbody>\n",
              "    <tr>\n",
              "      <th>0</th>\n",
              "      <td>Physician Referral</td>\n",
              "      <td>1</td>\n",
              "    </tr>\n",
              "    <tr>\n",
              "      <th>1</th>\n",
              "      <td>Emergency Room</td>\n",
              "      <td>7</td>\n",
              "    </tr>\n",
              "    <tr>\n",
              "      <th>2</th>\n",
              "      <td>Emergency Room</td>\n",
              "      <td>7</td>\n",
              "    </tr>\n",
              "    <tr>\n",
              "      <th>3</th>\n",
              "      <td>Emergency Room</td>\n",
              "      <td>7</td>\n",
              "    </tr>\n",
              "    <tr>\n",
              "      <th>4</th>\n",
              "      <td>Emergency Room</td>\n",
              "      <td>7</td>\n",
              "    </tr>\n",
              "    <tr>\n",
              "      <th>...</th>\n",
              "      <td>...</td>\n",
              "      <td>...</td>\n",
              "    </tr>\n",
              "    <tr>\n",
              "      <th>101754</th>\n",
              "      <td>Emergency Room</td>\n",
              "      <td>7</td>\n",
              "    </tr>\n",
              "    <tr>\n",
              "      <th>101755</th>\n",
              "      <td>Emergency Room</td>\n",
              "      <td>7</td>\n",
              "    </tr>\n",
              "    <tr>\n",
              "      <th>101756</th>\n",
              "      <td>Emergency Room</td>\n",
              "      <td>7</td>\n",
              "    </tr>\n",
              "    <tr>\n",
              "      <th>101758</th>\n",
              "      <td>Emergency Room</td>\n",
              "      <td>7</td>\n",
              "    </tr>\n",
              "    <tr>\n",
              "      <th>101765</th>\n",
              "      <td>Emergency Room</td>\n",
              "      <td>7</td>\n",
              "    </tr>\n",
              "  </tbody>\n",
              "</table>\n",
              "<p>70434 rows × 2 columns</p>\n",
              "</div>\n",
              "      <button class=\"colab-df-convert\" onclick=\"convertToInteractive('df-2367845a-1de4-4b30-b5ce-9c693678cec1')\"\n",
              "              title=\"Convert this dataframe to an interactive table.\"\n",
              "              style=\"display:none;\">\n",
              "        \n",
              "  <svg xmlns=\"http://www.w3.org/2000/svg\" height=\"24px\"viewBox=\"0 0 24 24\"\n",
              "       width=\"24px\">\n",
              "    <path d=\"M0 0h24v24H0V0z\" fill=\"none\"/>\n",
              "    <path d=\"M18.56 5.44l.94 2.06.94-2.06 2.06-.94-2.06-.94-.94-2.06-.94 2.06-2.06.94zm-11 1L8.5 8.5l.94-2.06 2.06-.94-2.06-.94L8.5 2.5l-.94 2.06-2.06.94zm10 10l.94 2.06.94-2.06 2.06-.94-2.06-.94-.94-2.06-.94 2.06-2.06.94z\"/><path d=\"M17.41 7.96l-1.37-1.37c-.4-.4-.92-.59-1.43-.59-.52 0-1.04.2-1.43.59L10.3 9.45l-7.72 7.72c-.78.78-.78 2.05 0 2.83L4 21.41c.39.39.9.59 1.41.59.51 0 1.02-.2 1.41-.59l7.78-7.78 2.81-2.81c.8-.78.8-2.07 0-2.86zM5.41 20L4 18.59l7.72-7.72 1.47 1.35L5.41 20z\"/>\n",
              "  </svg>\n",
              "      </button>\n",
              "      \n",
              "  <style>\n",
              "    .colab-df-container {\n",
              "      display:flex;\n",
              "      flex-wrap:wrap;\n",
              "      gap: 12px;\n",
              "    }\n",
              "\n",
              "    .colab-df-convert {\n",
              "      background-color: #E8F0FE;\n",
              "      border: none;\n",
              "      border-radius: 50%;\n",
              "      cursor: pointer;\n",
              "      display: none;\n",
              "      fill: #1967D2;\n",
              "      height: 32px;\n",
              "      padding: 0 0 0 0;\n",
              "      width: 32px;\n",
              "    }\n",
              "\n",
              "    .colab-df-convert:hover {\n",
              "      background-color: #E2EBFA;\n",
              "      box-shadow: 0px 1px 2px rgba(60, 64, 67, 0.3), 0px 1px 3px 1px rgba(60, 64, 67, 0.15);\n",
              "      fill: #174EA6;\n",
              "    }\n",
              "\n",
              "    [theme=dark] .colab-df-convert {\n",
              "      background-color: #3B4455;\n",
              "      fill: #D2E3FC;\n",
              "    }\n",
              "\n",
              "    [theme=dark] .colab-df-convert:hover {\n",
              "      background-color: #434B5C;\n",
              "      box-shadow: 0px 1px 3px 1px rgba(0, 0, 0, 0.15);\n",
              "      filter: drop-shadow(0px 1px 2px rgba(0, 0, 0, 0.3));\n",
              "      fill: #FFFFFF;\n",
              "    }\n",
              "  </style>\n",
              "\n",
              "      <script>\n",
              "        const buttonEl =\n",
              "          document.querySelector('#df-2367845a-1de4-4b30-b5ce-9c693678cec1 button.colab-df-convert');\n",
              "        buttonEl.style.display =\n",
              "          google.colab.kernel.accessAllowed ? 'block' : 'none';\n",
              "\n",
              "        async function convertToInteractive(key) {\n",
              "          const element = document.querySelector('#df-2367845a-1de4-4b30-b5ce-9c693678cec1');\n",
              "          const dataTable =\n",
              "            await google.colab.kernel.invokeFunction('convertToInteractive',\n",
              "                                                     [key], {});\n",
              "          if (!dataTable) return;\n",
              "\n",
              "          const docLinkHtml = 'Like what you see? Visit the ' +\n",
              "            '<a target=\"_blank\" href=https://colab.research.google.com/notebooks/data_table.ipynb>data table notebook</a>'\n",
              "            + ' to learn more about interactive tables.';\n",
              "          element.innerHTML = '';\n",
              "          dataTable['output_type'] = 'display_data';\n",
              "          await google.colab.output.renderOutput(dataTable, element);\n",
              "          const docLink = document.createElement('div');\n",
              "          docLink.innerHTML = docLinkHtml;\n",
              "          element.appendChild(docLink);\n",
              "        }\n",
              "      </script>\n",
              "    </div>\n",
              "  </div>\n",
              "  "
            ]
          },
          "metadata": {},
          "execution_count": 51
        }
      ]
    },
    {
      "cell_type": "code",
      "source": [
        "data['discharge_disposition'] = data['discharge_disposition_id'].map(discharge['description'])"
      ],
      "metadata": {
        "id": "Ok37G8IhkGLl"
      },
      "execution_count": 52,
      "outputs": []
    },
    {
      "cell_type": "code",
      "source": [
        "data.shape"
      ],
      "metadata": {
        "colab": {
          "base_uri": "https://localhost:8080/"
        },
        "id": "T7KeehK7kIzj",
        "outputId": "16433108-3cae-4d9e-ff7d-39485a8fd8e1"
      },
      "execution_count": 53,
      "outputs": [
        {
          "output_type": "execute_result",
          "data": {
            "text/plain": [
              "(70434, 49)"
            ]
          },
          "metadata": {},
          "execution_count": 53
        }
      ]
    },
    {
      "cell_type": "markdown",
      "source": [
        "lets analyse each and every feature one by one : lets remove them"
      ],
      "metadata": {
        "id": "kFltpP6nkUAf"
      }
    },
    {
      "cell_type": "code",
      "source": [
        "print(\"number of entries for gender= \", len((data['gender'])))  \n",
        "print(\"number of unique entries for gender= \", len(np.unique(data['gender'])))\n",
        "print(data['gender'].value_counts())"
      ],
      "metadata": {
        "colab": {
          "base_uri": "https://localhost:8080/"
        },
        "id": "9s-JOHgNrQfQ",
        "outputId": "f8359364-95fa-4033-a221-ea4ea8253cd8"
      },
      "execution_count": 54,
      "outputs": [
        {
          "output_type": "stream",
          "name": "stdout",
          "text": [
            "number of entries for gender=  70434\n",
            "number of unique entries for gender=  3\n",
            "Female             37468\n",
            "Male               32963\n",
            "Unknown/Invalid        3\n",
            "Name: gender, dtype: int64\n"
          ]
        }
      ]
    },
    {
      "cell_type": "code",
      "source": [
        "data.drop(data[data.gender == 'Unknown/Invalid'].index, inplace = True)"
      ],
      "metadata": {
        "id": "I54gOq_4kNHY"
      },
      "execution_count": 55,
      "outputs": []
    },
    {
      "cell_type": "code",
      "source": [
        "print(\"number of entries for gender= \", len((data['gender'])))  \n",
        "print(\"number of unique entries for gender= \", len(np.unique(data['gender'])))\n",
        "print(data['gender'].value_counts())"
      ],
      "metadata": {
        "colab": {
          "base_uri": "https://localhost:8080/"
        },
        "id": "HE3gOS7lrpJC",
        "outputId": "b8d99f3f-be14-4cc3-c6a0-84b4ebf202d5"
      },
      "execution_count": 56,
      "outputs": [
        {
          "output_type": "stream",
          "name": "stdout",
          "text": [
            "number of entries for gender=  70431\n",
            "number of unique entries for gender=  2\n",
            "Female    37468\n",
            "Male      32963\n",
            "Name: gender, dtype: int64\n"
          ]
        }
      ]
    },
    {
      "cell_type": "code",
      "source": [
        "data.shape"
      ],
      "metadata": {
        "colab": {
          "base_uri": "https://localhost:8080/"
        },
        "id": "6QBEAastkRLC",
        "outputId": "5a460e96-16be-4fe4-a21b-d29bfa0c5638"
      },
      "execution_count": 57,
      "outputs": [
        {
          "output_type": "execute_result",
          "data": {
            "text/plain": [
              "(70431, 49)"
            ]
          },
          "metadata": {},
          "execution_count": 57
        }
      ]
    },
    {
      "cell_type": "markdown",
      "source": [
        "Glucose Serum test : A blood glucose test is used to find out if your blood sugar levels are in the healthy range. It is often used to help diagnose and monitor diabetes.\n",
        "\n",
        "'>200' : 200 = indicates diabetes '>300' : 300 = Indicates diabetes 'Norm' : 100 = Normal 'None' : 0 = test was not taken"
      ],
      "metadata": {
        "id": "NFi1uGfAkdTf"
      }
    },
    {
      "cell_type": "code",
      "source": [
        "print(\"number of entries for max_glu_serum= \", len((data['max_glu_serum'])))  \n",
        "print(\"number of unique entries for max_glu_serum= \", len(np.unique(data['max_glu_serum'])))\n",
        "print(data['max_glu_serum'].value_counts())  "
      ],
      "metadata": {
        "colab": {
          "base_uri": "https://localhost:8080/"
        },
        "id": "ZqwLI-j_kh0A",
        "outputId": "809589d0-b842-47e7-c164-0be3902c8d58"
      },
      "execution_count": 58,
      "outputs": [
        {
          "output_type": "stream",
          "name": "stdout",
          "text": [
            "number of entries for max_glu_serum=  70431\n",
            "number of unique entries for max_glu_serum=  4\n",
            "None    67046\n",
            "Norm     1717\n",
            ">200      946\n",
            ">300      722\n",
            "Name: max_glu_serum, dtype: int64\n"
          ]
        }
      ]
    },
    {
      "cell_type": "code",
      "source": [
        "data['max_glu_serum'] = data['max_glu_serum'].apply(lambda x : 200 if x == '>200' \n",
        "                                                            else ( 300 if x == '>300'                                                          \n",
        "                                                            else ( 100 if x == 'Norm'\n",
        "                                                            else  0)))"
      ],
      "metadata": {
        "id": "oL52FIyFkXak"
      },
      "execution_count": 59,
      "outputs": []
    },
    {
      "cell_type": "code",
      "source": [
        "print(\"number of entries for max_glu_serum= \", len((data['max_glu_serum'])))  \n",
        "print(\"number of unique entries for max_glu_serum= \", len(np.unique(data['max_glu_serum'])))  \n",
        "print(data['max_glu_serum'].value_counts())  "
      ],
      "metadata": {
        "colab": {
          "base_uri": "https://localhost:8080/"
        },
        "id": "P6ywWzFdkgPP",
        "outputId": "9568d576-2b55-4ffe-a083-1a72cdca5956"
      },
      "execution_count": 60,
      "outputs": [
        {
          "output_type": "stream",
          "name": "stdout",
          "text": [
            "number of entries for max_glu_serum=  70431\n",
            "number of unique entries for max_glu_serum=  4\n",
            "0      67046\n",
            "100     1717\n",
            "200      946\n",
            "300      722\n",
            "Name: max_glu_serum, dtype: int64\n"
          ]
        }
      ]
    },
    {
      "cell_type": "markdown",
      "source": [
        "A1C test : An A1C test is a blood test that reflects your average blood glucose levels over the past 3 months\n",
        "\n",
        "'>7' : 7 '>8' : 8 Norm : 5 = Normal None : 0 = Test was not taken"
      ],
      "metadata": {
        "id": "sz4chHbTk_0a"
      }
    },
    {
      "cell_type": "code",
      "source": [
        "print(\"number of entries for A1Cresult= \", len((data['A1Cresult'])))  \n",
        "print(\"number of unique entries for A1Cresult= \", len(np.unique(data['A1Cresult'])))\n",
        "print(data['A1Cresult'].value_counts())  "
      ],
      "metadata": {
        "colab": {
          "base_uri": "https://localhost:8080/"
        },
        "id": "Lsns1XqikxMW",
        "outputId": "13a5b6fd-b43a-4b76-ef87-210b15ab0be1"
      },
      "execution_count": 61,
      "outputs": [
        {
          "output_type": "stream",
          "name": "stdout",
          "text": [
            "number of entries for A1Cresult=  70431\n",
            "number of unique entries for A1Cresult=  4\n",
            "None    57553\n",
            ">8       6249\n",
            "Norm     3757\n",
            ">7       2872\n",
            "Name: A1Cresult, dtype: int64\n"
          ]
        }
      ]
    },
    {
      "cell_type": "code",
      "source": [
        "data['A1Cresult'] = data['A1Cresult'].apply(lambda x : 7 if x == '>7' \n",
        "                                                         else (8 if  x == '>8'                                                        \n",
        "                                                         else ( 5 if x == 'Norm'\n",
        "                                                         else  0)))"
      ],
      "metadata": {
        "id": "O1f_n7J5lGsR"
      },
      "execution_count": 62,
      "outputs": []
    },
    {
      "cell_type": "code",
      "source": [
        "print(\"number of entries for A1Cresult= \", len((data['A1Cresult'])))  \n",
        "print(\"number of unique entries for A1Cresult= \", len(np.unique(data['A1Cresult'])))  \n",
        "print(data['A1Cresult'].value_counts())"
      ],
      "metadata": {
        "colab": {
          "base_uri": "https://localhost:8080/"
        },
        "id": "dAM5lmYNlJjo",
        "outputId": "cb503cd1-ba3c-47c6-d8a0-8daeba0928c0"
      },
      "execution_count": 63,
      "outputs": [
        {
          "output_type": "stream",
          "name": "stdout",
          "text": [
            "number of entries for A1Cresult=  70431\n",
            "number of unique entries for A1Cresult=  4\n",
            "0    57553\n",
            "8     6249\n",
            "5     3757\n",
            "7     2872\n",
            "Name: A1Cresult, dtype: int64\n"
          ]
        }
      ]
    },
    {
      "cell_type": "code",
      "source": [
        "print(\"number of entries for change= \", len((data['change'])))  \n",
        "print(\"number of unique entries for change= \", len(np.unique(data['change'])))  \n",
        "print(data['change'].value_counts())"
      ],
      "metadata": {
        "colab": {
          "base_uri": "https://localhost:8080/"
        },
        "id": "NuZVwNkxlLjl",
        "outputId": "b776b45c-ebdd-45ec-92f9-4f1f7165d1a6"
      },
      "execution_count": 64,
      "outputs": [
        {
          "output_type": "stream",
          "name": "stdout",
          "text": [
            "number of entries for change=  70431\n",
            "number of unique entries for change=  2\n",
            "No    38769\n",
            "Ch    31662\n",
            "Name: change, dtype: int64\n"
          ]
        }
      ]
    },
    {
      "cell_type": "code",
      "source": [
        "data['change'] = data['change'].apply(lambda x : 1 if x == 'Ch'\n",
        "                                                 else -1)"
      ],
      "metadata": {
        "id": "ml8ulu4ilXuu"
      },
      "execution_count": 65,
      "outputs": []
    },
    {
      "cell_type": "code",
      "source": [
        "print(\"number of entries for change= \", len((data['change'])))  \n",
        "print(\"number of unique entries for change= \", len(np.unique(data['change'])))  \n",
        "print(data['change'].value_counts())"
      ],
      "metadata": {
        "colab": {
          "base_uri": "https://localhost:8080/"
        },
        "id": "l9NzX9JXlaFy",
        "outputId": "f3b6865a-c102-4269-b696-ea58252fa5ab"
      },
      "execution_count": 66,
      "outputs": [
        {
          "output_type": "stream",
          "name": "stdout",
          "text": [
            "number of entries for change=  70431\n",
            "number of unique entries for change=  2\n",
            "-1    38769\n",
            " 1    31662\n",
            "Name: change, dtype: int64\n"
          ]
        }
      ]
    },
    {
      "cell_type": "code",
      "source": [
        "print(\"number of entries for diabetesMed= \", len((data['diabetesMed'])))  \n",
        "print(\"number of unique entries for diabetesMed= \", len(np.unique(data['diabetesMed'])))  \n",
        "print(data['diabetesMed'].value_counts())"
      ],
      "metadata": {
        "colab": {
          "base_uri": "https://localhost:8080/"
        },
        "id": "Ze0JKcIqlyzS",
        "outputId": "6d4abeba-4ce2-44f9-c3d0-8fa5e3bb6ad2"
      },
      "execution_count": 67,
      "outputs": [
        {
          "output_type": "stream",
          "name": "stdout",
          "text": [
            "number of entries for diabetesMed=  70431\n",
            "number of unique entries for diabetesMed=  2\n",
            "Yes    53606\n",
            "No     16825\n",
            "Name: diabetesMed, dtype: int64\n"
          ]
        }
      ]
    },
    {
      "cell_type": "code",
      "source": [
        "data['diabetesMed'] = data['diabetesMed'].apply(lambda x : -1 if x == 'No'\n",
        "                                                else 1)"
      ],
      "metadata": {
        "id": "YjdPnouglqHa"
      },
      "execution_count": 68,
      "outputs": []
    },
    {
      "cell_type": "code",
      "source": [
        "print(\"number of entries for diabetesMed= \", len((data['diabetesMed'])))  \n",
        "print(\"number of unique entries for diabetesMed= \", len(np.unique(data['diabetesMed'])))  \n",
        "print(data['diabetesMed'].value_counts())"
      ],
      "metadata": {
        "colab": {
          "base_uri": "https://localhost:8080/"
        },
        "id": "LRbquC-8l44J",
        "outputId": "f3c2d96a-2d35-4c9b-bf6f-5685d9cdde57"
      },
      "execution_count": 69,
      "outputs": [
        {
          "output_type": "stream",
          "name": "stdout",
          "text": [
            "number of entries for diabetesMed=  70431\n",
            "number of unique entries for diabetesMed=  2\n",
            " 1    53606\n",
            "-1    16825\n",
            "Name: diabetesMed, dtype: int64\n"
          ]
        }
      ]
    },
    {
      "cell_type": "code",
      "source": [
        "print(\"number of entries for race= \", len((data['race'])))  \n",
        "print(\"number of unique entries for race= \", len(np.unique(data['race'])))  \n",
        "print(data['race'].value_counts())"
      ],
      "metadata": {
        "colab": {
          "base_uri": "https://localhost:8080/"
        },
        "id": "-jat-zB7mO6l",
        "outputId": "fa47e4ac-d6c5-4e9c-989f-0b1566716fef"
      },
      "execution_count": 70,
      "outputs": [
        {
          "output_type": "stream",
          "name": "stdout",
          "text": [
            "number of entries for race=  70431\n",
            "number of unique entries for race=  6\n",
            "Caucasian          52663\n",
            "AfricanAmerican    12692\n",
            "?                   1919\n",
            "Hispanic            1506\n",
            "Other               1160\n",
            "Asian                491\n",
            "Name: race, dtype: int64\n"
          ]
        }
      ]
    },
    {
      "cell_type": "code",
      "source": [
        "data['race'] = data['race'].apply(lambda x : np.nan if x == '?' else x)\n",
        "data[\"race\"].fillna(data[\"race\"].mode()[0], inplace = True)"
      ],
      "metadata": {
        "id": "RYxzEg-El7eL"
      },
      "execution_count": 71,
      "outputs": []
    },
    {
      "cell_type": "code",
      "source": [
        "print(\"number of entries for race= \", len((data['race'])))  \n",
        "print(\"number of unique entries for race= \", len(np.unique(data['race'])))  \n",
        "print(data['race'].value_counts())"
      ],
      "metadata": {
        "colab": {
          "base_uri": "https://localhost:8080/"
        },
        "id": "BmPqI2PrmKXQ",
        "outputId": "4f887792-ec9a-460c-a5d2-762fbee355d9"
      },
      "execution_count": 72,
      "outputs": [
        {
          "output_type": "stream",
          "name": "stdout",
          "text": [
            "number of entries for race=  70431\n",
            "number of unique entries for race=  5\n",
            "Caucasian          54582\n",
            "AfricanAmerican    12692\n",
            "Hispanic            1506\n",
            "Other               1160\n",
            "Asian                491\n",
            "Name: race, dtype: int64\n"
          ]
        }
      ]
    },
    {
      "cell_type": "code",
      "source": [
        "columns_with_missed_values = data[['race']]\n",
        "t = PrettyTable(['Column Name', 'Missing Values', 'Missing Percentage'])\n",
        "for col in columns_with_missed_values.columns :\n",
        "    lenn = len(data[data[col] == '?'])\n",
        "    t.add_row([col,lenn,lenn / len(data)])\n",
        "print(t)"
      ],
      "metadata": {
        "colab": {
          "base_uri": "https://localhost:8080/"
        },
        "id": "ax5_MBARmYop",
        "outputId": "0729a567-e6a6-4b49-bfe3-0aa8018d539a"
      },
      "execution_count": 73,
      "outputs": [
        {
          "output_type": "stream",
          "name": "stdout",
          "text": [
            "+-------------+----------------+--------------------+\n",
            "| Column Name | Missing Values | Missing Percentage |\n",
            "+-------------+----------------+--------------------+\n",
            "|     race    |       0        |        0.0         |\n",
            "+-------------+----------------+--------------------+\n"
          ]
        }
      ]
    },
    {
      "cell_type": "code",
      "source": [
        "data.shape"
      ],
      "metadata": {
        "colab": {
          "base_uri": "https://localhost:8080/"
        },
        "id": "MpbOmDsEmqIY",
        "outputId": "c76f6341-c08a-4861-f42b-efe30672880a"
      },
      "execution_count": 74,
      "outputs": [
        {
          "output_type": "execute_result",
          "data": {
            "text/plain": [
              "(70431, 49)"
            ]
          },
          "metadata": {},
          "execution_count": 74
        }
      ]
    },
    {
      "cell_type": "code",
      "source": [
        "data.drop(columns=['admission_type_id', 'admission_source_id', 'discharge_disposition_id'], inplace=True)"
      ],
      "metadata": {
        "id": "RIetoRS1mu8q"
      },
      "execution_count": 75,
      "outputs": []
    },
    {
      "cell_type": "code",
      "source": [
        "data.shape"
      ],
      "metadata": {
        "colab": {
          "base_uri": "https://localhost:8080/"
        },
        "id": "JX3BHZipmv-B",
        "outputId": "77ee015d-440e-4a8a-f8b6-99f5ee208ef9"
      },
      "execution_count": 76,
      "outputs": [
        {
          "output_type": "execute_result",
          "data": {
            "text/plain": [
              "(70431, 46)"
            ]
          },
          "metadata": {},
          "execution_count": 76
        }
      ]
    },
    {
      "cell_type": "markdown",
      "source": [
        "6.1) Using Domain knowledge on Medical Speciality Feature :\n",
        "\n",
        "After research we found that medical_specialty is important feature however it has too many distinct values so when we apply one hot encoding it will unnecessarily create lots of features. To group them into smaller number of categories we used frequency based approach and domain knowledge like all kind of surgeons should be placed under ‘surgeon’ category. We failed to group below medical specialty so we grouped them into ‘ungrouped’ category.\n",
        "\n",
        "Endocrinology →glands\n",
        "Gastroenterology →stomach\n",
        "Gynecology →women reproduction system\n",
        "Hematology →Blood\n",
        "Hematology/Oncology →Blood\n",
        "Hospitalist →one who takes care of admitted patients\n",
        "Oncology →cancer\n",
        "Ophthalmology →eye\n",
        "otolaryngology →ears\n",
        "nose, and throat\n",
        "Pulmonology →respiratory\n",
        "Radiology — diagnosing and treating injuries and diseases using medical imaging (radiology) procedures (exams/tests) such as X-rays"
      ],
      "metadata": {
        "id": "fU1JVWGym0hE"
      }
    },
    {
      "cell_type": "code",
      "source": [
        "print(\"number of entries for medical_specialty= \", len((data['medical_specialty'])))  \n",
        "print(\"number of unique entries for medical_specialty= \", len(np.unique(data['medical_specialty'])))  \n",
        "print(data['medical_specialty'].value_counts())"
      ],
      "metadata": {
        "colab": {
          "base_uri": "https://localhost:8080/"
        },
        "id": "tEVp3SCKm0K6",
        "outputId": "8e887254-1e13-46f4-91fe-48ff68f8cb64"
      },
      "execution_count": 77,
      "outputs": [
        {
          "output_type": "stream",
          "name": "stdout",
          "text": [
            "number of entries for medical_specialty=  70431\n",
            "number of unique entries for medical_specialty=  71\n",
            "?                                   33935\n",
            "InternalMedicine                    10707\n",
            "Family/GeneralPractice               5012\n",
            "Emergency/Trauma                     4406\n",
            "Cardiology                           4219\n",
            "                                    ...  \n",
            "SportsMedicine                          1\n",
            "Dermatology                             1\n",
            "Proctology                              1\n",
            "Surgery-PlasticwithinHeadandNeck        1\n",
            "Resident                                1\n",
            "Name: medical_specialty, Length: 71, dtype: int64\n"
          ]
        }
      ]
    },
    {
      "cell_type": "code",
      "source": [
        "columns_with_missed_values = data[['medical_specialty']]\n",
        "t = PrettyTable(['Column Name', 'Missing Values', 'Missing Percentage'])\n",
        "for col in columns_with_missed_values.columns :\n",
        "    lenn = len(data[data[col] == '?'])\n",
        "    t.add_row([col,lenn,lenn / len(data)])\n",
        "print(t)"
      ],
      "metadata": {
        "colab": {
          "base_uri": "https://localhost:8080/"
        },
        "id": "HO3qOJ4Nmw_5",
        "outputId": "47ed9f8f-c62b-49b1-8f1f-57517df954e8"
      },
      "execution_count": 78,
      "outputs": [
        {
          "output_type": "stream",
          "name": "stdout",
          "text": [
            "+-------------------+----------------+--------------------+\n",
            "|    Column Name    | Missing Values | Missing Percentage |\n",
            "+-------------------+----------------+--------------------+\n",
            "| medical_specialty |     33935      | 0.4818190853459414 |\n",
            "+-------------------+----------------+--------------------+\n"
          ]
        }
      ]
    },
    {
      "cell_type": "code",
      "source": [
        "high_frequency = ['InternalMedicine', 'Family/GeneralPractice', 'Cardiology', 'Surgery-General', 'Orthopedics', 'Orthopedics-Reconstructive', \n",
        "                 'Emergency/Trauma', 'Urology','ObstetricsandGynecology','Psychiatry','Pulmonology ','Nephrology','Radiologist']\n",
        "\n",
        "low_frequency = ['Surgery-PlasticwithinHeadandNeck','Psychiatry-Addictive','Proctology','Dermatology','SportsMedicine','Speech','Perinatology',\\\n",
        "                'Neurophysiology','Resident','Pediatrics-Hematology-Oncology','Pediatrics-EmergencyMedicine','Dentistry','DCPTEAM','Psychiatry-Child/Adolescent',\\\n",
        "                'Pediatrics-Pulmonology','Surgery-Pediatric','AllergyandImmunology','Pediatrics-Neurology','Anesthesiology','Pathology','Cardiology-Pediatric',\\\n",
        "                'Endocrinology-Metabolism','PhysicianNotFound','Surgery-Colon&Rectal','OutreachServices',\\\n",
        "                'Surgery-Maxillofacial','Rheumatology','Anesthesiology-Pediatric','Obstetrics','Obsterics&Gynecology-GynecologicOnco']\n",
        "\n",
        "pediatrics = ['Pediatrics','Pediatrics-CriticalCare','Pediatrics-EmergencyMedicine','Pediatrics-Endocrinology','Pediatrics-Hematology-Oncology',\\\n",
        "               'Pediatrics-Neurology','Pediatrics-Pulmonology', 'Anesthesiology-Pediatric', 'Cardiology-Pediatric', 'Surgery-Pediatric']\n",
        "\n",
        "psychic = ['Psychiatry-Addictive', 'Psychology', 'Psychiatry',  'Psychiatry-Child/Adolescent', 'PhysicalMedicineandRehabilitation', 'Osteopath']\n",
        "\n",
        "\n",
        "neurology = ['Neurology', 'Surgery-Neuro',  'Pediatrics-Neurology', 'Neurophysiology']\n",
        "\n",
        "\n",
        "surgery = ['Surgeon', 'Surgery-Cardiovascular', \\\n",
        "          'Surgery-Cardiovascular/Thoracic', 'Surgery-Colon&Rectal', 'Surgery-General', 'Surgery-Maxillofacial', \\\n",
        "             'Surgery-Plastic', 'Surgery-PlasticwithinHeadandNeck',  'Surgery-Thoracic',\\\n",
        "             'Surgery-Vascular', 'SurgicalSpecialty', 'Podiatry']\n",
        "             \n",
        "ungrouped = ['Endocrinology','Gastroenterology','Gynecology','Hematology','Hematology/Oncology','Hospitalist','InfectiousDiseases',\\\n",
        "           'Oncology','Ophthalmology','Otolaryngology','Pulmonology','Radiology']"
      ],
      "metadata": {
        "id": "lSZ4ZScGnaE1"
      },
      "execution_count": 79,
      "outputs": []
    },
    {
      "cell_type": "code",
      "source": [
        "missing = ['?']\n",
        "\n",
        "colMedical = []\n",
        "\n",
        "for val in data['medical_specialty'] :\n",
        "    if val in pediatrics :\n",
        "        colMedical.append('pediatrics')\n",
        "    elif val in psychic :\n",
        "        colMedical.append('psychic')\n",
        "    elif val in neurology :\n",
        "        colMedical.append('neurology')\n",
        "    elif val in surgery :\n",
        "        colMedical.append('surgery')\n",
        "    elif val in high_frequency :\n",
        "        colMedical.append('high_freq')\n",
        "    elif val in low_frequency :\n",
        "        colMedical.append('low_freq')\n",
        "    elif val in ungrouped :\n",
        "        colMedical.append('ungrouped')\n",
        "    elif val in missing :\n",
        "        colMedical.append('missing')"
      ],
      "metadata": {
        "id": "r7g-Lkt1nIQq"
      },
      "execution_count": 80,
      "outputs": []
    },
    {
      "cell_type": "code",
      "source": [
        "data['medical_specialty'] = colMedical"
      ],
      "metadata": {
        "id": "JyQlH7WVnmQ6"
      },
      "execution_count": 81,
      "outputs": []
    },
    {
      "cell_type": "code",
      "source": [
        "print(\"number of entries for medical_specialty= \", len((data['medical_specialty'])))  \n",
        "print(\"number of unique entries for medical_specialty= \", len(np.unique(data['medical_specialty'])))  \n",
        "print(data['medical_specialty'].value_counts())"
      ],
      "metadata": {
        "colab": {
          "base_uri": "https://localhost:8080/"
        },
        "id": "x7_x-bN9nTIu",
        "outputId": "0a2df661-24cc-4db9-aa5f-8d15e9ff7acb"
      },
      "execution_count": 82,
      "outputs": [
        {
          "output_type": "stream",
          "name": "stdout",
          "text": [
            "number of entries for medical_specialty=  70431\n",
            "number of unique entries for medical_specialty=  8\n",
            "missing       33935\n",
            "high_freq     29264\n",
            "surgery        3408\n",
            "ungrouped      1786\n",
            "psychic         904\n",
            "neurology       573\n",
            "pediatrics      460\n",
            "low_freq        101\n",
            "Name: medical_specialty, dtype: int64\n"
          ]
        }
      ]
    },
    {
      "cell_type": "code",
      "source": [
        "columns_with_missed_values = data[['medical_specialty']]\n",
        "t = PrettyTable(['Column Name', 'Missing Values', 'Missing Percentage'])\n",
        "for col in columns_with_missed_values.columns :\n",
        "    lenn = len(data[data[col] == '?'])\n",
        "    t.add_row([col,lenn,lenn / len(data)])\n",
        "print(t)"
      ],
      "metadata": {
        "colab": {
          "base_uri": "https://localhost:8080/"
        },
        "id": "ds4Qe5I3niqU",
        "outputId": "22488a28-0c48-403c-fa8d-dbb03401b757"
      },
      "execution_count": 83,
      "outputs": [
        {
          "output_type": "stream",
          "name": "stdout",
          "text": [
            "+-------------------+----------------+--------------------+\n",
            "|    Column Name    | Missing Values | Missing Percentage |\n",
            "+-------------------+----------------+--------------------+\n",
            "| medical_specialty |       0        |        0.0         |\n",
            "+-------------------+----------------+--------------------+\n"
          ]
        }
      ]
    },
    {
      "cell_type": "code",
      "source": [
        "# List categorical and numeric features\n",
        "categorical_feat = []\n",
        "numerical_feat = []\n",
        "\n",
        "for col in data.columns:\n",
        "    if data[col].dtype == 'object':\n",
        "        categorical_feat.append(col)\n",
        "    elif 'id' in col:\n",
        "        categorical_feat.append(col)\n",
        "    elif data[col].dtype == 'int64':\n",
        "        numerical_feat.append(col)"
      ],
      "metadata": {
        "id": "qaYKi7_XnwMc"
      },
      "execution_count": 84,
      "outputs": []
    },
    {
      "cell_type": "code",
      "source": [
        "categorical_feat"
      ],
      "metadata": {
        "colab": {
          "base_uri": "https://localhost:8080/"
        },
        "id": "DQGvnZEFn0y4",
        "outputId": "f504b0f4-94fa-44c5-bf29-cd794b72723c"
      },
      "execution_count": 85,
      "outputs": [
        {
          "output_type": "execute_result",
          "data": {
            "text/plain": [
              "['race',\n",
              " 'gender',\n",
              " 'medical_specialty',\n",
              " 'metformin',\n",
              " 'repaglinide',\n",
              " 'nateglinide',\n",
              " 'chlorpropamide',\n",
              " 'glimepiride',\n",
              " 'acetohexamide',\n",
              " 'glipizide',\n",
              " 'glyburide',\n",
              " 'tolbutamide',\n",
              " 'pioglitazone',\n",
              " 'rosiglitazone',\n",
              " 'acarbose',\n",
              " 'miglitol',\n",
              " 'troglitazone',\n",
              " 'tolazamide',\n",
              " 'examide',\n",
              " 'citoglipton',\n",
              " 'insulin',\n",
              " 'glyburide-metformin',\n",
              " 'glipizide-metformin',\n",
              " 'glimepiride-pioglitazone',\n",
              " 'metformin-rosiglitazone',\n",
              " 'metformin-pioglitazone',\n",
              " 'readmitted',\n",
              " 'diag_1_desc',\n",
              " 'diag_2_desc',\n",
              " 'diag_3_desc',\n",
              " 'admission_type',\n",
              " 'admission_source',\n",
              " 'discharge_disposition']"
            ]
          },
          "metadata": {},
          "execution_count": 85
        }
      ]
    },
    {
      "cell_type": "code",
      "source": [
        "len(categorical_feat)"
      ],
      "metadata": {
        "colab": {
          "base_uri": "https://localhost:8080/"
        },
        "id": "s7RO2JO5oFUJ",
        "outputId": "efe6ad8f-fb01-4be2-f02c-3f58538545ee"
      },
      "execution_count": 86,
      "outputs": [
        {
          "output_type": "execute_result",
          "data": {
            "text/plain": [
              "33"
            ]
          },
          "metadata": {},
          "execution_count": 86
        }
      ]
    },
    {
      "cell_type": "code",
      "source": [
        "rejected_features = []\n",
        "for col in categorical_feat:\n",
        "    rho , pval = scipy.stats.spearmanr(data['readmitted'], data[col])\n",
        "    print(col, rho, pval)\n",
        "    \n",
        "\n",
        "print('\\n\\n')\n",
        "for col in categorical_feat:\n",
        "    rho , pval = scipy.stats.spearmanr(data['readmitted'], data[col])\n",
        "    if pval < 0.4 : \n",
        "        print(col, 'is significant')\n",
        "    else : \n",
        "        print(col, 'is not significant')\n",
        "        rejected_features.append(col)\n",
        "\n",
        "#rejected_features.remove('max_glu_serum')\n",
        "#rejected_features.remove('A1Cresult')\n",
        "print(rejected_features)\n",
        "## lets remove rejected_features\n",
        "data.drop(rejected_features, axis = 1, inplace=True)"
      ],
      "metadata": {
        "colab": {
          "base_uri": "https://localhost:8080/"
        },
        "id": "BZcC_d23o2cz",
        "outputId": "720434e0-ea8b-4138-dd00-2519bf2781b5"
      },
      "execution_count": 87,
      "outputs": [
        {
          "output_type": "stream",
          "name": "stdout",
          "text": [
            "race -0.0056930216776534285 0.13082735764567194\n",
            "gender 0.015207461749188637 5.435965568314954e-05\n",
            "medical_specialty 0.0003131693531934016 0.9337640436064796\n",
            "metformin 0.022281542689072738 3.3411697625448246e-09\n",
            "repaglinide -0.021595125497127762 9.945112266553787e-09\n",
            "nateglinide -0.003605434400493811 0.3386547964799904\n",
            "chlorpropamide -0.0013294131214496322 0.7242348537760817\n",
            "glimepiride -0.0007267309783378537 0.8470665993443142\n",
            "acetohexamide -0.003791400641516911 0.31432923753633707\n",
            "glipizide -0.020623639175723112 4.405869901071218e-08\n",
            "glyburide -0.0051329602568039425 0.17313071278812506\n",
            "tolbutamide 0.0018519647679088576 0.6230858239143404\n",
            "pioglitazone -0.0111034557191278 0.003211152525857049\n",
            "rosiglitazone -0.01968313661479235 1.7501424961250147e-07\n",
            "acarbose -0.00929070562182101 0.013676302823463946\n",
            "miglitol -0.005250246444981802 0.16351719721882754\n",
            "troglitazone -0.00262378419144524 0.4862342646322352\n",
            "tolazamide 0.0036183467842155095 0.33692772504819735\n",
            "examide nan nan\n",
            "citoglipton nan nan\n",
            "insulin -0.006118787206959166 0.10440964196933537\n",
            "glyburide-metformin -0.001337594474119754 0.7226076395321017\n",
            "glipizide-metformin -0.002287004617991554 0.5438943776689569\n",
            "glimepiride-pioglitazone nan nan\n",
            "metformin-rosiglitazone 0.004296889709232522 0.25414897438881245\n",
            "metformin-pioglitazone 0.0030383382812639247 0.42005417135820766\n",
            "readmitted 1.0 0.0\n",
            "diag_1_desc 0.020170268866841944 8.631444229294361e-08\n",
            "diag_2_desc 0.013355196870072942 0.00039349370485375617\n",
            "diag_3_desc 0.005366026516898814 0.15442732709555762\n",
            "admission_type -0.06016925202422057 1.6944206738146752e-57\n",
            "admission_source 0.06676217881053574 2.1575007023807965e-70\n",
            "discharge_disposition nan nan\n",
            "\n",
            "\n",
            "\n",
            "race is significant\n",
            "gender is significant\n",
            "medical_specialty is not significant\n",
            "metformin is significant\n",
            "repaglinide is significant\n",
            "nateglinide is significant\n",
            "chlorpropamide is not significant\n",
            "glimepiride is not significant\n",
            "acetohexamide is significant\n",
            "glipizide is significant\n",
            "glyburide is significant\n",
            "tolbutamide is not significant\n",
            "pioglitazone is significant\n",
            "rosiglitazone is significant\n",
            "acarbose is significant\n",
            "miglitol is significant\n",
            "troglitazone is not significant\n",
            "tolazamide is significant\n",
            "examide is not significant\n",
            "citoglipton is not significant\n",
            "insulin is significant\n",
            "glyburide-metformin is not significant\n",
            "glipizide-metformin is not significant\n",
            "glimepiride-pioglitazone is not significant\n",
            "metformin-rosiglitazone is significant\n",
            "metformin-pioglitazone is not significant\n",
            "readmitted is significant\n",
            "diag_1_desc is significant\n",
            "diag_2_desc is significant\n",
            "diag_3_desc is significant\n",
            "admission_type is significant\n",
            "admission_source is significant\n",
            "discharge_disposition is not significant\n",
            "['medical_specialty', 'chlorpropamide', 'glimepiride', 'tolbutamide', 'troglitazone', 'examide', 'citoglipton', 'glyburide-metformin', 'glipizide-metformin', 'glimepiride-pioglitazone', 'metformin-pioglitazone', 'discharge_disposition']\n"
          ]
        }
      ]
    },
    {
      "cell_type": "code",
      "source": [
        "numerical_feat"
      ],
      "metadata": {
        "colab": {
          "base_uri": "https://localhost:8080/"
        },
        "id": "T9f3IdMWn97T",
        "outputId": "a4ca85e8-74c0-443a-db9b-79872ff789ad"
      },
      "execution_count": 88,
      "outputs": [
        {
          "output_type": "execute_result",
          "data": {
            "text/plain": [
              "['age',\n",
              " 'time_in_hospital',\n",
              " 'num_lab_procedures',\n",
              " 'num_procedures',\n",
              " 'num_medications',\n",
              " 'number_outpatient',\n",
              " 'number_emergency',\n",
              " 'number_inpatient',\n",
              " 'number_diagnoses',\n",
              " 'max_glu_serum',\n",
              " 'A1Cresult',\n",
              " 'change',\n",
              " 'diabetesMed']"
            ]
          },
          "metadata": {},
          "execution_count": 88
        }
      ]
    },
    {
      "cell_type": "code",
      "source": [
        "len(numerical_feat)"
      ],
      "metadata": {
        "colab": {
          "base_uri": "https://localhost:8080/"
        },
        "id": "E79-XZoPoBLD",
        "outputId": "0097e472-cacf-4b33-855c-cb3cfbdb28c4"
      },
      "execution_count": 89,
      "outputs": [
        {
          "output_type": "execute_result",
          "data": {
            "text/plain": [
              "13"
            ]
          },
          "metadata": {},
          "execution_count": 89
        }
      ]
    },
    {
      "cell_type": "code",
      "source": [
        "rejected_features = []\n",
        "for col in numerical_feat:\n",
        "    rho , pval = scipy.stats.spearmanr(data['readmitted'], data[col])\n",
        "    print(col, rho, pval)\n",
        "    \n",
        "\n",
        "print('\\n\\n')\n",
        "for col in numerical_feat:\n",
        "    rho , pval = scipy.stats.spearmanr(data['readmitted'], data[col])\n",
        "    if pval < 0.4 : \n",
        "        print(col, 'is significant')\n",
        "    else : \n",
        "        print(col, 'is not significant')\n",
        "        rejected_features.append(col)\n",
        "\n",
        "#rejected_features.remove('max_glu_serum')\n",
        "#rejected_features.remove('A1Cresult')\n",
        "print(rejected_features)\n",
        "## lets remove rejected_features\n",
        "data.drop(rejected_features, axis = 1, inplace=True)"
      ],
      "metadata": {
        "colab": {
          "base_uri": "https://localhost:8080/"
        },
        "id": "cF6bCPOGoQ4e",
        "outputId": "c915ebb7-8a07-4763-ce40-94c69f127659"
      },
      "execution_count": 90,
      "outputs": [
        {
          "output_type": "stream",
          "name": "stdout",
          "text": [
            "age -0.07429678582673846 8.954111224319551e-87\n",
            "time_in_hospital -0.07379883754980403 1.2272882383771764e-85\n",
            "num_lab_procedures -0.05609698877436465 3.347612421210297e-50\n",
            "num_procedures 0.02478765771921836 4.7282484355105157e-11\n",
            "num_medications -0.06365929179245991 3.714800263687477e-64\n",
            "number_outpatient -0.07997419682499037 2.7859885033461646e-100\n",
            "number_emergency -0.08702137158913922 1.9221892391523947e-118\n",
            "number_inpatient -0.14978698985912295 0.0\n",
            "number_diagnoses -0.10244492657140511 1.3016114001998071e-163\n",
            "max_glu_serum -0.01839692130200671 1.0466641223705332e-06\n",
            "A1Cresult 0.019212578630065952 3.411361276730968e-07\n",
            "change -0.03625615041915929 6.273436384129365e-22\n",
            "diabetesMed -0.061321611132351524 1.1798102813483178e-59\n",
            "\n",
            "\n",
            "\n",
            "age is significant\n",
            "time_in_hospital is significant\n",
            "num_lab_procedures is significant\n",
            "num_procedures is significant\n",
            "num_medications is significant\n",
            "number_outpatient is significant\n",
            "number_emergency is significant\n",
            "number_inpatient is significant\n",
            "number_diagnoses is significant\n",
            "max_glu_serum is significant\n",
            "A1Cresult is significant\n",
            "change is significant\n",
            "diabetesMed is significant\n",
            "[]\n"
          ]
        }
      ]
    },
    {
      "cell_type": "code",
      "source": [
        ""
      ],
      "metadata": {
        "id": "1nVmaHk3omFN"
      },
      "execution_count": 90,
      "outputs": []
    }
  ]
}